{
 "cells": [
  {
   "cell_type": "code",
   "execution_count": 10,
   "id": "198597a2",
   "metadata": {},
   "outputs": [
    {
     "name": "stderr",
     "output_type": "stream",
     "text": [
      "Loading required package: grid\n",
      "Loading required package: mvtnorm\n",
      "Loading required package: modeltools\n",
      "Loading required package: stats4\n",
      "Loading required package: strucchange\n",
      "Loading required package: zoo\n",
      "\n",
      "Attaching package: ‘zoo’\n",
      "\n",
      "The following objects are masked from ‘package:base’:\n",
      "\n",
      "    as.Date, as.Date.numeric\n",
      "\n",
      "Loading required package: sandwich\n",
      "Loading required package: lattice\n",
      "Loading required package: ggplot2\n",
      "Registered S3 methods overwritten by 'ggplot2':\n",
      "  method         from \n",
      "  [.quosures     rlang\n",
      "  c.quosures     rlang\n",
      "  print.quosures rlang\n",
      "randomForest 4.6-14\n",
      "Type rfNews() to see new features/changes/bug fixes.\n",
      "\n",
      "Attaching package: ‘randomForest’\n",
      "\n",
      "The following object is masked from ‘package:ggplot2’:\n",
      "\n",
      "    margin\n",
      "\n",
      "The following object is masked from ‘package:dplyr’:\n",
      "\n",
      "    combine\n",
      "\n"
     ]
    }
   ],
   "source": [
    "library(nnet)\n",
    "library(party)\n",
    "library(caret)\n",
    "library(party)\n",
    "library(randomForest)\n",
    "library(e1071)"
   ]
  },
  {
   "cell_type": "code",
   "execution_count": 56,
   "id": "933b68d9",
   "metadata": {
    "scrolled": true
   },
   "outputs": [
    {
     "data": {
      "text/html": [
       "<table>\n",
       "<thead><tr><th scope=col>나이</th><th scope=col>성별</th><th scope=col>키_cm</th><th scope=col>몸무게_kg</th><th scope=col>앉아서앞으로구부리기_cm</th><th scope=col>윗몸일으키기</th><th scope=col>멀리뛰기</th><th scope=col>등급</th><th scope=col>bmr</th></tr></thead>\n",
       "<tbody>\n",
       "\t<tr><td>27    </td><td>0     </td><td>172.3 </td><td>75.24 </td><td>18.4  </td><td>60    </td><td>217   </td><td>C     </td><td>1560.5</td></tr>\n",
       "\t<tr><td>25    </td><td>0     </td><td>165.0 </td><td>55.80 </td><td>16.3  </td><td>53    </td><td>229   </td><td>A     </td><td>1370.2</td></tr>\n",
       "\t<tr><td>31    </td><td>0     </td><td>179.6 </td><td>78.00 </td><td>12.0  </td><td>49    </td><td>181   </td><td>C     </td><td>1581.4</td></tr>\n",
       "\t<tr><td>32    </td><td>0     </td><td>174.5 </td><td>71.10 </td><td>15.2  </td><td>53    </td><td>219   </td><td>B     </td><td>1501.3</td></tr>\n",
       "\t<tr><td>28    </td><td>0     </td><td>173.8 </td><td>67.70 </td><td>27.1  </td><td>45    </td><td>217   </td><td>B     </td><td>1486.2</td></tr>\n",
       "\t<tr><td>36    </td><td>1     </td><td>165.4 </td><td>55.40 </td><td>21.0  </td><td>27    </td><td>153   </td><td>B     </td><td>1315.4</td></tr>\n",
       "</tbody>\n",
       "</table>\n"
      ],
      "text/latex": [
       "\\begin{tabular}{r|lllllllll}\n",
       " 나이 & 성별 & 키\\_cm & 몸무게\\_kg & 앉아서앞으로구부리기\\_cm & 윗몸일으키기 & 멀리뛰기 & 등급 & bmr\\\\\n",
       "\\hline\n",
       "\t 27     & 0      & 172.3  & 75.24  & 18.4   & 60     & 217    & C      & 1560.5\\\\\n",
       "\t 25     & 0      & 165.0  & 55.80  & 16.3   & 53     & 229    & A      & 1370.2\\\\\n",
       "\t 31     & 0      & 179.6  & 78.00  & 12.0   & 49     & 181    & C      & 1581.4\\\\\n",
       "\t 32     & 0      & 174.5  & 71.10  & 15.2   & 53     & 219    & B      & 1501.3\\\\\n",
       "\t 28     & 0      & 173.8  & 67.70  & 27.1   & 45     & 217    & B      & 1486.2\\\\\n",
       "\t 36     & 1      & 165.4  & 55.40  & 21.0   & 27     & 153    & B      & 1315.4\\\\\n",
       "\\end{tabular}\n"
      ],
      "text/markdown": [
       "\n",
       "| 나이 | 성별 | 키_cm | 몸무게_kg | 앉아서앞으로구부리기_cm | 윗몸일으키기 | 멀리뛰기 | 등급 | bmr |\n",
       "|---|---|---|---|---|---|---|---|---|\n",
       "| 27     | 0      | 172.3  | 75.24  | 18.4   | 60     | 217    | C      | 1560.5 |\n",
       "| 25     | 0      | 165.0  | 55.80  | 16.3   | 53     | 229    | A      | 1370.2 |\n",
       "| 31     | 0      | 179.6  | 78.00  | 12.0   | 49     | 181    | C      | 1581.4 |\n",
       "| 32     | 0      | 174.5  | 71.10  | 15.2   | 53     | 219    | B      | 1501.3 |\n",
       "| 28     | 0      | 173.8  | 67.70  | 27.1   | 45     | 217    | B      | 1486.2 |\n",
       "| 36     | 1      | 165.4  | 55.40  | 21.0   | 27     | 153    | B      | 1315.4 |\n",
       "\n"
      ],
      "text/plain": [
       "  나이 성별 키_cm 몸무게_kg 앉아서앞으로구부리기_cm 윗몸일으키기 멀리뛰기 등급\n",
       "1 27   0    172.3 75.24     18.4                    60           217      C   \n",
       "2 25   0    165.0 55.80     16.3                    53           229      A   \n",
       "3 31   0    179.6 78.00     12.0                    49           181      C   \n",
       "4 32   0    174.5 71.10     15.2                    53           219      B   \n",
       "5 28   0    173.8 67.70     27.1                    45           217      B   \n",
       "6 36   1    165.4 55.40     21.0                    27           153      B   \n",
       "  bmr   \n",
       "1 1560.5\n",
       "2 1370.2\n",
       "3 1581.4\n",
       "4 1501.3\n",
       "5 1486.2\n",
       "6 1315.4"
      ]
     },
     "metadata": {},
     "output_type": "display_data"
    },
    {
     "name": "stdout",
     "output_type": "stream",
     "text": [
      "'data.frame':\t13393 obs. of  9 variables:\n",
      " $ 나이                   : int  27 25 31 32 28 36 42 33 54 28 ...\n",
      " $ 성별                   : int  0 0 0 0 0 1 1 0 0 0 ...\n",
      " $ 키_cm                  : num  172 165 180 174 174 ...\n",
      " $ 몸무게_kg              : num  75.2 55.8 78 71.1 67.7 ...\n",
      " $ 앉아서앞으로구부리기_cm: num  18.4 16.3 12 15.2 27.1 21 0.8 12.3 18.6 12.1 ...\n",
      " $ 윗몸일으키기           : num  60 53 49 53 45 27 18 42 34 55 ...\n",
      " $ 멀리뛰기               : num  217 229 181 219 217 153 146 234 148 213 ...\n",
      " $ 등급                   : Factor w/ 4 levels \"A\",\"B\",\"C\",\"D\": 3 1 3 2 2 2 4 2 3 2 ...\n",
      " $ bmr                    : num  1560 1370 1581 1501 1486 ...\n"
     ]
    }
   ],
   "source": [
    "library(dplyr)\n",
    "bodyPerformance <- read.csv('../../Data/프로젝트/기초대사량.csv')\n",
    "head(bodyPerformance)\n",
    "str(bodyPerformance)\n"
   ]
  },
  {
   "cell_type": "code",
   "execution_count": 57,
   "id": "41ccebbd",
   "metadata": {},
   "outputs": [],
   "source": [
    "bodyPerformance$등급<-ifelse(bodyPerformance$등급=='A',1,\n",
    "                           ifelse(bodyPerformance$등급=='B',2,\n",
    "                                  ifelse(bodyPerformance$등급=='C',3,4)))"
   ]
  },
  {
   "cell_type": "code",
   "execution_count": 58,
   "id": "f416ac30",
   "metadata": {},
   "outputs": [
    {
     "name": "stdout",
     "output_type": "stream",
     "text": [
      "'data.frame':\t13393 obs. of  9 variables:\n",
      " $ 나이                   : int  27 25 31 32 28 36 42 33 54 28 ...\n",
      " $ 성별                   : int  0 0 0 0 0 1 1 0 0 0 ...\n",
      " $ 키_cm                  : num  172 165 180 174 174 ...\n",
      " $ 몸무게_kg              : num  75.2 55.8 78 71.1 67.7 ...\n",
      " $ 앉아서앞으로구부리기_cm: num  18.4 16.3 12 15.2 27.1 21 0.8 12.3 18.6 12.1 ...\n",
      " $ 윗몸일으키기           : num  60 53 49 53 45 27 18 42 34 55 ...\n",
      " $ 멀리뛰기               : num  217 229 181 219 217 153 146 234 148 213 ...\n",
      " $ 등급                   : num  3 1 3 2 2 2 4 2 3 2 ...\n",
      " $ bmr                    : num  1560 1370 1581 1501 1486 ...\n"
     ]
    },
    {
     "data": {
      "text/plain": [
       "      나이            성별            키_cm         몸무게_kg     \n",
       " Min.   :21.00   Min.   :0.0000   Min.   :125.0   Min.   : 26.30  \n",
       " 1st Qu.:25.00   1st Qu.:0.0000   1st Qu.:162.4   1st Qu.: 58.20  \n",
       " Median :32.00   Median :0.0000   Median :169.2   Median : 67.40  \n",
       " Mean   :36.78   Mean   :0.3678   Mean   :168.6   Mean   : 67.45  \n",
       " 3rd Qu.:48.00   3rd Qu.:1.0000   3rd Qu.:174.8   3rd Qu.: 75.30  \n",
       " Max.   :64.00   Max.   :1.0000   Max.   :193.8   Max.   :138.10  \n",
       " 앉아서앞으로구부리기_cm  윗몸일으키기      멀리뛰기          등급    \n",
       " Min.   :-25.00          Min.   : 0.00   Min.   :  0.0   Min.   :1.0  \n",
       " 1st Qu.: 10.90          1st Qu.:30.00   1st Qu.:162.0   1st Qu.:2.0  \n",
       " Median : 16.20          Median :41.00   Median :193.0   Median :3.0  \n",
       " Mean   : 15.21          Mean   :39.77   Mean   :190.1   Mean   :2.5  \n",
       " 3rd Qu.: 20.70          3rd Qu.:50.00   3rd Qu.:221.0   3rd Qu.:4.0  \n",
       " Max.   :213.00          Max.   :80.00   Max.   :303.0   Max.   :4.0  \n",
       "      bmr        \n",
       " Min.   : 888.4  \n",
       " 1st Qu.:1322.4  \n",
       " Median :1436.1  \n",
       " Mean   :1433.1  \n",
       " 3rd Qu.:1537.7  \n",
       " Max.   :2190.2  "
      ]
     },
     "metadata": {},
     "output_type": "display_data"
    }
   ],
   "source": [
    "str(bodyPerformance)\n",
    "summary(bodyPerformance)"
   ]
  },
  {
   "cell_type": "code",
   "execution_count": 60,
   "id": "262c6a68",
   "metadata": {
    "scrolled": false
   },
   "outputs": [
    {
     "data": {
      "text/html": [
       "<table>\n",
       "<thead><tr><th></th><th scope=col>나이</th><th scope=col>성별</th><th scope=col>키_cm</th><th scope=col>몸무게_kg</th><th scope=col>앉아서앞으로구부리기_cm</th><th scope=col>윗몸일으키기</th><th scope=col>멀리뛰기</th><th scope=col>등급</th><th scope=col>bmr</th></tr></thead>\n",
       "<tbody>\n",
       "\t<tr><th scope=row>나이</th><td> 1.00000000</td><td> 0.06022946</td><td>-0.29398048</td><td>-0.09996575</td><td>-0.07003333</td><td>-0.5445811 </td><td>-0.43517159</td><td> 0.06561189</td><td>-0.5380568 </td></tr>\n",
       "\t<tr><th scope=row>성별</th><td> 0.06022946</td><td> 1.00000000</td><td>-0.73089939</td><td>-0.67288652</td><td> 0.32746738</td><td>-0.4745964 </td><td>-0.70414892</td><td>-0.07560468</td><td>-0.6199229 </td></tr>\n",
       "\t<tr><th scope=row>키_cm</th><td>-0.29398048</td><td>-0.73089939</td><td> 1.00000000</td><td> 0.73490928</td><td>-0.22196991</td><td> 0.5004235 </td><td> 0.67458913</td><td> 0.03775284</td><td> 0.7959824 </td></tr>\n",
       "\t<tr><th scope=row>몸무게_kg</th><td>-0.09996575</td><td>-0.67288652</td><td> 0.73490928</td><td> 1.00000000</td><td>-0.29624858</td><td> 0.2948988 </td><td> 0.47956401</td><td> 0.21412856</td><td> 0.8899447 </td></tr>\n",
       "\t<tr><th scope=row>앉아서앞으로구부리기_cm</th><td>-0.07003333</td><td> 0.32746738</td><td>-0.22196991</td><td>-0.29624858</td><td> 1.00000000</td><td> 0.1771533 </td><td> 0.02648747</td><td>-0.58812264</td><td>-0.2211394 </td></tr>\n",
       "\t<tr><th scope=row>윗몸일으키기</th><td>-0.54458109</td><td>-0.47459643</td><td> 0.50042351</td><td> 0.29489883</td><td> 0.17715333</td><td> 1.0000000 </td><td> 0.74827281</td><td>-0.45283180</td><td> 0.5133511 </td></tr>\n",
       "\t<tr><th scope=row>멀리뛰기</th><td>-0.43517159</td><td>-0.70414892</td><td> 0.67458913</td><td> 0.47956401</td><td> 0.02648747</td><td> 0.7482728 </td><td> 1.00000000</td><td>-0.26215356</td><td> 0.6265185 </td></tr>\n",
       "\t<tr><th scope=row>등급</th><td> 0.06561189</td><td>-0.07560468</td><td> 0.03775284</td><td> 0.21412856</td><td>-0.58812264</td><td>-0.4528318 </td><td>-0.26215356</td><td> 1.00000000</td><td> 0.1408584 </td></tr>\n",
       "\t<tr><th scope=row>bmr</th><td>-0.53805676</td><td>-0.61992286</td><td> 0.79598237</td><td> 0.88994466</td><td>-0.22113936</td><td> 0.5133511 </td><td> 0.62651846</td><td> 0.14085843</td><td> 1.0000000 </td></tr>\n",
       "</tbody>\n",
       "</table>\n"
      ],
      "text/latex": [
       "\\begin{tabular}{r|lllllllll}\n",
       "  & 나이 & 성별 & 키\\_cm & 몸무게\\_kg & 앉아서앞으로구부리기\\_cm & 윗몸일으키기 & 멀리뛰기 & 등급 & bmr\\\\\n",
       "\\hline\n",
       "\t나이 &  1.00000000 &  0.06022946 & -0.29398048 & -0.09996575 & -0.07003333 & -0.5445811  & -0.43517159 &  0.06561189 & -0.5380568 \\\\\n",
       "\t성별 &  0.06022946 &  1.00000000 & -0.73089939 & -0.67288652 &  0.32746738 & -0.4745964  & -0.70414892 & -0.07560468 & -0.6199229 \\\\\n",
       "\t키\\_cm & -0.29398048 & -0.73089939 &  1.00000000 &  0.73490928 & -0.22196991 &  0.5004235  &  0.67458913 &  0.03775284 &  0.7959824 \\\\\n",
       "\t몸무게\\_kg & -0.09996575 & -0.67288652 &  0.73490928 &  1.00000000 & -0.29624858 &  0.2948988  &  0.47956401 &  0.21412856 &  0.8899447 \\\\\n",
       "\t앉아서앞으로구부리기\\_cm & -0.07003333 &  0.32746738 & -0.22196991 & -0.29624858 &  1.00000000 &  0.1771533  &  0.02648747 & -0.58812264 & -0.2211394 \\\\\n",
       "\t윗몸일으키기 & -0.54458109 & -0.47459643 &  0.50042351 &  0.29489883 &  0.17715333 &  1.0000000  &  0.74827281 & -0.45283180 &  0.5133511 \\\\\n",
       "\t멀리뛰기 & -0.43517159 & -0.70414892 &  0.67458913 &  0.47956401 &  0.02648747 &  0.7482728  &  1.00000000 & -0.26215356 &  0.6265185 \\\\\n",
       "\t등급 &  0.06561189 & -0.07560468 &  0.03775284 &  0.21412856 & -0.58812264 & -0.4528318  & -0.26215356 &  1.00000000 &  0.1408584 \\\\\n",
       "\tbmr & -0.53805676 & -0.61992286 &  0.79598237 &  0.88994466 & -0.22113936 &  0.5133511  &  0.62651846 &  0.14085843 &  1.0000000 \\\\\n",
       "\\end{tabular}\n"
      ],
      "text/markdown": [
       "\n",
       "| <!--/--> | 나이 | 성별 | 키_cm | 몸무게_kg | 앉아서앞으로구부리기_cm | 윗몸일으키기 | 멀리뛰기 | 등급 | bmr |\n",
       "|---|---|---|---|---|---|---|---|---|---|\n",
       "| 나이 |  1.00000000 |  0.06022946 | -0.29398048 | -0.09996575 | -0.07003333 | -0.5445811  | -0.43517159 |  0.06561189 | -0.5380568  |\n",
       "| 성별 |  0.06022946 |  1.00000000 | -0.73089939 | -0.67288652 |  0.32746738 | -0.4745964  | -0.70414892 | -0.07560468 | -0.6199229  |\n",
       "| 키_cm | -0.29398048 | -0.73089939 |  1.00000000 |  0.73490928 | -0.22196991 |  0.5004235  |  0.67458913 |  0.03775284 |  0.7959824  |\n",
       "| 몸무게_kg | -0.09996575 | -0.67288652 |  0.73490928 |  1.00000000 | -0.29624858 |  0.2948988  |  0.47956401 |  0.21412856 |  0.8899447  |\n",
       "| 앉아서앞으로구부리기_cm | -0.07003333 |  0.32746738 | -0.22196991 | -0.29624858 |  1.00000000 |  0.1771533  |  0.02648747 | -0.58812264 | -0.2211394  |\n",
       "| 윗몸일으키기 | -0.54458109 | -0.47459643 |  0.50042351 |  0.29489883 |  0.17715333 |  1.0000000  |  0.74827281 | -0.45283180 |  0.5133511  |\n",
       "| 멀리뛰기 | -0.43517159 | -0.70414892 |  0.67458913 |  0.47956401 |  0.02648747 |  0.7482728  |  1.00000000 | -0.26215356 |  0.6265185  |\n",
       "| 등급 |  0.06561189 | -0.07560468 |  0.03775284 |  0.21412856 | -0.58812264 | -0.4528318  | -0.26215356 |  1.00000000 |  0.1408584  |\n",
       "| bmr | -0.53805676 | -0.61992286 |  0.79598237 |  0.88994466 | -0.22113936 |  0.5133511  |  0.62651846 |  0.14085843 |  1.0000000  |\n",
       "\n"
      ],
      "text/plain": [
       "                        나이        성별        키_cm       몸무게_kg  \n",
       "나이                     1.00000000  0.06022946 -0.29398048 -0.09996575\n",
       "성별                     0.06022946  1.00000000 -0.73089939 -0.67288652\n",
       "키_cm                   -0.29398048 -0.73089939  1.00000000  0.73490928\n",
       "몸무게_kg               -0.09996575 -0.67288652  0.73490928  1.00000000\n",
       "앉아서앞으로구부리기_cm -0.07003333  0.32746738 -0.22196991 -0.29624858\n",
       "윗몸일으키기            -0.54458109 -0.47459643  0.50042351  0.29489883\n",
       "멀리뛰기                -0.43517159 -0.70414892  0.67458913  0.47956401\n",
       "등급                     0.06561189 -0.07560468  0.03775284  0.21412856\n",
       "bmr                     -0.53805676 -0.61992286  0.79598237  0.88994466\n",
       "                        앉아서앞으로구부리기_cm 윗몸일으키기 멀리뛰기   \n",
       "나이                    -0.07003333             -0.5445811   -0.43517159\n",
       "성별                     0.32746738             -0.4745964   -0.70414892\n",
       "키_cm                   -0.22196991              0.5004235    0.67458913\n",
       "몸무게_kg               -0.29624858              0.2948988    0.47956401\n",
       "앉아서앞으로구부리기_cm  1.00000000              0.1771533    0.02648747\n",
       "윗몸일으키기             0.17715333              1.0000000    0.74827281\n",
       "멀리뛰기                 0.02648747              0.7482728    1.00000000\n",
       "등급                    -0.58812264             -0.4528318   -0.26215356\n",
       "bmr                     -0.22113936              0.5133511    0.62651846\n",
       "                        등급        bmr       \n",
       "나이                     0.06561189 -0.5380568\n",
       "성별                    -0.07560468 -0.6199229\n",
       "키_cm                    0.03775284  0.7959824\n",
       "몸무게_kg                0.21412856  0.8899447\n",
       "앉아서앞으로구부리기_cm -0.58812264 -0.2211394\n",
       "윗몸일으키기            -0.45283180  0.5133511\n",
       "멀리뛰기                -0.26215356  0.6265185\n",
       "등급                     1.00000000  0.1408584\n",
       "bmr                      0.14085843  1.0000000"
      ]
     },
     "metadata": {},
     "output_type": "display_data"
    }
   ],
   "source": [
    "cor(bodyPerformance)"
   ]
  },
  {
   "cell_type": "markdown",
   "id": "4bbdcf14",
   "metadata": {},
   "source": [
    "# 인공신경망"
   ]
  },
  {
   "cell_type": "code",
   "execution_count": 68,
   "id": "3d6ea42f",
   "metadata": {},
   "outputs": [],
   "source": [
    "ANN <- function(tr,x,y){\n",
    "    model.nnet <- nnet(등급 ~ ., data = tr, size=3)\n",
    "    # 검증하기\n",
    "    pred <- predict(model.nnet, x, type = \"raw\")\n",
    "\n",
    "    # 예측률 \n",
    "    return(mean(pred ==y))\n",
    "}"
   ]
  },
  {
   "cell_type": "markdown",
   "id": "04009c15",
   "metadata": {},
   "source": [
    "# 의사결정나무"
   ]
  },
  {
   "cell_type": "code",
   "execution_count": 69,
   "id": "44dfe983",
   "metadata": {},
   "outputs": [],
   "source": [
    "DMT <- function(tr,x,y){\n",
    "    model.ctree <- ctree(등급 ~ ., data=tr)\n",
    "    \n",
    "    # 검증하기\n",
    "    pred <- predict(model.ctree, x)\n",
    "    \n",
    "    # 예측률 \n",
    "    return(mean(pred ==y))\n",
    "}"
   ]
  },
  {
   "cell_type": "markdown",
   "id": "2f2387e9",
   "metadata": {},
   "source": [
    "# RandomForest"
   ]
  },
  {
   "cell_type": "code",
   "execution_count": 70,
   "id": "1a957b42",
   "metadata": {},
   "outputs": [],
   "source": [
    "RF <- function(tr,x,y){\n",
    "    model.rf <- randomForest(등급 ~ ., data = tr , ntree=100)\n",
    "\n",
    "    # 검증하기\n",
    "    pred <- predict(model.rf, x)    \n",
    "    # 예측률 \n",
    "    return(mean(pred ==y))\n",
    "}"
   ]
  },
  {
   "cell_type": "markdown",
   "id": "8f3418cb",
   "metadata": {},
   "source": [
    "# SVM"
   ]
  },
  {
   "cell_type": "code",
   "execution_count": 71,
   "id": "4ea6b8a8",
   "metadata": {},
   "outputs": [],
   "source": [
    "SVM <- function(tr,x,y){\n",
    "    model.svm = svm(등급 ~ ., data=tr)\n",
    "    # 검증하기\n",
    "    pred <- predict(model.svm, x)\n",
    "    # 예측률 \n",
    "    return(mean(pred ==y))\n",
    "}"
   ]
  },
  {
   "cell_type": "markdown",
   "id": "5d158020",
   "metadata": {},
   "source": [
    "# 로지스틱회귀분석"
   ]
  },
  {
   "cell_type": "code",
   "execution_count": 72,
   "id": "1f445298",
   "metadata": {},
   "outputs": [],
   "source": [
    "LRA <- function(tr,x,y){\n",
    "    model <- multinom(등급 ~ .,data=tr)\n",
    "    # 검증하기\n",
    "    pred <- predict(model, x)\n",
    "    # 예측률\n",
    "    return(mean(pred ==y))\n",
    "}"
   ]
  },
  {
   "cell_type": "code",
   "execution_count": 73,
   "id": "11c27d4d",
   "metadata": {},
   "outputs": [],
   "source": [
    "반복수행 <- function(n){\n",
    "    irr <- iris\n",
    "\n",
    "    samp <- createDataPartition(bodyPerformance$등급, p=0.7, list=F)\n",
    "\n",
    "    irrS <- data.frame(scale(bodyPerformance[,-8]))\n",
    "    irrS$등급 <- bodyPerformance$등급\n",
    "\n",
    "    tr <- irrS[samp,]\n",
    "    test <- irrS[-samp,]\n",
    "\n",
    "    x <- subset(test, select = -등급)\n",
    "    y <- test$등급\n",
    "\n",
    "    \n",
    "    annS <- 0\n",
    "    dmtS <- 0\n",
    "    rfS <- 0\n",
    "    svmS <- 0\n",
    "    lraS <- 0\n",
    "    \n",
    "    for(i in 1:n){\n",
    "        annS = annS + ANN(tr,x,y)\n",
    "        dmtS = dmtS + DMT(tr,x,y)\n",
    "        rfS = rfS + RF(tr,x,y)\n",
    "        svmS = svmS + SVM(tr,x,y)\n",
    "        lraS = lraS + LRA(tr,x,y)       \n",
    "    }\n",
    "    \n",
    "    예측률 <- c(annS/n, dmtS/n, rfS/n, svmS/n, lraS/n)\n",
    "    \n",
    "    rtn = data.frame(예측률)\n",
    "    rownames(rtn) = c('인공신경망','의사결정나무','랜덤포레스트','SVM','로지스틱회귀분석')\n",
    "    \n",
    "    return(rtn)\n",
    "\n",
    "}"
   ]
  },
  {
   "cell_type": "code",
   "execution_count": 74,
   "id": "1c2af1f7",
   "metadata": {},
   "outputs": [
    {
     "name": "stdout",
     "output_type": "stream",
     "text": [
      "# weights:  31\n",
      "initial  value 56646.616247 \n",
      "final  value 32834.000000 \n",
      "converged\n"
     ]
    },
    {
     "name": "stderr",
     "output_type": "stream",
     "text": [
      "Warning message in randomForest.default(m, y, ...):\n",
      "“The response has five or fewer unique values.  Are you sure you want to do regression?”"
     ]
    },
    {
     "name": "stdout",
     "output_type": "stream",
     "text": [
      "# weights:  40 (27 variable)\n",
      "initial  value 12999.282224 \n",
      "iter  10 value 9755.776512\n",
      "iter  20 value 9466.882240\n",
      "iter  30 value 8384.298290\n",
      "final  value 8382.317956 \n",
      "converged\n",
      "# weights:  31\n",
      "initial  value 46631.827663 \n",
      "final  value 32834.000000 \n",
      "converged\n"
     ]
    },
    {
     "name": "stderr",
     "output_type": "stream",
     "text": [
      "Warning message in randomForest.default(m, y, ...):\n",
      "“The response has five or fewer unique values.  Are you sure you want to do regression?”"
     ]
    },
    {
     "name": "stdout",
     "output_type": "stream",
     "text": [
      "# weights:  40 (27 variable)\n",
      "initial  value 12999.282224 \n",
      "iter  10 value 9755.776512\n",
      "iter  20 value 9466.882240\n",
      "iter  30 value 8384.298290\n",
      "final  value 8382.317956 \n",
      "converged\n",
      "# weights:  31\n",
      "initial  value 46491.458289 \n",
      "final  value 32834.000000 \n",
      "converged\n"
     ]
    },
    {
     "name": "stderr",
     "output_type": "stream",
     "text": [
      "Warning message in randomForest.default(m, y, ...):\n",
      "“The response has five or fewer unique values.  Are you sure you want to do regression?”"
     ]
    },
    {
     "name": "stdout",
     "output_type": "stream",
     "text": [
      "# weights:  40 (27 variable)\n",
      "initial  value 12999.282224 \n",
      "iter  10 value 9755.776512\n",
      "iter  20 value 9466.882240\n",
      "iter  30 value 8384.298290\n",
      "final  value 8382.317956 \n",
      "converged\n",
      "# weights:  31\n",
      "initial  value 43178.384939 \n",
      "final  value 32834.000000 \n",
      "converged\n"
     ]
    },
    {
     "name": "stderr",
     "output_type": "stream",
     "text": [
      "Warning message in randomForest.default(m, y, ...):\n",
      "“The response has five or fewer unique values.  Are you sure you want to do regression?”"
     ]
    },
    {
     "name": "stdout",
     "output_type": "stream",
     "text": [
      "# weights:  40 (27 variable)\n",
      "initial  value 12999.282224 \n",
      "iter  10 value 9755.776512\n",
      "iter  20 value 9466.882240\n",
      "iter  30 value 8384.298290\n",
      "final  value 8382.317956 \n",
      "converged\n",
      "# weights:  31\n",
      "initial  value 51159.058433 \n",
      "final  value 32834.000000 \n",
      "converged\n"
     ]
    },
    {
     "name": "stderr",
     "output_type": "stream",
     "text": [
      "Warning message in randomForest.default(m, y, ...):\n",
      "“The response has five or fewer unique values.  Are you sure you want to do regression?”"
     ]
    },
    {
     "name": "stdout",
     "output_type": "stream",
     "text": [
      "# weights:  40 (27 variable)\n",
      "initial  value 12999.282224 \n",
      "iter  10 value 9755.776512\n",
      "iter  20 value 9466.882240\n",
      "iter  30 value 8384.298290\n",
      "final  value 8382.317956 \n",
      "converged\n",
      "# weights:  31\n",
      "initial  value 40890.426358 \n",
      "final  value 32834.000000 \n",
      "converged\n"
     ]
    },
    {
     "name": "stderr",
     "output_type": "stream",
     "text": [
      "Warning message in randomForest.default(m, y, ...):\n",
      "“The response has five or fewer unique values.  Are you sure you want to do regression?”"
     ]
    },
    {
     "name": "stdout",
     "output_type": "stream",
     "text": [
      "# weights:  40 (27 variable)\n",
      "initial  value 12999.282224 \n",
      "iter  10 value 9755.776512\n",
      "iter  20 value 9466.882240\n",
      "iter  30 value 8384.298290\n",
      "final  value 8382.317956 \n",
      "converged\n",
      "# weights:  31\n",
      "initial  value 46194.507738 \n",
      "final  value 32834.000000 \n",
      "converged\n"
     ]
    },
    {
     "name": "stderr",
     "output_type": "stream",
     "text": [
      "Warning message in randomForest.default(m, y, ...):\n",
      "“The response has five or fewer unique values.  Are you sure you want to do regression?”"
     ]
    },
    {
     "name": "stdout",
     "output_type": "stream",
     "text": [
      "# weights:  40 (27 variable)\n",
      "initial  value 12999.282224 \n",
      "iter  10 value 9755.776512\n",
      "iter  20 value 9466.882240\n",
      "iter  30 value 8384.298290\n",
      "final  value 8382.317956 \n",
      "converged\n",
      "# weights:  31\n",
      "initial  value 48915.774623 \n",
      "final  value 32834.000000 \n",
      "converged\n"
     ]
    },
    {
     "name": "stderr",
     "output_type": "stream",
     "text": [
      "Warning message in randomForest.default(m, y, ...):\n",
      "“The response has five or fewer unique values.  Are you sure you want to do regression?”"
     ]
    },
    {
     "name": "stdout",
     "output_type": "stream",
     "text": [
      "# weights:  40 (27 variable)\n",
      "initial  value 12999.282224 \n",
      "iter  10 value 9755.776512\n",
      "iter  20 value 9466.882240\n",
      "iter  30 value 8384.298290\n",
      "final  value 8382.317956 \n",
      "converged\n",
      "# weights:  31\n",
      "initial  value 45913.994124 \n",
      "final  value 32834.000000 \n",
      "converged\n"
     ]
    },
    {
     "name": "stderr",
     "output_type": "stream",
     "text": [
      "Warning message in randomForest.default(m, y, ...):\n",
      "“The response has five or fewer unique values.  Are you sure you want to do regression?”"
     ]
    },
    {
     "name": "stdout",
     "output_type": "stream",
     "text": [
      "# weights:  40 (27 variable)\n",
      "initial  value 12999.282224 \n",
      "iter  10 value 9755.776512\n",
      "iter  20 value 9466.882240\n",
      "iter  30 value 8384.298290\n",
      "final  value 8382.317956 \n",
      "converged\n",
      "# weights:  31\n",
      "initial  value 41636.568561 \n",
      "final  value 32834.000000 \n",
      "converged\n"
     ]
    },
    {
     "name": "stderr",
     "output_type": "stream",
     "text": [
      "Warning message in randomForest.default(m, y, ...):\n",
      "“The response has five or fewer unique values.  Are you sure you want to do regression?”"
     ]
    },
    {
     "name": "stdout",
     "output_type": "stream",
     "text": [
      "# weights:  40 (27 variable)\n",
      "initial  value 12999.282224 \n",
      "iter  10 value 9755.776512\n",
      "iter  20 value 9466.882240\n",
      "iter  30 value 8384.298290\n",
      "final  value 8382.317956 \n",
      "converged\n"
     ]
    },
    {
     "data": {
      "text/html": [
       "<table>\n",
       "<thead><tr><th></th><th scope=col>예측률</th></tr></thead>\n",
       "<tbody>\n",
       "\t<tr><th scope=row>인공신경망</th><td>0.251494024</td></tr>\n",
       "\t<tr><th scope=row>의사결정나무</th><td>0.124003984</td></tr>\n",
       "\t<tr><th scope=row>랜덤포레스트</th><td>0.001767928</td></tr>\n",
       "\t<tr><th scope=row>SVM</th><td>0.000000000</td></tr>\n",
       "\t<tr><th scope=row>로지스틱회귀분석</th><td>0.600597610</td></tr>\n",
       "</tbody>\n",
       "</table>\n"
      ],
      "text/latex": [
       "\\begin{tabular}{r|l}\n",
       "  & 예측률\\\\\n",
       "\\hline\n",
       "\t인공신경망 & 0.251494024\\\\\n",
       "\t의사결정나무 & 0.124003984\\\\\n",
       "\t랜덤포레스트 & 0.001767928\\\\\n",
       "\tSVM & 0.000000000\\\\\n",
       "\t로지스틱회귀분석 & 0.600597610\\\\\n",
       "\\end{tabular}\n"
      ],
      "text/markdown": [
       "\n",
       "| <!--/--> | 예측률 |\n",
       "|---|---|\n",
       "| 인공신경망 | 0.251494024 |\n",
       "| 의사결정나무 | 0.124003984 |\n",
       "| 랜덤포레스트 | 0.001767928 |\n",
       "| SVM | 0.000000000 |\n",
       "| 로지스틱회귀분석 | 0.600597610 |\n",
       "\n"
      ],
      "text/plain": [
       "                 예측률     \n",
       "인공신경망       0.251494024\n",
       "의사결정나무     0.124003984\n",
       "랜덤포레스트     0.001767928\n",
       "SVM              0.000000000\n",
       "로지스틱회귀분석 0.600597610"
      ]
     },
     "metadata": {},
     "output_type": "display_data"
    }
   ],
   "source": [
    "반복수행(10)"
   ]
  },
  {
   "cell_type": "code",
   "execution_count": null,
   "id": "02b1b811",
   "metadata": {},
   "outputs": [],
   "source": []
  },
  {
   "cell_type": "code",
   "execution_count": null,
   "id": "7315c092",
   "metadata": {},
   "outputs": [],
   "source": []
  },
  {
   "cell_type": "code",
   "execution_count": null,
   "id": "4964d3a8",
   "metadata": {},
   "outputs": [],
   "source": []
  },
  {
   "cell_type": "code",
   "execution_count": null,
   "id": "044a5b7d",
   "metadata": {},
   "outputs": [],
   "source": []
  }
 ],
 "metadata": {
  "kernelspec": {
   "display_name": "R",
   "language": "R",
   "name": "ir"
  },
  "language_info": {
   "codemirror_mode": "r",
   "file_extension": ".r",
   "mimetype": "text/x-r-source",
   "name": "R",
   "pygments_lexer": "r",
   "version": "3.6.1"
  }
 },
 "nbformat": 4,
 "nbformat_minor": 5
}
