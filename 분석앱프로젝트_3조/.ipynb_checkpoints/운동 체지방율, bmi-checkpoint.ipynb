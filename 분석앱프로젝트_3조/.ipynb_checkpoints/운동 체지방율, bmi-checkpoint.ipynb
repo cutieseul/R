{
 "cells": [
  {
   "cell_type": "code",
   "execution_count": 1,
   "id": "f48d5263",
   "metadata": {},
   "outputs": [],
   "source": [
    "bodyPerformance <- read.csv('../../Data/프로젝트/bodyPerformance.csv')"
   ]
  },
  {
   "cell_type": "code",
   "execution_count": 2,
   "id": "8f95d217",
   "metadata": {},
   "outputs": [
    {
     "data": {
      "text/html": [
       "<table>\n",
       "<thead><tr><th scope=col>age</th><th scope=col>gender</th><th scope=col>height_cm</th><th scope=col>weight_kg</th><th scope=col>body.fat_.</th><th scope=col>diastolic</th><th scope=col>systolic</th><th scope=col>gripForce</th><th scope=col>sit.and.bend.forward_cm</th><th scope=col>sit.ups.counts</th><th scope=col>broad.jump_cm</th><th scope=col>class</th></tr></thead>\n",
       "<tbody>\n",
       "\t<tr><td>27   </td><td>M    </td><td>172.3</td><td>75.24</td><td>21.3 </td><td>80   </td><td>130  </td><td>54.9 </td><td>18.4 </td><td>60   </td><td>217  </td><td>C    </td></tr>\n",
       "\t<tr><td>25   </td><td>M    </td><td>165.0</td><td>55.80</td><td>15.7 </td><td>77   </td><td>126  </td><td>36.4 </td><td>16.3 </td><td>53   </td><td>229  </td><td>A    </td></tr>\n",
       "\t<tr><td>31   </td><td>M    </td><td>179.6</td><td>78.00</td><td>20.1 </td><td>92   </td><td>152  </td><td>44.8 </td><td>12.0 </td><td>49   </td><td>181  </td><td>C    </td></tr>\n",
       "\t<tr><td>32   </td><td>M    </td><td>174.5</td><td>71.10</td><td>18.4 </td><td>76   </td><td>147  </td><td>41.4 </td><td>15.2 </td><td>53   </td><td>219  </td><td>B    </td></tr>\n",
       "\t<tr><td>28   </td><td>M    </td><td>173.8</td><td>67.70</td><td>17.1 </td><td>70   </td><td>127  </td><td>43.5 </td><td>27.1 </td><td>45   </td><td>217  </td><td>B    </td></tr>\n",
       "\t<tr><td>36   </td><td>F    </td><td>165.4</td><td>55.40</td><td>22.0 </td><td>64   </td><td>119  </td><td>23.8 </td><td>21.0 </td><td>27   </td><td>153  </td><td>B    </td></tr>\n",
       "</tbody>\n",
       "</table>\n"
      ],
      "text/latex": [
       "\\begin{tabular}{r|llllllllllll}\n",
       " age & gender & height\\_cm & weight\\_kg & body.fat\\_. & diastolic & systolic & gripForce & sit.and.bend.forward\\_cm & sit.ups.counts & broad.jump\\_cm & class\\\\\n",
       "\\hline\n",
       "\t 27    & M     & 172.3 & 75.24 & 21.3  & 80    & 130   & 54.9  & 18.4  & 60    & 217   & C    \\\\\n",
       "\t 25    & M     & 165.0 & 55.80 & 15.7  & 77    & 126   & 36.4  & 16.3  & 53    & 229   & A    \\\\\n",
       "\t 31    & M     & 179.6 & 78.00 & 20.1  & 92    & 152   & 44.8  & 12.0  & 49    & 181   & C    \\\\\n",
       "\t 32    & M     & 174.5 & 71.10 & 18.4  & 76    & 147   & 41.4  & 15.2  & 53    & 219   & B    \\\\\n",
       "\t 28    & M     & 173.8 & 67.70 & 17.1  & 70    & 127   & 43.5  & 27.1  & 45    & 217   & B    \\\\\n",
       "\t 36    & F     & 165.4 & 55.40 & 22.0  & 64    & 119   & 23.8  & 21.0  & 27    & 153   & B    \\\\\n",
       "\\end{tabular}\n"
      ],
      "text/markdown": [
       "\n",
       "| age | gender | height_cm | weight_kg | body.fat_. | diastolic | systolic | gripForce | sit.and.bend.forward_cm | sit.ups.counts | broad.jump_cm | class |\n",
       "|---|---|---|---|---|---|---|---|---|---|---|---|\n",
       "| 27    | M     | 172.3 | 75.24 | 21.3  | 80    | 130   | 54.9  | 18.4  | 60    | 217   | C     |\n",
       "| 25    | M     | 165.0 | 55.80 | 15.7  | 77    | 126   | 36.4  | 16.3  | 53    | 229   | A     |\n",
       "| 31    | M     | 179.6 | 78.00 | 20.1  | 92    | 152   | 44.8  | 12.0  | 49    | 181   | C     |\n",
       "| 32    | M     | 174.5 | 71.10 | 18.4  | 76    | 147   | 41.4  | 15.2  | 53    | 219   | B     |\n",
       "| 28    | M     | 173.8 | 67.70 | 17.1  | 70    | 127   | 43.5  | 27.1  | 45    | 217   | B     |\n",
       "| 36    | F     | 165.4 | 55.40 | 22.0  | 64    | 119   | 23.8  | 21.0  | 27    | 153   | B     |\n",
       "\n"
      ],
      "text/plain": [
       "  age gender height_cm weight_kg body.fat_. diastolic systolic gripForce\n",
       "1 27  M      172.3     75.24     21.3       80        130      54.9     \n",
       "2 25  M      165.0     55.80     15.7       77        126      36.4     \n",
       "3 31  M      179.6     78.00     20.1       92        152      44.8     \n",
       "4 32  M      174.5     71.10     18.4       76        147      41.4     \n",
       "5 28  M      173.8     67.70     17.1       70        127      43.5     \n",
       "6 36  F      165.4     55.40     22.0       64        119      23.8     \n",
       "  sit.and.bend.forward_cm sit.ups.counts broad.jump_cm class\n",
       "1 18.4                    60             217           C    \n",
       "2 16.3                    53             229           A    \n",
       "3 12.0                    49             181           C    \n",
       "4 15.2                    53             219           B    \n",
       "5 27.1                    45             217           B    \n",
       "6 21.0                    27             153           B    "
      ]
     },
     "metadata": {},
     "output_type": "display_data"
    }
   ],
   "source": [
    "head(bodyPerformance)"
   ]
  },
  {
   "cell_type": "code",
   "execution_count": 3,
   "id": "dd494cf5",
   "metadata": {},
   "outputs": [],
   "source": [
    "colnames(bodyPerformance) <- c('나이','성별','키(cm)','몸무게(kg)','체지방(%)','이완기혈압(min)','수축기혈압(분)','악력','앉아서앞으로구부리기(cm)','윗몸일으키기','멀리뛰기','등급')"
   ]
  },
  {
   "cell_type": "code",
   "execution_count": 5,
   "id": "3672fb05",
   "metadata": {},
   "outputs": [
    {
     "name": "stdout",
     "output_type": "stream",
     "text": [
      "\"\",\"x\"\n",
      "\"1\",\"../../Data/프로젝트/bodyPerformance.csv\"\n"
     ]
    }
   ],
   "source": [
    "write.csv('../../Data/프로젝트/bodyPerformance.csv')"
   ]
  },
  {
   "cell_type": "code",
   "execution_count": null,
   "id": "4918701c",
   "metadata": {},
   "outputs": [],
   "source": []
  }
 ],
 "metadata": {
  "kernelspec": {
   "display_name": "R",
   "language": "R",
   "name": "ir"
  },
  "language_info": {
   "codemirror_mode": "r",
   "file_extension": ".r",
   "mimetype": "text/x-r-source",
   "name": "R",
   "pygments_lexer": "r",
   "version": "3.6.1"
  }
 },
 "nbformat": 4,
 "nbformat_minor": 5
}
