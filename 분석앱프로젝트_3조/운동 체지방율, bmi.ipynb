{
 "cells": [
  {
   "cell_type": "code",
   "execution_count": 32,
   "id": "5b567353",
   "metadata": {},
   "outputs": [],
   "source": [
    "library(dplyr)\n",
    "bodyPerformance <- read.csv('../../Data/프로젝트/bodyPerformance.csv')\n",
    "bodyPerformance$성별<-ifelse(bodyPerformance$성별=='M',0,1)"
   ]
  },
  {
   "cell_type": "code",
   "execution_count": 33,
   "id": "06176574",
   "metadata": {
    "scrolled": true
   },
   "outputs": [
    {
     "data": {
      "text/html": [
       "<table>\n",
       "<thead><tr><th scope=col>나이</th><th scope=col>성별</th><th scope=col>키_cm</th><th scope=col>몸무게_kg</th><th scope=col>체지방율</th><th scope=col>이완기혈압_min</th><th scope=col>수축기혈압_분</th><th scope=col>악력</th><th scope=col>앉아서앞으로구부리기_cm</th><th scope=col>윗몸일으키기</th><th scope=col>멀리뛰기</th><th scope=col>등급</th></tr></thead>\n",
       "<tbody>\n",
       "\t<tr><td>27   </td><td>0    </td><td>172.3</td><td>75.24</td><td>21.3 </td><td>80   </td><td>130  </td><td>54.9 </td><td>18.4 </td><td>60   </td><td>217  </td><td>C    </td></tr>\n",
       "\t<tr><td>25   </td><td>0    </td><td>165.0</td><td>55.80</td><td>15.7 </td><td>77   </td><td>126  </td><td>36.4 </td><td>16.3 </td><td>53   </td><td>229  </td><td>A    </td></tr>\n",
       "\t<tr><td>31   </td><td>0    </td><td>179.6</td><td>78.00</td><td>20.1 </td><td>92   </td><td>152  </td><td>44.8 </td><td>12.0 </td><td>49   </td><td>181  </td><td>C    </td></tr>\n",
       "\t<tr><td>32   </td><td>0    </td><td>174.5</td><td>71.10</td><td>18.4 </td><td>76   </td><td>147  </td><td>41.4 </td><td>15.2 </td><td>53   </td><td>219  </td><td>B    </td></tr>\n",
       "\t<tr><td>28   </td><td>0    </td><td>173.8</td><td>67.70</td><td>17.1 </td><td>70   </td><td>127  </td><td>43.5 </td><td>27.1 </td><td>45   </td><td>217  </td><td>B    </td></tr>\n",
       "\t<tr><td>36   </td><td>1    </td><td>165.4</td><td>55.40</td><td>22.0 </td><td>64   </td><td>119  </td><td>23.8 </td><td>21.0 </td><td>27   </td><td>153  </td><td>B    </td></tr>\n",
       "</tbody>\n",
       "</table>\n"
      ],
      "text/latex": [
       "\\begin{tabular}{r|llllllllllll}\n",
       " 나이 & 성별 & 키\\_cm & 몸무게\\_kg & 체지방율 & 이완기혈압\\_min & 수축기혈압\\_분 & 악력 & 앉아서앞으로구부리기\\_cm & 윗몸일으키기 & 멀리뛰기 & 등급\\\\\n",
       "\\hline\n",
       "\t 27    & 0     & 172.3 & 75.24 & 21.3  & 80    & 130   & 54.9  & 18.4  & 60    & 217   & C    \\\\\n",
       "\t 25    & 0     & 165.0 & 55.80 & 15.7  & 77    & 126   & 36.4  & 16.3  & 53    & 229   & A    \\\\\n",
       "\t 31    & 0     & 179.6 & 78.00 & 20.1  & 92    & 152   & 44.8  & 12.0  & 49    & 181   & C    \\\\\n",
       "\t 32    & 0     & 174.5 & 71.10 & 18.4  & 76    & 147   & 41.4  & 15.2  & 53    & 219   & B    \\\\\n",
       "\t 28    & 0     & 173.8 & 67.70 & 17.1  & 70    & 127   & 43.5  & 27.1  & 45    & 217   & B    \\\\\n",
       "\t 36    & 1     & 165.4 & 55.40 & 22.0  & 64    & 119   & 23.8  & 21.0  & 27    & 153   & B    \\\\\n",
       "\\end{tabular}\n"
      ],
      "text/markdown": [
       "\n",
       "| 나이 | 성별 | 키_cm | 몸무게_kg | 체지방율 | 이완기혈압_min | 수축기혈압_분 | 악력 | 앉아서앞으로구부리기_cm | 윗몸일으키기 | 멀리뛰기 | 등급 |\n",
       "|---|---|---|---|---|---|---|---|---|---|---|---|\n",
       "| 27    | 0     | 172.3 | 75.24 | 21.3  | 80    | 130   | 54.9  | 18.4  | 60    | 217   | C     |\n",
       "| 25    | 0     | 165.0 | 55.80 | 15.7  | 77    | 126   | 36.4  | 16.3  | 53    | 229   | A     |\n",
       "| 31    | 0     | 179.6 | 78.00 | 20.1  | 92    | 152   | 44.8  | 12.0  | 49    | 181   | C     |\n",
       "| 32    | 0     | 174.5 | 71.10 | 18.4  | 76    | 147   | 41.4  | 15.2  | 53    | 219   | B     |\n",
       "| 28    | 0     | 173.8 | 67.70 | 17.1  | 70    | 127   | 43.5  | 27.1  | 45    | 217   | B     |\n",
       "| 36    | 1     | 165.4 | 55.40 | 22.0  | 64    | 119   | 23.8  | 21.0  | 27    | 153   | B     |\n",
       "\n"
      ],
      "text/plain": [
       "  나이 성별 키_cm 몸무게_kg 체지방율 이완기혈압_min 수축기혈압_분 악력\n",
       "1 27   0    172.3 75.24     21.3     80             130           54.9\n",
       "2 25   0    165.0 55.80     15.7     77             126           36.4\n",
       "3 31   0    179.6 78.00     20.1     92             152           44.8\n",
       "4 32   0    174.5 71.10     18.4     76             147           41.4\n",
       "5 28   0    173.8 67.70     17.1     70             127           43.5\n",
       "6 36   1    165.4 55.40     22.0     64             119           23.8\n",
       "  앉아서앞으로구부리기_cm 윗몸일으키기 멀리뛰기 등급\n",
       "1 18.4                    60           217      C   \n",
       "2 16.3                    53           229      A   \n",
       "3 12.0                    49           181      C   \n",
       "4 15.2                    53           219      B   \n",
       "5 27.1                    45           217      B   \n",
       "6 21.0                    27           153      B   "
      ]
     },
     "metadata": {},
     "output_type": "display_data"
    },
    {
     "data": {
      "text/html": [
       "13393"
      ],
      "text/latex": [
       "13393"
      ],
      "text/markdown": [
       "13393"
      ],
      "text/plain": [
       "[1] 13393"
      ]
     },
     "metadata": {},
     "output_type": "display_data"
    }
   ],
   "source": [
    "head(bodyPerformance)\n",
    "nrow(bodyPerformance)"
   ]
  },
  {
   "cell_type": "code",
   "execution_count": 34,
   "id": "f1d49922",
   "metadata": {
    "scrolled": true
   },
   "outputs": [
    {
     "name": "stdout",
     "output_type": "stream",
     "text": [
      "'data.frame':\t13393 obs. of  12 variables:\n",
      " $ 나이                   : int  27 25 31 32 28 36 42 33 54 28 ...\n",
      " $ 성별                   : num  0 0 0 0 0 1 1 0 0 0 ...\n",
      " $ 키_cm                  : num  172 165 180 174 174 ...\n",
      " $ 몸무게_kg              : num  75.2 55.8 78 71.1 67.7 ...\n",
      " $ 체지방율               : num  21.3 15.7 20.1 18.4 17.1 22 32.2 36.9 27.6 14.4 ...\n",
      " $ 이완기혈압_min         : num  80 77 92 76 70 64 72 84 85 81 ...\n",
      " $ 수축기혈압_분          : num  130 126 152 147 127 119 135 137 165 156 ...\n",
      " $ 악력                   : num  54.9 36.4 44.8 41.4 43.5 23.8 22.7 45.9 40.4 57.9 ...\n",
      " $ 앉아서앞으로구부리기_cm: num  18.4 16.3 12 15.2 27.1 21 0.8 12.3 18.6 12.1 ...\n",
      " $ 윗몸일으키기           : num  60 53 49 53 45 27 18 42 34 55 ...\n",
      " $ 멀리뛰기               : num  217 229 181 219 217 153 146 234 148 213 ...\n",
      " $ 등급                   : Factor w/ 4 levels \"A\",\"B\",\"C\",\"D\": 3 1 3 2 2 2 4 2 3 2 ...\n"
     ]
    }
   ],
   "source": [
    "str(bodyPerformance)"
   ]
  },
  {
   "cell_type": "code",
   "execution_count": 35,
   "id": "83dbf4aa",
   "metadata": {
    "scrolled": false
   },
   "outputs": [
    {
     "data": {
      "text/plain": [
       "      나이            성별            키_cm         몸무게_kg     \n",
       " Min.   :21.00   Min.   :0.0000   Min.   :125.0   Min.   : 26.30  \n",
       " 1st Qu.:25.00   1st Qu.:0.0000   1st Qu.:162.4   1st Qu.: 58.20  \n",
       " Median :32.00   Median :0.0000   Median :169.2   Median : 67.40  \n",
       " Mean   :36.78   Mean   :0.3678   Mean   :168.6   Mean   : 67.45  \n",
       " 3rd Qu.:48.00   3rd Qu.:1.0000   3rd Qu.:174.8   3rd Qu.: 75.30  \n",
       " Max.   :64.00   Max.   :1.0000   Max.   :193.8   Max.   :138.10  \n",
       "    체지방율     이완기혈압_min  수축기혈압_분        악력      \n",
       " Min.   : 3.00   Min.   :  0.0   Min.   :  0.0   Min.   : 0.00  \n",
       " 1st Qu.:18.00   1st Qu.: 71.0   1st Qu.:120.0   1st Qu.:27.50  \n",
       " Median :22.80   Median : 79.0   Median :130.0   Median :37.90  \n",
       " Mean   :23.24   Mean   : 78.8   Mean   :130.2   Mean   :36.96  \n",
       " 3rd Qu.:28.00   3rd Qu.: 86.0   3rd Qu.:141.0   3rd Qu.:45.20  \n",
       " Max.   :78.40   Max.   :156.2   Max.   :201.0   Max.   :70.50  \n",
       " 앉아서앞으로구부리기_cm  윗몸일으키기      멀리뛰기     등급    \n",
       " Min.   :-25.00          Min.   : 0.00   Min.   :  0.0   A:3348  \n",
       " 1st Qu.: 10.90          1st Qu.:30.00   1st Qu.:162.0   B:3347  \n",
       " Median : 16.20          Median :41.00   Median :193.0   C:3349  \n",
       " Mean   : 15.21          Mean   :39.77   Mean   :190.1   D:3349  \n",
       " 3rd Qu.: 20.70          3rd Qu.:50.00   3rd Qu.:221.0           \n",
       " Max.   :213.00          Max.   :80.00   Max.   :303.0           "
      ]
     },
     "metadata": {},
     "output_type": "display_data"
    }
   ],
   "source": [
    "summary(bodyPerformance)"
   ]
  },
  {
   "cell_type": "code",
   "execution_count": 36,
   "id": "edb64a78",
   "metadata": {},
   "outputs": [
    {
     "data": {
      "text/html": [
       "<table>\n",
       "<thead><tr><th scope=col>나이</th><th scope=col>성별</th><th scope=col>키_cm</th><th scope=col>몸무게_kg</th><th scope=col>체지방율</th><th scope=col>이완기혈압_min</th><th scope=col>수축기혈압_분</th><th scope=col>악력</th><th scope=col>앉아서앞으로구부리기_cm</th><th scope=col>윗몸일으키기</th><th scope=col>멀리뛰기</th><th scope=col>등급</th><th scope=col>bmi</th></tr></thead>\n",
       "<tbody>\n",
       "\t<tr><td>27   </td><td>0    </td><td>172.3</td><td>75.24</td><td>21.3 </td><td>80   </td><td>130  </td><td>54.9 </td><td>18.4 </td><td>60   </td><td>217  </td><td>C    </td><td>25.3 </td></tr>\n",
       "\t<tr><td>25   </td><td>0    </td><td>165.0</td><td>55.80</td><td>15.7 </td><td>77   </td><td>126  </td><td>36.4 </td><td>16.3 </td><td>53   </td><td>229  </td><td>A    </td><td>20.5 </td></tr>\n",
       "\t<tr><td>31   </td><td>0    </td><td>179.6</td><td>78.00</td><td>20.1 </td><td>92   </td><td>152  </td><td>44.8 </td><td>12.0 </td><td>49   </td><td>181  </td><td>C    </td><td>24.2 </td></tr>\n",
       "\t<tr><td>32   </td><td>0    </td><td>174.5</td><td>71.10</td><td>18.4 </td><td>76   </td><td>147  </td><td>41.4 </td><td>15.2 </td><td>53   </td><td>219  </td><td>B    </td><td>23.3 </td></tr>\n",
       "\t<tr><td>28   </td><td>0    </td><td>173.8</td><td>67.70</td><td>17.1 </td><td>70   </td><td>127  </td><td>43.5 </td><td>27.1 </td><td>45   </td><td>217  </td><td>B    </td><td>22.4 </td></tr>\n",
       "\t<tr><td>36   </td><td>1    </td><td>165.4</td><td>55.40</td><td>22.0 </td><td>64   </td><td>119  </td><td>23.8 </td><td>21.0 </td><td>27   </td><td>153  </td><td>B    </td><td>20.3 </td></tr>\n",
       "</tbody>\n",
       "</table>\n"
      ],
      "text/latex": [
       "\\begin{tabular}{r|lllllllllllll}\n",
       " 나이 & 성별 & 키\\_cm & 몸무게\\_kg & 체지방율 & 이완기혈압\\_min & 수축기혈압\\_분 & 악력 & 앉아서앞으로구부리기\\_cm & 윗몸일으키기 & 멀리뛰기 & 등급 & bmi\\\\\n",
       "\\hline\n",
       "\t 27    & 0     & 172.3 & 75.24 & 21.3  & 80    & 130   & 54.9  & 18.4  & 60    & 217   & C     & 25.3 \\\\\n",
       "\t 25    & 0     & 165.0 & 55.80 & 15.7  & 77    & 126   & 36.4  & 16.3  & 53    & 229   & A     & 20.5 \\\\\n",
       "\t 31    & 0     & 179.6 & 78.00 & 20.1  & 92    & 152   & 44.8  & 12.0  & 49    & 181   & C     & 24.2 \\\\\n",
       "\t 32    & 0     & 174.5 & 71.10 & 18.4  & 76    & 147   & 41.4  & 15.2  & 53    & 219   & B     & 23.3 \\\\\n",
       "\t 28    & 0     & 173.8 & 67.70 & 17.1  & 70    & 127   & 43.5  & 27.1  & 45    & 217   & B     & 22.4 \\\\\n",
       "\t 36    & 1     & 165.4 & 55.40 & 22.0  & 64    & 119   & 23.8  & 21.0  & 27    & 153   & B     & 20.3 \\\\\n",
       "\\end{tabular}\n"
      ],
      "text/markdown": [
       "\n",
       "| 나이 | 성별 | 키_cm | 몸무게_kg | 체지방율 | 이완기혈압_min | 수축기혈압_분 | 악력 | 앉아서앞으로구부리기_cm | 윗몸일으키기 | 멀리뛰기 | 등급 | bmi |\n",
       "|---|---|---|---|---|---|---|---|---|---|---|---|---|\n",
       "| 27    | 0     | 172.3 | 75.24 | 21.3  | 80    | 130   | 54.9  | 18.4  | 60    | 217   | C     | 25.3  |\n",
       "| 25    | 0     | 165.0 | 55.80 | 15.7  | 77    | 126   | 36.4  | 16.3  | 53    | 229   | A     | 20.5  |\n",
       "| 31    | 0     | 179.6 | 78.00 | 20.1  | 92    | 152   | 44.8  | 12.0  | 49    | 181   | C     | 24.2  |\n",
       "| 32    | 0     | 174.5 | 71.10 | 18.4  | 76    | 147   | 41.4  | 15.2  | 53    | 219   | B     | 23.3  |\n",
       "| 28    | 0     | 173.8 | 67.70 | 17.1  | 70    | 127   | 43.5  | 27.1  | 45    | 217   | B     | 22.4  |\n",
       "| 36    | 1     | 165.4 | 55.40 | 22.0  | 64    | 119   | 23.8  | 21.0  | 27    | 153   | B     | 20.3  |\n",
       "\n"
      ],
      "text/plain": [
       "  나이 성별 키_cm 몸무게_kg 체지방율 이완기혈압_min 수축기혈압_분 악력\n",
       "1 27   0    172.3 75.24     21.3     80             130           54.9\n",
       "2 25   0    165.0 55.80     15.7     77             126           36.4\n",
       "3 31   0    179.6 78.00     20.1     92             152           44.8\n",
       "4 32   0    174.5 71.10     18.4     76             147           41.4\n",
       "5 28   0    173.8 67.70     17.1     70             127           43.5\n",
       "6 36   1    165.4 55.40     22.0     64             119           23.8\n",
       "  앉아서앞으로구부리기_cm 윗몸일으키기 멀리뛰기 등급 bmi \n",
       "1 18.4                    60           217      C    25.3\n",
       "2 16.3                    53           229      A    20.5\n",
       "3 12.0                    49           181      C    24.2\n",
       "4 15.2                    53           219      B    23.3\n",
       "5 27.1                    45           217      B    22.4\n",
       "6 21.0                    27           153      B    20.3"
      ]
     },
     "metadata": {},
     "output_type": "display_data"
    }
   ],
   "source": [
    "bodyPerformance$bmi <- round(bodyPerformance$몸무게_kg / (bodyPerformance$키_cm * bodyPerformance$키_cm / 10000),1)\n",
    "head(bodyPerformance)"
   ]
  },
  {
   "cell_type": "code",
   "execution_count": 37,
   "id": "86ba2877",
   "metadata": {},
   "outputs": [],
   "source": [
    "bodyPerformance$체지방율 <- ifelse(bodyPerformance$체지방율 <18.5,'1',\n",
    "                  ifelse(bodyPerformance$체지방율 >= 18.5 & bodyPerformance$체지방율 <=22.9 ,'2',\n",
    "                  ifelse(bodyPerformance$체지방율 >=23 & bodyPerformance$체지방율 <=24.9,'3',\n",
    "                  ifelse(bodyPerformance$체지방율 >=25 & bodyPerformance$체지방율 <=29.9,'4',\n",
    "                  ifelse(bodyPerformance$체지방율 >=30 & bodyPerformance$체지방율 <=34.9,'5','6'\n",
    "                  )))))"
   ]
  },
  {
   "cell_type": "code",
   "execution_count": 39,
   "id": "8dde86dd",
   "metadata": {
    "scrolled": true
   },
   "outputs": [
    {
     "name": "stdout",
     "output_type": "stream",
     "text": [
      "'data.frame':\t13393 obs. of  13 variables:\n",
      " $ 나이                   : int  27 25 31 32 28 36 42 33 54 28 ...\n",
      " $ 성별                   : num  0 0 0 0 0 1 1 0 0 0 ...\n",
      " $ 키_cm                  : num  172 165 180 174 174 ...\n",
      " $ 몸무게_kg              : num  75.2 55.8 78 71.1 67.7 ...\n",
      " $ 체지방율               : num  2 1 2 1 1 2 5 6 4 1 ...\n",
      " $ 이완기혈압_min         : num  80 77 92 76 70 64 72 84 85 81 ...\n",
      " $ 수축기혈압_분          : num  130 126 152 147 127 119 135 137 165 156 ...\n",
      " $ 악력                   : num  54.9 36.4 44.8 41.4 43.5 23.8 22.7 45.9 40.4 57.9 ...\n",
      " $ 앉아서앞으로구부리기_cm: num  18.4 16.3 12 15.2 27.1 21 0.8 12.3 18.6 12.1 ...\n",
      " $ 윗몸일으키기           : num  60 53 49 53 45 27 18 42 34 55 ...\n",
      " $ 멀리뛰기               : num  217 229 181 219 217 153 146 234 148 213 ...\n",
      " $ 등급                   : Factor w/ 4 levels \"A\",\"B\",\"C\",\"D\": 3 1 3 2 2 2 4 2 3 2 ...\n",
      " $ bmi                    : chr  \"4\" \"2\" \"3\" \"3\" ...\n"
     ]
    }
   ],
   "source": [
    "bodyPerformance$체지방율 <- as.numeric(bodyPerformance$체지방율)\n",
    "str(bodyPerformance)"
   ]
  },
  {
   "cell_type": "code",
   "execution_count": 41,
   "id": "894ce2bc",
   "metadata": {
    "scrolled": false
   },
   "outputs": [
    {
     "data": {
      "text/html": [
       "<table>\n",
       "<thead><tr><th scope=col>나이</th><th scope=col>성별</th><th scope=col>키_cm</th><th scope=col>몸무게_kg</th><th scope=col>체지방율</th><th scope=col>이완기혈압_min</th><th scope=col>수축기혈압_분</th><th scope=col>악력</th><th scope=col>앉아서앞으로구부리기_cm</th><th scope=col>윗몸일으키기</th><th scope=col>멀리뛰기</th><th scope=col>등급</th><th scope=col>bmi</th></tr></thead>\n",
       "<tbody>\n",
       "\t<tr><td>27   </td><td>0    </td><td>172.3</td><td>75.24</td><td>2    </td><td>80   </td><td>130  </td><td>54.9 </td><td>18.4 </td><td>60   </td><td>217  </td><td>C    </td><td>4    </td></tr>\n",
       "\t<tr><td>25   </td><td>0    </td><td>165.0</td><td>55.80</td><td>1    </td><td>77   </td><td>126  </td><td>36.4 </td><td>16.3 </td><td>53   </td><td>229  </td><td>A    </td><td>2    </td></tr>\n",
       "\t<tr><td>31   </td><td>0    </td><td>179.6</td><td>78.00</td><td>2    </td><td>92   </td><td>152  </td><td>44.8 </td><td>12.0 </td><td>49   </td><td>181  </td><td>C    </td><td>3    </td></tr>\n",
       "\t<tr><td>32   </td><td>0    </td><td>174.5</td><td>71.10</td><td>1    </td><td>76   </td><td>147  </td><td>41.4 </td><td>15.2 </td><td>53   </td><td>219  </td><td>B    </td><td>3    </td></tr>\n",
       "\t<tr><td>28   </td><td>0    </td><td>173.8</td><td>67.70</td><td>1    </td><td>70   </td><td>127  </td><td>43.5 </td><td>27.1 </td><td>45   </td><td>217  </td><td>B    </td><td>2    </td></tr>\n",
       "\t<tr><td>36   </td><td>1    </td><td>165.4</td><td>55.40</td><td>2    </td><td>64   </td><td>119  </td><td>23.8 </td><td>21.0 </td><td>27   </td><td>153  </td><td>B    </td><td>2    </td></tr>\n",
       "</tbody>\n",
       "</table>\n"
      ],
      "text/latex": [
       "\\begin{tabular}{r|lllllllllllll}\n",
       " 나이 & 성별 & 키\\_cm & 몸무게\\_kg & 체지방율 & 이완기혈압\\_min & 수축기혈압\\_분 & 악력 & 앉아서앞으로구부리기\\_cm & 윗몸일으키기 & 멀리뛰기 & 등급 & bmi\\\\\n",
       "\\hline\n",
       "\t 27    & 0     & 172.3 & 75.24 & 2     & 80    & 130   & 54.9  & 18.4  & 60    & 217   & C     & 4    \\\\\n",
       "\t 25    & 0     & 165.0 & 55.80 & 1     & 77    & 126   & 36.4  & 16.3  & 53    & 229   & A     & 2    \\\\\n",
       "\t 31    & 0     & 179.6 & 78.00 & 2     & 92    & 152   & 44.8  & 12.0  & 49    & 181   & C     & 3    \\\\\n",
       "\t 32    & 0     & 174.5 & 71.10 & 1     & 76    & 147   & 41.4  & 15.2  & 53    & 219   & B     & 3    \\\\\n",
       "\t 28    & 0     & 173.8 & 67.70 & 1     & 70    & 127   & 43.5  & 27.1  & 45    & 217   & B     & 2    \\\\\n",
       "\t 36    & 1     & 165.4 & 55.40 & 2     & 64    & 119   & 23.8  & 21.0  & 27    & 153   & B     & 2    \\\\\n",
       "\\end{tabular}\n"
      ],
      "text/markdown": [
       "\n",
       "| 나이 | 성별 | 키_cm | 몸무게_kg | 체지방율 | 이완기혈압_min | 수축기혈압_분 | 악력 | 앉아서앞으로구부리기_cm | 윗몸일으키기 | 멀리뛰기 | 등급 | bmi |\n",
       "|---|---|---|---|---|---|---|---|---|---|---|---|---|\n",
       "| 27    | 0     | 172.3 | 75.24 | 2     | 80    | 130   | 54.9  | 18.4  | 60    | 217   | C     | 4     |\n",
       "| 25    | 0     | 165.0 | 55.80 | 1     | 77    | 126   | 36.4  | 16.3  | 53    | 229   | A     | 2     |\n",
       "| 31    | 0     | 179.6 | 78.00 | 2     | 92    | 152   | 44.8  | 12.0  | 49    | 181   | C     | 3     |\n",
       "| 32    | 0     | 174.5 | 71.10 | 1     | 76    | 147   | 41.4  | 15.2  | 53    | 219   | B     | 3     |\n",
       "| 28    | 0     | 173.8 | 67.70 | 1     | 70    | 127   | 43.5  | 27.1  | 45    | 217   | B     | 2     |\n",
       "| 36    | 1     | 165.4 | 55.40 | 2     | 64    | 119   | 23.8  | 21.0  | 27    | 153   | B     | 2     |\n",
       "\n"
      ],
      "text/plain": [
       "  나이 성별 키_cm 몸무게_kg 체지방율 이완기혈압_min 수축기혈압_분 악력\n",
       "1 27   0    172.3 75.24     2        80             130           54.9\n",
       "2 25   0    165.0 55.80     1        77             126           36.4\n",
       "3 31   0    179.6 78.00     2        92             152           44.8\n",
       "4 32   0    174.5 71.10     1        76             147           41.4\n",
       "5 28   0    173.8 67.70     1        70             127           43.5\n",
       "6 36   1    165.4 55.40     2        64             119           23.8\n",
       "  앉아서앞으로구부리기_cm 윗몸일으키기 멀리뛰기 등급 bmi\n",
       "1 18.4                    60           217      C    4  \n",
       "2 16.3                    53           229      A    2  \n",
       "3 12.0                    49           181      C    3  \n",
       "4 15.2                    53           219      B    3  \n",
       "5 27.1                    45           217      B    2  \n",
       "6 21.0                    27           153      B    2  "
      ]
     },
     "metadata": {},
     "output_type": "display_data"
    }
   ],
   "source": [
    "head(bodyPerformance)\n"
   ]
  },
  {
   "cell_type": "code",
   "execution_count": 42,
   "id": "c6933ce5",
   "metadata": {},
   "outputs": [],
   "source": [
    "체지방율 <- bodyPerformance[,c(5,12)]\n",
    "체지방율 <- arrange(체지방율,등급)\n"
   ]
  },
  {
   "cell_type": "code",
   "execution_count": 43,
   "id": "101074c3",
   "metadata": {},
   "outputs": [],
   "source": [
    "등급별체지방율<- table(체지방율$체지방율, 체지방율$등급)"
   ]
  },
  {
   "cell_type": "code",
   "execution_count": 44,
   "id": "8ab7546f",
   "metadata": {
    "scrolled": false
   },
   "outputs": [
    {
     "data": {
      "image/png": "[encoded data removed]",
      "text/plain": [
       "Plot with title “등급별 체지방율”"
      ]
     },
     "metadata": {},
     "output_type": "display_data"
    }
   ],
   "source": [
    "par(family =\"AppleGothic\")\n",
    "options(warn= -1)\n",
    "barplot(등급별체지방율,\n",
    "       ylim= c(0,3500),\n",
    "       main = \"등급별 체지방율\",\n",
    "       xlab = \"등급\",\n",
    "       ylab = \"인원수\",\n",
    "       col = rainbow(6)\n",
    "       )"
   ]
  },
  {
   "cell_type": "code",
   "execution_count": null,
   "id": "986304fb",
   "metadata": {},
   "outputs": [],
   "source": []
  },
  {
   "cell_type": "code",
   "execution_count": null,
   "id": "b6f29bdc",
   "metadata": {},
   "outputs": [],
   "source": []
  }
 ],
 "metadata": {
  "kernelspec": {
   "display_name": "R",
   "language": "R",
   "name": "ir"
  },
  "language_info": {
   "codemirror_mode": "r",
   "file_extension": ".r",
   "mimetype": "text/x-r-source",
   "name": "R",
   "pygments_lexer": "r",
   "version": "3.6.1"
  }
 },
 "nbformat": 4,
 "nbformat_minor": 5
}
