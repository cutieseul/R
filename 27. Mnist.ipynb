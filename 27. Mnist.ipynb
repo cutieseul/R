{
 "cells": [
  {
   "cell_type": "code",
   "execution_count": 6,
   "id": "bad81fac",
   "metadata": {},
   "outputs": [
    {
     "data": {
      "text/html": [
       "<table>\n",
       "<thead><tr><th scope=col>V1</th><th scope=col>V2</th><th scope=col>V3</th><th scope=col>V4</th><th scope=col>V5</th><th scope=col>V6</th><th scope=col>V7</th><th scope=col>V8</th><th scope=col>V9</th><th scope=col>V10</th><th scope=col>...</th><th scope=col>V776</th><th scope=col>V777</th><th scope=col>V778</th><th scope=col>V779</th><th scope=col>V780</th><th scope=col>V781</th><th scope=col>V782</th><th scope=col>V783</th><th scope=col>V784</th><th scope=col>V785</th></tr></thead>\n",
       "<tbody>\n",
       "\t<tr><td>5  </td><td>0  </td><td>0  </td><td>0  </td><td>0  </td><td>0  </td><td>0  </td><td>0  </td><td>0  </td><td>0  </td><td>...</td><td>0  </td><td>0  </td><td>0  </td><td>0  </td><td>0  </td><td>0  </td><td>0  </td><td>0  </td><td>0  </td><td>0  </td></tr>\n",
       "\t<tr><td>0  </td><td>0  </td><td>0  </td><td>0  </td><td>0  </td><td>0  </td><td>0  </td><td>0  </td><td>0  </td><td>0  </td><td>...</td><td>0  </td><td>0  </td><td>0  </td><td>0  </td><td>0  </td><td>0  </td><td>0  </td><td>0  </td><td>0  </td><td>0  </td></tr>\n",
       "\t<tr><td>4  </td><td>0  </td><td>0  </td><td>0  </td><td>0  </td><td>0  </td><td>0  </td><td>0  </td><td>0  </td><td>0  </td><td>...</td><td>0  </td><td>0  </td><td>0  </td><td>0  </td><td>0  </td><td>0  </td><td>0  </td><td>0  </td><td>0  </td><td>0  </td></tr>\n",
       "\t<tr><td>1  </td><td>0  </td><td>0  </td><td>0  </td><td>0  </td><td>0  </td><td>0  </td><td>0  </td><td>0  </td><td>0  </td><td>...</td><td>0  </td><td>0  </td><td>0  </td><td>0  </td><td>0  </td><td>0  </td><td>0  </td><td>0  </td><td>0  </td><td>0  </td></tr>\n",
       "\t<tr><td>9  </td><td>0  </td><td>0  </td><td>0  </td><td>0  </td><td>0  </td><td>0  </td><td>0  </td><td>0  </td><td>0  </td><td>...</td><td>0  </td><td>0  </td><td>0  </td><td>0  </td><td>0  </td><td>0  </td><td>0  </td><td>0  </td><td>0  </td><td>0  </td></tr>\n",
       "\t<tr><td>2  </td><td>0  </td><td>0  </td><td>0  </td><td>0  </td><td>0  </td><td>0  </td><td>0  </td><td>0  </td><td>0  </td><td>...</td><td>0  </td><td>0  </td><td>0  </td><td>0  </td><td>0  </td><td>0  </td><td>0  </td><td>0  </td><td>0  </td><td>0  </td></tr>\n",
       "</tbody>\n",
       "</table>\n"
      ],
      "text/latex": [
       "\\begin{tabular}{r|lllllllllllllllllllllllllllllllllllllllllllllllllllllllllllllllllllllllllllllllllllllllllllllllllllllllllllllllllllllllllllllllllllllllllllllllllllllllllllllllllllllllllllllllllllllllllllllllllllllllllllllllllllllllllllllllllllllllllllllllllllllllllllllllllllllllllllllllllllllllllllllllllllllllllllllllllllllllllllllllllllllllllllllllllllllllllllllllllllllllllllllllllllllllllllllllllllllllllllllllllllllllllllllllllllllllllllllllllllllllllllllllllllllllllllllllllllllllllllllllllllllllllllllllllllllllllllllllllllllllllllllllllllllllllllllllllllllllllllllllllllllllllllllllllllllllllllllllllllllllllllllllllllllllllllllllllllllllllllllllllllllllllllllllllllllllllllllllllllllllllllllllllllllllllllllllllllllllllllllllllllllllllllllllllllllllllllllllllllllllllllllllllllllllllllllllll}\n",
       " V1 & V2 & V3 & V4 & V5 & V6 & V7 & V8 & V9 & V10 & ... & V776 & V777 & V778 & V779 & V780 & V781 & V782 & V783 & V784 & V785\\\\\n",
       "\\hline\n",
       "\t 5   & 0   & 0   & 0   & 0   & 0   & 0   & 0   & 0   & 0   & ... & 0   & 0   & 0   & 0   & 0   & 0   & 0   & 0   & 0   & 0  \\\\\n",
       "\t 0   & 0   & 0   & 0   & 0   & 0   & 0   & 0   & 0   & 0   & ... & 0   & 0   & 0   & 0   & 0   & 0   & 0   & 0   & 0   & 0  \\\\\n",
       "\t 4   & 0   & 0   & 0   & 0   & 0   & 0   & 0   & 0   & 0   & ... & 0   & 0   & 0   & 0   & 0   & 0   & 0   & 0   & 0   & 0  \\\\\n",
       "\t 1   & 0   & 0   & 0   & 0   & 0   & 0   & 0   & 0   & 0   & ... & 0   & 0   & 0   & 0   & 0   & 0   & 0   & 0   & 0   & 0  \\\\\n",
       "\t 9   & 0   & 0   & 0   & 0   & 0   & 0   & 0   & 0   & 0   & ... & 0   & 0   & 0   & 0   & 0   & 0   & 0   & 0   & 0   & 0  \\\\\n",
       "\t 2   & 0   & 0   & 0   & 0   & 0   & 0   & 0   & 0   & 0   & ... & 0   & 0   & 0   & 0   & 0   & 0   & 0   & 0   & 0   & 0  \\\\\n",
       "\\end{tabular}\n"
      ],
      "text/markdown": [
       "\n",
       "| V1 | V2 | V3 | V4 | V5 | V6 | V7 | V8 | V9 | V10 | ... | V776 | V777 | V778 | V779 | V780 | V781 | V782 | V783 | V784 | V785 |\n",
       "|---|---|---|---|---|---|---|---|---|---|---|---|---|---|---|---|---|---|---|---|---|\n",
       "| 5   | 0   | 0   | 0   | 0   | 0   | 0   | 0   | 0   | 0   | ... | 0   | 0   | 0   | 0   | 0   | 0   | 0   | 0   | 0   | 0   |\n",
       "| 0   | 0   | 0   | 0   | 0   | 0   | 0   | 0   | 0   | 0   | ... | 0   | 0   | 0   | 0   | 0   | 0   | 0   | 0   | 0   | 0   |\n",
       "| 4   | 0   | 0   | 0   | 0   | 0   | 0   | 0   | 0   | 0   | ... | 0   | 0   | 0   | 0   | 0   | 0   | 0   | 0   | 0   | 0   |\n",
       "| 1   | 0   | 0   | 0   | 0   | 0   | 0   | 0   | 0   | 0   | ... | 0   | 0   | 0   | 0   | 0   | 0   | 0   | 0   | 0   | 0   |\n",
       "| 9   | 0   | 0   | 0   | 0   | 0   | 0   | 0   | 0   | 0   | ... | 0   | 0   | 0   | 0   | 0   | 0   | 0   | 0   | 0   | 0   |\n",
       "| 2   | 0   | 0   | 0   | 0   | 0   | 0   | 0   | 0   | 0   | ... | 0   | 0   | 0   | 0   | 0   | 0   | 0   | 0   | 0   | 0   |\n",
       "\n"
      ],
      "text/plain": [
       "  V1 V2 V3 V4 V5 V6 V7 V8 V9 V10 ... V776 V777 V778 V779 V780 V781 V782 V783\n",
       "1 5  0  0  0  0  0  0  0  0  0   ... 0    0    0    0    0    0    0    0   \n",
       "2 0  0  0  0  0  0  0  0  0  0   ... 0    0    0    0    0    0    0    0   \n",
       "3 4  0  0  0  0  0  0  0  0  0   ... 0    0    0    0    0    0    0    0   \n",
       "4 1  0  0  0  0  0  0  0  0  0   ... 0    0    0    0    0    0    0    0   \n",
       "5 9  0  0  0  0  0  0  0  0  0   ... 0    0    0    0    0    0    0    0   \n",
       "6 2  0  0  0  0  0  0  0  0  0   ... 0    0    0    0    0    0    0    0   \n",
       "  V784 V785\n",
       "1 0    0   \n",
       "2 0    0   \n",
       "3 0    0   \n",
       "4 0    0   \n",
       "5 0    0   \n",
       "6 0    0   "
      ]
     },
     "metadata": {},
     "output_type": "display_data"
    }
   ],
   "source": [
    "# 손글씨 인식\n",
    "\n",
    "mnist <- read.csv(\"../Data/train_1k.csv\", header = F)\n",
    "head(mnist)"
   ]
  },
  {
   "cell_type": "code",
   "execution_count": 7,
   "id": "e1a1d348",
   "metadata": {
    "scrolled": true
   },
   "outputs": [
    {
     "name": "stdout",
     "output_type": "stream",
     "text": [
      "'data.frame':\t1001 obs. of  785 variables:\n",
      " $ V1  : int  5 0 4 1 9 2 1 3 1 4 ...\n",
      " $ V2  : int  0 0 0 0 0 0 0 0 0 0 ...\n",
      " $ V3  : int  0 0 0 0 0 0 0 0 0 0 ...\n",
      " $ V4  : int  0 0 0 0 0 0 0 0 0 0 ...\n",
      " $ V5  : int  0 0 0 0 0 0 0 0 0 0 ...\n",
      " $ V6  : int  0 0 0 0 0 0 0 0 0 0 ...\n",
      " $ V7  : int  0 0 0 0 0 0 0 0 0 0 ...\n",
      " $ V8  : int  0 0 0 0 0 0 0 0 0 0 ...\n",
      " $ V9  : int  0 0 0 0 0 0 0 0 0 0 ...\n",
      " $ V10 : int  0 0 0 0 0 0 0 0 0 0 ...\n",
      " $ V11 : int  0 0 0 0 0 0 0 0 0 0 ...\n",
      " $ V12 : int  0 0 0 0 0 0 0 0 0 0 ...\n",
      " $ V13 : int  0 0 0 0 0 0 0 0 0 0 ...\n",
      " $ V14 : int  0 0 0 0 0 0 0 0 0 0 ...\n",
      " $ V15 : int  0 0 0 0 0 0 0 0 0 0 ...\n",
      " $ V16 : int  0 0 0 0 0 0 0 0 0 0 ...\n",
      " $ V17 : int  0 0 0 0 0 0 0 0 0 0 ...\n",
      " $ V18 : int  0 0 0 0 0 0 0 0 0 0 ...\n",
      " $ V19 : int  0 0 0 0 0 0 0 0 0 0 ...\n",
      " $ V20 : int  0 0 0 0 0 0 0 0 0 0 ...\n",
      " $ V21 : int  0 0 0 0 0 0 0 0 0 0 ...\n",
      " $ V22 : int  0 0 0 0 0 0 0 0 0 0 ...\n",
      " $ V23 : int  0 0 0 0 0 0 0 0 0 0 ...\n",
      " $ V24 : int  0 0 0 0 0 0 0 0 0 0 ...\n",
      " $ V25 : int  0 0 0 0 0 0 0 0 0 0 ...\n",
      " $ V26 : int  0 0 0 0 0 0 0 0 0 0 ...\n",
      " $ V27 : int  0 0 0 0 0 0 0 0 0 0 ...\n",
      " $ V28 : int  0 0 0 0 0 0 0 0 0 0 ...\n",
      " $ V29 : int  0 0 0 0 0 0 0 0 0 0 ...\n",
      " $ V30 : int  0 0 0 0 0 0 0 0 0 0 ...\n",
      " $ V31 : int  0 0 0 0 0 0 0 0 0 0 ...\n",
      " $ V32 : int  0 0 0 0 0 0 0 0 0 0 ...\n",
      " $ V33 : int  0 0 0 0 0 0 0 0 0 0 ...\n",
      " $ V34 : int  0 0 0 0 0 0 0 0 0 0 ...\n",
      " $ V35 : int  0 0 0 0 0 0 0 0 0 0 ...\n",
      " $ V36 : int  0 0 0 0 0 0 0 0 0 0 ...\n",
      " $ V37 : int  0 0 0 0 0 0 0 0 0 0 ...\n",
      " $ V38 : int  0 0 0 0 0 0 0 0 0 0 ...\n",
      " $ V39 : int  0 0 0 0 0 0 0 0 0 0 ...\n",
      " $ V40 : int  0 0 0 0 0 0 0 0 0 0 ...\n",
      " $ V41 : int  0 0 0 0 0 0 0 0 0 0 ...\n",
      " $ V42 : int  0 0 0 0 0 0 0 0 0 0 ...\n",
      " $ V43 : int  0 0 0 0 0 0 0 0 0 0 ...\n",
      " $ V44 : int  0 0 0 0 0 0 0 0 0 0 ...\n",
      " $ V45 : int  0 0 0 0 0 0 0 0 0 0 ...\n",
      " $ V46 : int  0 0 0 0 0 0 0 0 0 0 ...\n",
      " $ V47 : int  0 0 0 0 0 0 0 0 0 0 ...\n",
      " $ V48 : int  0 0 0 0 0 0 0 0 0 0 ...\n",
      " $ V49 : int  0 0 0 0 0 0 0 0 0 0 ...\n",
      " $ V50 : int  0 0 0 0 0 0 0 0 0 0 ...\n",
      " $ V51 : int  0 0 0 0 0 0 0 0 0 0 ...\n",
      " $ V52 : int  0 0 0 0 0 0 0 0 0 0 ...\n",
      " $ V53 : int  0 0 0 0 0 0 0 0 0 0 ...\n",
      " $ V54 : int  0 0 0 0 0 0 0 0 0 0 ...\n",
      " $ V55 : int  0 0 0 0 0 0 0 0 0 0 ...\n",
      " $ V56 : int  0 0 0 0 0 0 0 0 0 0 ...\n",
      " $ V57 : int  0 0 0 0 0 0 0 0 0 0 ...\n",
      " $ V58 : int  0 0 0 0 0 0 0 0 0 0 ...\n",
      " $ V59 : int  0 0 0 0 0 0 0 0 0 0 ...\n",
      " $ V60 : int  0 0 0 0 0 0 0 0 0 0 ...\n",
      " $ V61 : int  0 0 0 0 0 0 0 0 0 0 ...\n",
      " $ V62 : int  0 0 0 0 0 0 0 0 0 0 ...\n",
      " $ V63 : int  0 0 0 0 0 0 0 0 0 0 ...\n",
      " $ V64 : int  0 0 0 0 0 0 0 0 0 0 ...\n",
      " $ V65 : int  0 0 0 0 0 0 0 0 0 0 ...\n",
      " $ V66 : int  0 0 0 0 0 0 0 0 0 0 ...\n",
      " $ V67 : int  0 0 0 0 0 0 0 0 0 0 ...\n",
      " $ V68 : int  0 0 0 0 0 0 0 0 0 0 ...\n",
      " $ V69 : int  0 0 0 0 0 0 0 0 0 0 ...\n",
      " $ V70 : int  0 0 0 0 0 0 0 0 0 0 ...\n",
      " $ V71 : int  0 0 0 0 0 0 0 0 0 0 ...\n",
      " $ V72 : int  0 0 0 0 0 0 0 0 0 0 ...\n",
      " $ V73 : int  0 0 0 0 0 0 0 0 0 0 ...\n",
      " $ V74 : int  0 0 0 0 0 0 0 0 0 0 ...\n",
      " $ V75 : int  0 0 0 0 0 0 0 0 0 0 ...\n",
      " $ V76 : int  0 0 0 0 0 0 0 0 0 0 ...\n",
      " $ V77 : int  0 0 0 0 0 0 0 0 0 0 ...\n",
      " $ V78 : int  0 0 0 0 0 0 0 0 0 0 ...\n",
      " $ V79 : int  0 0 0 0 0 0 0 0 0 0 ...\n",
      " $ V80 : int  0 0 0 0 0 0 0 0 0 0 ...\n",
      " $ V81 : int  0 0 0 0 0 0 0 0 0 0 ...\n",
      " $ V82 : int  0 0 0 0 0 0 0 0 0 0 ...\n",
      " $ V83 : int  0 0 0 0 0 0 0 0 0 0 ...\n",
      " $ V84 : int  0 0 0 0 0 0 0 0 0 0 ...\n",
      " $ V85 : int  0 0 0 0 0 0 0 0 0 0 ...\n",
      " $ V86 : int  0 0 0 0 0 0 0 0 0 0 ...\n",
      " $ V87 : int  0 0 0 0 0 0 0 0 0 0 ...\n",
      " $ V88 : int  0 0 0 0 0 0 0 0 0 0 ...\n",
      " $ V89 : int  0 0 0 0 0 0 0 0 0 0 ...\n",
      " $ V90 : int  0 0 0 0 0 0 0 0 0 0 ...\n",
      " $ V91 : int  0 0 0 0 0 0 0 0 0 0 ...\n",
      " $ V92 : int  0 0 0 0 0 0 0 0 0 0 ...\n",
      " $ V93 : int  0 0 0 0 0 0 0 0 0 0 ...\n",
      " $ V94 : int  0 0 0 0 0 0 0 0 0 0 ...\n",
      " $ V95 : int  0 0 0 0 0 0 0 0 0 0 ...\n",
      " $ V96 : int  0 0 0 0 0 0 0 0 0 0 ...\n",
      " $ V97 : int  0 0 0 0 0 0 0 0 0 0 ...\n",
      " $ V98 : int  0 0 0 0 0 0 0 0 0 0 ...\n",
      " $ V99 : int  0 0 0 0 0 0 0 0 0 0 ...\n",
      "  [list output truncated]\n"
     ]
    }
   ],
   "source": [
    "str(mnist)"
   ]
  },
  {
   "cell_type": "code",
   "execution_count": 9,
   "id": "1bb4eae5",
   "metadata": {
    "scrolled": true
   },
   "outputs": [
    {
     "name": "stdout",
     "output_type": "stream",
     "text": [
      "'data.frame':\t1001 obs. of  51 variables:\n",
      " $ V100: int  0 0 0 0 0 0 0 0 0 0 ...\n",
      " $ V101: int  0 0 0 0 0 0 0 0 0 0 ...\n",
      " $ V102: int  0 0 0 0 0 0 0 0 0 0 ...\n",
      " $ V103: int  0 0 0 0 0 0 0 0 0 0 ...\n",
      " $ V104: int  0 0 0 0 0 0 0 0 0 0 ...\n",
      " $ V105: int  0 0 0 0 0 0 0 0 0 0 ...\n",
      " $ V106: int  0 0 0 0 0 0 0 0 0 0 ...\n",
      " $ V107: int  0 0 0 0 0 0 0 0 0 0 ...\n",
      " $ V108: int  0 0 0 0 0 0 0 0 0 0 ...\n",
      " $ V109: int  0 0 0 0 0 0 0 0 0 0 ...\n",
      " $ V110: int  0 0 0 0 0 0 0 0 0 0 ...\n",
      " $ V111: int  0 0 0 0 0 0 0 0 0 0 ...\n",
      " $ V112: int  0 0 0 0 0 0 0 0 0 0 ...\n",
      " $ V113: int  0 0 0 0 0 0 0 0 0 0 ...\n",
      " $ V114: int  0 0 0 0 0 0 0 0 0 0 ...\n",
      " $ V115: int  0 0 0 0 0 0 0 0 0 0 ...\n",
      " $ V116: int  0 0 0 0 0 0 0 0 0 0 ...\n",
      " $ V117: int  0 0 0 0 0 0 0 0 0 0 ...\n",
      " $ V118: int  0 0 0 0 0 0 0 0 0 0 ...\n",
      " $ V119: int  0 0 0 0 0 0 0 0 0 0 ...\n",
      " $ V120: int  0 0 0 0 0 0 0 0 0 0 ...\n",
      " $ V121: int  0 0 0 0 0 0 0 0 0 0 ...\n",
      " $ V122: int  0 0 0 0 0 0 0 0 0 0 ...\n",
      " $ V123: int  0 0 0 0 0 0 0 0 0 0 ...\n",
      " $ V124: int  0 0 0 0 0 0 0 0 0 0 ...\n",
      " $ V125: int  0 0 0 0 0 0 0 0 0 0 ...\n",
      " $ V126: int  0 0 0 0 0 0 145 0 0 0 ...\n",
      " $ V127: int  0 0 0 0 0 0 255 0 0 0 ...\n",
      " $ V128: int  0 0 0 0 0 0 211 0 0 0 ...\n",
      " $ V129: int  0 51 0 0 0 0 31 0 0 0 ...\n",
      " $ V130: int  0 159 0 0 0 0 0 0 0 0 ...\n",
      " $ V131: int  0 253 0 0 0 0 0 0 0 0 ...\n",
      " $ V132: int  0 159 0 0 0 0 0 0 0 0 ...\n",
      " $ V133: int  0 50 0 0 0 0 0 0 0 0 ...\n",
      " $ V134: int  0 0 0 0 0 0 0 0 0 0 ...\n",
      " $ V135: int  0 0 0 0 0 0 0 0 0 0 ...\n",
      " $ V136: int  0 0 0 0 0 0 0 0 0 189 ...\n",
      " $ V137: int  0 0 0 0 0 0 0 0 0 190 ...\n",
      " $ V138: int  0 0 0 0 0 0 0 0 0 0 ...\n",
      " $ V139: int  0 0 0 0 0 0 0 0 0 0 ...\n",
      " $ V140: int  0 0 0 0 0 0 0 0 0 0 ...\n",
      " $ V141: int  0 0 0 0 0 0 0 0 0 0 ...\n",
      " $ V142: int  0 0 0 0 0 0 0 0 0 0 ...\n",
      " $ V143: int  0 0 0 0 0 0 0 0 0 0 ...\n",
      " $ V144: int  0 0 0 0 0 0 0 0 0 0 ...\n",
      " $ V145: int  0 0 0 0 0 0 0 0 0 0 ...\n",
      " $ V146: int  0 0 0 0 0 0 0 0 0 0 ...\n",
      " $ V147: int  0 0 0 0 0 0 0 0 0 0 ...\n",
      " $ V148: int  0 0 0 0 0 0 0 0 0 0 ...\n",
      " $ V149: int  0 0 0 0 0 0 0 0 0 0 ...\n",
      " $ V150: int  0 0 0 0 0 0 0 0 0 0 ...\n"
     ]
    }
   ],
   "source": [
    "str(mnist[,100:150])\n",
    "# 0말고 다른 숫자가 보임"
   ]
  },
  {
   "cell_type": "code",
   "execution_count": 10,
   "id": "e258ca5d",
   "metadata": {},
   "outputs": [],
   "source": [
    "# V1이 정답임\n",
    "# 28*28=784\n"
   ]
  },
  {
   "cell_type": "code",
   "execution_count": 11,
   "id": "c91f7387",
   "metadata": {},
   "outputs": [
    {
     "data": {
      "text/html": [
       "28"
      ],
      "text/latex": [
       "28"
      ],
      "text/markdown": [
       "28"
      ],
      "text/plain": [
       "[1] 28"
      ]
     },
     "metadata": {},
     "output_type": "display_data"
    }
   ],
   "source": [
    "sqrt(784)"
   ]
  },
  {
   "cell_type": "code",
   "execution_count": 13,
   "id": "df3594f9",
   "metadata": {},
   "outputs": [
    {
     "name": "stdout",
     "output_type": "stream",
     "text": [
      "                            \n",
      "                            \n",
      "                            \n",
      "                            \n",
      "                            \n",
      "                            \n",
      "                            \n",
      "            *********       \n",
      "           **********       \n",
      "         ************       \n",
      "         *****  *****       \n",
      "        *****   ****        \n",
      "       *****  *****         \n",
      "      ****   ******         \n",
      "      ************          \n",
      "      ***********           \n",
      "       **********           \n",
      "             ****           \n",
      "             ****           \n",
      "              ***           \n",
      "             ****           \n",
      "             ****           \n",
      "             ****           \n",
      "              ***           \n",
      "              ****          \n",
      "              *****         \n",
      "               ****         \n",
      "                            \n"
     ]
    }
   ],
   "source": [
    "# Data 내용 확인하기\n",
    "num1 = seq(2, 785, 28)\n",
    "num2 = seq(29, 785, 28)\n",
    "\n",
    "# 출력하다가 28개 지나면 다음줄 넘어가야함\n",
    "cnt = 0 \n",
    "\n",
    "for(j in 1:28){\n",
    "    n1 = as.numeric(num1[j])\n",
    "    n2 = as.numeric(num2[j])\n",
    "    for(i in seq(n1, n2, 1)){\n",
    "        if(mnist[5,i] != 0){\n",
    "            cat(\"*\")\n",
    "        }else{\n",
    "            cat(\" \")\n",
    "        }\n",
    "        cnt = cnt + 1\n",
    "        if(cnt > 27){\n",
    "            cat(\"\\n\")\n",
    "            cnt = 0\n",
    "        }\n",
    "    }\n",
    "}"
   ]
  },
  {
   "cell_type": "code",
   "execution_count": 18,
   "id": "df974393",
   "metadata": {},
   "outputs": [],
   "source": [
    "# 숫자 순서대로 정렬하기\n",
    "library(dplyr)\n",
    "mnist <- arrange(mnist,V1)"
   ]
  },
  {
   "cell_type": "code",
   "execution_count": 21,
   "id": "6a81fdfe",
   "metadata": {},
   "outputs": [
    {
     "data": {
      "text/plain": [
       "\n",
       "  0   1   2   3   4   5   6   7   8   9 \n",
       " 98 116  99  93 105  92  94 117  87 100 "
      ]
     },
     "metadata": {},
     "output_type": "display_data"
    }
   ],
   "source": [
    "# 0~9가 몇개씩 \n",
    "\n",
    "table(mnist$V1)"
   ]
  },
  {
   "cell_type": "code",
   "execution_count": 24,
   "id": "54001ada",
   "metadata": {},
   "outputs": [],
   "source": [
    "# V1을 factor로 변경\n",
    "\n",
    "mnist$V1 <- as.factor(mnist$V1)"
   ]
  },
  {
   "cell_type": "code",
   "execution_count": 35,
   "id": "79910975",
   "metadata": {},
   "outputs": [],
   "source": [
    "library(nnet)\n",
    "library(party)\n",
    "library(caret)\n",
    "library(party)\n",
    "library(randomForest)\n",
    "library(e1071)\n",
    "options(warn=-1)"
   ]
  },
  {
   "cell_type": "code",
   "execution_count": 36,
   "id": "f7ccb0f0",
   "metadata": {},
   "outputs": [],
   "source": [
    "\n",
    "# Sampling\n",
    "set.seed(1234)\n",
    "samp <- createDataPartition(mnist$V1, p=0.7, list=F)\n",
    "\n",
    "# 학습용 데이터 만들기\n",
    "data.tr <- mnist[samp,]\n",
    "# 검증용 데이터 만들기\n",
    "data.test <- mnist[-samp,]\n",
    "# 문제 및 정답 만들기\n",
    "x <- subset(data.test, select = -V1)\n",
    "y <- data.test$V1\n"
   ]
  },
  {
   "cell_type": "code",
   "execution_count": 42,
   "id": "428c92de",
   "metadata": {},
   "outputs": [
    {
     "ename": "ERROR",
     "evalue": "Error in nnet.default(X, Y, w, mask = mask, size = 0, skip = TRUE, softmax = TRUE, : too many (7860) weights\n",
     "output_type": "error",
     "traceback": [
      "Error in nnet.default(X, Y, w, mask = mask, size = 0, skip = TRUE, softmax = TRUE, : too many (7860) weights\nTraceback:\n",
      "1. multinom(V1 ~ ., data = mnist)",
      "2. nnet.default(X, Y, w, mask = mask, size = 0, skip = TRUE, softmax = TRUE, \n .     censored = censored, rang = 0, ...)",
      "3. stop(gettextf(\"too many (%d) weights\", nwts), domain = NA)"
     ]
    }
   ],
   "source": [
    "# 로지스틱회귀분석\n",
    "model <- multinom(V1 ~ .,data=mnist)\n",
    "\n",
    "pred <- predict(model, x)\n",
    "# 예측률\n",
    "mean(pred ==y)"
   ]
  },
  {
   "cell_type": "code",
   "execution_count": 53,
   "id": "c6183697",
   "metadata": {},
   "outputs": [
    {
     "data": {
      "text/html": [
       "0.192567567567568"
      ],
      "text/latex": [
       "0.192567567567568"
      ],
      "text/markdown": [
       "0.192567567567568"
      ],
      "text/plain": [
       "[1] 0.1925676"
      ]
     },
     "metadata": {},
     "output_type": "display_data"
    },
    {
     "data": {
      "text/plain": [
       "    y\n",
       "pred  0  1  2  3  4  5  6  7  8  9\n",
       "   0  0  0  0  0  0  0  0  0  0  0\n",
       "   1  0 22  0  0  0  0  0  0  0  0\n",
       "   2  0  0  0  0  0  0  0  0  0  0\n",
       "   3  0  0  0  0  0  0  0  0  0  0\n",
       "   4  0  0  0  0  0  0  0  0  0  0\n",
       "   5  0  0  0  0  0  0  0  0  0  0\n",
       "   6  0  0  0  0  0  0  0  0  0  0\n",
       "   7 29 12 29 27 31 27 28 35 26 30\n",
       "   8  0  0  0  0  0  0  0  0  0  0\n",
       "   9  0  0  0  0  0  0  0  0  0  0"
      ]
     },
     "metadata": {},
     "output_type": "display_data"
    }
   ],
   "source": [
    "# svm\n",
    "model.svm = svm(V1 ~ ., data=data.tr)\n",
    "    # 검증하기\n",
    "    pred <- predict(model.svm, x)\n",
    "    # 예측률 \n",
    "    mean(pred ==y)\n",
    "table(pred,y)"
   ]
  },
  {
   "cell_type": "code",
   "execution_count": 50,
   "id": "b0842250",
   "metadata": {},
   "outputs": [
    {
     "data": {
      "text/html": [
       "0.875"
      ],
      "text/latex": [
       "0.875"
      ],
      "text/markdown": [
       "0.875"
      ],
      "text/plain": [
       "[1] 0.875"
      ]
     },
     "metadata": {},
     "output_type": "display_data"
    }
   ],
   "source": [
    "# randomForest\n",
    "model.rf <- randomForest(V1 ~ ., data = data.tr , ntree=100)\n",
    "\n",
    "# 검증하기\n",
    "pred <- predict(model.rf, x)    \n",
    "# 예측률 \n",
    "mean(pred ==y)"
   ]
  },
  {
   "cell_type": "code",
   "execution_count": 51,
   "id": "92515dee",
   "metadata": {},
   "outputs": [
    {
     "data": {
      "text/html": [
       "0.567567567567568"
      ],
      "text/latex": [
       "0.567567567567568"
      ],
      "text/markdown": [
       "0.567567567567568"
      ],
      "text/plain": [
       "[1] 0.5675676"
      ]
     },
     "metadata": {},
     "output_type": "display_data"
    }
   ],
   "source": [
    "# 의사결정나무\n",
    "model.ctree <- ctree(V1 ~ ., data=data.tr)\n",
    "    \n",
    "# 검증하기\n",
    "pred <- predict(model.ctree, x)\n",
    "    \n",
    "# 예측률 \n",
    "mean(pred ==y)"
   ]
  },
  {
   "cell_type": "code",
   "execution_count": 47,
   "id": "90b72b93",
   "metadata": {},
   "outputs": [
    {
     "data": {
      "text/html": [
       "<table>\n",
       "<thead><tr><th scope=col>V1</th><th scope=col>V2</th><th scope=col>V3</th><th scope=col>V4</th><th scope=col>V5</th><th scope=col>V6</th><th scope=col>V7</th><th scope=col>V8</th><th scope=col>V9</th><th scope=col>V10</th><th scope=col>...</th><th scope=col>V776</th><th scope=col>V777</th><th scope=col>V778</th><th scope=col>V779</th><th scope=col>V780</th><th scope=col>V781</th><th scope=col>V782</th><th scope=col>V783</th><th scope=col>V784</th><th scope=col>V785</th></tr></thead>\n",
       "<tbody>\n",
       "\t<tr><td>5  </td><td>0  </td><td>0  </td><td>0  </td><td>0  </td><td>0  </td><td>0  </td><td>0  </td><td>0  </td><td>0  </td><td>...</td><td>0  </td><td>0  </td><td>0  </td><td>0  </td><td>0  </td><td>0  </td><td>0  </td><td>0  </td><td>0  </td><td>0  </td></tr>\n",
       "\t<tr><td>0  </td><td>0  </td><td>0  </td><td>0  </td><td>0  </td><td>0  </td><td>0  </td><td>0  </td><td>0  </td><td>0  </td><td>...</td><td>0  </td><td>0  </td><td>0  </td><td>0  </td><td>0  </td><td>0  </td><td>0  </td><td>0  </td><td>0  </td><td>0  </td></tr>\n",
       "\t<tr><td>4  </td><td>0  </td><td>0  </td><td>0  </td><td>0  </td><td>0  </td><td>0  </td><td>0  </td><td>0  </td><td>0  </td><td>...</td><td>0  </td><td>0  </td><td>0  </td><td>0  </td><td>0  </td><td>0  </td><td>0  </td><td>0  </td><td>0  </td><td>0  </td></tr>\n",
       "\t<tr><td>1  </td><td>0  </td><td>0  </td><td>0  </td><td>0  </td><td>0  </td><td>0  </td><td>0  </td><td>0  </td><td>0  </td><td>...</td><td>0  </td><td>0  </td><td>0  </td><td>0  </td><td>0  </td><td>0  </td><td>0  </td><td>0  </td><td>0  </td><td>0  </td></tr>\n",
       "\t<tr><td>9  </td><td>0  </td><td>0  </td><td>0  </td><td>0  </td><td>0  </td><td>0  </td><td>0  </td><td>0  </td><td>0  </td><td>...</td><td>0  </td><td>0  </td><td>0  </td><td>0  </td><td>0  </td><td>0  </td><td>0  </td><td>0  </td><td>0  </td><td>0  </td></tr>\n",
       "\t<tr><td>2  </td><td>0  </td><td>0  </td><td>0  </td><td>0  </td><td>0  </td><td>0  </td><td>0  </td><td>0  </td><td>0  </td><td>...</td><td>0  </td><td>0  </td><td>0  </td><td>0  </td><td>0  </td><td>0  </td><td>0  </td><td>0  </td><td>0  </td><td>0  </td></tr>\n",
       "</tbody>\n",
       "</table>\n"
      ],
      "text/latex": [
       "\\begin{tabular}{r|lllllllllllllllllllllllllllllllllllllllllllllllllllllllllllllllllllllllllllllllllllllllllllllllllllllllllllllllllllllllllllllllllllllllllllllllllllllllllllllllllllllllllllllllllllllllllllllllllllllllllllllllllllllllllllllllllllllllllllllllllllllllllllllllllllllllllllllllllllllllllllllllllllllllllllllllllllllllllllllllllllllllllllllllllllllllllllllllllllllllllllllllllllllllllllllllllllllllllllllllllllllllllllllllllllllllllllllllllllllllllllllllllllllllllllllllllllllllllllllllllllllllllllllllllllllllllllllllllllllllllllllllllllllllllllllllllllllllllllllllllllllllllllllllllllllllllllllllllllllllllllllllllllllllllllllllllllllllllllllllllllllllllllllllllllllllllllllllllllllllllllllllllllllllllllllllllllllllllllllllllllllllllllllllllllllllllllllllllllllllllllllllllllllllllllllllll}\n",
       " V1 & V2 & V3 & V4 & V5 & V6 & V7 & V8 & V9 & V10 & ... & V776 & V777 & V778 & V779 & V780 & V781 & V782 & V783 & V784 & V785\\\\\n",
       "\\hline\n",
       "\t 5   & 0   & 0   & 0   & 0   & 0   & 0   & 0   & 0   & 0   & ... & 0   & 0   & 0   & 0   & 0   & 0   & 0   & 0   & 0   & 0  \\\\\n",
       "\t 0   & 0   & 0   & 0   & 0   & 0   & 0   & 0   & 0   & 0   & ... & 0   & 0   & 0   & 0   & 0   & 0   & 0   & 0   & 0   & 0  \\\\\n",
       "\t 4   & 0   & 0   & 0   & 0   & 0   & 0   & 0   & 0   & 0   & ... & 0   & 0   & 0   & 0   & 0   & 0   & 0   & 0   & 0   & 0  \\\\\n",
       "\t 1   & 0   & 0   & 0   & 0   & 0   & 0   & 0   & 0   & 0   & ... & 0   & 0   & 0   & 0   & 0   & 0   & 0   & 0   & 0   & 0  \\\\\n",
       "\t 9   & 0   & 0   & 0   & 0   & 0   & 0   & 0   & 0   & 0   & ... & 0   & 0   & 0   & 0   & 0   & 0   & 0   & 0   & 0   & 0  \\\\\n",
       "\t 2   & 0   & 0   & 0   & 0   & 0   & 0   & 0   & 0   & 0   & ... & 0   & 0   & 0   & 0   & 0   & 0   & 0   & 0   & 0   & 0  \\\\\n",
       "\\end{tabular}\n"
      ],
      "text/markdown": [
       "\n",
       "| V1 | V2 | V3 | V4 | V5 | V6 | V7 | V8 | V9 | V10 | ... | V776 | V777 | V778 | V779 | V780 | V781 | V782 | V783 | V784 | V785 |\n",
       "|---|---|---|---|---|---|---|---|---|---|---|---|---|---|---|---|---|---|---|---|---|\n",
       "| 5   | 0   | 0   | 0   | 0   | 0   | 0   | 0   | 0   | 0   | ... | 0   | 0   | 0   | 0   | 0   | 0   | 0   | 0   | 0   | 0   |\n",
       "| 0   | 0   | 0   | 0   | 0   | 0   | 0   | 0   | 0   | 0   | ... | 0   | 0   | 0   | 0   | 0   | 0   | 0   | 0   | 0   | 0   |\n",
       "| 4   | 0   | 0   | 0   | 0   | 0   | 0   | 0   | 0   | 0   | ... | 0   | 0   | 0   | 0   | 0   | 0   | 0   | 0   | 0   | 0   |\n",
       "| 1   | 0   | 0   | 0   | 0   | 0   | 0   | 0   | 0   | 0   | ... | 0   | 0   | 0   | 0   | 0   | 0   | 0   | 0   | 0   | 0   |\n",
       "| 9   | 0   | 0   | 0   | 0   | 0   | 0   | 0   | 0   | 0   | ... | 0   | 0   | 0   | 0   | 0   | 0   | 0   | 0   | 0   | 0   |\n",
       "| 2   | 0   | 0   | 0   | 0   | 0   | 0   | 0   | 0   | 0   | ... | 0   | 0   | 0   | 0   | 0   | 0   | 0   | 0   | 0   | 0   |\n",
       "\n"
      ],
      "text/plain": [
       "  V1 V2 V3 V4 V5 V6 V7 V8 V9 V10 ... V776 V777 V778 V779 V780 V781 V782 V783\n",
       "1 5  0  0  0  0  0  0  0  0  0   ... 0    0    0    0    0    0    0    0   \n",
       "2 0  0  0  0  0  0  0  0  0  0   ... 0    0    0    0    0    0    0    0   \n",
       "3 4  0  0  0  0  0  0  0  0  0   ... 0    0    0    0    0    0    0    0   \n",
       "4 1  0  0  0  0  0  0  0  0  0   ... 0    0    0    0    0    0    0    0   \n",
       "5 9  0  0  0  0  0  0  0  0  0   ... 0    0    0    0    0    0    0    0   \n",
       "6 2  0  0  0  0  0  0  0  0  0   ... 0    0    0    0    0    0    0    0   \n",
       "  V784 V785\n",
       "1 0    0   \n",
       "2 0    0   \n",
       "3 0    0   \n",
       "4 0    0   \n",
       "5 0    0   \n",
       "6 0    0   "
      ]
     },
     "metadata": {},
     "output_type": "display_data"
    }
   ],
   "source": [
    "mnist_B <- read.csv(\"../Data/train_10k.csv\", header = F)\n",
    "head(mnist_B)"
   ]
  },
  {
   "cell_type": "code",
   "execution_count": 54,
   "id": "dc0f3ecb",
   "metadata": {},
   "outputs": [],
   "source": [
    "mnist_B <- arrange(mnist_B,V1)"
   ]
  },
  {
   "cell_type": "code",
   "execution_count": 55,
   "id": "0ef7cb54",
   "metadata": {},
   "outputs": [],
   "source": [
    "# Sampling\n",
    "set.seed(1234)\n",
    "samp <- createDataPartition(mnist_B$V1, p=0.7, list=F)\n",
    "\n",
    "# 학습용 데이터 만들기\n",
    "data.tr <- mnist_B[samp,]\n",
    "# 검증용 데이터 만들기\n",
    "data.test <- mnist_B[-samp,]\n",
    "# 문제 및 정답 만들기\n",
    "x <- subset(data.test, select = -V1)\n",
    "y <- data.test$V1\n"
   ]
  },
  {
   "cell_type": "code",
   "execution_count": 56,
   "id": "c69ae527",
   "metadata": {},
   "outputs": [
    {
     "data": {
      "text/html": [
       "0"
      ],
      "text/latex": [
       "0"
      ],
      "text/markdown": [
       "0"
      ],
      "text/plain": [
       "[1] 0"
      ]
     },
     "metadata": {},
     "output_type": "display_data"
    },
    {
     "data": {
      "text/plain": [
       "                  y\n",
       "pred                 0   1   2   3   4   5   6   7   8   9\n",
       "  4.39308176100635 278 347 310 299 304 267 307 310 282 294"
      ]
     },
     "metadata": {},
     "output_type": "display_data"
    }
   ],
   "source": [
    "# svm\n",
    "model.svm = svm(V1 ~ ., data=data.tr)\n",
    "    # 검증하기\n",
    "    pred <- predict(model.svm, x)\n",
    "    # 예측률 \n",
    "    mean(pred ==y)\n",
    "table(pred,y)"
   ]
  },
  {
   "cell_type": "code",
   "execution_count": 57,
   "id": "5576d105",
   "metadata": {},
   "outputs": [
    {
     "data": {
      "text/html": [
       "0.00900600400266845"
      ],
      "text/latex": [
       "0.00900600400266845"
      ],
      "text/markdown": [
       "0.00900600400266845"
      ],
      "text/plain": [
       "[1] 0.009006004"
      ]
     },
     "metadata": {},
     "output_type": "display_data"
    }
   ],
   "source": [
    "# randomForest\n",
    "model.rf <- randomForest(V1 ~ ., data = data.tr , ntree=100)\n",
    "\n",
    "# 검증하기\n",
    "pred <- predict(model.rf, x)    \n",
    "# 예측률 \n",
    "mean(pred ==y)"
   ]
  },
  {
   "cell_type": "code",
   "execution_count": 58,
   "id": "44f632b8",
   "metadata": {},
   "outputs": [
    {
     "data": {
      "text/html": [
       "0.0627084723148766"
      ],
      "text/latex": [
       "0.0627084723148766"
      ],
      "text/markdown": [
       "0.0627084723148766"
      ],
      "text/plain": [
       "[1] 0.06270847"
      ]
     },
     "metadata": {},
     "output_type": "display_data"
    }
   ],
   "source": [
    "# 의사결정나무\n",
    "model.ctree <- ctree(V1 ~ ., data=data.tr)\n",
    "    \n",
    "# 검증하기\n",
    "pred <- predict(model.ctree, x)\n",
    "    \n",
    "# 예측률 \n",
    "mean(pred ==y)"
   ]
  },
  {
   "cell_type": "code",
   "execution_count": null,
   "id": "a9a9a72c",
   "metadata": {},
   "outputs": [],
   "source": []
  }
 ],
 "metadata": {
  "kernelspec": {
   "display_name": "R",
   "language": "R",
   "name": "ir"
  },
  "language_info": {
   "codemirror_mode": "r",
   "file_extension": ".r",
   "mimetype": "text/x-r-source",
   "name": "R",
   "pygments_lexer": "r",
   "version": "3.6.1"
  }
 },
 "nbformat": 4,
 "nbformat_minor": 5
}
