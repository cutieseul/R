{
 "cells": [
  {
   "cell_type": "code",
   "execution_count": 4,
   "id": "e32c6187",
   "metadata": {},
   "outputs": [],
   "source": [
    "# Anaconda navigator에서 e1071 설치"
   ]
  },
  {
   "cell_type": "code",
   "execution_count": 5,
   "id": "9b3c8fc2",
   "metadata": {},
   "outputs": [],
   "source": [
    "library(e1071)"
   ]
  },
  {
   "cell_type": "code",
   "execution_count": 41,
   "id": "12d8199c",
   "metadata": {},
   "outputs": [],
   "source": [
    "# 표준화\n",
    "iris2 <- scale(iris[,-5])\n",
    "iris2 <- as.data.frame(iris2)\n",
    "iris2$Species <- iris$Species\n",
    "# Sampling\n",
    "set.seed(1234) \n",
    "library(caret)\n",
    "samp <- createDataPartition(iris2$Species, p=0.7, list=F)\n",
    "\n",
    "# 학습용 데이터 만들기\n",
    "data.tr <- iris2[samp,]\n",
    "# 검증용 데이터 만들기\n",
    "data.test <- iris2[-samp,]"
   ]
  },
  {
   "cell_type": "code",
   "execution_count": 42,
   "id": "218a9c22",
   "metadata": {},
   "outputs": [],
   "source": [
    "# 문제와 정답\n",
    "x <- subset(data.test, select= -Species)\n",
    "y <- data.test$Species"
   ]
  },
  {
   "cell_type": "code",
   "execution_count": 43,
   "id": "217b8563",
   "metadata": {},
   "outputs": [],
   "source": [
    "# 학습시키기\n",
    "model.svm = svm(Species ~ ., data=data.tr)"
   ]
  },
  {
   "cell_type": "code",
   "execution_count": 46,
   "id": "8760e183",
   "metadata": {},
   "outputs": [],
   "source": [
    "# 검증하기\n",
    "pred <- predict(model.svm, x)\n"
   ]
  },
  {
   "cell_type": "code",
   "execution_count": 45,
   "id": "ce1e0e46",
   "metadata": {},
   "outputs": [
    {
     "data": {
      "text/html": [
       "0.933333333333333"
      ],
      "text/latex": [
       "0.933333333333333"
      ],
      "text/markdown": [
       "0.933333333333333"
      ],
      "text/plain": [
       "[1] 0.9333333"
      ]
     },
     "metadata": {},
     "output_type": "display_data"
    },
    {
     "data": {
      "text/plain": [
       "            y\n",
       "pred         setosa versicolor virginica\n",
       "  setosa         15          0         0\n",
       "  versicolor      0         13         1\n",
       "  virginica       0          2        14"
      ]
     },
     "metadata": {},
     "output_type": "display_data"
    }
   ],
   "source": [
    "# 예측률 및 오분류표\n",
    "mean(pred ==y)\n",
    "table(pred ,y)"
   ]
  },
  {
   "cell_type": "code",
   "execution_count": null,
   "id": "0c73851d",
   "metadata": {},
   "outputs": [],
   "source": []
  }
 ],
 "metadata": {
  "kernelspec": {
   "display_name": "R",
   "language": "R",
   "name": "ir"
  },
  "language_info": {
   "codemirror_mode": "r",
   "file_extension": ".r",
   "mimetype": "text/x-r-source",
   "name": "R",
   "pygments_lexer": "r",
   "version": "3.6.1"
  }
 },
 "nbformat": 4,
 "nbformat_minor": 5
}
