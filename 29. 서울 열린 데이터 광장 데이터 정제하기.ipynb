{
 "cells": [
  {
   "cell_type": "code",
   "execution_count": 1,
   "id": "254ca30c",
   "metadata": {
    "scrolled": false
   },
   "outputs": [
    {
     "name": "stderr",
     "output_type": "stream",
     "text": [
      "\n",
      "Attaching package: ‘dplyr’\n",
      "\n",
      "The following objects are masked from ‘package:stats’:\n",
      "\n",
      "    filter, lag\n",
      "\n",
      "The following objects are masked from ‘package:base’:\n",
      "\n",
      "    intersect, setdiff, setequal, union\n",
      "\n"
     ]
    },
    {
     "data": {
      "text/html": [
       "<table>\n",
       "<thead><tr><th></th><th scope=col>기간</th><th scope=col>자치구명</th><th scope=col>구분</th><th scope=col>X1월</th><th scope=col>X2월</th><th scope=col>X3월</th><th scope=col>X4월</th><th scope=col>X5월</th><th scope=col>X6월</th><th scope=col>X7월</th><th scope=col>X8월</th><th scope=col>X9월</th><th scope=col>X10월</th><th scope=col>X11월</th><th scope=col>X12월</th></tr></thead>\n",
       "<tbody>\n",
       "\t<tr><th scope=row>4</th><td>2011    </td><td>종로구  </td><td>발생건수</td><td>115     </td><td>99      </td><td>116     </td><td>110     </td><td>122     </td><td>116     </td><td>103     </td><td>122     </td><td>121     </td><td>135     </td><td>140     </td><td>122     </td></tr>\n",
       "\t<tr><th scope=row>5</th><td>2011    </td><td>종로구  </td><td>사망자수</td><td>2       </td><td>-       </td><td>-       </td><td>1       </td><td>-       </td><td>3       </td><td>1       </td><td>1       </td><td>2       </td><td>2       </td><td>1       </td><td>1       </td></tr>\n",
       "\t<tr><th scope=row>6</th><td>2011    </td><td>종로구  </td><td>부상자수</td><td>165     </td><td>134     </td><td>162     </td><td>153     </td><td>157     </td><td>163     </td><td>154     </td><td>171     </td><td>166     </td><td>193     </td><td>204     </td><td>172     </td></tr>\n",
       "\t<tr><th scope=row>7</th><td>2011    </td><td>중구    </td><td>발생건수</td><td>108     </td><td>86      </td><td>141     </td><td>128     </td><td>121     </td><td>115     </td><td>119     </td><td>117     </td><td>140     </td><td>147     </td><td>132     </td><td>143     </td></tr>\n",
       "\t<tr><th scope=row>8</th><td>2011    </td><td>중구    </td><td>사망자수</td><td>-       </td><td>-       </td><td>-       </td><td>3       </td><td>1       </td><td>1       </td><td>1       </td><td>1       </td><td>1       </td><td>2       </td><td>3       </td><td>-       </td></tr>\n",
       "\t<tr><th scope=row>9</th><td>2011    </td><td>중구    </td><td>부상자수</td><td>159     </td><td>112     </td><td>183     </td><td>175     </td><td>165     </td><td>156     </td><td>154     </td><td>154     </td><td>181     </td><td>203     </td><td>172     </td><td>211     </td></tr>\n",
       "</tbody>\n",
       "</table>\n"
      ],
      "text/latex": [
       "\\begin{tabular}{r|lllllllllllllll}\n",
       "  & 기간 & 자치구명 & 구분 & X1월 & X2월 & X3월 & X4월 & X5월 & X6월 & X7월 & X8월 & X9월 & X10월 & X11월 & X12월\\\\\n",
       "\\hline\n",
       "\t4 & 2011     & 종로구   & 발생건수 & 115      & 99       & 116      & 110      & 122      & 116      & 103      & 122      & 121      & 135      & 140      & 122     \\\\\n",
       "\t5 & 2011     & 종로구   & 사망자수 & 2        & -        & -        & 1        & -        & 3        & 1        & 1        & 2        & 2        & 1        & 1       \\\\\n",
       "\t6 & 2011     & 종로구   & 부상자수 & 165      & 134      & 162      & 153      & 157      & 163      & 154      & 171      & 166      & 193      & 204      & 172     \\\\\n",
       "\t7 & 2011     & 중구     & 발생건수 & 108      & 86       & 141      & 128      & 121      & 115      & 119      & 117      & 140      & 147      & 132      & 143     \\\\\n",
       "\t8 & 2011     & 중구     & 사망자수 & -        & -        & -        & 3        & 1        & 1        & 1        & 1        & 1        & 2        & 3        & -       \\\\\n",
       "\t9 & 2011     & 중구     & 부상자수 & 159      & 112      & 183      & 175      & 165      & 156      & 154      & 154      & 181      & 203      & 172      & 211     \\\\\n",
       "\\end{tabular}\n"
      ],
      "text/markdown": [
       "\n",
       "| <!--/--> | 기간 | 자치구명 | 구분 | X1월 | X2월 | X3월 | X4월 | X5월 | X6월 | X7월 | X8월 | X9월 | X10월 | X11월 | X12월 |\n",
       "|---|---|---|---|---|---|---|---|---|---|---|---|---|---|---|---|\n",
       "| 4 | 2011     | 종로구   | 발생건수 | 115      | 99       | 116      | 110      | 122      | 116      | 103      | 122      | 121      | 135      | 140      | 122      |\n",
       "| 5 | 2011     | 종로구   | 사망자수 | 2        | -        | -        | 1        | -        | 3        | 1        | 1        | 2        | 2        | 1        | 1        |\n",
       "| 6 | 2011     | 종로구   | 부상자수 | 165      | 134      | 162      | 153      | 157      | 163      | 154      | 171      | 166      | 193      | 204      | 172      |\n",
       "| 7 | 2011     | 중구     | 발생건수 | 108      | 86       | 141      | 128      | 121      | 115      | 119      | 117      | 140      | 147      | 132      | 143      |\n",
       "| 8 | 2011     | 중구     | 사망자수 | -        | -        | -        | 3        | 1        | 1        | 1        | 1        | 1        | 2        | 3        | -        |\n",
       "| 9 | 2011     | 중구     | 부상자수 | 159      | 112      | 183      | 175      | 165      | 156      | 154      | 154      | 181      | 203      | 172      | 211      |\n",
       "\n"
      ],
      "text/plain": [
       "  기간 자치구명 구분     X1월 X2월 X3월 X4월 X5월 X6월 X7월 X8월 X9월 X10월\n",
       "4 2011 종로구   발생건수 115  99   116  110  122  116  103  122  121  135  \n",
       "5 2011 종로구   사망자수 2    -    -    1    -    3    1    1    2    2    \n",
       "6 2011 종로구   부상자수 165  134  162  153  157  163  154  171  166  193  \n",
       "7 2011 중구     발생건수 108  86   141  128  121  115  119  117  140  147  \n",
       "8 2011 중구     사망자수 -    -    -    3    1    1    1    1    1    2    \n",
       "9 2011 중구     부상자수 159  112  183  175  165  156  154  154  181  203  \n",
       "  X11월 X12월\n",
       "4 140   122  \n",
       "5 1     1    \n",
       "6 204   172  \n",
       "7 132   143  \n",
       "8 3     -    \n",
       "9 172   211  "
      ]
     },
     "metadata": {},
     "output_type": "display_data"
    }
   ],
   "source": [
    "ta <- read.table(\"../Data/trafficAccident_2011_2019.txt\", header = T)\n",
    "ta <- subset(ta,자치구별 != \"합계\")\n",
    "ta <- ta[,-4]\n",
    "library(dplyr)\n",
    "options(warn=-1)\n",
    "#rename(테이블이름, \"바꿀 이름\" = \"원래 이름\")\n",
    "ta <- rename(ta, \"자치구명\"=\"자치구별\")\n",
    "head(ta)\n"
   ]
  },
  {
   "cell_type": "code",
   "execution_count": 41,
   "id": "679da308",
   "metadata": {},
   "outputs": [
    {
     "data": {
      "text/html": [
       "<table>\n",
       "<thead><tr><th scope=col>년도</th><th scope=col>월</th><th scope=col>자치구명</th><th scope=col>발생건수</th><th scope=col>사망자수</th><th scope=col>부상자수</th></tr></thead>\n",
       "<tbody>\n",
       "\t<tr><td>2011  </td><td>1     </td><td>종로구</td><td>115   </td><td>2     </td><td>165   </td></tr>\n",
       "\t<tr><td>2011  </td><td>2     </td><td>종로구</td><td>99    </td><td>0     </td><td>134   </td></tr>\n",
       "\t<tr><td>2011  </td><td>3     </td><td>종로구</td><td>116   </td><td>0     </td><td>162   </td></tr>\n",
       "\t<tr><td>2011  </td><td>4     </td><td>종로구</td><td>110   </td><td>1     </td><td>153   </td></tr>\n",
       "\t<tr><td>2011  </td><td>5     </td><td>종로구</td><td>122   </td><td>0     </td><td>157   </td></tr>\n",
       "\t<tr><td>2011  </td><td>6     </td><td>종로구</td><td>116   </td><td>3     </td><td>163   </td></tr>\n",
       "</tbody>\n",
       "</table>\n"
      ],
      "text/latex": [
       "\\begin{tabular}{r|llllll}\n",
       " 년도 & 월 & 자치구명 & 발생건수 & 사망자수 & 부상자수\\\\\n",
       "\\hline\n",
       "\t 2011   & 1      & 종로구 & 115    & 2      & 165   \\\\\n",
       "\t 2011   & 2      & 종로구 & 99     & 0      & 134   \\\\\n",
       "\t 2011   & 3      & 종로구 & 116    & 0      & 162   \\\\\n",
       "\t 2011   & 4      & 종로구 & 110    & 1      & 153   \\\\\n",
       "\t 2011   & 5      & 종로구 & 122    & 0      & 157   \\\\\n",
       "\t 2011   & 6      & 종로구 & 116    & 3      & 163   \\\\\n",
       "\\end{tabular}\n"
      ],
      "text/markdown": [
       "\n",
       "| 년도 | 월 | 자치구명 | 발생건수 | 사망자수 | 부상자수 |\n",
       "|---|---|---|---|---|---|\n",
       "| 2011   | 1      | 종로구 | 115    | 2      | 165    |\n",
       "| 2011   | 2      | 종로구 | 99     | 0      | 134    |\n",
       "| 2011   | 3      | 종로구 | 116    | 0      | 162    |\n",
       "| 2011   | 4      | 종로구 | 110    | 1      | 153    |\n",
       "| 2011   | 5      | 종로구 | 122    | 0      | 157    |\n",
       "| 2011   | 6      | 종로구 | 116    | 3      | 163    |\n",
       "\n"
      ],
      "text/plain": [
       "  년도 월 자치구명 발생건수 사망자수 부상자수\n",
       "1 2011 1  종로구   115      2        165     \n",
       "2 2011 2  종로구   99       0        134     \n",
       "3 2011 3  종로구   116      0        162     \n",
       "4 2011 4  종로구   110      1        153     \n",
       "5 2011 5  종로구   122      0        157     \n",
       "6 2011 6  종로구   116      3        163     "
      ]
     },
     "metadata": {},
     "output_type": "display_data"
    },
    {
     "name": "stdout",
     "output_type": "stream",
     "text": [
      "'data.frame':\t2700 obs. of  6 variables:\n",
      " $ 년도    : int  1 1 1 1 1 1 1 1 1 1 ...\n",
      " $ 월      : int  1 5 6 7 8 9 10 11 12 2 ...\n",
      " $ 자치구명: Factor w/ 25 levels \"종로구\",\"중구\",..: 1 1 1 1 1 1 1 1 1 1 ...\n",
      " $ 발생건수: int  3 9 4 2 6 4 1 6 5 7 ...\n",
      " $ 사망자수: int  2 0 0 1 0 3 1 1 2 2 ...\n",
      " $ 부상자수: int  7 1 5 2 4 6 3 9 8 11 ...\n"
     ]
    }
   ],
   "source": [
    "target <- read.csv(\"../Data/newSeoul2019.csv\")\n",
    "data <- read.table(\"../Data/trafficAccident_2011_2019.txt\", head=T)[,-4]\n",
    "data <- subset(data, 자치구별 != '합계')\n",
    "\n",
    "df <- c()\n",
    "\n",
    "for(i in 1:(nrow(data)/3)){\n",
    "  hello <- data.frame(cbind(rep(data[i*3, 1],12), c(1:12), rep(as.character(data[i*3, 2])), t(data[i*3-2,4:15]), t(data[i*3-1,4:15]), t(data[i*3,4:15])))\n",
    "   #년도,월,구, 발생건수 세로로, 사망자수 세로로, 부상자수 세로로\n",
    "  colnames(hello)<- c(\"년도\",\"월\",\"자치구명\",\"발생건수\",\"사망자수\",\"부상자수\")\n",
    "  df <- rbind(df, hello)\n",
    "}\n",
    "rownames(df) <- c()\n",
    "\n",
    "\n",
    "df$사망자수 <- gsub(\"-\", \"0\", df$사망자수)\n",
    "head(df)\n",
    "df[,1] <- as.integer(df[,1])\n",
    "df[,2] <- as.integer(df[,2])\n",
    "df[,3] <- as.factor(df[,3])\n",
    "df[,4] <- as.integer(df[,4])\n",
    "df[,5] <- as.integer(df[,5])\n",
    "df[,6] <- as.integer(df[,6])\n",
    "str(df)"
   ]
  },
  {
   "cell_type": "code",
   "execution_count": 32,
   "id": "c6bae0a6",
   "metadata": {},
   "outputs": [
    {
     "data": {
      "text/html": [
       "<table>\n",
       "<thead><tr><th scope=col>년도</th><th scope=col>월</th><th scope=col>자치구명</th><th scope=col>발생건수</th><th scope=col>사망자수</th><th scope=col>부상자수</th></tr></thead>\n",
       "<tbody>\n",
       "\t<tr><td>2011  </td><td>1     </td><td>종로구</td><td>115   </td><td>2     </td><td>165   </td></tr>\n",
       "\t<tr><td>2011  </td><td>2     </td><td>종로구</td><td> 99   </td><td>0     </td><td>134   </td></tr>\n",
       "\t<tr><td>2011  </td><td>3     </td><td>종로구</td><td>116   </td><td>0     </td><td>162   </td></tr>\n",
       "\t<tr><td>2011  </td><td>4     </td><td>종로구</td><td>110   </td><td>1     </td><td>153   </td></tr>\n",
       "\t<tr><td>2011  </td><td>5     </td><td>종로구</td><td>122   </td><td>0     </td><td>157   </td></tr>\n",
       "\t<tr><td>2011  </td><td>6     </td><td>종로구</td><td>116   </td><td>3     </td><td>163   </td></tr>\n",
       "</tbody>\n",
       "</table>\n"
      ],
      "text/latex": [
       "\\begin{tabular}{r|llllll}\n",
       " 년도 & 월 & 자치구명 & 발생건수 & 사망자수 & 부상자수\\\\\n",
       "\\hline\n",
       "\t 2011   & 1      & 종로구 & 115    & 2      & 165   \\\\\n",
       "\t 2011   & 2      & 종로구 &  99    & 0      & 134   \\\\\n",
       "\t 2011   & 3      & 종로구 & 116    & 0      & 162   \\\\\n",
       "\t 2011   & 4      & 종로구 & 110    & 1      & 153   \\\\\n",
       "\t 2011   & 5      & 종로구 & 122    & 0      & 157   \\\\\n",
       "\t 2011   & 6      & 종로구 & 116    & 3      & 163   \\\\\n",
       "\\end{tabular}\n"
      ],
      "text/markdown": [
       "\n",
       "| 년도 | 월 | 자치구명 | 발생건수 | 사망자수 | 부상자수 |\n",
       "|---|---|---|---|---|---|\n",
       "| 2011   | 1      | 종로구 | 115    | 2      | 165    |\n",
       "| 2011   | 2      | 종로구 |  99    | 0      | 134    |\n",
       "| 2011   | 3      | 종로구 | 116    | 0      | 162    |\n",
       "| 2011   | 4      | 종로구 | 110    | 1      | 153    |\n",
       "| 2011   | 5      | 종로구 | 122    | 0      | 157    |\n",
       "| 2011   | 6      | 종로구 | 116    | 3      | 163    |\n",
       "\n"
      ],
      "text/plain": [
       "  년도 월 자치구명 발생건수 사망자수 부상자수\n",
       "1 2011 1  종로구   115      2        165     \n",
       "2 2011 2  종로구    99      0        134     \n",
       "3 2011 3  종로구   116      0        162     \n",
       "4 2011 4  종로구   110      1        153     \n",
       "5 2011 5  종로구   122      0        157     \n",
       "6 2011 6  종로구   116      3        163     "
      ]
     },
     "metadata": {},
     "output_type": "display_data"
    },
    {
     "name": "stdout",
     "output_type": "stream",
     "text": [
      "'data.frame':\t2700 obs. of  6 variables:\n",
      " $ 년도    : int  2011 2011 2011 2011 2011 2011 2011 2011 2011 2011 ...\n",
      " $ 월      : int  1 2 3 4 5 6 7 8 9 10 ...\n",
      " $ 자치구명: Factor w/ 25 levels \"강남구\",\"강동구\",..: 23 23 23 23 23 23 23 23 23 23 ...\n",
      " $ 발생건수: int  115 99 116 110 122 116 103 122 121 135 ...\n",
      " $ 사망자수: int  2 0 0 1 0 3 1 1 2 2 ...\n",
      " $ 부상자수: int  165 134 162 153 157 163 154 171 166 193 ...\n"
     ]
    }
   ],
   "source": [
    "ns <- read.csv(\"../Data/newSeoul2019.csv\")\n",
    "head(ns)\n",
    "str(ns)"
   ]
  },
  {
   "cell_type": "code",
   "execution_count": null,
   "id": "083660c1",
   "metadata": {},
   "outputs": [],
   "source": []
  }
 ],
 "metadata": {
  "kernelspec": {
   "display_name": "R",
   "language": "R",
   "name": "ir"
  },
  "language_info": {
   "codemirror_mode": "r",
   "file_extension": ".r",
   "mimetype": "text/x-r-source",
   "name": "R",
   "pygments_lexer": "r",
   "version": "3.6.1"
  }
 },
 "nbformat": 4,
 "nbformat_minor": 5
}
