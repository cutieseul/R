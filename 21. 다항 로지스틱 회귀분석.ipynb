{
 "cells": [
  {
   "cell_type": "code",
   "execution_count": 10,
   "id": "c3262c64",
   "metadata": {},
   "outputs": [],
   "source": [
    "library(nnet)"
   ]
  },
  {
   "cell_type": "code",
   "execution_count": 11,
   "id": "d3e25fb2",
   "metadata": {},
   "outputs": [],
   "source": [
    "# 표준화\n",
    "iris2 <- scale(iris[,-5])\n",
    "iris2 <- as.data.frame(iris2)\n",
    "iris2$Species <- iris$Species\n",
    "# Sampling\n",
    "set.seed(1234) \n",
    "library(caret)\n",
    "samp <- createDataPartition(iris2$Species, p=0.7, list=F)\n",
    "\n",
    "# 학습용 데이터 만들기\n",
    "data.tr <- iris2[samp,]\n",
    "# 검증용 데이터 만들기\n",
    "data.test <- iris2[-samp,]\n",
    "\n",
    "# 문제와 정답\n",
    "x <- subset(data.test, select= -Species)\n",
    "y <- data.test$Species\n",
    "\n",
    "\n"
   ]
  },
  {
   "cell_type": "code",
   "execution_count": 12,
   "id": "eef9fe13",
   "metadata": {},
   "outputs": [
    {
     "name": "stdout",
     "output_type": "stream",
     "text": [
      "# weights:  18 (10 variable)\n",
      "initial  value 115.354290 \n",
      "iter  10 value 7.556637\n",
      "iter  20 value 0.042347\n",
      "iter  30 value 0.009210\n",
      "iter  40 value 0.006761\n",
      "iter  50 value 0.003904\n",
      "iter  60 value 0.003512\n",
      "iter  70 value 0.003095\n",
      "iter  80 value 0.002826\n",
      "iter  90 value 0.002781\n",
      "iter 100 value 0.002705\n",
      "final  value 0.002705 \n",
      "stopped after 100 iterations\n"
     ]
    }
   ],
   "source": [
    "model <- multinom(Species ~ .,data=data.tr)"
   ]
  },
  {
   "cell_type": "code",
   "execution_count": 13,
   "id": "d3fc2c5f",
   "metadata": {
    "scrolled": true
   },
   "outputs": [
    {
     "data": {
      "text/html": [
       "0.933333333333333"
      ],
      "text/latex": [
       "0.933333333333333"
      ],
      "text/markdown": [
       "0.933333333333333"
      ],
      "text/plain": [
       "[1] 0.9333333"
      ]
     },
     "metadata": {},
     "output_type": "display_data"
    },
    {
     "data": {
      "text/plain": [
       "            y\n",
       "pred         setosa versicolor virginica\n",
       "  setosa         15          0         0\n",
       "  versicolor      0         13         1\n",
       "  virginica       0          2        14"
      ]
     },
     "metadata": {},
     "output_type": "display_data"
    }
   ],
   "source": [
    "pred <- predict(model, x)\n",
    "mean(pred ==y)\n",
    "table(pred,y)"
   ]
  },
  {
   "cell_type": "markdown",
   "id": "8b6d6c7d",
   "metadata": {},
   "source": [
    "### 표준화X"
   ]
  },
  {
   "cell_type": "code",
   "execution_count": 14,
   "id": "59dc984e",
   "metadata": {},
   "outputs": [],
   "source": [
    "\n",
    "\n",
    "# Sampling\n",
    "set.seed(1234) \n",
    "library(caret)\n",
    "samp <- createDataPartition(iris$Species, p=0.7, list=F)\n",
    "\n",
    "# 학습용 데이터 만들기\n",
    "data.tr <- iris[samp,]\n",
    "# 검증용 데이터 만들기\n",
    "data.test <- iris[-samp,]\n",
    "\n",
    "# 문제와 정답\n",
    "x <- subset(data.test, select= -Species)\n",
    "y <- data.test$Species\n"
   ]
  },
  {
   "cell_type": "code",
   "execution_count": 15,
   "id": "fb762663",
   "metadata": {},
   "outputs": [
    {
     "name": "stdout",
     "output_type": "stream",
     "text": [
      "# weights:  18 (10 variable)\n",
      "initial  value 115.354290 \n",
      "iter  10 value 10.451001\n",
      "iter  20 value 0.395906\n",
      "iter  30 value 0.063643\n",
      "iter  40 value 0.032814\n",
      "iter  50 value 0.023376\n",
      "iter  60 value 0.021200\n",
      "iter  70 value 0.019040\n",
      "iter  80 value 0.017101\n",
      "iter  90 value 0.012218\n",
      "iter 100 value 0.011383\n",
      "final  value 0.011383 \n",
      "stopped after 100 iterations\n"
     ]
    }
   ],
   "source": [
    "model <- multinom(Species ~ ., data=data.tr)"
   ]
  },
  {
   "cell_type": "code",
   "execution_count": 16,
   "id": "cccaa275",
   "metadata": {},
   "outputs": [
    {
     "data": {
      "text/html": [
       "0.933333333333333"
      ],
      "text/latex": [
       "0.933333333333333"
      ],
      "text/markdown": [
       "0.933333333333333"
      ],
      "text/plain": [
       "[1] 0.9333333"
      ]
     },
     "metadata": {},
     "output_type": "display_data"
    },
    {
     "data": {
      "text/plain": [
       "            y\n",
       "pred         setosa versicolor virginica\n",
       "  setosa         15          0         0\n",
       "  versicolor      0         13         1\n",
       "  virginica       0          2        14"
      ]
     },
     "metadata": {},
     "output_type": "display_data"
    }
   ],
   "source": [
    "pred <- predict(model, x)\n",
    "mean(pred ==y)\n",
    "table(pred,y)"
   ]
  }
 ],
 "metadata": {
  "kernelspec": {
   "display_name": "R",
   "language": "R",
   "name": "ir"
  },
  "language_info": {
   "codemirror_mode": "r",
   "file_extension": ".r",
   "mimetype": "text/x-r-source",
   "name": "R",
   "pygments_lexer": "r",
   "version": "3.6.1"
  }
 },
 "nbformat": 4,
 "nbformat_minor": 5
}
