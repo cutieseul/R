{
 "cells": [
  {
   "cell_type": "code",
   "execution_count": 1,
   "id": "4b02ec63",
   "metadata": {},
   "outputs": [
    {
     "data": {
      "text/html": [
       "<table>\n",
       "<thead><tr><th scope=col>A</th><th scope=col>B</th><th scope=col>C</th><th scope=col>D</th><th scope=col>E</th></tr></thead>\n",
       "<tbody>\n",
       "\t<tr><td>2</td><td>4</td><td>4</td><td>2</td><td>2</td></tr>\n",
       "\t<tr><td>1</td><td>2</td><td>2</td><td>2</td><td>2</td></tr>\n",
       "\t<tr><td>2</td><td>3</td><td>4</td><td>3</td><td>3</td></tr>\n",
       "\t<tr><td>3</td><td>5</td><td>5</td><td>3</td><td>3</td></tr>\n",
       "\t<tr><td>3</td><td>2</td><td>4</td><td>4</td><td>4</td></tr>\n",
       "\t<tr><td>4</td><td>3</td><td>3</td><td>4</td><td>2</td></tr>\n",
       "</tbody>\n",
       "</table>\n"
      ],
      "text/latex": [
       "\\begin{tabular}{r|lllll}\n",
       " A & B & C & D & E\\\\\n",
       "\\hline\n",
       "\t 2 & 4 & 4 & 2 & 2\\\\\n",
       "\t 1 & 2 & 2 & 2 & 2\\\\\n",
       "\t 2 & 3 & 4 & 3 & 3\\\\\n",
       "\t 3 & 5 & 5 & 3 & 3\\\\\n",
       "\t 3 & 2 & 4 & 4 & 4\\\\\n",
       "\t 4 & 3 & 3 & 4 & 2\\\\\n",
       "\\end{tabular}\n"
      ],
      "text/markdown": [
       "\n",
       "| A | B | C | D | E |\n",
       "|---|---|---|---|---|\n",
       "| 2 | 4 | 4 | 2 | 2 |\n",
       "| 1 | 2 | 2 | 2 | 2 |\n",
       "| 2 | 3 | 4 | 3 | 3 |\n",
       "| 3 | 5 | 5 | 3 | 3 |\n",
       "| 3 | 2 | 4 | 4 | 4 |\n",
       "| 4 | 3 | 3 | 4 | 2 |\n",
       "\n"
      ],
      "text/plain": [
       "  A B C D E\n",
       "1 2 4 4 2 2\n",
       "2 1 2 2 2 2\n",
       "3 2 3 4 3 3\n",
       "4 3 5 5 3 3\n",
       "5 3 2 4 4 4\n",
       "6 4 3 3 4 2"
      ]
     },
     "metadata": {},
     "output_type": "display_data"
    }
   ],
   "source": [
    "test <- read.csv(\"../Data/test.csv\")\n",
    "head(test)"
   ]
  },
  {
   "cell_type": "code",
   "execution_count": 2,
   "id": "e79f0cf4",
   "metadata": {},
   "outputs": [
    {
     "data": {
      "text/html": [
       "<table>\n",
       "<thead><tr><th></th><th scope=col>A</th><th scope=col>B</th><th scope=col>C</th><th scope=col>D</th><th scope=col>E</th></tr></thead>\n",
       "<tbody>\n",
       "\t<tr><th scope=row>397</th><td>2</td><td>3</td><td>5</td><td>2</td><td>4</td></tr>\n",
       "\t<tr><th scope=row>398</th><td>4</td><td>3</td><td>3</td><td>2</td><td>4</td></tr>\n",
       "\t<tr><th scope=row>399</th><td>2</td><td>4</td><td>4</td><td>2</td><td>3</td></tr>\n",
       "\t<tr><th scope=row>400</th><td>2</td><td>2</td><td>5</td><td>2</td><td>4</td></tr>\n",
       "\t<tr><th scope=row>401</th><td>2</td><td>3</td><td>4</td><td>2</td><td>4</td></tr>\n",
       "\t<tr><th scope=row>402</th><td>2</td><td>2</td><td>4</td><td>2</td><td>4</td></tr>\n",
       "</tbody>\n",
       "</table>\n"
      ],
      "text/latex": [
       "\\begin{tabular}{r|lllll}\n",
       "  & A & B & C & D & E\\\\\n",
       "\\hline\n",
       "\t397 & 2 & 3 & 5 & 2 & 4\\\\\n",
       "\t398 & 4 & 3 & 3 & 2 & 4\\\\\n",
       "\t399 & 2 & 4 & 4 & 2 & 3\\\\\n",
       "\t400 & 2 & 2 & 5 & 2 & 4\\\\\n",
       "\t401 & 2 & 3 & 4 & 2 & 4\\\\\n",
       "\t402 & 2 & 2 & 4 & 2 & 4\\\\\n",
       "\\end{tabular}\n"
      ],
      "text/markdown": [
       "\n",
       "| <!--/--> | A | B | C | D | E |\n",
       "|---|---|---|---|---|---|\n",
       "| 397 | 2 | 3 | 5 | 2 | 4 |\n",
       "| 398 | 4 | 3 | 3 | 2 | 4 |\n",
       "| 399 | 2 | 4 | 4 | 2 | 3 |\n",
       "| 400 | 2 | 2 | 5 | 2 | 4 |\n",
       "| 401 | 2 | 3 | 4 | 2 | 4 |\n",
       "| 402 | 2 | 2 | 4 | 2 | 4 |\n",
       "\n"
      ],
      "text/plain": [
       "    A B C D E\n",
       "397 2 3 5 2 4\n",
       "398 4 3 3 2 4\n",
       "399 2 4 4 2 3\n",
       "400 2 2 5 2 4\n",
       "401 2 3 4 2 4\n",
       "402 2 2 4 2 4"
      ]
     },
     "metadata": {},
     "output_type": "display_data"
    }
   ],
   "source": [
    "tail(test)"
   ]
  },
  {
   "cell_type": "code",
   "execution_count": 3,
   "id": "a9adf598",
   "metadata": {},
   "outputs": [
    {
     "name": "stdout",
     "output_type": "stream",
     "text": [
      "'data.frame':\t402 obs. of  5 variables:\n",
      " $ A: int  2 1 2 3 3 4 3 4 4 4 ...\n",
      " $ B: int  4 2 3 5 2 3 4 2 4 2 ...\n",
      " $ C: int  4 2 4 5 4 3 4 4 5 4 ...\n",
      " $ D: int  2 2 3 3 4 4 2 4 3 2 ...\n",
      " $ E: int  2 2 3 3 4 2 2 4 4 3 ...\n"
     ]
    }
   ],
   "source": [
    "str(test)"
   ]
  },
  {
   "cell_type": "code",
   "execution_count": 4,
   "id": "0137c110",
   "metadata": {},
   "outputs": [
    {
     "data": {
      "text/plain": [
       "       A               B               C               D              E        \n",
       " Min.   :1.000   Min.   :1.000   Min.   :1.000   Min.   :1.00   Min.   :1.000  \n",
       " 1st Qu.:2.000   1st Qu.:2.000   1st Qu.:3.000   1st Qu.:2.00   1st Qu.:3.000  \n",
       " Median :3.000   Median :3.000   Median :4.000   Median :2.00   Median :4.000  \n",
       " Mean   :2.734   Mean   :2.908   Mean   :3.622   Mean   :2.51   Mean   :3.386  \n",
       " 3rd Qu.:3.000   3rd Qu.:4.000   3rd Qu.:4.000   3rd Qu.:3.00   3rd Qu.:4.000  \n",
       " Max.   :5.000   Max.   :5.000   Max.   :5.000   Max.   :4.00   Max.   :5.000  "
      ]
     },
     "metadata": {},
     "output_type": "display_data"
    }
   ],
   "source": [
    "summary(test)"
   ]
  },
  {
   "cell_type": "code",
   "execution_count": 5,
   "id": "133f5649",
   "metadata": {},
   "outputs": [
    {
     "data": {
      "text/html": [
       "5"
      ],
      "text/latex": [
       "5"
      ],
      "text/markdown": [
       "5"
      ],
      "text/plain": [
       "[1] 5"
      ]
     },
     "metadata": {},
     "output_type": "display_data"
    },
    {
     "data": {
      "text/html": [
       "1"
      ],
      "text/latex": [
       "1"
      ],
      "text/markdown": [
       "1"
      ],
      "text/plain": [
       "[1] 1"
      ]
     },
     "metadata": {},
     "output_type": "display_data"
    },
    {
     "name": "stdout",
     "output_type": "stream",
     "text": [
      "\n",
      "  1   2   3   4   5 \n",
      " 30 133 156  80   3 \n"
     ]
    }
   ],
   "source": [
    "# A 칼럼의 최대값, 최소값, 빈도수 구하기\n",
    "max(test$A)\n",
    "min(test$A)\n",
    "print(table(test$A))"
   ]
  },
  {
   "cell_type": "code",
   "execution_count": 6,
   "id": "2523d7fc",
   "metadata": {},
   "outputs": [
    {
     "name": "stdout",
     "output_type": "stream",
     "text": [
      "A 번째 칼럼의 빈도 분석 결과\n",
      "\n",
      "  1   2   3   4   5 \n",
      " 30 133 156  80   3 \n",
      "-------------------------\n",
      "B 번째 칼럼의 빈도 분석 결과\n",
      "\n",
      "  1   2   3   4   5 \n",
      " 16 150  98 131   7 \n",
      "-------------------------\n",
      "C 번째 칼럼의 빈도 분석 결과\n",
      "\n",
      "  1   2   3   4   5 \n",
      "  3  74  72 176  77 \n",
      "-------------------------\n",
      "D 번째 칼럼의 빈도 분석 결과\n",
      "\n",
      "  1   2   3   4 \n",
      " 30 178 153  41 \n",
      "-------------------------\n",
      "E 번째 칼럼의 빈도 분석 결과\n",
      "\n",
      "  1   2   3   4   5 \n",
      "  8  81 107 160  46 \n",
      "-------------------------\n"
     ]
    },
    {
     "data": {
      "text/plain": [
       "\n",
       "  1   2   3   4   5 \n",
       " 30 133 156  80   3 "
      ]
     },
     "metadata": {},
     "output_type": "display_data"
    }
   ],
   "source": [
    "# 각 칼럼의 빈도수 구하기\n",
    "# test[,1] = test$A\n",
    "# ncol(test) = 칼럼의 개수\n",
    "# colnames(test[1]) = 'A'\n",
    "\n",
    "for(i in 1:ncol(test)){\n",
    "    cat(colnames(test)[i],\"번째 칼럼의 빈도 분석 결과\\n\")\n",
    "    print(table(test[,i]))\n",
    "    cat(\"-------------------------\\n\")\n",
    "}\n",
    "table(test$A)"
   ]
  },
  {
   "cell_type": "code",
   "execution_count": 7,
   "id": "60f07deb",
   "metadata": {},
   "outputs": [
    {
     "name": "stdout",
     "output_type": "stream",
     "text": [
      "A 번째 칼럼 빈도수의 최대값과 최소값\n",
      "최대값 : 156 최소값: 3 \n",
      "------------------------------\n",
      "B 번째 칼럼 빈도수의 최대값과 최소값\n",
      "최대값 : 150 최소값: 7 \n",
      "------------------------------\n",
      "C 번째 칼럼 빈도수의 최대값과 최소값\n",
      "최대값 : 176 최소값: 3 \n",
      "------------------------------\n",
      "D 번째 칼럼 빈도수의 최대값과 최소값\n",
      "최대값 : 178 최소값: 30 \n",
      "------------------------------\n",
      "E 번째 칼럼 빈도수의 최대값과 최소값\n",
      "최대값 : 160 최소값: 8 \n",
      "------------------------------\n"
     ]
    }
   ],
   "source": [
    "# 각 칼럼 빈도수의 최대값, 최소값 구하기\n",
    "for(i in 1:ncol(test)){\n",
    "    cat(colnames(test)[i],\"번째 칼럼 빈도수의 최대값과 최소값\\n\")\n",
    "    f<-table(test[,i])\n",
    "    cat(\"최대값 :\",max(f),\"최소값:\",min(f),\"\\n\")\n",
    "    cat(\"------------------------------\\n\")\n",
    "}\n"
   ]
  },
  {
   "cell_type": "code",
   "execution_count": 10,
   "id": "120d684a",
   "metadata": {},
   "outputs": [
    {
     "name": "stdout",
     "output_type": "stream",
     "text": [
      "A 번째 칼럼의 빈도 분석 결과\n",
      "  1   2   3   4   5 \n",
      " 30 133 156  80   3 \n",
      "\n",
      "\n",
      "A 번째 칼럼 빈도수의 최대값과 최소값\n",
      "최대값 : 156 최소값: 3 \n",
      "==========================\n",
      "\n",
      "B 번째 칼럼의 빈도 분석 결과\n",
      "  1   2   3   4   5 \n",
      " 16 150  98 131   7 \n",
      "\n",
      "\n",
      "B 번째 칼럼 빈도수의 최대값과 최소값\n",
      "최대값 : 150 최소값: 7 \n",
      "==========================\n",
      "\n",
      "C 번째 칼럼의 빈도 분석 결과\n",
      "  1   2   3   4   5 \n",
      "  3  74  72 176  77 \n",
      "\n",
      "\n",
      "C 번째 칼럼 빈도수의 최대값과 최소값\n",
      "최대값 : 176 최소값: 3 \n",
      "==========================\n",
      "\n",
      "D 번째 칼럼의 빈도 분석 결과\n",
      "  1   2   3   4 \n",
      " 30 178 153  41 \n",
      "\n",
      "\n",
      "D 번째 칼럼 빈도수의 최대값과 최소값\n",
      "최대값 : 178 최소값: 30 \n",
      "==========================\n",
      "\n",
      "E 번째 칼럼의 빈도 분석 결과\n",
      "  1   2   3   4   5 \n",
      "  8  81 107 160  46 \n",
      "\n",
      "\n",
      "E 번째 칼럼 빈도수의 최대값과 최소값\n",
      "최대값 : 160 최소값: 8 \n",
      "==========================\n",
      "\n"
     ]
    }
   ],
   "source": [
    "tableMaxMin <- function(x){\n",
    "    for(i in 1:ncol(x)){\n",
    "    cat(colnames(x)[i],\"번째 칼럼의 빈도 분석 결과\")\n",
    "    print(table(x[,i]))\n",
    "    cat(\"\\n\\n\")\n",
    "    cat(colnames(x)[i],\"번째 칼럼 빈도수의 최대값과 최소값\\n\")\n",
    "    f<-table(x[,i])\n",
    "    cat(\"최대값 :\",max(f),\"최소값:\",min(f),\"\\n\")\n",
    "    cat(\"==========================\\n\\n\")\n",
    "        \n",
    "    }\n",
    "    \n",
    "}\n",
    "\n",
    "tableMaxMin(test)\n"
   ]
  },
  {
   "cell_type": "markdown",
   "id": "234fed85",
   "metadata": {},
   "source": [
    "\n",
    "\n",
    "\n",
    "\n",
    "---\n",
    "# 결측치(missing value) 자료 평균 계산\n"
   ]
  },
  {
   "cell_type": "code",
   "execution_count": 11,
   "id": "1badd045",
   "metadata": {},
   "outputs": [
    {
     "data": {
      "text/html": [
       "<ol class=list-inline>\n",
       "\t<li>10</li>\n",
       "\t<li>20</li>\n",
       "\t<li>30</li>\n",
       "\t<li>40</li>\n",
       "\t<li>5</li>\n",
       "\t<li>&lt;NA&gt;</li>\n",
       "\t<li>2</li>\n",
       "\t<li>&lt;NA&gt;</li>\n",
       "\t<li>3</li>\n",
       "\t<li>&lt;NA&gt;</li>\n",
       "</ol>\n"
      ],
      "text/latex": [
       "\\begin{enumerate*}\n",
       "\\item 10\n",
       "\\item 20\n",
       "\\item 30\n",
       "\\item 40\n",
       "\\item 5\n",
       "\\item <NA>\n",
       "\\item 2\n",
       "\\item <NA>\n",
       "\\item 3\n",
       "\\item <NA>\n",
       "\\end{enumerate*}\n"
      ],
      "text/markdown": [
       "1. 10\n",
       "2. 20\n",
       "3. 30\n",
       "4. 40\n",
       "5. 5\n",
       "6. &lt;NA&gt;\n",
       "7. 2\n",
       "8. &lt;NA&gt;\n",
       "9. 3\n",
       "10. &lt;NA&gt;\n",
       "\n",
       "\n"
      ],
      "text/plain": [
       " [1] 10 20 30 40  5 NA  2 NA  3 NA"
      ]
     },
     "metadata": {},
     "output_type": "display_data"
    }
   ],
   "source": [
    "data <- c(10,20,30,40,5,NA,2,NA,3,NA)\n",
    "data"
   ]
  },
  {
   "cell_type": "code",
   "execution_count": 12,
   "id": "9f3e12c1",
   "metadata": {},
   "outputs": [
    {
     "data": {
      "text/html": [
       "&lt;NA&gt;"
      ],
      "text/latex": [
       "<NA>"
      ],
      "text/markdown": [
       "&lt;NA&gt;"
      ],
      "text/plain": [
       "[1] NA"
      ]
     },
     "metadata": {},
     "output_type": "display_data"
    }
   ],
   "source": [
    "mean(data)"
   ]
  },
  {
   "cell_type": "code",
   "execution_count": 17,
   "id": "70e71e2e",
   "metadata": {},
   "outputs": [
    {
     "data": {
      "text/html": [
       "3"
      ],
      "text/latex": [
       "3"
      ],
      "text/markdown": [
       "3"
      ],
      "text/plain": [
       "[1] 3"
      ]
     },
     "metadata": {},
     "output_type": "display_data"
    },
    {
     "data": {
      "text/html": [
       "<ol class=list-inline>\n",
       "\t<li>FALSE</li>\n",
       "\t<li>FALSE</li>\n",
       "\t<li>FALSE</li>\n",
       "\t<li>FALSE</li>\n",
       "\t<li>FALSE</li>\n",
       "\t<li>TRUE</li>\n",
       "\t<li>FALSE</li>\n",
       "\t<li>TRUE</li>\n",
       "\t<li>FALSE</li>\n",
       "\t<li>TRUE</li>\n",
       "</ol>\n"
      ],
      "text/latex": [
       "\\begin{enumerate*}\n",
       "\\item FALSE\n",
       "\\item FALSE\n",
       "\\item FALSE\n",
       "\\item FALSE\n",
       "\\item FALSE\n",
       "\\item TRUE\n",
       "\\item FALSE\n",
       "\\item TRUE\n",
       "\\item FALSE\n",
       "\\item TRUE\n",
       "\\end{enumerate*}\n"
      ],
      "text/markdown": [
       "1. FALSE\n",
       "2. FALSE\n",
       "3. FALSE\n",
       "4. FALSE\n",
       "5. FALSE\n",
       "6. TRUE\n",
       "7. FALSE\n",
       "8. TRUE\n",
       "9. FALSE\n",
       "10. TRUE\n",
       "\n",
       "\n"
      ],
      "text/plain": [
       " [1] FALSE FALSE FALSE FALSE FALSE  TRUE FALSE  TRUE FALSE  TRUE"
      ]
     },
     "metadata": {},
     "output_type": "display_data"
    },
    {
     "data": {
      "text/plain": [
       "\n",
       "FALSE  TRUE \n",
       "    7     3 "
      ]
     },
     "metadata": {},
     "output_type": "display_data"
    }
   ],
   "source": [
    "# NA 갯수 구하기\n",
    "# true 1 false 0 다 더하면 갯수 나옴\n",
    "sum(is.na(data))\n",
    "is.na(data)\n",
    "# 똑같은 것의 갯수 구하는 것 = 빈도수(table)\n",
    "table(is.na(data))"
   ]
  },
  {
   "cell_type": "code",
   "execution_count": 19,
   "id": "0a005b37",
   "metadata": {
    "scrolled": true
   },
   "outputs": [
    {
     "data": {
      "text/html": [
       "15.7142857142857"
      ],
      "text/latex": [
       "15.7142857142857"
      ],
      "text/markdown": [
       "15.7142857142857"
      ],
      "text/plain": [
       "[1] 15.71429"
      ]
     },
     "metadata": {},
     "output_type": "display_data"
    }
   ],
   "source": [
    "# NA를 제외하고 평균 구하자\n",
    "# rm = remove : na를 지우기\n",
    "mean(data, na.rm=T)\n",
    "\n",
    "# 결측치를 무조건 제거하면 통계량을 얻을 수 없으며, 데이터의 손실로 문제 발생\n",
    "# -> 데이터프레임에서 한 row가 데이터인데 NA때문에 한 줄이 다 삭제될 수 있음\n",
    "# NA 개수가 한 칼럼에 30%가 넘으면 그 칼럼을 삭제해야함\n",
    "# 데이터 수집,저장,처리(다시 수집하러 가는 것),분석"
   ]
  },
  {
   "cell_type": "code",
   "execution_count": 21,
   "id": "894846dd",
   "metadata": {},
   "outputs": [
    {
     "data": {
      "text/html": [
       "11"
      ],
      "text/latex": [
       "11"
      ],
      "text/markdown": [
       "11"
      ],
      "text/plain": [
       "[1] 11"
      ]
     },
     "metadata": {},
     "output_type": "display_data"
    }
   ],
   "source": [
    "# 방법 1) NA를 0 으로 대체해서 평균값 구하기\n",
    "mean(ifelse(is.na(data), 0, data))"
   ]
  },
  {
   "cell_type": "code",
   "execution_count": 28,
   "id": "a9651774",
   "metadata": {},
   "outputs": [
    {
     "data": {
      "text/html": [
       "15.7142857142857"
      ],
      "text/latex": [
       "15.7142857142857"
      ],
      "text/markdown": [
       "15.7142857142857"
      ],
      "text/plain": [
       "[1] 15.71429"
      ]
     },
     "metadata": {},
     "output_type": "display_data"
    }
   ],
   "source": [
    "# 방법 2) NA를 평균으로 대체해서 평균값 구하기\n",
    "mean(ifelse(is.na(data), mean(data, na.rm=T), data))"
   ]
  },
  {
   "cell_type": "code",
   "execution_count": 29,
   "id": "5ae3372d",
   "metadata": {},
   "outputs": [
    {
     "data": {
      "text/html": [
       "14"
      ],
      "text/latex": [
       "14"
      ],
      "text/markdown": [
       "14"
      ],
      "text/plain": [
       "[1] 14"
      ]
     },
     "metadata": {},
     "output_type": "display_data"
    }
   ],
   "source": [
    "# 방법 3) NA를 중앙값으로 대체해서 평균값 구하기\n",
    "mean(ifelse(is.na(data), median(data, na.rm=T), data))"
   ]
  },
  {
   "cell_type": "code",
   "execution_count": 30,
   "id": "1d3e02fe",
   "metadata": {},
   "outputs": [
    {
     "data": {
      "text/html": [
       "23"
      ],
      "text/latex": [
       "23"
      ],
      "text/markdown": [
       "23"
      ],
      "text/plain": [
       "[1] 23"
      ]
     },
     "metadata": {},
     "output_type": "display_data"
    }
   ],
   "source": [
    "# 방법 4) NA를 최대값으로 대체해서 평균값 구하기\n",
    "mean(ifelse(is.na(data), max(data, na.rm=T), data))"
   ]
  },
  {
   "cell_type": "code",
   "execution_count": 31,
   "id": "2cb627a5",
   "metadata": {},
   "outputs": [
    {
     "data": {
      "text/html": [
       "11.6"
      ],
      "text/latex": [
       "11.6"
      ],
      "text/markdown": [
       "11.6"
      ],
      "text/plain": [
       "[1] 11.6"
      ]
     },
     "metadata": {},
     "output_type": "display_data"
    }
   ],
   "source": [
    "# 방법 5) NA를 최소값으로 대체해서 평균값 구하기\n",
    "mean(ifelse(is.na(data), min(data, na.rm=T), data))"
   ]
  },
  {
   "cell_type": "markdown",
   "id": "e3834e85",
   "metadata": {},
   "source": [
    "\n",
    "> 결측치를 제외한 평균 : 15.7142857142857 \\\n",
    "> 0 으로 대체 : 11\\\n",
    "> 평균으로 대체 : 15.7142857142857\\\n",
    "> 중앙값으로 대체 : 14\\\n",
    "> 최대값으로 대체 : 23\\\n",
    "> 최소값으로 대체 : 11.6\\"
   ]
  },
  {
   "cell_type": "code",
   "execution_count": null,
   "id": "ee8944ad",
   "metadata": {},
   "outputs": [],
   "source": []
  },
  {
   "cell_type": "code",
   "execution_count": null,
   "id": "61bbf2ae",
   "metadata": {},
   "outputs": [],
   "source": []
  },
  {
   "cell_type": "code",
   "execution_count": null,
   "id": "bf0d5536",
   "metadata": {},
   "outputs": [],
   "source": []
  },
  {
   "cell_type": "code",
   "execution_count": null,
   "id": "745fb665",
   "metadata": {},
   "outputs": [],
   "source": []
  }
 ],
 "metadata": {
  "kernelspec": {
   "display_name": "R",
   "language": "R",
   "name": "ir"
  },
  "language_info": {
   "codemirror_mode": "r",
   "file_extension": ".r",
   "mimetype": "text/x-r-source",
   "name": "R",
   "pygments_lexer": "r",
   "version": "3.6.1"
  }
 },
 "nbformat": 4,
 "nbformat_minor": 5
}
