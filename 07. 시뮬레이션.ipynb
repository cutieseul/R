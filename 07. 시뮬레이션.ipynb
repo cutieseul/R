{
 "cells": [
  {
   "cell_type": "code",
   "execution_count": 1,
   "id": "b831b41d",
   "metadata": {},
   "outputs": [],
   "source": [
    "# 데이터가 없을 때 쓰는게 시뮬레이션"
   ]
  },
  {
   "cell_type": "markdown",
   "id": "e9a8a84a",
   "metadata": {},
   "source": [
    "\n",
    "# 몬테카를로 시뮬레이션"
   ]
  },
  {
   "cell_type": "markdown",
   "id": "e5c49ace",
   "metadata": {},
   "source": [
    "### 동전의 앞면과 뒷면 시뮬레이션"
   ]
  },
  {
   "cell_type": "code",
   "execution_count": 2,
   "id": "0a7973ec",
   "metadata": {},
   "outputs": [
    {
     "name": "stdout",
     "output_type": "stream",
     "text": [
      "[1] 1\n"
     ]
    }
   ],
   "source": [
    "x <- runif(1)\n",
    "if(x <= 1/2){\n",
    "    result = 0 # 앞면\n",
    "}else{\n",
    "    result = 1 # 뒷면\n",
    "}\n",
    "print(result) # 계속 바뀜"
   ]
  },
  {
   "cell_type": "code",
   "execution_count": 3,
   "id": "f53a5653",
   "metadata": {},
   "outputs": [],
   "source": [
    "coin <- function(n){\n",
    "    count1 = 0 # 앞면\n",
    "    count2 = 0 # 뒷면\n",
    "    for(i in 1:n){\n",
    "        if(runif(1) <= 1/2){\n",
    "            count1 = count1 + 1\n",
    "        }else{\n",
    "            count2 = count2 + 1\n",
    "        }\n",
    "    }\n",
    "    cat(\"앞면 :\", count1, \"\\n\")\n",
    "    cat(\"뒷면 :\", count2, \"\\n\")\n",
    "    cat(\"=====================\\n\")\n",
    "}"
   ]
  },
  {
   "cell_type": "code",
   "execution_count": null,
   "id": "02d8b904",
   "metadata": {},
   "outputs": [],
   "source": []
  },
  {
   "cell_type": "code",
   "execution_count": 4,
   "id": "87ee9cc5",
   "metadata": {},
   "outputs": [
    {
     "name": "stdout",
     "output_type": "stream",
     "text": [
      "앞면 : 5 \n",
      "뒷면 : 5 \n",
      "=====================\n",
      "앞면 : 50 \n",
      "뒷면 : 50 \n",
      "=====================\n",
      "앞면 : 487 \n",
      "뒷면 : 513 \n",
      "=====================\n",
      "앞면 : 5013 \n",
      "뒷면 : 4987 \n",
      "=====================\n",
      "앞면 : 50000 \n",
      "뒷면 : 50000 \n",
      "=====================\n",
      "앞면 : 499576 \n",
      "뒷면 : 500424 \n",
      "=====================\n"
     ]
    }
   ],
   "source": [
    "# 데이터가 많아질수록 5:5 확률로 근접\n",
    "\n",
    "coin(10)\n",
    "coin(100)\n",
    "coin(1000)\n",
    "coin(10000)\n",
    "coin(100000)\n",
    "coin(1000000) # 5:5 확률로 근접\n"
   ]
  },
  {
   "cell_type": "markdown",
   "id": "284f0883",
   "metadata": {},
   "source": [
    "---\n",
    "### 가위,바위,보 시뮬레이션\n",
    "\n"
   ]
  },
  {
   "cell_type": "code",
   "execution_count": 5,
   "id": "9e8ad4b8",
   "metadata": {},
   "outputs": [],
   "source": [
    "rock <- function(n){\n",
    "    rock = 0 # 바위\n",
    "    scissors = 0 # 가위\n",
    "    paper = 0 # 보\n",
    "    \n",
    "    for(i in 1:n){\n",
    "        # rinif 는 하나만 있어야 됨\n",
    "        \n",
    "        x <- trunc(runif(1) * 3) + 1\n",
    "        \n",
    "        if(x == 1)rock = rock + 1\n",
    "        if(x == 2)scissors = scissors + 1\n",
    "        if(x == 3)paper = paper + 1\n",
    "        }\n",
    "    \n",
    "    cat(\"바위 :\", rock, \"\\n\")\n",
    "    cat(\"가위 :\", scissors, \"\\n\")\n",
    "     cat(\"보 :\", paper, \"\\n\")\n",
    "    cat(\"=====================\\n\")\n",
    "}"
   ]
  },
  {
   "cell_type": "code",
   "execution_count": 6,
   "id": "d59e2b90",
   "metadata": {
    "collapsed": true
   },
   "outputs": [
    {
     "name": "stdout",
     "output_type": "stream",
     "text": [
      "바위 : 6 \n",
      "가위 : 2 \n",
      "보 : 2 \n",
      "=====================\n",
      "바위 : 30 \n",
      "가위 : 40 \n",
      "보 : 30 \n",
      "=====================\n",
      "바위 : 346 \n",
      "가위 : 346 \n",
      "보 : 308 \n",
      "=====================\n",
      "바위 : 3269 \n",
      "가위 : 3378 \n",
      "보 : 3353 \n",
      "=====================\n",
      "바위 : 33374 \n",
      "가위 : 33322 \n",
      "보 : 33304 \n",
      "=====================\n",
      "바위 : 333219 \n",
      "가위 : 333153 \n",
      "보 : 333628 \n",
      "=====================\n"
     ]
    }
   ],
   "source": [
    "rock(10)\n",
    "rock(100)\n",
    "rock(1000)\n",
    "rock(10000)\n",
    "rock(100000)\n",
    "rock(1000000)\n"
   ]
  },
  {
   "cell_type": "markdown",
   "id": "027bb38e",
   "metadata": {},
   "source": [
    "----\n",
    "### 주사위 시뮬레이션"
   ]
  },
  {
   "cell_type": "code",
   "execution_count": 8,
   "id": "e984e423",
   "metadata": {},
   "outputs": [],
   "source": [
    "dice <- function(n){\n",
    "    \n",
    "    # 인덱스 값을 만들어 줌\n",
    "    result <- rep(0,6)\n",
    "    for(i in 1:n){\n",
    "        # +1 하는 이유 = 0값이기 때문\n",
    "         x <- trunc(runif(1) * 6) + 1\n",
    "        result[x] = result[x] + 1\n",
    "    }\n",
    "    \n",
    "    cat(\"Throw :\",n,\"\\n\")\n",
    "    for(a in 1:length(result)){\n",
    "        cat(\"No\",a,\"=>\",result[a],\"\\n\")\n",
    "    }\n",
    "    cat(\"----------------------\\n\")\n",
    "}\n",
    "\n",
    "# e+5 = 0이 5개 있다는 뜻\n",
    "# e-3 = 0.001"
   ]
  },
  {
   "cell_type": "code",
   "execution_count": 7,
   "id": "82241bad",
   "metadata": {},
   "outputs": [],
   "source": [
    "options(scipen = 999) # 1e+자릿수의 지수표기를 숫자만 출력하도록 변경"
   ]
  },
  {
   "cell_type": "code",
   "execution_count": 9,
   "id": "c9267019",
   "metadata": {
    "collapsed": true
   },
   "outputs": [
    {
     "name": "stdout",
     "output_type": "stream",
     "text": [
      "Throw : 10 \n",
      "No 1 => 2 \n",
      "No 2 => 2 \n",
      "No 3 => 1 \n",
      "No 4 => 1 \n",
      "No 5 => 0 \n",
      "No 6 => 4 \n",
      "----------------------\n",
      "Throw : 100 \n",
      "No 1 => 18 \n",
      "No 2 => 11 \n",
      "No 3 => 19 \n",
      "No 4 => 21 \n",
      "No 5 => 21 \n",
      "No 6 => 10 \n",
      "----------------------\n",
      "Throw : 1000 \n",
      "No 1 => 165 \n",
      "No 2 => 164 \n",
      "No 3 => 157 \n",
      "No 4 => 175 \n",
      "No 5 => 175 \n",
      "No 6 => 164 \n",
      "----------------------\n",
      "Throw : 10000 \n",
      "No 1 => 1685 \n",
      "No 2 => 1655 \n",
      "No 3 => 1654 \n",
      "No 4 => 1664 \n",
      "No 5 => 1626 \n",
      "No 6 => 1716 \n",
      "----------------------\n",
      "Throw : 100000 \n",
      "No 1 => 16730 \n",
      "No 2 => 16491 \n",
      "No 3 => 16523 \n",
      "No 4 => 16727 \n",
      "No 5 => 16758 \n",
      "No 6 => 16771 \n",
      "----------------------\n",
      "Throw : 1000000 \n",
      "No 1 => 166667 \n",
      "No 2 => 166804 \n",
      "No 3 => 166946 \n",
      "No 4 => 166109 \n",
      "No 5 => 166457 \n",
      "No 6 => 167017 \n",
      "----------------------\n"
     ]
    }
   ],
   "source": [
    "dice(10)\n",
    "dice(100)\n",
    "dice(1000)\n",
    "dice(10000)\n",
    "dice(100000)\n",
    "dice(1000000)\n"
   ]
  },
  {
   "cell_type": "code",
   "execution_count": null,
   "id": "78c10613",
   "metadata": {},
   "outputs": [],
   "source": []
  },
  {
   "cell_type": "code",
   "execution_count": null,
   "id": "bc55f53c",
   "metadata": {},
   "outputs": [],
   "source": []
  },
  {
   "cell_type": "code",
   "execution_count": null,
   "id": "4dbfa12f",
   "metadata": {},
   "outputs": [],
   "source": []
  },
  {
   "cell_type": "code",
   "execution_count": null,
   "id": "ac977175",
   "metadata": {},
   "outputs": [],
   "source": []
  },
  {
   "cell_type": "code",
   "execution_count": null,
   "id": "4f953ac8",
   "metadata": {},
   "outputs": [],
   "source": []
  },
  {
   "cell_type": "code",
   "execution_count": null,
   "id": "33d636a2",
   "metadata": {},
   "outputs": [],
   "source": []
  },
  {
   "cell_type": "code",
   "execution_count": null,
   "id": "7fc29bc6",
   "metadata": {},
   "outputs": [],
   "source": []
  },
  {
   "cell_type": "code",
   "execution_count": null,
   "id": "49e88a18",
   "metadata": {},
   "outputs": [],
   "source": []
  },
  {
   "cell_type": "code",
   "execution_count": null,
   "id": "e7a27468",
   "metadata": {},
   "outputs": [],
   "source": []
  },
  {
   "cell_type": "code",
   "execution_count": null,
   "id": "a5ad6a7a",
   "metadata": {},
   "outputs": [],
   "source": []
  }
 ],
 "metadata": {
  "kernelspec": {
   "display_name": "R",
   "language": "R",
   "name": "ir"
  },
  "language_info": {
   "codemirror_mode": "r",
   "file_extension": ".r",
   "mimetype": "text/x-r-source",
   "name": "R",
   "pygments_lexer": "r",
   "version": "3.6.1"
  }
 },
 "nbformat": 4,
 "nbformat_minor": 5
}
