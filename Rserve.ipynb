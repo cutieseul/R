{
 "cells": [
  {
   "cell_type": "code",
   "execution_count": 6,
   "id": "b11e9dd2",
   "metadata": {},
   "outputs": [],
   "source": [
    "library(Rserve)"
   ]
  },
  {
   "cell_type": "code",
   "execution_count": 9,
   "id": "4df4fb30",
   "metadata": {},
   "outputs": [
    {
     "name": "stdout",
     "output_type": "stream",
     "text": [
      "Starting Rserve on port 6311 :\n",
      " /Volumes/Data/opt/anaconda3/envs/RBase/lib/R/bin/R CMD /Volumes/Data/opt/anaconda3/envs/RBase/lib/R/library/Rserve/libs//Rserve --RS-encoding utf8 --no-save --RS-port 6311 \n",
      "\n"
     ]
    }
   ],
   "source": [
    "Rserve(FALSE, port=6311, args = \"--RS-encoding utf8 --no-save\")"
   ]
  },
  {
   "cell_type": "code",
   "execution_count": null,
   "id": "6a0cda6c",
   "metadata": {},
   "outputs": [],
   "source": []
  }
 ],
 "metadata": {
  "kernelspec": {
   "display_name": "R",
   "language": "R",
   "name": "ir"
  },
  "language_info": {
   "codemirror_mode": "r",
   "file_extension": ".r",
   "mimetype": "text/x-r-source",
   "name": "R",
   "pygments_lexer": "r",
   "version": "3.6.1"
  }
 },
 "nbformat": 4,
 "nbformat_minor": 5
}
