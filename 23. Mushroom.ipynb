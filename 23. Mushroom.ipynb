{
 "cells": [
  {
   "cell_type": "markdown",
   "id": "9b46c8b1",
   "metadata": {},
   "source": [
    "# Mushroom\n",
    "https://archive.ics.uci.edu/ml/datasets/Mushroom\n",
    "- 8124종류의 버섯의 특징과 독의유무를 정리해놓은 데이터셋\n",
    "- 버섯 모양의 특징을 기반으로 독의 유무를 판단\n",
    "\n",
    "한 줄(row)이 버섯 한종류.  \n",
    "1번째 칼럼은 독의 유무 : 독(p), 식용(e)  \n",
    "2번째 칼럼은 버섯의 머리모양 : b(벨형태), c(원뿔), x(볼록), f(평평), k(혹), s(오목)  \n",
    "4번째 칼럼은 버섯의 머리 색 : n(갈색), b(황갈색), c(회색)\n",
    "\n",
    "- 자세한 내용은 위의 사이트에서 확인"
   ]
  },
  {
   "cell_type": "markdown",
   "id": "59ac3de5",
   "metadata": {},
   "source": [
    "인공신경망, 의사결정나무, RandomForest, SVM, 로지스틱회귀분석"
   ]
  },
  {
   "cell_type": "code",
   "execution_count": 38,
   "id": "f57b2c62",
   "metadata": {
    "scrolled": false
   },
   "outputs": [
    {
     "data": {
      "text/plain": [
       " V1             V2              V3              V4               V5       \n",
       " e:4208   Min.   :1.000   Min.   :1.000   Min.   : 1.000   Min.   :1.000  \n",
       " p:3916   1st Qu.:3.000   1st Qu.:1.000   1st Qu.: 4.000   1st Qu.:1.000  \n",
       "          Median :4.000   Median :3.000   Median : 5.000   Median :1.000  \n",
       "          Mean   :4.348   Mean   :2.828   Mean   : 5.505   Mean   :1.416  \n",
       "          3rd Qu.:6.000   3rd Qu.:4.000   3rd Qu.: 9.000   3rd Qu.:2.000  \n",
       "          Max.   :6.000   Max.   :4.000   Max.   :10.000   Max.   :2.000  \n",
       "       V6              V7              V8              V9       \n",
       " Min.   :1.000   Min.   :1.000   Min.   :1.000   Min.   :1.000  \n",
       " 1st Qu.:3.000   1st Qu.:2.000   1st Qu.:1.000   1st Qu.:1.000  \n",
       " Median :6.000   Median :2.000   Median :1.000   Median :1.000  \n",
       " Mean   :5.145   Mean   :1.974   Mean   :1.161   Mean   :1.309  \n",
       " 3rd Qu.:6.000   3rd Qu.:2.000   3rd Qu.:1.000   3rd Qu.:2.000  \n",
       " Max.   :9.000   Max.   :2.000   Max.   :2.000   Max.   :2.000  \n",
       "      V10              V11             V12            V13       \n",
       " Min.   : 1.000   Min.   :1.000   Min.   :1.00   Min.   :1.000  \n",
       " 1st Qu.: 3.000   1st Qu.:1.000   1st Qu.:1.00   1st Qu.:2.000  \n",
       " Median : 6.000   Median :2.000   Median :2.00   Median :3.000  \n",
       " Mean   : 5.811   Mean   :1.567   Mean   :2.11   Mean   :2.575  \n",
       " 3rd Qu.: 8.000   3rd Qu.:2.000   3rd Qu.:2.00   3rd Qu.:3.000  \n",
       " Max.   :12.000   Max.   :2.000   Max.   :5.00   Max.   :4.000  \n",
       "      V14             V15             V16             V18       \n",
       " Min.   :1.000   Min.   :1.000   Min.   :1.000   Min.   :1.000  \n",
       " 1st Qu.:2.000   1st Qu.:7.000   1st Qu.:7.000   1st Qu.:3.000  \n",
       " Median :3.000   Median :8.000   Median :8.000   Median :3.000  \n",
       " Mean   :2.604   Mean   :6.816   Mean   :6.795   Mean   :2.966  \n",
       " 3rd Qu.:3.000   3rd Qu.:8.000   3rd Qu.:8.000   3rd Qu.:3.000  \n",
       " Max.   :4.000   Max.   :9.000   Max.   :9.000   Max.   :4.000  \n",
       "      V19             V20             V21             V22       \n",
       " Min.   :1.000   Min.   :1.000   Min.   :1.000   Min.   :1.000  \n",
       " 1st Qu.:2.000   1st Qu.:1.000   1st Qu.:3.000   1st Qu.:4.000  \n",
       " Median :2.000   Median :3.000   Median :4.000   Median :5.000  \n",
       " Mean   :2.069   Mean   :3.292   Mean   :4.597   Mean   :4.644  \n",
       " 3rd Qu.:2.000   3rd Qu.:5.000   3rd Qu.:8.000   3rd Qu.:5.000  \n",
       " Max.   :3.000   Max.   :5.000   Max.   :9.000   Max.   :6.000  \n",
       "      V23       \n",
       " Min.   :1.000  \n",
       " 1st Qu.:1.000  \n",
       " Median :2.000  \n",
       " Mean   :2.509  \n",
       " 3rd Qu.:3.000  \n",
       " Max.   :7.000  "
      ]
     },
     "metadata": {},
     "output_type": "display_data"
    }
   ],
   "source": [
    "library(nnet)\n",
    "library(party)\n",
    "library(caret)\n",
    "library(party)\n",
    "library(randomForest)\n",
    "library(e1071)\n",
    "mushroom<- read.csv(\"../Data/mushroom.csv\" , header = F)[,-17]\n",
    "# head(mushroom)\n",
    "for(i in 2:22){\n",
    "mushroom[,i] <- as.numeric(mushroom[,i])\n",
    "}\n",
    "\n",
    "\n",
    "a <- subset(mushroom, V1==\"p\")\n",
    "b <- subset(mushroom, V1==\"e\")\n",
    "mushroom <- rbind(a,b)\n",
    "rownames(mushroom) <- c()\n",
    "summary(mushroom)"
   ]
  },
  {
   "cell_type": "code",
   "execution_count": 24,
   "id": "87507e7d",
   "metadata": {},
   "outputs": [],
   "source": [
    "# Sampling\n",
    "\n",
    "samp <- createDataPartition(mushroom$V1, p=0.7, list=F)\n",
    "\n",
    "# 학습용 데이터 만들기\n",
    "data.tr <- mushroom[samp,]\n",
    "# 검증용 데이터 만들기\n",
    "data.test <- mushroom[-samp,]\n",
    "\n",
    "# 문제와 정답\n",
    "x <- subset(data.test, select= -V1)\n",
    "y <- data.test$V1\n",
    "\n"
   ]
  },
  {
   "cell_type": "markdown",
   "id": "c6a90ef3",
   "metadata": {},
   "source": [
    "# 인공신경망"
   ]
  },
  {
   "cell_type": "code",
   "execution_count": 40,
   "id": "612952a0",
   "metadata": {},
   "outputs": [
    {
     "name": "stdout",
     "output_type": "stream",
     "text": [
      "# weights:  23 (22 variable)\n",
      "initial  value 3942.621163 \n",
      "iter  10 value 1590.210238\n",
      "iter  20 value 1270.296191\n",
      "iter  30 value 835.422473\n",
      "iter  40 value 750.821662\n",
      "iter  50 value 721.666602\n",
      "iter  60 value 721.641247\n",
      "final  value 721.627470 \n",
      "converged\n"
     ]
    },
    {
     "data": {
      "text/html": [
       "0.970443349753695"
      ],
      "text/latex": [
       "0.970443349753695"
      ],
      "text/markdown": [
       "0.970443349753695"
      ],
      "text/plain": [
       "[1] 0.9704433"
      ]
     },
     "metadata": {},
     "output_type": "display_data"
    },
    {
     "data": {
      "text/plain": [
       "    y\n",
       "pred    e    p\n",
       "   e 1219   29\n",
       "   p   43 1145"
      ]
     },
     "metadata": {},
     "output_type": "display_data"
    }
   ],
   "source": [
    "model <- multinom(V1 ~ .,data=data.tr)\n",
    "pred <- predict(model, x)\n",
    "mean(pred ==y)\n",
    "table(pred,y)"
   ]
  },
  {
   "cell_type": "markdown",
   "id": "9f2c1426",
   "metadata": {},
   "source": [
    "# 의사결정나무"
   ]
  },
  {
   "cell_type": "code",
   "execution_count": 27,
   "id": "8eaf26db",
   "metadata": {
    "scrolled": true
   },
   "outputs": [
    {
     "data": {
      "text/html": [
       "1"
      ],
      "text/latex": [
       "1"
      ],
      "text/markdown": [
       "1"
      ],
      "text/plain": [
       "[1] 1"
      ]
     },
     "metadata": {},
     "output_type": "display_data"
    },
    {
     "data": {
      "text/plain": [
       "    y\n",
       "pred    e    p\n",
       "   e 1262    0\n",
       "   p    0 1174"
      ]
     },
     "metadata": {},
     "output_type": "display_data"
    }
   ],
   "source": [
    "# 학습\n",
    "model.ctree <- ctree(V1 ~ ., data=data.tr)\n",
    "    \n",
    "# 검증하기\n",
    "pred <- predict(model.ctree, x)\n",
    "    \n",
    "# 예측률 \n",
    "mean(pred == y)\n",
    "table(pred,y)\n"
   ]
  },
  {
   "cell_type": "markdown",
   "id": "6d055c79",
   "metadata": {},
   "source": [
    "# RandomForest"
   ]
  },
  {
   "cell_type": "code",
   "execution_count": 28,
   "id": "427898cf",
   "metadata": {},
   "outputs": [
    {
     "data": {
      "text/html": [
       "1"
      ],
      "text/latex": [
       "1"
      ],
      "text/markdown": [
       "1"
      ],
      "text/plain": [
       "[1] 1"
      ]
     },
     "metadata": {},
     "output_type": "display_data"
    }
   ],
   "source": [
    "# 학습시키기\n",
    "model.rf <- randomForest(V1 ~ ., data = data.tr, ntree=100)\n",
    "      \n",
    "# 검증\n",
    "pred <- predict(model.rf, x)\n",
    "\n",
    "# 예측도\n",
    "mean(pred == y)"
   ]
  },
  {
   "cell_type": "markdown",
   "id": "62ec334e",
   "metadata": {},
   "source": [
    "# SVM"
   ]
  },
  {
   "cell_type": "code",
   "execution_count": 29,
   "id": "a85563b4",
   "metadata": {},
   "outputs": [
    {
     "data": {
      "text/html": [
       "1"
      ],
      "text/latex": [
       "1"
      ],
      "text/markdown": [
       "1"
      ],
      "text/plain": [
       "[1] 1"
      ]
     },
     "metadata": {},
     "output_type": "display_data"
    },
    {
     "data": {
      "text/plain": [
       "    y\n",
       "pred    e    p\n",
       "   e 1262    0\n",
       "   p    0 1174"
      ]
     },
     "metadata": {},
     "output_type": "display_data"
    }
   ],
   "source": [
    "model.svm = svm(V1 ~ ., data=data.tr)\n",
    "# 검증하기\n",
    "pred <- predict(model.svm, x)\n",
    "\n",
    "mean(pred ==y)\n",
    "table(pred ,y)"
   ]
  },
  {
   "cell_type": "code",
   "execution_count": null,
   "id": "c7a7e101",
   "metadata": {},
   "outputs": [],
   "source": []
  },
  {
   "cell_type": "code",
   "execution_count": null,
   "id": "1759db3a",
   "metadata": {},
   "outputs": [],
   "source": []
  }
 ],
 "metadata": {
  "kernelspec": {
   "display_name": "R",
   "language": "R",
   "name": "ir"
  },
  "language_info": {
   "codemirror_mode": "r",
   "file_extension": ".r",
   "mimetype": "text/x-r-source",
   "name": "R",
   "pygments_lexer": "r",
   "version": "3.6.1"
  }
 },
 "nbformat": 4,
 "nbformat_minor": 5
}
