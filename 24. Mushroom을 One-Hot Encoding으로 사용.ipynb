{
 "cells": [
  {
   "cell_type": "code",
   "execution_count": 51,
   "id": "d35566b3",
   "metadata": {},
   "outputs": [
    {
     "data": {
      "text/html": [
       "<table>\n",
       "<thead><tr><th scope=col>V1</th><th scope=col>V2</th><th scope=col>V3</th><th scope=col>V4</th><th scope=col>V5</th><th scope=col>V6</th><th scope=col>V7</th><th scope=col>V8</th><th scope=col>V9</th><th scope=col>V10</th><th scope=col>...</th><th scope=col>V14</th><th scope=col>V15</th><th scope=col>V16</th><th scope=col>V17</th><th scope=col>V18</th><th scope=col>V19</th><th scope=col>V20</th><th scope=col>V21</th><th scope=col>V22</th><th scope=col>V23</th></tr></thead>\n",
       "<tbody>\n",
       "\t<tr><td>p  </td><td>x  </td><td>s  </td><td>n  </td><td>t  </td><td>p  </td><td>f  </td><td>c  </td><td>n  </td><td>k  </td><td>...</td><td>s  </td><td>w  </td><td>w  </td><td>p  </td><td>w  </td><td>o  </td><td>p  </td><td>k  </td><td>s  </td><td>u  </td></tr>\n",
       "\t<tr><td>e  </td><td>x  </td><td>s  </td><td>y  </td><td>t  </td><td>a  </td><td>f  </td><td>c  </td><td>b  </td><td>k  </td><td>...</td><td>s  </td><td>w  </td><td>w  </td><td>p  </td><td>w  </td><td>o  </td><td>p  </td><td>n  </td><td>n  </td><td>g  </td></tr>\n",
       "\t<tr><td>e  </td><td>b  </td><td>s  </td><td>w  </td><td>t  </td><td>l  </td><td>f  </td><td>c  </td><td>b  </td><td>n  </td><td>...</td><td>s  </td><td>w  </td><td>w  </td><td>p  </td><td>w  </td><td>o  </td><td>p  </td><td>n  </td><td>n  </td><td>m  </td></tr>\n",
       "\t<tr><td>p  </td><td>x  </td><td>y  </td><td>w  </td><td>t  </td><td>p  </td><td>f  </td><td>c  </td><td>n  </td><td>n  </td><td>...</td><td>s  </td><td>w  </td><td>w  </td><td>p  </td><td>w  </td><td>o  </td><td>p  </td><td>k  </td><td>s  </td><td>u  </td></tr>\n",
       "\t<tr><td>e  </td><td>x  </td><td>s  </td><td>g  </td><td>f  </td><td>n  </td><td>f  </td><td>w  </td><td>b  </td><td>k  </td><td>...</td><td>s  </td><td>w  </td><td>w  </td><td>p  </td><td>w  </td><td>o  </td><td>e  </td><td>n  </td><td>a  </td><td>g  </td></tr>\n",
       "\t<tr><td>e  </td><td>x  </td><td>y  </td><td>y  </td><td>t  </td><td>a  </td><td>f  </td><td>c  </td><td>b  </td><td>n  </td><td>...</td><td>s  </td><td>w  </td><td>w  </td><td>p  </td><td>w  </td><td>o  </td><td>p  </td><td>k  </td><td>n  </td><td>g  </td></tr>\n",
       "</tbody>\n",
       "</table>\n"
      ],
      "text/latex": [
       "\\begin{tabular}{r|lllllllllllllllllllllll}\n",
       " V1 & V2 & V3 & V4 & V5 & V6 & V7 & V8 & V9 & V10 & ... & V14 & V15 & V16 & V17 & V18 & V19 & V20 & V21 & V22 & V23\\\\\n",
       "\\hline\n",
       "\t p   & x   & s   & n   & t   & p   & f   & c   & n   & k   & ... & s   & w   & w   & p   & w   & o   & p   & k   & s   & u  \\\\\n",
       "\t e   & x   & s   & y   & t   & a   & f   & c   & b   & k   & ... & s   & w   & w   & p   & w   & o   & p   & n   & n   & g  \\\\\n",
       "\t e   & b   & s   & w   & t   & l   & f   & c   & b   & n   & ... & s   & w   & w   & p   & w   & o   & p   & n   & n   & m  \\\\\n",
       "\t p   & x   & y   & w   & t   & p   & f   & c   & n   & n   & ... & s   & w   & w   & p   & w   & o   & p   & k   & s   & u  \\\\\n",
       "\t e   & x   & s   & g   & f   & n   & f   & w   & b   & k   & ... & s   & w   & w   & p   & w   & o   & e   & n   & a   & g  \\\\\n",
       "\t e   & x   & y   & y   & t   & a   & f   & c   & b   & n   & ... & s   & w   & w   & p   & w   & o   & p   & k   & n   & g  \\\\\n",
       "\\end{tabular}\n"
      ],
      "text/markdown": [
       "\n",
       "| V1 | V2 | V3 | V4 | V5 | V6 | V7 | V8 | V9 | V10 | ... | V14 | V15 | V16 | V17 | V18 | V19 | V20 | V21 | V22 | V23 |\n",
       "|---|---|---|---|---|---|---|---|---|---|---|---|---|---|---|---|---|---|---|---|---|\n",
       "| p   | x   | s   | n   | t   | p   | f   | c   | n   | k   | ... | s   | w   | w   | p   | w   | o   | p   | k   | s   | u   |\n",
       "| e   | x   | s   | y   | t   | a   | f   | c   | b   | k   | ... | s   | w   | w   | p   | w   | o   | p   | n   | n   | g   |\n",
       "| e   | b   | s   | w   | t   | l   | f   | c   | b   | n   | ... | s   | w   | w   | p   | w   | o   | p   | n   | n   | m   |\n",
       "| p   | x   | y   | w   | t   | p   | f   | c   | n   | n   | ... | s   | w   | w   | p   | w   | o   | p   | k   | s   | u   |\n",
       "| e   | x   | s   | g   | f   | n   | f   | w   | b   | k   | ... | s   | w   | w   | p   | w   | o   | e   | n   | a   | g   |\n",
       "| e   | x   | y   | y   | t   | a   | f   | c   | b   | n   | ... | s   | w   | w   | p   | w   | o   | p   | k   | n   | g   |\n",
       "\n"
      ],
      "text/plain": [
       "  V1 V2 V3 V4 V5 V6 V7 V8 V9 V10 ... V14 V15 V16 V17 V18 V19 V20 V21 V22 V23\n",
       "1 p  x  s  n  t  p  f  c  n  k   ... s   w   w   p   w   o   p   k   s   u  \n",
       "2 e  x  s  y  t  a  f  c  b  k   ... s   w   w   p   w   o   p   n   n   g  \n",
       "3 e  b  s  w  t  l  f  c  b  n   ... s   w   w   p   w   o   p   n   n   m  \n",
       "4 p  x  y  w  t  p  f  c  n  n   ... s   w   w   p   w   o   p   k   s   u  \n",
       "5 e  x  s  g  f  n  f  w  b  k   ... s   w   w   p   w   o   e   n   a   g  \n",
       "6 e  x  y  y  t  a  f  c  b  n   ... s   w   w   p   w   o   p   k   n   g  "
      ]
     },
     "metadata": {},
     "output_type": "display_data"
    }
   ],
   "source": [
    "mr <- read.csv(\"../Data/mushroom.csv\", header = F)\n",
    "head(mr)"
   ]
  },
  {
   "cell_type": "code",
   "execution_count": 52,
   "id": "9475dbf7",
   "metadata": {},
   "outputs": [
    {
     "data": {
      "text/html": [
       "<table>\n",
       "<thead><tr><th scope=col>V1</th><th scope=col>V2</th><th scope=col>V3</th><th scope=col>V4</th><th scope=col>V5</th><th scope=col>V6</th><th scope=col>V7</th><th scope=col>V8</th><th scope=col>V9</th><th scope=col>V10</th><th scope=col>...</th><th scope=col>V14</th><th scope=col>V15</th><th scope=col>V16</th><th scope=col>V17</th><th scope=col>V18</th><th scope=col>V19</th><th scope=col>V20</th><th scope=col>V21</th><th scope=col>V22</th><th scope=col>V23</th></tr></thead>\n",
       "<tbody>\n",
       "\t<tr><td>p  </td><td>6  </td><td>3  </td><td> 5 </td><td>2  </td><td>7  </td><td>2  </td><td>1  </td><td>2  </td><td>5  </td><td>...</td><td>3  </td><td>8  </td><td>8  </td><td>1  </td><td>3  </td><td>2  </td><td>5  </td><td>3  </td><td>4  </td><td>6  </td></tr>\n",
       "\t<tr><td>e  </td><td>6  </td><td>3  </td><td>10 </td><td>2  </td><td>1  </td><td>2  </td><td>1  </td><td>1  </td><td>5  </td><td>...</td><td>3  </td><td>8  </td><td>8  </td><td>1  </td><td>3  </td><td>2  </td><td>5  </td><td>4  </td><td>3  </td><td>2  </td></tr>\n",
       "\t<tr><td>e  </td><td>1  </td><td>3  </td><td> 9 </td><td>2  </td><td>4  </td><td>2  </td><td>1  </td><td>1  </td><td>6  </td><td>...</td><td>3  </td><td>8  </td><td>8  </td><td>1  </td><td>3  </td><td>2  </td><td>5  </td><td>4  </td><td>3  </td><td>4  </td></tr>\n",
       "\t<tr><td>p  </td><td>6  </td><td>4  </td><td> 9 </td><td>2  </td><td>7  </td><td>2  </td><td>1  </td><td>2  </td><td>6  </td><td>...</td><td>3  </td><td>8  </td><td>8  </td><td>1  </td><td>3  </td><td>2  </td><td>5  </td><td>3  </td><td>4  </td><td>6  </td></tr>\n",
       "\t<tr><td>e  </td><td>6  </td><td>3  </td><td> 4 </td><td>1  </td><td>6  </td><td>2  </td><td>2  </td><td>1  </td><td>5  </td><td>...</td><td>3  </td><td>8  </td><td>8  </td><td>1  </td><td>3  </td><td>2  </td><td>1  </td><td>4  </td><td>1  </td><td>2  </td></tr>\n",
       "\t<tr><td>e  </td><td>6  </td><td>4  </td><td>10 </td><td>2  </td><td>1  </td><td>2  </td><td>1  </td><td>1  </td><td>6  </td><td>...</td><td>3  </td><td>8  </td><td>8  </td><td>1  </td><td>3  </td><td>2  </td><td>5  </td><td>3  </td><td>3  </td><td>2  </td></tr>\n",
       "</tbody>\n",
       "</table>\n"
      ],
      "text/latex": [
       "\\begin{tabular}{r|lllllllllllllllllllllll}\n",
       " V1 & V2 & V3 & V4 & V5 & V6 & V7 & V8 & V9 & V10 & ... & V14 & V15 & V16 & V17 & V18 & V19 & V20 & V21 & V22 & V23\\\\\n",
       "\\hline\n",
       "\t p   & 6   & 3   &  5  & 2   & 7   & 2   & 1   & 2   & 5   & ... & 3   & 8   & 8   & 1   & 3   & 2   & 5   & 3   & 4   & 6  \\\\\n",
       "\t e   & 6   & 3   & 10  & 2   & 1   & 2   & 1   & 1   & 5   & ... & 3   & 8   & 8   & 1   & 3   & 2   & 5   & 4   & 3   & 2  \\\\\n",
       "\t e   & 1   & 3   &  9  & 2   & 4   & 2   & 1   & 1   & 6   & ... & 3   & 8   & 8   & 1   & 3   & 2   & 5   & 4   & 3   & 4  \\\\\n",
       "\t p   & 6   & 4   &  9  & 2   & 7   & 2   & 1   & 2   & 6   & ... & 3   & 8   & 8   & 1   & 3   & 2   & 5   & 3   & 4   & 6  \\\\\n",
       "\t e   & 6   & 3   &  4  & 1   & 6   & 2   & 2   & 1   & 5   & ... & 3   & 8   & 8   & 1   & 3   & 2   & 1   & 4   & 1   & 2  \\\\\n",
       "\t e   & 6   & 4   & 10  & 2   & 1   & 2   & 1   & 1   & 6   & ... & 3   & 8   & 8   & 1   & 3   & 2   & 5   & 3   & 3   & 2  \\\\\n",
       "\\end{tabular}\n"
      ],
      "text/markdown": [
       "\n",
       "| V1 | V2 | V3 | V4 | V5 | V6 | V7 | V8 | V9 | V10 | ... | V14 | V15 | V16 | V17 | V18 | V19 | V20 | V21 | V22 | V23 |\n",
       "|---|---|---|---|---|---|---|---|---|---|---|---|---|---|---|---|---|---|---|---|---|\n",
       "| p   | 6   | 3   |  5  | 2   | 7   | 2   | 1   | 2   | 5   | ... | 3   | 8   | 8   | 1   | 3   | 2   | 5   | 3   | 4   | 6   |\n",
       "| e   | 6   | 3   | 10  | 2   | 1   | 2   | 1   | 1   | 5   | ... | 3   | 8   | 8   | 1   | 3   | 2   | 5   | 4   | 3   | 2   |\n",
       "| e   | 1   | 3   |  9  | 2   | 4   | 2   | 1   | 1   | 6   | ... | 3   | 8   | 8   | 1   | 3   | 2   | 5   | 4   | 3   | 4   |\n",
       "| p   | 6   | 4   |  9  | 2   | 7   | 2   | 1   | 2   | 6   | ... | 3   | 8   | 8   | 1   | 3   | 2   | 5   | 3   | 4   | 6   |\n",
       "| e   | 6   | 3   |  4  | 1   | 6   | 2   | 2   | 1   | 5   | ... | 3   | 8   | 8   | 1   | 3   | 2   | 1   | 4   | 1   | 2   |\n",
       "| e   | 6   | 4   | 10  | 2   | 1   | 2   | 1   | 1   | 6   | ... | 3   | 8   | 8   | 1   | 3   | 2   | 5   | 3   | 3   | 2   |\n",
       "\n"
      ],
      "text/plain": [
       "  V1 V2 V3 V4 V5 V6 V7 V8 V9 V10 ... V14 V15 V16 V17 V18 V19 V20 V21 V22 V23\n",
       "1 p  6  3   5 2  7  2  1  2  5   ... 3   8   8   1   3   2   5   3   4   6  \n",
       "2 e  6  3  10 2  1  2  1  1  5   ... 3   8   8   1   3   2   5   4   3   2  \n",
       "3 e  1  3   9 2  4  2  1  1  6   ... 3   8   8   1   3   2   5   4   3   4  \n",
       "4 p  6  4   9 2  7  2  1  2  6   ... 3   8   8   1   3   2   5   3   4   6  \n",
       "5 e  6  3   4 1  6  2  2  1  5   ... 3   8   8   1   3   2   1   4   1   2  \n",
       "6 e  6  4  10 2  1  2  1  1  6   ... 3   8   8   1   3   2   5   3   3   2  "
      ]
     },
     "metadata": {},
     "output_type": "display_data"
    }
   ],
   "source": [
    "# 문자를 숫자로 변환\n",
    "for(i in 2:23){\n",
    "    mr[,i] <- as.numeric(mr[,i])\n",
    "}\n",
    "head(mr)"
   ]
  },
  {
   "cell_type": "code",
   "execution_count": 53,
   "id": "3901a790",
   "metadata": {},
   "outputs": [
    {
     "data": {
      "text/html": [
       "<ol class=list-inline>\n",
       "\t<li>6</li>\n",
       "\t<li>1</li>\n",
       "\t<li>5</li>\n",
       "\t<li>3</li>\n",
       "\t<li>4</li>\n",
       "\t<li>2</li>\n",
       "</ol>\n"
      ],
      "text/latex": [
       "\\begin{enumerate*}\n",
       "\\item 6\n",
       "\\item 1\n",
       "\\item 5\n",
       "\\item 3\n",
       "\\item 4\n",
       "\\item 2\n",
       "\\end{enumerate*}\n"
      ],
      "text/markdown": [
       "1. 6\n",
       "2. 1\n",
       "3. 5\n",
       "4. 3\n",
       "5. 4\n",
       "6. 2\n",
       "\n",
       "\n"
      ],
      "text/plain": [
       "[1] 6 1 5 3 4 2"
      ]
     },
     "metadata": {},
     "output_type": "display_data"
    }
   ],
   "source": [
    "unique(mr$V2)\n",
    "# 여섯개 있기 때문에 V2칼럼을 여섯개로 나눠야 함"
   ]
  },
  {
   "cell_type": "code",
   "execution_count": 54,
   "id": "28983977",
   "metadata": {
    "scrolled": true
   },
   "outputs": [
    {
     "name": "stdout",
     "output_type": "stream",
     "text": [
      "colmn name: V2\n",
      "   1    2    3    4    5    6 \n",
      " 452    4 3152  828   32 3656 \n",
      "-----------------------------------\n",
      "colmn name: V3\n",
      "   1    2    3    4 \n",
      "2320    4 2556 3244 \n",
      "-----------------------------------\n",
      "colmn name: V4\n",
      "   1    2    3    4    5    6    7    8    9   10 \n",
      " 168   44 1500 1840 2284  144   16   16 1040 1072 \n",
      "-----------------------------------\n",
      "colmn name: V5\n",
      "   1    2 \n",
      "4748 3376 \n",
      "-----------------------------------\n",
      "colmn name: V6\n",
      "   1    2    3    4    5    6    7    8    9 \n",
      " 400  192 2160  400   36 3528  256  576  576 \n",
      "-----------------------------------\n",
      "colmn name: V7\n",
      "   1    2 \n",
      " 210 7914 \n",
      "-----------------------------------\n",
      "colmn name: V8\n",
      "   1    2 \n",
      "6812 1312 \n",
      "-----------------------------------\n",
      "colmn name: V9\n",
      "   1    2 \n",
      "5612 2512 \n",
      "-----------------------------------\n",
      "colmn name: V10\n",
      "   1    2    3    4    5    6    7    8    9   10   11   12 \n",
      "1728   96  752  732  408 1048   64 1492   24  492 1202   86 \n",
      "-----------------------------------\n",
      "colmn name: V11\n",
      "   1    2 \n",
      "3516 4608 \n",
      "-----------------------------------\n",
      "colmn name: V12\n",
      "   1    2    3    4    5 \n",
      "2480 3776  556 1120  192 \n",
      "-----------------------------------\n",
      "colmn name: V13\n",
      "   1    2    3    4 \n",
      " 552 2372 5176   24 \n",
      "-----------------------------------\n",
      "colmn name: V14\n",
      "   1    2    3    4 \n",
      " 600 2304 4936  284 \n",
      "-----------------------------------\n",
      "colmn name: V15\n",
      "   1    2    3    4    5    6    7    8    9 \n",
      " 432   36   96  576  448  192 1872 4464    8 \n",
      "-----------------------------------\n",
      "colmn name: V16\n",
      "   1    2    3    4    5    6    7    8    9 \n",
      " 432   36   96  576  512  192 1872 4384   24 \n",
      "-----------------------------------\n",
      "colmn name: V17\n",
      "   1 \n",
      "8124 \n",
      "-----------------------------------\n",
      "colmn name: V18\n",
      "   1    2    3    4 \n",
      "  96   96 7924    8 \n",
      "-----------------------------------\n",
      "colmn name: V19\n",
      "   1    2    3 \n",
      "  36 7488  600 \n",
      "-----------------------------------\n",
      "colmn name: V20\n",
      "   1    2    3    4    5 \n",
      "2776   48 1296   36 3968 \n",
      "-----------------------------------\n",
      "colmn name: V21\n",
      "   1    2    3    4    5    6    7    8    9 \n",
      "  48 1632 1872 1968   48   72   48 2388   48 \n",
      "-----------------------------------\n",
      "colmn name: V22\n",
      "   1    2    3    4    5    6 \n",
      " 384  340  400 1248 4040 1712 \n",
      "-----------------------------------\n",
      "colmn name: V23\n",
      "   1    2    3    4    5    6    7 \n",
      "3148 2148  832  292 1144  368  192 \n",
      "-----------------------------------\n"
     ]
    }
   ],
   "source": [
    "# 각 칼럼별 Data 확인\n",
    "for(i in 2:23){\n",
    "    cat(\"colmn name:\", colnames(mr)[i])\n",
    "    print(table(mr[,i]))\n",
    "    cat(\"-----------------------------------\\n\")\n",
    "    \n",
    "}"
   ]
  },
  {
   "cell_type": "code",
   "execution_count": 55,
   "id": "3d9e7cd3",
   "metadata": {},
   "outputs": [
    {
     "data": {
      "text/html": [
       "<ol class=list-inline>\n",
       "\t<li>6</li>\n",
       "\t<li>4</li>\n",
       "\t<li>10</li>\n",
       "\t<li>2</li>\n",
       "\t<li>9</li>\n",
       "\t<li>2</li>\n",
       "\t<li>2</li>\n",
       "\t<li>2</li>\n",
       "\t<li>12</li>\n",
       "\t<li>2</li>\n",
       "\t<li>5</li>\n",
       "\t<li>4</li>\n",
       "\t<li>4</li>\n",
       "\t<li>9</li>\n",
       "\t<li>9</li>\n",
       "\t<li>1</li>\n",
       "\t<li>4</li>\n",
       "\t<li>3</li>\n",
       "\t<li>5</li>\n",
       "\t<li>9</li>\n",
       "\t<li>6</li>\n",
       "\t<li>7</li>\n",
       "</ol>\n"
      ],
      "text/latex": [
       "\\begin{enumerate*}\n",
       "\\item 6\n",
       "\\item 4\n",
       "\\item 10\n",
       "\\item 2\n",
       "\\item 9\n",
       "\\item 2\n",
       "\\item 2\n",
       "\\item 2\n",
       "\\item 12\n",
       "\\item 2\n",
       "\\item 5\n",
       "\\item 4\n",
       "\\item 4\n",
       "\\item 9\n",
       "\\item 9\n",
       "\\item 1\n",
       "\\item 4\n",
       "\\item 3\n",
       "\\item 5\n",
       "\\item 9\n",
       "\\item 6\n",
       "\\item 7\n",
       "\\end{enumerate*}\n"
      ],
      "text/markdown": [
       "1. 6\n",
       "2. 4\n",
       "3. 10\n",
       "4. 2\n",
       "5. 9\n",
       "6. 2\n",
       "7. 2\n",
       "8. 2\n",
       "9. 12\n",
       "10. 2\n",
       "11. 5\n",
       "12. 4\n",
       "13. 4\n",
       "14. 9\n",
       "15. 9\n",
       "16. 1\n",
       "17. 4\n",
       "18. 3\n",
       "19. 5\n",
       "20. 9\n",
       "21. 6\n",
       "22. 7\n",
       "\n",
       "\n"
      ],
      "text/plain": [
       " [1]  6  4 10  2  9  2  2  2 12  2  5  4  4  9  9  1  4  3  5  9  6  7"
      ]
     },
     "metadata": {},
     "output_type": "display_data"
    },
    {
     "data": {
      "text/html": [
       "117"
      ],
      "text/latex": [
       "117"
      ],
      "text/markdown": [
       "117"
      ],
      "text/plain": [
       "[1] 117"
      ]
     },
     "metadata": {},
     "output_type": "display_data"
    }
   ],
   "source": [
    "# 작업 수행후의 칼럼 갯수 파악\n",
    "\n",
    "num <- c()\n",
    "for(i in 2:23){\n",
    " num = append(num, length(unique(mr[,i])))\n",
    "    \n",
    "}\n",
    "num\n",
    "sum(num)"
   ]
  },
  {
   "cell_type": "code",
   "execution_count": 56,
   "id": "1085a13f",
   "metadata": {},
   "outputs": [
    {
     "data": {
      "text/html": [
       "<table>\n",
       "<thead><tr><th scope=col>V1</th></tr></thead>\n",
       "<tbody>\n",
       "\t<tr><td>p</td></tr>\n",
       "\t<tr><td>e</td></tr>\n",
       "\t<tr><td>e</td></tr>\n",
       "\t<tr><td>p</td></tr>\n",
       "\t<tr><td>e</td></tr>\n",
       "\t<tr><td>e</td></tr>\n",
       "</tbody>\n",
       "</table>\n"
      ],
      "text/latex": [
       "\\begin{tabular}{r|l}\n",
       " V1\\\\\n",
       "\\hline\n",
       "\t p\\\\\n",
       "\t e\\\\\n",
       "\t e\\\\\n",
       "\t p\\\\\n",
       "\t e\\\\\n",
       "\t e\\\\\n",
       "\\end{tabular}\n"
      ],
      "text/markdown": [
       "\n",
       "| V1 |\n",
       "|---|\n",
       "| p |\n",
       "| e |\n",
       "| e |\n",
       "| p |\n",
       "| e |\n",
       "| e |\n",
       "\n"
      ],
      "text/plain": [
       "  V1\n",
       "1 p \n",
       "2 e \n",
       "3 e \n",
       "4 p \n",
       "5 e \n",
       "6 e "
      ]
     },
     "metadata": {},
     "output_type": "display_data"
    }
   ],
   "source": [
    "# 별도의 DataFrame 생성\n",
    "\n",
    "mr2 <- data.frame(V1=mr$V1)\n",
    "head(mr2)"
   ]
  },
  {
   "cell_type": "code",
   "execution_count": 57,
   "id": "dcd5f506",
   "metadata": {},
   "outputs": [
    {
     "data": {
      "text/html": [
       "<ol class=list-inline>\n",
       "\t<li>1</li>\n",
       "\t<li>2</li>\n",
       "\t<li>3</li>\n",
       "\t<li>4</li>\n",
       "\t<li>5</li>\n",
       "\t<li>6</li>\n",
       "</ol>\n"
      ],
      "text/latex": [
       "\\begin{enumerate*}\n",
       "\\item 1\n",
       "\\item 2\n",
       "\\item 3\n",
       "\\item 4\n",
       "\\item 5\n",
       "\\item 6\n",
       "\\end{enumerate*}\n"
      ],
      "text/markdown": [
       "1. 1\n",
       "2. 2\n",
       "3. 3\n",
       "4. 4\n",
       "5. 5\n",
       "6. 6\n",
       "\n",
       "\n"
      ],
      "text/plain": [
       "[1] 1 2 3 4 5 6"
      ]
     },
     "metadata": {},
     "output_type": "display_data"
    }
   ],
   "source": [
    "sort(unique(mr$V2))"
   ]
  },
  {
   "cell_type": "code",
   "execution_count": 58,
   "id": "67dad98b",
   "metadata": {
    "scrolled": true
   },
   "outputs": [
    {
     "data": {
      "text/html": [
       "<table>\n",
       "<thead><tr><th scope=col>V1</th><th scope=col>mr[, i] == j</th><th scope=col>mr[, i] == j.1</th><th scope=col>mr[, i] == j.2</th><th scope=col>mr[, i] == j.3</th><th scope=col>mr[, i] == j.4</th><th scope=col>mr[, i] == j.5</th><th scope=col>mr[, i] == j.6</th><th scope=col>mr[, i] == j.7</th><th scope=col>mr[, i] == j.8</th><th scope=col>...</th><th scope=col>mr[, i] == j</th><th scope=col>mr[, i] == j.1</th><th scope=col>mr[, i] == j.2</th><th scope=col>mr[, i] == j.3</th><th scope=col>mr[, i] == j.4</th><th scope=col>mr[, i] == j.5</th><th scope=col>mr[, i] == j.6</th><th scope=col>mr[, i] == j.7</th><th scope=col>mr[, i] == j.8</th><th scope=col>mr[, i] == j.9</th></tr></thead>\n",
       "<tbody>\n",
       "\t<tr><td>p    </td><td>FALSE</td><td>FALSE</td><td>FALSE</td><td>FALSE</td><td>FALSE</td><td> TRUE</td><td>FALSE</td><td>FALSE</td><td> TRUE</td><td>...  </td><td> TRUE</td><td>FALSE</td><td>FALSE</td><td>FALSE</td><td>FALSE</td><td>FALSE</td><td>FALSE</td><td>FALSE</td><td> TRUE</td><td>FALSE</td></tr>\n",
       "\t<tr><td>e    </td><td>FALSE</td><td>FALSE</td><td>FALSE</td><td>FALSE</td><td>FALSE</td><td> TRUE</td><td>FALSE</td><td>FALSE</td><td> TRUE</td><td>...  </td><td>FALSE</td><td>FALSE</td><td>FALSE</td><td>FALSE</td><td> TRUE</td><td>FALSE</td><td>FALSE</td><td>FALSE</td><td>FALSE</td><td>FALSE</td></tr>\n",
       "\t<tr><td>e    </td><td> TRUE</td><td>FALSE</td><td>FALSE</td><td>FALSE</td><td>FALSE</td><td>FALSE</td><td>FALSE</td><td>FALSE</td><td> TRUE</td><td>...  </td><td>FALSE</td><td>FALSE</td><td>FALSE</td><td>FALSE</td><td>FALSE</td><td>FALSE</td><td> TRUE</td><td>FALSE</td><td>FALSE</td><td>FALSE</td></tr>\n",
       "\t<tr><td>p    </td><td>FALSE</td><td>FALSE</td><td>FALSE</td><td>FALSE</td><td>FALSE</td><td> TRUE</td><td>FALSE</td><td>FALSE</td><td>FALSE</td><td>...  </td><td> TRUE</td><td>FALSE</td><td>FALSE</td><td>FALSE</td><td>FALSE</td><td>FALSE</td><td>FALSE</td><td>FALSE</td><td> TRUE</td><td>FALSE</td></tr>\n",
       "\t<tr><td>e    </td><td>FALSE</td><td>FALSE</td><td>FALSE</td><td>FALSE</td><td>FALSE</td><td> TRUE</td><td>FALSE</td><td>FALSE</td><td> TRUE</td><td>...  </td><td>FALSE</td><td>FALSE</td><td>FALSE</td><td>FALSE</td><td> TRUE</td><td>FALSE</td><td>FALSE</td><td>FALSE</td><td>FALSE</td><td>FALSE</td></tr>\n",
       "\t<tr><td>e    </td><td>FALSE</td><td>FALSE</td><td>FALSE</td><td>FALSE</td><td>FALSE</td><td> TRUE</td><td>FALSE</td><td>FALSE</td><td>FALSE</td><td>...  </td><td>FALSE</td><td>FALSE</td><td>FALSE</td><td>FALSE</td><td> TRUE</td><td>FALSE</td><td>FALSE</td><td>FALSE</td><td>FALSE</td><td>FALSE</td></tr>\n",
       "</tbody>\n",
       "</table>\n"
      ],
      "text/latex": [
       "\\begin{tabular}{r|llllllllllllllllllllllllllllllllllllllllllllllllllllllllllllllllllllllllllllllllllllllllllllllllllllllllllllllllllllll}\n",
       " V1 & mr{[}, i{]} == j & mr{[}, i{]} == j.1 & mr{[}, i{]} == j.2 & mr{[}, i{]} == j.3 & mr{[}, i{]} == j.4 & mr{[}, i{]} == j.5 & mr{[}, i{]} == j.6 & mr{[}, i{]} == j.7 & mr{[}, i{]} == j.8 & ... & mr{[}, i{]} == j & mr{[}, i{]} == j.1 & mr{[}, i{]} == j.2 & mr{[}, i{]} == j.3 & mr{[}, i{]} == j.4 & mr{[}, i{]} == j.5 & mr{[}, i{]} == j.6 & mr{[}, i{]} == j.7 & mr{[}, i{]} == j.8 & mr{[}, i{]} == j.9\\\\\n",
       "\\hline\n",
       "\t p     & FALSE & FALSE & FALSE & FALSE & FALSE &  TRUE & FALSE & FALSE &  TRUE & ...   &  TRUE & FALSE & FALSE & FALSE & FALSE & FALSE & FALSE & FALSE &  TRUE & FALSE\\\\\n",
       "\t e     & FALSE & FALSE & FALSE & FALSE & FALSE &  TRUE & FALSE & FALSE &  TRUE & ...   & FALSE & FALSE & FALSE & FALSE &  TRUE & FALSE & FALSE & FALSE & FALSE & FALSE\\\\\n",
       "\t e     &  TRUE & FALSE & FALSE & FALSE & FALSE & FALSE & FALSE & FALSE &  TRUE & ...   & FALSE & FALSE & FALSE & FALSE & FALSE & FALSE &  TRUE & FALSE & FALSE & FALSE\\\\\n",
       "\t p     & FALSE & FALSE & FALSE & FALSE & FALSE &  TRUE & FALSE & FALSE & FALSE & ...   &  TRUE & FALSE & FALSE & FALSE & FALSE & FALSE & FALSE & FALSE &  TRUE & FALSE\\\\\n",
       "\t e     & FALSE & FALSE & FALSE & FALSE & FALSE &  TRUE & FALSE & FALSE &  TRUE & ...   & FALSE & FALSE & FALSE & FALSE &  TRUE & FALSE & FALSE & FALSE & FALSE & FALSE\\\\\n",
       "\t e     & FALSE & FALSE & FALSE & FALSE & FALSE &  TRUE & FALSE & FALSE & FALSE & ...   & FALSE & FALSE & FALSE & FALSE &  TRUE & FALSE & FALSE & FALSE & FALSE & FALSE\\\\\n",
       "\\end{tabular}\n"
      ],
      "text/markdown": [
       "\n",
       "| V1 | mr[, i] == j | mr[, i] == j.1 | mr[, i] == j.2 | mr[, i] == j.3 | mr[, i] == j.4 | mr[, i] == j.5 | mr[, i] == j.6 | mr[, i] == j.7 | mr[, i] == j.8 | ... | mr[, i] == j | mr[, i] == j.1 | mr[, i] == j.2 | mr[, i] == j.3 | mr[, i] == j.4 | mr[, i] == j.5 | mr[, i] == j.6 | mr[, i] == j.7 | mr[, i] == j.8 | mr[, i] == j.9 |\n",
       "|---|---|---|---|---|---|---|---|---|---|---|---|---|---|---|---|---|---|---|---|---|\n",
       "| p     | FALSE | FALSE | FALSE | FALSE | FALSE |  TRUE | FALSE | FALSE |  TRUE | ...   |  TRUE | FALSE | FALSE | FALSE | FALSE | FALSE | FALSE | FALSE |  TRUE | FALSE |\n",
       "| e     | FALSE | FALSE | FALSE | FALSE | FALSE |  TRUE | FALSE | FALSE |  TRUE | ...   | FALSE | FALSE | FALSE | FALSE |  TRUE | FALSE | FALSE | FALSE | FALSE | FALSE |\n",
       "| e     |  TRUE | FALSE | FALSE | FALSE | FALSE | FALSE | FALSE | FALSE |  TRUE | ...   | FALSE | FALSE | FALSE | FALSE | FALSE | FALSE |  TRUE | FALSE | FALSE | FALSE |\n",
       "| p     | FALSE | FALSE | FALSE | FALSE | FALSE |  TRUE | FALSE | FALSE | FALSE | ...   |  TRUE | FALSE | FALSE | FALSE | FALSE | FALSE | FALSE | FALSE |  TRUE | FALSE |\n",
       "| e     | FALSE | FALSE | FALSE | FALSE | FALSE |  TRUE | FALSE | FALSE |  TRUE | ...   | FALSE | FALSE | FALSE | FALSE |  TRUE | FALSE | FALSE | FALSE | FALSE | FALSE |\n",
       "| e     | FALSE | FALSE | FALSE | FALSE | FALSE |  TRUE | FALSE | FALSE | FALSE | ...   | FALSE | FALSE | FALSE | FALSE |  TRUE | FALSE | FALSE | FALSE | FALSE | FALSE |\n",
       "\n"
      ],
      "text/plain": [
       "  V1 mr[, i] == j mr[, i] == j.1 mr[, i] == j.2 mr[, i] == j.3 mr[, i] == j.4\n",
       "1 p  FALSE        FALSE          FALSE          FALSE          FALSE         \n",
       "2 e  FALSE        FALSE          FALSE          FALSE          FALSE         \n",
       "3 e   TRUE        FALSE          FALSE          FALSE          FALSE         \n",
       "4 p  FALSE        FALSE          FALSE          FALSE          FALSE         \n",
       "5 e  FALSE        FALSE          FALSE          FALSE          FALSE         \n",
       "6 e  FALSE        FALSE          FALSE          FALSE          FALSE         \n",
       "  mr[, i] == j.5 mr[, i] == j.6 mr[, i] == j.7 mr[, i] == j.8 ... mr[, i] == j\n",
       "1  TRUE          FALSE          FALSE           TRUE          ...  TRUE       \n",
       "2  TRUE          FALSE          FALSE           TRUE          ... FALSE       \n",
       "3 FALSE          FALSE          FALSE           TRUE          ... FALSE       \n",
       "4  TRUE          FALSE          FALSE          FALSE          ...  TRUE       \n",
       "5  TRUE          FALSE          FALSE           TRUE          ... FALSE       \n",
       "6  TRUE          FALSE          FALSE          FALSE          ... FALSE       \n",
       "  mr[, i] == j.1 mr[, i] == j.2 mr[, i] == j.3 mr[, i] == j.4 mr[, i] == j.5\n",
       "1 FALSE          FALSE          FALSE          FALSE          FALSE         \n",
       "2 FALSE          FALSE          FALSE           TRUE          FALSE         \n",
       "3 FALSE          FALSE          FALSE          FALSE          FALSE         \n",
       "4 FALSE          FALSE          FALSE          FALSE          FALSE         \n",
       "5 FALSE          FALSE          FALSE           TRUE          FALSE         \n",
       "6 FALSE          FALSE          FALSE           TRUE          FALSE         \n",
       "  mr[, i] == j.6 mr[, i] == j.7 mr[, i] == j.8 mr[, i] == j.9\n",
       "1 FALSE          FALSE           TRUE          FALSE         \n",
       "2 FALSE          FALSE          FALSE          FALSE         \n",
       "3  TRUE          FALSE          FALSE          FALSE         \n",
       "4 FALSE          FALSE           TRUE          FALSE         \n",
       "5 FALSE          FALSE          FALSE          FALSE         \n",
       "6 FALSE          FALSE          FALSE          FALSE         "
      ]
     },
     "metadata": {},
     "output_type": "display_data"
    }
   ],
   "source": [
    "for(i in 2:23){\n",
    "    for(j in sort(unique(mr[,i]))){\n",
    "        mr2 = cbind(mr2, mr[,i] == j)\n",
    "    }\n",
    "}\n",
    "head(mr2)"
   ]
  },
  {
   "cell_type": "code",
   "execution_count": 59,
   "id": "62862f8d",
   "metadata": {},
   "outputs": [
    {
     "data": {
      "text/html": [
       "118"
      ],
      "text/latex": [
       "118"
      ],
      "text/markdown": [
       "118"
      ],
      "text/plain": [
       "[1] 118"
      ]
     },
     "metadata": {},
     "output_type": "display_data"
    }
   ],
   "source": [
    "# 갯수 확인\n",
    "ncol(mr2)"
   ]
  },
  {
   "cell_type": "code",
   "execution_count": 60,
   "id": "d8f023be",
   "metadata": {
    "scrolled": true
   },
   "outputs": [
    {
     "name": "stdout",
     "output_type": "stream",
     "text": [
      "'data.frame':\t8124 obs. of  118 variables:\n",
      " $ V1          : Factor w/ 2 levels \"e\",\"p\": 2 1 1 2 1 1 1 1 2 1 ...\n",
      " $ mr[, i] == j: logi  FALSE FALSE TRUE FALSE FALSE FALSE ...\n",
      " $ mr[, i] == j: logi  FALSE FALSE FALSE FALSE FALSE FALSE ...\n",
      " $ mr[, i] == j: logi  FALSE FALSE FALSE FALSE FALSE FALSE ...\n",
      " $ mr[, i] == j: logi  FALSE FALSE FALSE FALSE FALSE FALSE ...\n",
      " $ mr[, i] == j: logi  FALSE FALSE FALSE FALSE FALSE FALSE ...\n",
      " $ mr[, i] == j: logi  TRUE TRUE FALSE TRUE TRUE TRUE ...\n",
      " $ mr[, i] == j: logi  FALSE FALSE FALSE FALSE FALSE FALSE ...\n",
      " $ mr[, i] == j: logi  FALSE FALSE FALSE FALSE FALSE FALSE ...\n",
      " $ mr[, i] == j: logi  TRUE TRUE TRUE FALSE TRUE FALSE ...\n",
      " $ mr[, i] == j: logi  FALSE FALSE FALSE TRUE FALSE TRUE ...\n",
      " $ mr[, i] == j: logi  FALSE FALSE FALSE FALSE FALSE FALSE ...\n",
      " $ mr[, i] == j: logi  FALSE FALSE FALSE FALSE FALSE FALSE ...\n",
      " $ mr[, i] == j: logi  FALSE FALSE FALSE FALSE FALSE FALSE ...\n",
      " $ mr[, i] == j: logi  FALSE FALSE FALSE FALSE TRUE FALSE ...\n",
      " $ mr[, i] == j: logi  TRUE FALSE FALSE FALSE FALSE FALSE ...\n",
      " $ mr[, i] == j: logi  FALSE FALSE FALSE FALSE FALSE FALSE ...\n",
      " $ mr[, i] == j: logi  FALSE FALSE FALSE FALSE FALSE FALSE ...\n",
      " $ mr[, i] == j: logi  FALSE FALSE FALSE FALSE FALSE FALSE ...\n",
      " $ mr[, i] == j: logi  FALSE FALSE TRUE TRUE FALSE FALSE ...\n",
      " $ mr[, i] == j: logi  FALSE TRUE FALSE FALSE FALSE TRUE ...\n",
      " $ mr[, i] == j: logi  FALSE FALSE FALSE FALSE TRUE FALSE ...\n",
      " $ mr[, i] == j: logi  TRUE TRUE TRUE TRUE FALSE TRUE ...\n",
      " $ mr[, i] == j: logi  FALSE TRUE FALSE FALSE FALSE TRUE ...\n",
      " $ mr[, i] == j: logi  FALSE FALSE FALSE FALSE FALSE FALSE ...\n",
      " $ mr[, i] == j: logi  FALSE FALSE FALSE FALSE FALSE FALSE ...\n",
      " $ mr[, i] == j: logi  FALSE FALSE TRUE FALSE FALSE FALSE ...\n",
      " $ mr[, i] == j: logi  FALSE FALSE FALSE FALSE FALSE FALSE ...\n",
      " $ mr[, i] == j: logi  FALSE FALSE FALSE FALSE TRUE FALSE ...\n",
      " $ mr[, i] == j: logi  TRUE FALSE FALSE TRUE FALSE FALSE ...\n",
      " $ mr[, i] == j: logi  FALSE FALSE FALSE FALSE FALSE FALSE ...\n",
      " $ mr[, i] == j: logi  FALSE FALSE FALSE FALSE FALSE FALSE ...\n",
      " $ mr[, i] == j: logi  FALSE FALSE FALSE FALSE FALSE FALSE ...\n",
      " $ mr[, i] == j: logi  TRUE TRUE TRUE TRUE TRUE TRUE ...\n",
      " $ mr[, i] == j: logi  TRUE TRUE TRUE TRUE FALSE TRUE ...\n",
      " $ mr[, i] == j: logi  FALSE FALSE FALSE FALSE TRUE FALSE ...\n",
      " $ mr[, i] == j: logi  FALSE TRUE TRUE FALSE TRUE TRUE ...\n",
      " $ mr[, i] == j: logi  TRUE FALSE FALSE TRUE FALSE FALSE ...\n",
      " $ mr[, i] == j: logi  FALSE FALSE FALSE FALSE FALSE FALSE ...\n",
      " $ mr[, i] == j: logi  FALSE FALSE FALSE FALSE FALSE FALSE ...\n",
      " $ mr[, i] == j: logi  FALSE FALSE FALSE FALSE FALSE FALSE ...\n",
      " $ mr[, i] == j: logi  FALSE FALSE FALSE FALSE FALSE FALSE ...\n",
      " $ mr[, i] == j: logi  TRUE TRUE FALSE FALSE TRUE FALSE ...\n",
      " $ mr[, i] == j: logi  FALSE FALSE TRUE TRUE FALSE TRUE ...\n",
      " $ mr[, i] == j: logi  FALSE FALSE FALSE FALSE FALSE FALSE ...\n",
      " $ mr[, i] == j: logi  FALSE FALSE FALSE FALSE FALSE FALSE ...\n",
      " $ mr[, i] == j: logi  FALSE FALSE FALSE FALSE FALSE FALSE ...\n",
      " $ mr[, i] == j: logi  FALSE FALSE FALSE FALSE FALSE FALSE ...\n",
      " $ mr[, i] == j: logi  FALSE FALSE FALSE FALSE FALSE FALSE ...\n",
      " $ mr[, i] == j: logi  FALSE FALSE FALSE FALSE FALSE FALSE ...\n",
      " $ mr[, i] == j: logi  TRUE TRUE TRUE TRUE FALSE TRUE ...\n",
      " $ mr[, i] == j: logi  FALSE FALSE FALSE FALSE TRUE FALSE ...\n",
      " $ mr[, i] == j: logi  FALSE FALSE FALSE FALSE FALSE FALSE ...\n",
      " $ mr[, i] == j: logi  FALSE FALSE FALSE FALSE FALSE FALSE ...\n",
      " $ mr[, i] == j: logi  FALSE TRUE TRUE FALSE FALSE TRUE ...\n",
      " $ mr[, i] == j: logi  TRUE FALSE FALSE TRUE TRUE FALSE ...\n",
      " $ mr[, i] == j: logi  FALSE FALSE FALSE FALSE FALSE FALSE ...\n",
      " $ mr[, i] == j: logi  FALSE FALSE FALSE FALSE FALSE FALSE ...\n",
      " $ mr[, i] == j: logi  FALSE FALSE FALSE FALSE FALSE FALSE ...\n",
      " $ mr[, i] == j: logi  TRUE TRUE TRUE TRUE TRUE TRUE ...\n",
      " $ mr[, i] == j: logi  FALSE FALSE FALSE FALSE FALSE FALSE ...\n",
      " $ mr[, i] == j: logi  FALSE FALSE FALSE FALSE FALSE FALSE ...\n",
      " $ mr[, i] == j: logi  FALSE FALSE FALSE FALSE FALSE FALSE ...\n",
      " $ mr[, i] == j: logi  TRUE TRUE TRUE TRUE TRUE TRUE ...\n",
      " $ mr[, i] == j: logi  FALSE FALSE FALSE FALSE FALSE FALSE ...\n",
      " $ mr[, i] == j: logi  FALSE FALSE FALSE FALSE FALSE FALSE ...\n",
      " $ mr[, i] == j: logi  FALSE FALSE FALSE FALSE FALSE FALSE ...\n",
      " $ mr[, i] == j: logi  FALSE FALSE FALSE FALSE FALSE FALSE ...\n",
      " $ mr[, i] == j: logi  FALSE FALSE FALSE FALSE FALSE FALSE ...\n",
      " $ mr[, i] == j: logi  FALSE FALSE FALSE FALSE FALSE FALSE ...\n",
      " $ mr[, i] == j: logi  FALSE FALSE FALSE FALSE FALSE FALSE ...\n",
      " $ mr[, i] == j: logi  FALSE FALSE FALSE FALSE FALSE FALSE ...\n",
      " $ mr[, i] == j: logi  TRUE TRUE TRUE TRUE TRUE TRUE ...\n",
      " $ mr[, i] == j: logi  FALSE FALSE FALSE FALSE FALSE FALSE ...\n",
      " $ mr[, i] == j: logi  FALSE FALSE FALSE FALSE FALSE FALSE ...\n",
      " $ mr[, i] == j: logi  FALSE FALSE FALSE FALSE FALSE FALSE ...\n",
      " $ mr[, i] == j: logi  FALSE FALSE FALSE FALSE FALSE FALSE ...\n",
      " $ mr[, i] == j: logi  FALSE FALSE FALSE FALSE FALSE FALSE ...\n",
      " $ mr[, i] == j: logi  FALSE FALSE FALSE FALSE FALSE FALSE ...\n",
      " $ mr[, i] == j: logi  FALSE FALSE FALSE FALSE FALSE FALSE ...\n",
      " $ mr[, i] == j: logi  FALSE FALSE FALSE FALSE FALSE FALSE ...\n",
      " $ mr[, i] == j: logi  TRUE TRUE TRUE TRUE TRUE TRUE ...\n",
      " $ mr[, i] == j: logi  FALSE FALSE FALSE FALSE FALSE FALSE ...\n",
      " $ mr[, i] == j: logi  TRUE TRUE TRUE TRUE TRUE TRUE ...\n",
      " $ mr[, i] == j: logi  FALSE FALSE FALSE FALSE FALSE FALSE ...\n",
      " $ mr[, i] == j: logi  FALSE FALSE FALSE FALSE FALSE FALSE ...\n",
      " $ mr[, i] == j: logi  TRUE TRUE TRUE TRUE TRUE TRUE ...\n",
      " $ mr[, i] == j: logi  FALSE FALSE FALSE FALSE FALSE FALSE ...\n",
      " $ mr[, i] == j: logi  FALSE FALSE FALSE FALSE FALSE FALSE ...\n",
      " $ mr[, i] == j: logi  TRUE TRUE TRUE TRUE TRUE TRUE ...\n",
      " $ mr[, i] == j: logi  FALSE FALSE FALSE FALSE FALSE FALSE ...\n",
      " $ mr[, i] == j: logi  FALSE FALSE FALSE FALSE TRUE FALSE ...\n",
      " $ mr[, i] == j: logi  FALSE FALSE FALSE FALSE FALSE FALSE ...\n",
      " $ mr[, i] == j: logi  FALSE FALSE FALSE FALSE FALSE FALSE ...\n",
      " $ mr[, i] == j: logi  FALSE FALSE FALSE FALSE FALSE FALSE ...\n",
      " $ mr[, i] == j: logi  TRUE TRUE TRUE TRUE FALSE TRUE ...\n",
      " $ mr[, i] == j: logi  FALSE FALSE FALSE FALSE FALSE FALSE ...\n",
      " $ mr[, i] == j: logi  FALSE FALSE FALSE FALSE FALSE FALSE ...\n",
      " $ mr[, i] == j: logi  TRUE FALSE FALSE TRUE FALSE TRUE ...\n",
      "  [list output truncated]\n"
     ]
    }
   ],
   "source": [
    "str(mr2)"
   ]
  },
  {
   "cell_type": "code",
   "execution_count": 61,
   "id": "a7aa52f7",
   "metadata": {
    "scrolled": true
   },
   "outputs": [
    {
     "name": "stdout",
     "output_type": "stream",
     "text": [
      "'data.frame':\t8124 obs. of  19 variables:\n",
      " $ mr[, i] == j   : logi  FALSE TRUE TRUE FALSE TRUE FALSE ...\n",
      " $ mr[, i] == j.1 : logi  FALSE FALSE FALSE FALSE FALSE FALSE ...\n",
      " $ mr[, i] == j.2 : logi  FALSE FALSE FALSE FALSE FALSE FALSE ...\n",
      " $ mr[, i] == j.3 : logi  FALSE FALSE FALSE FALSE FALSE FALSE ...\n",
      " $ mr[, i] == j.4 : logi  FALSE FALSE FALSE FALSE FALSE FALSE ...\n",
      " $ mr[, i] == j.5 : logi  FALSE FALSE FALSE FALSE FALSE FALSE ...\n",
      " $ mr[, i] == j.6 : logi  FALSE FALSE FALSE FALSE TRUE FALSE ...\n",
      " $ mr[, i] == j.7 : logi  FALSE FALSE FALSE FALSE FALSE FALSE ...\n",
      " $ mr[, i] == j.8 : logi  FALSE TRUE TRUE FALSE FALSE TRUE ...\n",
      " $ mr[, i] == j.9 : logi  TRUE FALSE FALSE TRUE FALSE FALSE ...\n",
      " $ mr[, i] == j.10: logi  FALSE FALSE FALSE FALSE FALSE FALSE ...\n",
      " $ mr[, i] == j.11: logi  FALSE FALSE FALSE FALSE FALSE FALSE ...\n",
      " $ mr[, i] == j.12: logi  FALSE FALSE FALSE FALSE FALSE FALSE ...\n",
      " $ mr[, i] == j.13: logi  FALSE TRUE FALSE FALSE TRUE TRUE ...\n",
      " $ mr[, i] == j.14: logi  FALSE FALSE FALSE FALSE FALSE FALSE ...\n",
      " $ mr[, i] == j.15: logi  FALSE FALSE TRUE FALSE FALSE FALSE ...\n",
      " $ mr[, i] == j.16: logi  FALSE FALSE FALSE FALSE FALSE FALSE ...\n",
      " $ mr[, i] == j.17: logi  TRUE FALSE FALSE TRUE FALSE FALSE ...\n",
      " $ mr[, i] == j.18: logi  FALSE FALSE FALSE FALSE FALSE FALSE ...\n"
     ]
    }
   ],
   "source": [
    "# 칼럼 갯수가 많아서 structure를 다 못보는 경우\n",
    "# 100번부터 끝까지 보기\n",
    "str(mr2[,100:ncol(mr2)])"
   ]
  },
  {
   "cell_type": "code",
   "execution_count": 62,
   "id": "d1fc235f",
   "metadata": {},
   "outputs": [],
   "source": [
    "# 정렬\n",
    "library(dplyr)"
   ]
  },
  {
   "cell_type": "code",
   "execution_count": 63,
   "id": "c144375f",
   "metadata": {},
   "outputs": [
    {
     "ename": "ERROR",
     "evalue": "Column names `mr[, i] == j`, `mr[, i] == j`, `mr[, i] == j`, `mr[, i] == j`, `mr[, i] == j`, … (and 111 more) must not be duplicated.\nUse .name_repair to specify repair.",
     "output_type": "error",
     "traceback": [
      "Column names `mr[, i] == j`, `mr[, i] == j`, `mr[, i] == j`, `mr[, i] == j`, `mr[, i] == j`, … (and 111 more) must not be duplicated.\nUse .name_repair to specify repair.Traceback:\n",
      "1. arrange(mr2, V1)",
      "2. arrange.data.frame(mr2, V1)",
      "3. as.data.frame(arrange(tbl_df(.data), ..., .by_group = .by_group))",
      "4. arrange(tbl_df(.data), ..., .by_group = .by_group)",
      "5. tbl_df(.data)",
      "6. as_tibble(data, .name_repair = \"check_unique\")",
      "7. as_tibble.data.frame(data, .name_repair = \"check_unique\")",
      "8. as_tibble.list(unclass(x), ..., .rows = .rows, .name_repair = .name_repair)",
      "9. lst_to_tibble(x, .rows, .name_repair, col_lengths(x))",
      "10. set_repaired_names(x, .name_repair)",
      "11. set_names(x, repaired_names(names(x), .name_repair = .name_repair))",
      "12. set_names_impl(x, x, nm, ...)",
      "13. is_function(nm)",
      "14. is_closure(x)",
      "15. repaired_names(names(x), .name_repair = .name_repair)",
      "16. check_unique(new_name)",
      "17. abort(error_column_names_must_be_unique(name[dups]))"
     ]
    }
   ],
   "source": [
    "arrange(mr2,V1)\n",
    "# 정렬이 안됨"
   ]
  },
  {
   "cell_type": "code",
   "execution_count": 64,
   "id": "3b73df9e",
   "metadata": {},
   "outputs": [
    {
     "data": {
      "text/html": [
       "<table>\n",
       "<thead><tr><th scope=col>V1</th><th scope=col>V2</th><th scope=col>V3</th><th scope=col>V4</th><th scope=col>V5</th><th scope=col>V6</th><th scope=col>V7</th><th scope=col>V8</th><th scope=col>V9</th><th scope=col>V10</th><th scope=col>...</th><th scope=col>V109</th><th scope=col>V110</th><th scope=col>V111</th><th scope=col>V112</th><th scope=col>V113</th><th scope=col>V114</th><th scope=col>V115</th><th scope=col>V116</th><th scope=col>V117</th><th scope=col>V118</th></tr></thead>\n",
       "<tbody>\n",
       "\t<tr><td>p    </td><td>FALSE</td><td>FALSE</td><td>FALSE</td><td>FALSE</td><td>FALSE</td><td> TRUE</td><td>FALSE</td><td>FALSE</td><td> TRUE</td><td>...  </td><td> TRUE</td><td>FALSE</td><td>FALSE</td><td>FALSE</td><td>FALSE</td><td>FALSE</td><td>FALSE</td><td>FALSE</td><td> TRUE</td><td>FALSE</td></tr>\n",
       "\t<tr><td>e    </td><td>FALSE</td><td>FALSE</td><td>FALSE</td><td>FALSE</td><td>FALSE</td><td> TRUE</td><td>FALSE</td><td>FALSE</td><td> TRUE</td><td>...  </td><td>FALSE</td><td>FALSE</td><td>FALSE</td><td>FALSE</td><td> TRUE</td><td>FALSE</td><td>FALSE</td><td>FALSE</td><td>FALSE</td><td>FALSE</td></tr>\n",
       "\t<tr><td>e    </td><td> TRUE</td><td>FALSE</td><td>FALSE</td><td>FALSE</td><td>FALSE</td><td>FALSE</td><td>FALSE</td><td>FALSE</td><td> TRUE</td><td>...  </td><td>FALSE</td><td>FALSE</td><td>FALSE</td><td>FALSE</td><td>FALSE</td><td>FALSE</td><td> TRUE</td><td>FALSE</td><td>FALSE</td><td>FALSE</td></tr>\n",
       "\t<tr><td>p    </td><td>FALSE</td><td>FALSE</td><td>FALSE</td><td>FALSE</td><td>FALSE</td><td> TRUE</td><td>FALSE</td><td>FALSE</td><td>FALSE</td><td>...  </td><td> TRUE</td><td>FALSE</td><td>FALSE</td><td>FALSE</td><td>FALSE</td><td>FALSE</td><td>FALSE</td><td>FALSE</td><td> TRUE</td><td>FALSE</td></tr>\n",
       "\t<tr><td>e    </td><td>FALSE</td><td>FALSE</td><td>FALSE</td><td>FALSE</td><td>FALSE</td><td> TRUE</td><td>FALSE</td><td>FALSE</td><td> TRUE</td><td>...  </td><td>FALSE</td><td>FALSE</td><td>FALSE</td><td>FALSE</td><td> TRUE</td><td>FALSE</td><td>FALSE</td><td>FALSE</td><td>FALSE</td><td>FALSE</td></tr>\n",
       "\t<tr><td>e    </td><td>FALSE</td><td>FALSE</td><td>FALSE</td><td>FALSE</td><td>FALSE</td><td> TRUE</td><td>FALSE</td><td>FALSE</td><td>FALSE</td><td>...  </td><td>FALSE</td><td>FALSE</td><td>FALSE</td><td>FALSE</td><td> TRUE</td><td>FALSE</td><td>FALSE</td><td>FALSE</td><td>FALSE</td><td>FALSE</td></tr>\n",
       "</tbody>\n",
       "</table>\n"
      ],
      "text/latex": [
       "\\begin{tabular}{r|llllllllllllllllllllllllllllllllllllllllllllllllllllllllllllllllllllllllllllllllllllllllllllllllllllllllllllllllllllll}\n",
       " V1 & V2 & V3 & V4 & V5 & V6 & V7 & V8 & V9 & V10 & ... & V109 & V110 & V111 & V112 & V113 & V114 & V115 & V116 & V117 & V118\\\\\n",
       "\\hline\n",
       "\t p     & FALSE & FALSE & FALSE & FALSE & FALSE &  TRUE & FALSE & FALSE &  TRUE & ...   &  TRUE & FALSE & FALSE & FALSE & FALSE & FALSE & FALSE & FALSE &  TRUE & FALSE\\\\\n",
       "\t e     & FALSE & FALSE & FALSE & FALSE & FALSE &  TRUE & FALSE & FALSE &  TRUE & ...   & FALSE & FALSE & FALSE & FALSE &  TRUE & FALSE & FALSE & FALSE & FALSE & FALSE\\\\\n",
       "\t e     &  TRUE & FALSE & FALSE & FALSE & FALSE & FALSE & FALSE & FALSE &  TRUE & ...   & FALSE & FALSE & FALSE & FALSE & FALSE & FALSE &  TRUE & FALSE & FALSE & FALSE\\\\\n",
       "\t p     & FALSE & FALSE & FALSE & FALSE & FALSE &  TRUE & FALSE & FALSE & FALSE & ...   &  TRUE & FALSE & FALSE & FALSE & FALSE & FALSE & FALSE & FALSE &  TRUE & FALSE\\\\\n",
       "\t e     & FALSE & FALSE & FALSE & FALSE & FALSE &  TRUE & FALSE & FALSE &  TRUE & ...   & FALSE & FALSE & FALSE & FALSE &  TRUE & FALSE & FALSE & FALSE & FALSE & FALSE\\\\\n",
       "\t e     & FALSE & FALSE & FALSE & FALSE & FALSE &  TRUE & FALSE & FALSE & FALSE & ...   & FALSE & FALSE & FALSE & FALSE &  TRUE & FALSE & FALSE & FALSE & FALSE & FALSE\\\\\n",
       "\\end{tabular}\n"
      ],
      "text/markdown": [
       "\n",
       "| V1 | V2 | V3 | V4 | V5 | V6 | V7 | V8 | V9 | V10 | ... | V109 | V110 | V111 | V112 | V113 | V114 | V115 | V116 | V117 | V118 |\n",
       "|---|---|---|---|---|---|---|---|---|---|---|---|---|---|---|---|---|---|---|---|---|\n",
       "| p     | FALSE | FALSE | FALSE | FALSE | FALSE |  TRUE | FALSE | FALSE |  TRUE | ...   |  TRUE | FALSE | FALSE | FALSE | FALSE | FALSE | FALSE | FALSE |  TRUE | FALSE |\n",
       "| e     | FALSE | FALSE | FALSE | FALSE | FALSE |  TRUE | FALSE | FALSE |  TRUE | ...   | FALSE | FALSE | FALSE | FALSE |  TRUE | FALSE | FALSE | FALSE | FALSE | FALSE |\n",
       "| e     |  TRUE | FALSE | FALSE | FALSE | FALSE | FALSE | FALSE | FALSE |  TRUE | ...   | FALSE | FALSE | FALSE | FALSE | FALSE | FALSE |  TRUE | FALSE | FALSE | FALSE |\n",
       "| p     | FALSE | FALSE | FALSE | FALSE | FALSE |  TRUE | FALSE | FALSE | FALSE | ...   |  TRUE | FALSE | FALSE | FALSE | FALSE | FALSE | FALSE | FALSE |  TRUE | FALSE |\n",
       "| e     | FALSE | FALSE | FALSE | FALSE | FALSE |  TRUE | FALSE | FALSE |  TRUE | ...   | FALSE | FALSE | FALSE | FALSE |  TRUE | FALSE | FALSE | FALSE | FALSE | FALSE |\n",
       "| e     | FALSE | FALSE | FALSE | FALSE | FALSE |  TRUE | FALSE | FALSE | FALSE | ...   | FALSE | FALSE | FALSE | FALSE |  TRUE | FALSE | FALSE | FALSE | FALSE | FALSE |\n",
       "\n"
      ],
      "text/plain": [
       "  V1 V2    V3    V4    V5    V6    V7    V8    V9    V10   ... V109  V110 \n",
       "1 p  FALSE FALSE FALSE FALSE FALSE  TRUE FALSE FALSE  TRUE ...  TRUE FALSE\n",
       "2 e  FALSE FALSE FALSE FALSE FALSE  TRUE FALSE FALSE  TRUE ... FALSE FALSE\n",
       "3 e   TRUE FALSE FALSE FALSE FALSE FALSE FALSE FALSE  TRUE ... FALSE FALSE\n",
       "4 p  FALSE FALSE FALSE FALSE FALSE  TRUE FALSE FALSE FALSE ...  TRUE FALSE\n",
       "5 e  FALSE FALSE FALSE FALSE FALSE  TRUE FALSE FALSE  TRUE ... FALSE FALSE\n",
       "6 e  FALSE FALSE FALSE FALSE FALSE  TRUE FALSE FALSE FALSE ... FALSE FALSE\n",
       "  V111  V112  V113  V114  V115  V116  V117  V118 \n",
       "1 FALSE FALSE FALSE FALSE FALSE FALSE  TRUE FALSE\n",
       "2 FALSE FALSE  TRUE FALSE FALSE FALSE FALSE FALSE\n",
       "3 FALSE FALSE FALSE FALSE  TRUE FALSE FALSE FALSE\n",
       "4 FALSE FALSE FALSE FALSE FALSE FALSE  TRUE FALSE\n",
       "5 FALSE FALSE  TRUE FALSE FALSE FALSE FALSE FALSE\n",
       "6 FALSE FALSE  TRUE FALSE FALSE FALSE FALSE FALSE"
      ]
     },
     "metadata": {},
     "output_type": "display_data"
    }
   ],
   "source": [
    "# 정렬하려고 하면 colmn name 때문에 정렬이 안됨\n",
    "colnames(mr2) <- paste(\"V\",1:118, sep = '')\n",
    "head(mr2)"
   ]
  },
  {
   "cell_type": "markdown",
   "id": "4605950b",
   "metadata": {},
   "source": [
    "## column 이름과 one-hot encoding을 한번에 처리하기"
   ]
  },
  {
   "cell_type": "code",
   "execution_count": 34,
   "id": "68c73690",
   "metadata": {},
   "outputs": [
    {
     "data": {
      "text/html": [
       "<table>\n",
       "<thead><tr><th scope=col>V1</th></tr></thead>\n",
       "<tbody>\n",
       "\t<tr><td>p</td></tr>\n",
       "\t<tr><td>e</td></tr>\n",
       "\t<tr><td>e</td></tr>\n",
       "\t<tr><td>p</td></tr>\n",
       "\t<tr><td>e</td></tr>\n",
       "\t<tr><td>e</td></tr>\n",
       "</tbody>\n",
       "</table>\n"
      ],
      "text/latex": [
       "\\begin{tabular}{r|l}\n",
       " V1\\\\\n",
       "\\hline\n",
       "\t p\\\\\n",
       "\t e\\\\\n",
       "\t e\\\\\n",
       "\t p\\\\\n",
       "\t e\\\\\n",
       "\t e\\\\\n",
       "\\end{tabular}\n"
      ],
      "text/markdown": [
       "\n",
       "| V1 |\n",
       "|---|\n",
       "| p |\n",
       "| e |\n",
       "| e |\n",
       "| p |\n",
       "| e |\n",
       "| e |\n",
       "\n"
      ],
      "text/plain": [
       "  V1\n",
       "1 p \n",
       "2 e \n",
       "3 e \n",
       "4 p \n",
       "5 e \n",
       "6 e "
      ]
     },
     "metadata": {},
     "output_type": "display_data"
    }
   ],
   "source": [
    "mr3 <- data.frame(V1 = mr$V1)\n",
    "head(mr3)"
   ]
  },
  {
   "cell_type": "code",
   "execution_count": 35,
   "id": "ebe29922",
   "metadata": {
    "scrolled": true
   },
   "outputs": [
    {
     "data": {
      "text/html": [
       "<table>\n",
       "<thead><tr><th scope=col>V1</th><th scope=col>V2_1</th><th scope=col>V2_2</th><th scope=col>V2_3</th><th scope=col>V2_4</th><th scope=col>V2_5</th><th scope=col>V2_6</th><th scope=col>V3_1</th><th scope=col>V3_2</th><th scope=col>V3_3</th><th scope=col>...</th><th scope=col>V22_4</th><th scope=col>V22_5</th><th scope=col>V22_6</th><th scope=col>V23_1</th><th scope=col>V23_2</th><th scope=col>V23_3</th><th scope=col>V23_4</th><th scope=col>V23_5</th><th scope=col>V23_6</th><th scope=col>V23_7</th></tr></thead>\n",
       "<tbody>\n",
       "\t<tr><td>p    </td><td>FALSE</td><td>FALSE</td><td>FALSE</td><td>FALSE</td><td>FALSE</td><td> TRUE</td><td>FALSE</td><td>FALSE</td><td> TRUE</td><td>...  </td><td> TRUE</td><td>FALSE</td><td>FALSE</td><td>FALSE</td><td>FALSE</td><td>FALSE</td><td>FALSE</td><td>FALSE</td><td> TRUE</td><td>FALSE</td></tr>\n",
       "\t<tr><td>e    </td><td>FALSE</td><td>FALSE</td><td>FALSE</td><td>FALSE</td><td>FALSE</td><td> TRUE</td><td>FALSE</td><td>FALSE</td><td> TRUE</td><td>...  </td><td>FALSE</td><td>FALSE</td><td>FALSE</td><td>FALSE</td><td> TRUE</td><td>FALSE</td><td>FALSE</td><td>FALSE</td><td>FALSE</td><td>FALSE</td></tr>\n",
       "\t<tr><td>e    </td><td> TRUE</td><td>FALSE</td><td>FALSE</td><td>FALSE</td><td>FALSE</td><td>FALSE</td><td>FALSE</td><td>FALSE</td><td> TRUE</td><td>...  </td><td>FALSE</td><td>FALSE</td><td>FALSE</td><td>FALSE</td><td>FALSE</td><td>FALSE</td><td> TRUE</td><td>FALSE</td><td>FALSE</td><td>FALSE</td></tr>\n",
       "\t<tr><td>p    </td><td>FALSE</td><td>FALSE</td><td>FALSE</td><td>FALSE</td><td>FALSE</td><td> TRUE</td><td>FALSE</td><td>FALSE</td><td>FALSE</td><td>...  </td><td> TRUE</td><td>FALSE</td><td>FALSE</td><td>FALSE</td><td>FALSE</td><td>FALSE</td><td>FALSE</td><td>FALSE</td><td> TRUE</td><td>FALSE</td></tr>\n",
       "\t<tr><td>e    </td><td>FALSE</td><td>FALSE</td><td>FALSE</td><td>FALSE</td><td>FALSE</td><td> TRUE</td><td>FALSE</td><td>FALSE</td><td> TRUE</td><td>...  </td><td>FALSE</td><td>FALSE</td><td>FALSE</td><td>FALSE</td><td> TRUE</td><td>FALSE</td><td>FALSE</td><td>FALSE</td><td>FALSE</td><td>FALSE</td></tr>\n",
       "\t<tr><td>e    </td><td>FALSE</td><td>FALSE</td><td>FALSE</td><td>FALSE</td><td>FALSE</td><td> TRUE</td><td>FALSE</td><td>FALSE</td><td>FALSE</td><td>...  </td><td>FALSE</td><td>FALSE</td><td>FALSE</td><td>FALSE</td><td> TRUE</td><td>FALSE</td><td>FALSE</td><td>FALSE</td><td>FALSE</td><td>FALSE</td></tr>\n",
       "</tbody>\n",
       "</table>\n"
      ],
      "text/latex": [
       "\\begin{tabular}{r|llllllllllllllllllllllllllllllllllllllllllllllllllllllllllllllllllllllllllllllllllllllllllllllllllllllllllllllllllllll}\n",
       " V1 & V2\\_1 & V2\\_2 & V2\\_3 & V2\\_4 & V2\\_5 & V2\\_6 & V3\\_1 & V3\\_2 & V3\\_3 & ... & V22\\_4 & V22\\_5 & V22\\_6 & V23\\_1 & V23\\_2 & V23\\_3 & V23\\_4 & V23\\_5 & V23\\_6 & V23\\_7\\\\\n",
       "\\hline\n",
       "\t p     & FALSE & FALSE & FALSE & FALSE & FALSE &  TRUE & FALSE & FALSE &  TRUE & ...   &  TRUE & FALSE & FALSE & FALSE & FALSE & FALSE & FALSE & FALSE &  TRUE & FALSE\\\\\n",
       "\t e     & FALSE & FALSE & FALSE & FALSE & FALSE &  TRUE & FALSE & FALSE &  TRUE & ...   & FALSE & FALSE & FALSE & FALSE &  TRUE & FALSE & FALSE & FALSE & FALSE & FALSE\\\\\n",
       "\t e     &  TRUE & FALSE & FALSE & FALSE & FALSE & FALSE & FALSE & FALSE &  TRUE & ...   & FALSE & FALSE & FALSE & FALSE & FALSE & FALSE &  TRUE & FALSE & FALSE & FALSE\\\\\n",
       "\t p     & FALSE & FALSE & FALSE & FALSE & FALSE &  TRUE & FALSE & FALSE & FALSE & ...   &  TRUE & FALSE & FALSE & FALSE & FALSE & FALSE & FALSE & FALSE &  TRUE & FALSE\\\\\n",
       "\t e     & FALSE & FALSE & FALSE & FALSE & FALSE &  TRUE & FALSE & FALSE &  TRUE & ...   & FALSE & FALSE & FALSE & FALSE &  TRUE & FALSE & FALSE & FALSE & FALSE & FALSE\\\\\n",
       "\t e     & FALSE & FALSE & FALSE & FALSE & FALSE &  TRUE & FALSE & FALSE & FALSE & ...   & FALSE & FALSE & FALSE & FALSE &  TRUE & FALSE & FALSE & FALSE & FALSE & FALSE\\\\\n",
       "\\end{tabular}\n"
      ],
      "text/markdown": [
       "\n",
       "| V1 | V2_1 | V2_2 | V2_3 | V2_4 | V2_5 | V2_6 | V3_1 | V3_2 | V3_3 | ... | V22_4 | V22_5 | V22_6 | V23_1 | V23_2 | V23_3 | V23_4 | V23_5 | V23_6 | V23_7 |\n",
       "|---|---|---|---|---|---|---|---|---|---|---|---|---|---|---|---|---|---|---|---|---|\n",
       "| p     | FALSE | FALSE | FALSE | FALSE | FALSE |  TRUE | FALSE | FALSE |  TRUE | ...   |  TRUE | FALSE | FALSE | FALSE | FALSE | FALSE | FALSE | FALSE |  TRUE | FALSE |\n",
       "| e     | FALSE | FALSE | FALSE | FALSE | FALSE |  TRUE | FALSE | FALSE |  TRUE | ...   | FALSE | FALSE | FALSE | FALSE |  TRUE | FALSE | FALSE | FALSE | FALSE | FALSE |\n",
       "| e     |  TRUE | FALSE | FALSE | FALSE | FALSE | FALSE | FALSE | FALSE |  TRUE | ...   | FALSE | FALSE | FALSE | FALSE | FALSE | FALSE |  TRUE | FALSE | FALSE | FALSE |\n",
       "| p     | FALSE | FALSE | FALSE | FALSE | FALSE |  TRUE | FALSE | FALSE | FALSE | ...   |  TRUE | FALSE | FALSE | FALSE | FALSE | FALSE | FALSE | FALSE |  TRUE | FALSE |\n",
       "| e     | FALSE | FALSE | FALSE | FALSE | FALSE |  TRUE | FALSE | FALSE |  TRUE | ...   | FALSE | FALSE | FALSE | FALSE |  TRUE | FALSE | FALSE | FALSE | FALSE | FALSE |\n",
       "| e     | FALSE | FALSE | FALSE | FALSE | FALSE |  TRUE | FALSE | FALSE | FALSE | ...   | FALSE | FALSE | FALSE | FALSE |  TRUE | FALSE | FALSE | FALSE | FALSE | FALSE |\n",
       "\n"
      ],
      "text/plain": [
       "  V1 V2_1  V2_2  V2_3  V2_4  V2_5  V2_6  V3_1  V3_2  V3_3  ... V22_4 V22_5\n",
       "1 p  FALSE FALSE FALSE FALSE FALSE  TRUE FALSE FALSE  TRUE ...  TRUE FALSE\n",
       "2 e  FALSE FALSE FALSE FALSE FALSE  TRUE FALSE FALSE  TRUE ... FALSE FALSE\n",
       "3 e   TRUE FALSE FALSE FALSE FALSE FALSE FALSE FALSE  TRUE ... FALSE FALSE\n",
       "4 p  FALSE FALSE FALSE FALSE FALSE  TRUE FALSE FALSE FALSE ...  TRUE FALSE\n",
       "5 e  FALSE FALSE FALSE FALSE FALSE  TRUE FALSE FALSE  TRUE ... FALSE FALSE\n",
       "6 e  FALSE FALSE FALSE FALSE FALSE  TRUE FALSE FALSE FALSE ... FALSE FALSE\n",
       "  V22_6 V23_1 V23_2 V23_3 V23_4 V23_5 V23_6 V23_7\n",
       "1 FALSE FALSE FALSE FALSE FALSE FALSE  TRUE FALSE\n",
       "2 FALSE FALSE  TRUE FALSE FALSE FALSE FALSE FALSE\n",
       "3 FALSE FALSE FALSE FALSE  TRUE FALSE FALSE FALSE\n",
       "4 FALSE FALSE FALSE FALSE FALSE FALSE  TRUE FALSE\n",
       "5 FALSE FALSE  TRUE FALSE FALSE FALSE FALSE FALSE\n",
       "6 FALSE FALSE  TRUE FALSE FALSE FALSE FALSE FALSE"
      ]
     },
     "metadata": {},
     "output_type": "display_data"
    }
   ],
   "source": [
    "count = 2 #\n",
    "\n",
    "for(i in 2:23){\n",
    "    for(j in sort(unique(mr[,i]))){\n",
    "        mr3 = cbind(mr3, mr[,i]== j)\n",
    "        colnames(mr3)[count]<- paste(\"V\",i,\"_\",j,sep=\"\")\n",
    "        count = count +1\n",
    "    }\n",
    "}\n"
   ]
  },
  {
   "cell_type": "code",
   "execution_count": 43,
   "id": "4cfe4b58",
   "metadata": {},
   "outputs": [
    {
     "name": "stderr",
     "output_type": "stream",
     "text": [
      "Loading required package: grid\n",
      "Loading required package: mvtnorm\n",
      "Loading required package: modeltools\n",
      "Loading required package: stats4\n",
      "Loading required package: strucchange\n",
      "Loading required package: zoo\n",
      "\n",
      "Attaching package: ‘zoo’\n",
      "\n",
      "The following objects are masked from ‘package:base’:\n",
      "\n",
      "    as.Date, as.Date.numeric\n",
      "\n",
      "Loading required package: sandwich\n",
      "randomForest 4.6-14\n",
      "Type rfNews() to see new features/changes/bug fixes.\n",
      "\n",
      "Attaching package: ‘randomForest’\n",
      "\n",
      "The following object is masked from ‘package:ggplot2’:\n",
      "\n",
      "    margin\n",
      "\n",
      "The following object is masked from ‘package:dplyr’:\n",
      "\n",
      "    combine\n",
      "\n"
     ]
    }
   ],
   "source": [
    "library(nnet)\n",
    "library(party)\n",
    "library(caret)\n",
    "library(party)\n",
    "library(randomForest)\n",
    "library(e1071)"
   ]
  },
  {
   "cell_type": "code",
   "execution_count": 50,
   "id": "d6c6f78a",
   "metadata": {},
   "outputs": [],
   "source": [
    "\n",
    "# 정렬\n",
    "mr3 <- arrange(mr3,V1)\n",
    "\n",
    "# Sampling\n",
    "set.seed(1234)\n",
    "samp <- createDataPartition(mr3$V1, p=0.7, list=F)\n",
    "\n",
    "# 학습용 데이터 만들기\n",
    "data.tr <- mr3[samp,]\n",
    "# 검증용 데이터 만들기\n",
    "data.test <- mr3[-samp,]\n",
    "# 문제 및 정답 만들기\n",
    "x <- subset(data.test, select = -V1)\n",
    "y <- data.test$V1\n",
    "\n"
   ]
  },
  {
   "cell_type": "code",
   "execution_count": 47,
   "id": "6c9a9138",
   "metadata": {
    "scrolled": false
   },
   "outputs": [
    {
     "data": {
      "text/html": [
       "0.999178981937603"
      ],
      "text/latex": [
       "0.999178981937603"
      ],
      "text/markdown": [
       "0.999178981937603"
      ],
      "text/plain": [
       "[1] 0.999179"
      ]
     },
     "metadata": {},
     "output_type": "display_data"
    }
   ],
   "source": [
    "mr.ctree <- ctree(V1 ~ ., data=mr3)\n",
    "\n",
    "# 검증\n",
    "ctree.pred <- predict(mr.ctree, x)\n",
    "\n",
    "# 예측률\n",
    "mean(ctree.pred==y)"
   ]
  },
  {
   "cell_type": "code",
   "execution_count": 48,
   "id": "00bea3e8",
   "metadata": {},
   "outputs": [
    {
     "data": {
      "text/html": [
       "1"
      ],
      "text/latex": [
       "1"
      ],
      "text/markdown": [
       "1"
      ],
      "text/plain": [
       "[1] 1"
      ]
     },
     "metadata": {},
     "output_type": "display_data"
    }
   ],
   "source": [
    "model.rf <- randomForest(V1 ~ ., data = mr3 , ntree=100)\n",
    "\n",
    "    # 검증하기\n",
    "    pred <- predict(model.rf, x)    \n",
    "    # 예측률 \n",
    "    mean(pred ==y)\n"
   ]
  },
  {
   "cell_type": "code",
   "execution_count": null,
   "id": "ae37b124",
   "metadata": {},
   "outputs": [],
   "source": []
  }
 ],
 "metadata": {
  "kernelspec": {
   "display_name": "R",
   "language": "R",
   "name": "ir"
  },
  "language_info": {
   "codemirror_mode": "r",
   "file_extension": ".r",
   "mimetype": "text/x-r-source",
   "name": "R",
   "pygments_lexer": "r",
   "version": "3.6.1"
  }
 },
 "nbformat": 4,
 "nbformat_minor": 5
}
