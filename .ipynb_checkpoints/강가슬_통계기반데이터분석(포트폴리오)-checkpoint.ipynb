{
 "cells": [
  {
   "cell_type": "code",
   "execution_count": 8,
   "id": "3c47d4a4",
   "metadata": {
    "vscode": {
     "languageId": "r"
    }
   },
   "outputs": [
    {
     "data": {
      "text/html": [
       "<table>\n",
       "<thead><tr><th scope=col>년도</th><th scope=col>월</th><th scope=col>자치구명</th><th scope=col>발생건수</th><th scope=col>사망자수</th><th scope=col>부상자수</th></tr></thead>\n",
       "<tbody>\n",
       "\t<tr><td>2011  </td><td>1     </td><td>종로구</td><td>115   </td><td>2     </td><td>165   </td></tr>\n",
       "\t<tr><td>2011  </td><td>2     </td><td>종로구</td><td> 99   </td><td>0     </td><td>134   </td></tr>\n",
       "\t<tr><td>2011  </td><td>3     </td><td>종로구</td><td>116   </td><td>0     </td><td>162   </td></tr>\n",
       "\t<tr><td>2011  </td><td>4     </td><td>종로구</td><td>110   </td><td>1     </td><td>153   </td></tr>\n",
       "\t<tr><td>2011  </td><td>5     </td><td>종로구</td><td>122   </td><td>0     </td><td>157   </td></tr>\n",
       "\t<tr><td>2011  </td><td>6     </td><td>종로구</td><td>116   </td><td>3     </td><td>163   </td></tr>\n",
       "</tbody>\n",
       "</table>\n"
      ],
      "text/latex": [
       "\\begin{tabular}{r|llllll}\n",
       " 년도 & 월 & 자치구명 & 발생건수 & 사망자수 & 부상자수\\\\\n",
       "\\hline\n",
       "\t 2011   & 1      & 종로구 & 115    & 2      & 165   \\\\\n",
       "\t 2011   & 2      & 종로구 &  99    & 0      & 134   \\\\\n",
       "\t 2011   & 3      & 종로구 & 116    & 0      & 162   \\\\\n",
       "\t 2011   & 4      & 종로구 & 110    & 1      & 153   \\\\\n",
       "\t 2011   & 5      & 종로구 & 122    & 0      & 157   \\\\\n",
       "\t 2011   & 6      & 종로구 & 116    & 3      & 163   \\\\\n",
       "\\end{tabular}\n"
      ],
      "text/markdown": [
       "\n",
       "| 년도 | 월 | 자치구명 | 발생건수 | 사망자수 | 부상자수 |\n",
       "|---|---|---|---|---|---|\n",
       "| 2011   | 1      | 종로구 | 115    | 2      | 165    |\n",
       "| 2011   | 2      | 종로구 |  99    | 0      | 134    |\n",
       "| 2011   | 3      | 종로구 | 116    | 0      | 162    |\n",
       "| 2011   | 4      | 종로구 | 110    | 1      | 153    |\n",
       "| 2011   | 5      | 종로구 | 122    | 0      | 157    |\n",
       "| 2011   | 6      | 종로구 | 116    | 3      | 163    |\n",
       "\n"
      ],
      "text/plain": [
       "  년도 월 자치구명 발생건수 사망자수 부상자수\n",
       "1 2011 1  종로구   115      2        165     \n",
       "2 2011 2  종로구    99      0        134     \n",
       "3 2011 3  종로구   116      0        162     \n",
       "4 2011 4  종로구   110      1        153     \n",
       "5 2011 5  종로구   122      0        157     \n",
       "6 2011 6  종로구   116      3        163     "
      ]
     },
     "metadata": {},
     "output_type": "display_data"
    }
   ],
   "source": [
    "seoul <- read.csv(\"../Data/newSeoul2019.csv\")\n",
    "head(seoul)"
   ]
  },
  {
   "cell_type": "code",
   "execution_count": 11,
   "id": "bd20062b",
   "metadata": {
    "vscode": {
     "languageId": "r"
    }
   },
   "outputs": [
    {
     "data": {
      "text/html": [
       "<table>\n",
       "<thead><tr><th scope=col>년도</th><th scope=col>월</th><th scope=col>자치구명</th><th scope=col>발생건수</th><th scope=col>사망자수</th><th scope=col>부상자수</th></tr></thead>\n",
       "<tbody>\n",
       "\t<tr><td>2011  </td><td>1     </td><td>종로구</td><td>115   </td><td>2     </td><td>165   </td></tr>\n",
       "\t<tr><td>2011  </td><td>2     </td><td>종로구</td><td> 99   </td><td>0     </td><td>134   </td></tr>\n",
       "\t<tr><td>2011  </td><td>3     </td><td>종로구</td><td>116   </td><td>0     </td><td>162   </td></tr>\n",
       "\t<tr><td>2011  </td><td>4     </td><td>종로구</td><td>110   </td><td>1     </td><td>153   </td></tr>\n",
       "\t<tr><td>2011  </td><td>5     </td><td>종로구</td><td>122   </td><td>0     </td><td>157   </td></tr>\n",
       "\t<tr><td>2011  </td><td>6     </td><td>종로구</td><td>116   </td><td>3     </td><td>163   </td></tr>\n",
       "</tbody>\n",
       "</table>\n"
      ],
      "text/latex": [
       "\\begin{tabular}{r|llllll}\n",
       " 년도 & 월 & 자치구명 & 발생건수 & 사망자수 & 부상자수\\\\\n",
       "\\hline\n",
       "\t 2011   & 1      & 종로구 & 115    & 2      & 165   \\\\\n",
       "\t 2011   & 2      & 종로구 &  99    & 0      & 134   \\\\\n",
       "\t 2011   & 3      & 종로구 & 116    & 0      & 162   \\\\\n",
       "\t 2011   & 4      & 종로구 & 110    & 1      & 153   \\\\\n",
       "\t 2011   & 5      & 종로구 & 122    & 0      & 157   \\\\\n",
       "\t 2011   & 6      & 종로구 & 116    & 3      & 163   \\\\\n",
       "\\end{tabular}\n"
      ],
      "text/markdown": [
       "\n",
       "| 년도 | 월 | 자치구명 | 발생건수 | 사망자수 | 부상자수 |\n",
       "|---|---|---|---|---|---|\n",
       "| 2011   | 1      | 종로구 | 115    | 2      | 165    |\n",
       "| 2011   | 2      | 종로구 |  99    | 0      | 134    |\n",
       "| 2011   | 3      | 종로구 | 116    | 0      | 162    |\n",
       "| 2011   | 4      | 종로구 | 110    | 1      | 153    |\n",
       "| 2011   | 5      | 종로구 | 122    | 0      | 157    |\n",
       "| 2011   | 6      | 종로구 | 116    | 3      | 163    |\n",
       "\n"
      ],
      "text/plain": [
       "  년도 월 자치구명 발생건수 사망자수 부상자수\n",
       "1 2011 1  종로구   115      2        165     \n",
       "2 2011 2  종로구    99      0        134     \n",
       "3 2011 3  종로구   116      0        162     \n",
       "4 2011 4  종로구   110      1        153     \n",
       "5 2011 5  종로구   122      0        157     \n",
       "6 2011 6  종로구   116      3        163     "
      ]
     },
     "metadata": {},
     "output_type": "display_data"
    }
   ],
   "source": [
    "# row names 정리하기\n",
    "rownames(seoul) <- c()\n",
    "head(seoul)"
   ]
  },
  {
   "cell_type": "code",
   "execution_count": 12,
   "id": "80316e3e",
   "metadata": {
    "vscode": {
     "languageId": "r"
    }
   },
   "outputs": [
    {
     "name": "stdout",
     "output_type": "stream",
     "text": [
      "'data.frame':\t108 obs. of  6 variables:\n",
      " $ 년도    : int  2011 2011 2011 2011 2011 2011 2011 2011 2011 2011 ...\n",
      " $ 월      : int  1 2 3 4 5 6 7 8 9 10 ...\n",
      " $ 자치구명: Factor w/ 25 levels \"강남구\",\"강동구\",..: 23 23 23 23 23 23 23 23 23 23 ...\n",
      " $ 발생건수: int  115 99 116 110 122 116 103 122 121 135 ...\n",
      " $ 사망자수: int  2 0 0 1 0 3 1 1 2 2 ...\n",
      " $ 부상자수: int  165 134 162 153 157 163 154 171 166 193 ...\n"
     ]
    }
   ],
   "source": [
    "str(seoul)"
   ]
  },
  {
   "cell_type": "code",
   "execution_count": 14,
   "id": "c8701b13",
   "metadata": {
    "vscode": {
     "languageId": "r"
    }
   },
   "outputs": [
    {
     "data": {
      "text/html": [
       "0.920891438840356"
      ],
      "text/latex": [
       "0.920891438840356"
      ],
      "text/markdown": [
       "0.920891438840356"
      ],
      "text/plain": [
       "[1] 0.9208914"
      ]
     },
     "metadata": {},
     "output_type": "display_data"
    }
   ],
   "source": [
    "# 발생건수와 부상자수 상관계수 \n",
    "cor(seoul$발생건수, seoul$부상자수)"
   ]
  },
  {
   "cell_type": "code",
   "execution_count": 23,
   "id": "40376c92",
   "metadata": {
    "vscode": {
     "languageId": "r"
    }
   },
   "outputs": [
    {
     "data": {
      "text/plain": [
       "\n",
       "Call:\n",
       "lm(formula = JongRo$부상자수 ~ JongRo$발생건수)\n",
       "\n",
       "Residuals:\n",
       "    Min      1Q  Median      3Q     Max \n",
       "-21.637  -5.949  -0.019   5.301  33.961 \n",
       "\n",
       "Coefficients:\n",
       "                Estimate Std. Error t value Pr(>|t|)    \n",
       "(Intercept)      2.88612    6.05535   0.477    0.635    \n",
       "JongRo$발생건수  1.35993    0.05591  24.322   <2e-16 ***\n",
       "---\n",
       "Signif. codes:  0 ‘***’ 0.001 ‘**’ 0.01 ‘*’ 0.05 ‘.’ 0.1 ‘ ’ 1\n",
       "\n",
       "Residual standard error: 9.816 on 106 degrees of freedom\n",
       "Multiple R-squared:  0.848,\tAdjusted R-squared:  0.8466 \n",
       "F-statistic: 591.6 on 1 and 106 DF,  p-value: < 2.2e-16\n"
      ]
     },
     "metadata": {},
     "output_type": "display_data"
    }
   ],
   "source": [
    "# 예측력\n",
    "summary(r)"
   ]
  },
  {
   "cell_type": "markdown",
   "id": "fb13dcab",
   "metadata": {},
   "source": [
    "- p-value: < 2.2e-16\n",
    "- Adjusted R-squared:  0.8466 \n",
    "- Residual standard error: 9.816"
   ]
  },
  {
   "cell_type": "code",
   "execution_count": 24,
   "id": "54a2f66a",
   "metadata": {
    "vscode": {
     "languageId": "r"
    }
   },
   "outputs": [
    {
     "data": {
      "text/plain": [
       "\n",
       "Call:\n",
       "lm(formula = JongRo$부상자수 ~ JongRo$발생건수)\n",
       "\n",
       "Coefficients:\n",
       "    (Intercept)  JongRo$발생건수  \n",
       "          2.886            1.360  \n"
      ]
     },
     "metadata": {},
     "output_type": "display_data"
    }
   ],
   "source": [
    "# 회귀식\n",
    "# - 발생건수가 100건일 경우의 부상자수 예측\n",
    "r"
   ]
  },
  {
   "cell_type": "code",
   "execution_count": 175,
   "id": "14f1d3e3",
   "metadata": {
    "vscode": {
     "languageId": "r"
    }
   },
   "outputs": [
    {
     "name": "stdout",
     "output_type": "stream",
     "text": [
      "126.184 ~ 145.816"
     ]
    },
    {
     "data": {
      "text/html": [
       "274.886"
      ],
      "text/latex": [
       "274.886"
      ],
      "text/markdown": [
       "274.886"
      ],
      "text/plain": [
       "[1] 274.886"
      ]
     },
     "metadata": {},
     "output_type": "display_data"
    }
   ],
   "source": [
    "cat(1.360*100-9.816 , \"~\", 1.360*100+9.816)\n",
    "1.360*200 + 2.886 # 왜?\n"
   ]
  },
  {
   "cell_type": "code",
   "execution_count": 174,
   "id": "a60034e8",
   "metadata": {
    "vscode": {
     "languageId": "r"
    }
   },
   "outputs": [
    {
     "data": {
      "text/html": [
       "<strong>1:</strong> 184.942775"
      ],
      "text/latex": [
       "\\textbf{1:} 184.942775"
      ],
      "text/markdown": [
       "**1:** 184.942775"
      ],
      "text/plain": [
       "       1 \n",
       "184.9428 "
      ]
     },
     "metadata": {},
     "output_type": "display_data"
    }
   ],
   "source": [
    "model.rf <- randomForest(부상자수 ~ 발생건수 , data = seoul, ntree = 1000)\n",
    "발생건수 = 200\n",
    "x <- data.frame(발생건수)\n",
    "predict(model.rf, x)"
   ]
  },
  {
   "cell_type": "code",
   "execution_count": 1,
   "id": "75ecb4c1",
   "metadata": {
    "vscode": {
     "languageId": "r"
    }
   },
   "outputs": [],
   "source": [
    "# 데이터가 군데군데 비어있으면 회귀식으로 분석하는게 나음, 공부하는 데이터가 없기 때문에 아무데이터나 추출 ? \n",
    "# 해결 : randomForest 쓸려면 데이터가 많아야 함 "
   ]
  },
  {
   "cell_type": "code",
   "execution_count": null,
   "id": "2efe5de9",
   "metadata": {
    "vscode": {
     "languageId": "r"
    }
   },
   "outputs": [],
   "source": []
  }
 ],
 "metadata": {
  "kernelspec": {
   "display_name": "R",
   "language": "R",
   "name": "ir"
  },
  "language_info": {
   "codemirror_mode": "r",
   "file_extension": ".r",
   "mimetype": "text/x-r-source",
   "name": "R",
   "pygments_lexer": "r",
   "version": "3.6.1"
  }
 },
 "nbformat": 4,
 "nbformat_minor": 5
}
