{
 "cells": [
  {
   "cell_type": "code",
   "execution_count": 1,
   "id": "48bc10bc",
   "metadata": {
    "scrolled": true
   },
   "outputs": [
    {
     "data": {
      "text/html": [
       "<table>\n",
       "<thead><tr><th scope=col>PassengerId</th><th scope=col>Survived</th><th scope=col>Pclass</th><th scope=col>Name</th><th scope=col>Sex</th><th scope=col>Age</th><th scope=col>SibSp</th><th scope=col>Parch</th><th scope=col>Ticket</th><th scope=col>Fare</th><th scope=col>Cabin</th><th scope=col>Embarked</th></tr></thead>\n",
       "<tbody>\n",
       "\t<tr><td>1                                                  </td><td>0                                                  </td><td>3                                                  </td><td>Braund, Mr. Owen Harris                            </td><td>male                                               </td><td>22                                                 </td><td>1                                                  </td><td>0                                                  </td><td>A/5 21171                                          </td><td> 7.2500                                            </td><td>                                                   </td><td>S                                                  </td></tr>\n",
       "\t<tr><td>2                                                  </td><td>1                                                  </td><td>1                                                  </td><td>Cumings, Mrs. John Bradley (Florence Briggs Thayer)</td><td>female                                             </td><td>38                                                 </td><td>1                                                  </td><td>0                                                  </td><td>PC 17599                                           </td><td>71.2833                                            </td><td>C85                                                </td><td>C                                                  </td></tr>\n",
       "\t<tr><td>3                                                  </td><td>1                                                  </td><td>3                                                  </td><td>Heikkinen, Miss. Laina                             </td><td>female                                             </td><td>26                                                 </td><td>0                                                  </td><td>0                                                  </td><td>STON/O2. 3101282                                   </td><td> 7.9250                                            </td><td>                                                   </td><td>S                                                  </td></tr>\n",
       "\t<tr><td>4                                                  </td><td>1                                                  </td><td>1                                                  </td><td>Futrelle, Mrs. Jacques Heath (Lily May Peel)       </td><td>female                                             </td><td>35                                                 </td><td>1                                                  </td><td>0                                                  </td><td>113803                                             </td><td>53.1000                                            </td><td>C123                                               </td><td>S                                                  </td></tr>\n",
       "\t<tr><td>5                                                  </td><td>0                                                  </td><td>3                                                  </td><td>Allen, Mr. William Henry                           </td><td>male                                               </td><td>35                                                 </td><td>0                                                  </td><td>0                                                  </td><td>373450                                             </td><td> 8.0500                                            </td><td>                                                   </td><td>S                                                  </td></tr>\n",
       "\t<tr><td>6                                                  </td><td>0                                                  </td><td>3                                                  </td><td>Moran, Mr. James                                   </td><td>male                                               </td><td>NA                                                 </td><td>0                                                  </td><td>0                                                  </td><td>330877                                             </td><td> 8.4583                                            </td><td>                                                   </td><td>Q                                                  </td></tr>\n",
       "</tbody>\n",
       "</table>\n"
      ],
      "text/latex": [
       "\\begin{tabular}{r|llllllllllll}\n",
       " PassengerId & Survived & Pclass & Name & Sex & Age & SibSp & Parch & Ticket & Fare & Cabin & Embarked\\\\\n",
       "\\hline\n",
       "\t 1                                                   & 0                                                   & 3                                                   & Braund, Mr. Owen Harris                             & male                                                & 22                                                  & 1                                                   & 0                                                   & A/5 21171                                           &  7.2500                                             &                                                     & S                                                  \\\\\n",
       "\t 2                                                   & 1                                                   & 1                                                   & Cumings, Mrs. John Bradley (Florence Briggs Thayer) & female                                              & 38                                                  & 1                                                   & 0                                                   & PC 17599                                            & 71.2833                                             & C85                                                 & C                                                  \\\\\n",
       "\t 3                                                   & 1                                                   & 3                                                   & Heikkinen, Miss. Laina                              & female                                              & 26                                                  & 0                                                   & 0                                                   & STON/O2. 3101282                                    &  7.9250                                             &                                                     & S                                                  \\\\\n",
       "\t 4                                                   & 1                                                   & 1                                                   & Futrelle, Mrs. Jacques Heath (Lily May Peel)        & female                                              & 35                                                  & 1                                                   & 0                                                   & 113803                                              & 53.1000                                             & C123                                                & S                                                  \\\\\n",
       "\t 5                                                   & 0                                                   & 3                                                   & Allen, Mr. William Henry                            & male                                                & 35                                                  & 0                                                   & 0                                                   & 373450                                              &  8.0500                                             &                                                     & S                                                  \\\\\n",
       "\t 6                                                   & 0                                                   & 3                                                   & Moran, Mr. James                                    & male                                                & NA                                                  & 0                                                   & 0                                                   & 330877                                              &  8.4583                                             &                                                     & Q                                                  \\\\\n",
       "\\end{tabular}\n"
      ],
      "text/markdown": [
       "\n",
       "| PassengerId | Survived | Pclass | Name | Sex | Age | SibSp | Parch | Ticket | Fare | Cabin | Embarked |\n",
       "|---|---|---|---|---|---|---|---|---|---|---|---|\n",
       "| 1                                                   | 0                                                   | 3                                                   | Braund, Mr. Owen Harris                             | male                                                | 22                                                  | 1                                                   | 0                                                   | A/5 21171                                           |  7.2500                                             |                                                     | S                                                   |\n",
       "| 2                                                   | 1                                                   | 1                                                   | Cumings, Mrs. John Bradley (Florence Briggs Thayer) | female                                              | 38                                                  | 1                                                   | 0                                                   | PC 17599                                            | 71.2833                                             | C85                                                 | C                                                   |\n",
       "| 3                                                   | 1                                                   | 3                                                   | Heikkinen, Miss. Laina                              | female                                              | 26                                                  | 0                                                   | 0                                                   | STON/O2. 3101282                                    |  7.9250                                             |                                                     | S                                                   |\n",
       "| 4                                                   | 1                                                   | 1                                                   | Futrelle, Mrs. Jacques Heath (Lily May Peel)        | female                                              | 35                                                  | 1                                                   | 0                                                   | 113803                                              | 53.1000                                             | C123                                                | S                                                   |\n",
       "| 5                                                   | 0                                                   | 3                                                   | Allen, Mr. William Henry                            | male                                                | 35                                                  | 0                                                   | 0                                                   | 373450                                              |  8.0500                                             |                                                     | S                                                   |\n",
       "| 6                                                   | 0                                                   | 3                                                   | Moran, Mr. James                                    | male                                                | NA                                                  | 0                                                   | 0                                                   | 330877                                              |  8.4583                                             |                                                     | Q                                                   |\n",
       "\n"
      ],
      "text/plain": [
       "  PassengerId Survived Pclass\n",
       "1 1           0        3     \n",
       "2 2           1        1     \n",
       "3 3           1        3     \n",
       "4 4           1        1     \n",
       "5 5           0        3     \n",
       "6 6           0        3     \n",
       "  Name                                                Sex    Age SibSp Parch\n",
       "1 Braund, Mr. Owen Harris                             male   22  1     0    \n",
       "2 Cumings, Mrs. John Bradley (Florence Briggs Thayer) female 38  1     0    \n",
       "3 Heikkinen, Miss. Laina                              female 26  0     0    \n",
       "4 Futrelle, Mrs. Jacques Heath (Lily May Peel)        female 35  1     0    \n",
       "5 Allen, Mr. William Henry                            male   35  0     0    \n",
       "6 Moran, Mr. James                                    male   NA  0     0    \n",
       "  Ticket           Fare    Cabin Embarked\n",
       "1 A/5 21171         7.2500       S       \n",
       "2 PC 17599         71.2833 C85   C       \n",
       "3 STON/O2. 3101282  7.9250       S       \n",
       "4 113803           53.1000 C123  S       \n",
       "5 373450            8.0500       S       \n",
       "6 330877            8.4583       Q       "
      ]
     },
     "metadata": {},
     "output_type": "display_data"
    }
   ],
   "source": [
    "tr <- read.csv(\"../Data/Titanic_train.csv\")\n",
    "head(tr)\n"
   ]
  },
  {
   "cell_type": "code",
   "execution_count": 2,
   "id": "41045c1b",
   "metadata": {
    "scrolled": false
   },
   "outputs": [
    {
     "data": {
      "text/html": [
       "<table>\n",
       "<thead><tr><th></th><th scope=col>PassengerId</th><th scope=col>Survived</th><th scope=col>Pclass</th><th scope=col>Name</th><th scope=col>Sex</th><th scope=col>Age</th><th scope=col>SibSp</th><th scope=col>Parch</th><th scope=col>Ticket</th><th scope=col>Fare</th><th scope=col>Cabin</th><th scope=col>Embarked</th></tr></thead>\n",
       "<tbody>\n",
       "\t<tr><th scope=row>886</th><td>886                                     </td><td>0                                       </td><td>3                                       </td><td>Rice, Mrs. William (Margaret Norton)    </td><td>female                                  </td><td>39                                      </td><td>0                                       </td><td>5                                       </td><td>382652                                  </td><td>29.125                                  </td><td>                                        </td><td>Q                                       </td></tr>\n",
       "\t<tr><th scope=row>887</th><td>887                                     </td><td>0                                       </td><td>2                                       </td><td>Montvila, Rev. Juozas                   </td><td>male                                    </td><td>27                                      </td><td>0                                       </td><td>0                                       </td><td>211536                                  </td><td>13.000                                  </td><td>                                        </td><td>S                                       </td></tr>\n",
       "\t<tr><th scope=row>888</th><td>888                                     </td><td>1                                       </td><td>1                                       </td><td>Graham, Miss. Margaret Edith            </td><td>female                                  </td><td>19                                      </td><td>0                                       </td><td>0                                       </td><td>112053                                  </td><td>30.000                                  </td><td>B42                                     </td><td>S                                       </td></tr>\n",
       "\t<tr><th scope=row>889</th><td>889                                     </td><td>0                                       </td><td>3                                       </td><td>Johnston, Miss. Catherine Helen \"Carrie\"</td><td>female                                  </td><td>NA                                      </td><td>1                                       </td><td>2                                       </td><td>W./C. 6607                              </td><td>23.450                                  </td><td>                                        </td><td>S                                       </td></tr>\n",
       "\t<tr><th scope=row>890</th><td>890                                     </td><td>1                                       </td><td>1                                       </td><td>Behr, Mr. Karl Howell                   </td><td>male                                    </td><td>26                                      </td><td>0                                       </td><td>0                                       </td><td>111369                                  </td><td>30.000                                  </td><td>C148                                    </td><td>C                                       </td></tr>\n",
       "\t<tr><th scope=row>891</th><td>891                                     </td><td>0                                       </td><td>3                                       </td><td>Dooley, Mr. Patrick                     </td><td>male                                    </td><td>32                                      </td><td>0                                       </td><td>0                                       </td><td>370376                                  </td><td> 7.750                                  </td><td>                                        </td><td>Q                                       </td></tr>\n",
       "</tbody>\n",
       "</table>\n"
      ],
      "text/latex": [
       "\\begin{tabular}{r|llllllllllll}\n",
       "  & PassengerId & Survived & Pclass & Name & Sex & Age & SibSp & Parch & Ticket & Fare & Cabin & Embarked\\\\\n",
       "\\hline\n",
       "\t886 & 886                                      & 0                                        & 3                                        & Rice, Mrs. William (Margaret Norton)     & female                                   & 39                                       & 0                                        & 5                                        & 382652                                   & 29.125                                   &                                          & Q                                       \\\\\n",
       "\t887 & 887                                      & 0                                        & 2                                        & Montvila, Rev. Juozas                    & male                                     & 27                                       & 0                                        & 0                                        & 211536                                   & 13.000                                   &                                          & S                                       \\\\\n",
       "\t888 & 888                                      & 1                                        & 1                                        & Graham, Miss. Margaret Edith             & female                                   & 19                                       & 0                                        & 0                                        & 112053                                   & 30.000                                   & B42                                      & S                                       \\\\\n",
       "\t889 & 889                                      & 0                                        & 3                                        & Johnston, Miss. Catherine Helen \"Carrie\" & female                                   & NA                                       & 1                                        & 2                                        & W./C. 6607                               & 23.450                                   &                                          & S                                       \\\\\n",
       "\t890 & 890                                      & 1                                        & 1                                        & Behr, Mr. Karl Howell                    & male                                     & 26                                       & 0                                        & 0                                        & 111369                                   & 30.000                                   & C148                                     & C                                       \\\\\n",
       "\t891 & 891                                      & 0                                        & 3                                        & Dooley, Mr. Patrick                      & male                                     & 32                                       & 0                                        & 0                                        & 370376                                   &  7.750                                   &                                          & Q                                       \\\\\n",
       "\\end{tabular}\n"
      ],
      "text/markdown": [
       "\n",
       "| <!--/--> | PassengerId | Survived | Pclass | Name | Sex | Age | SibSp | Parch | Ticket | Fare | Cabin | Embarked |\n",
       "|---|---|---|---|---|---|---|---|---|---|---|---|---|\n",
       "| 886 | 886                                      | 0                                        | 3                                        | Rice, Mrs. William (Margaret Norton)     | female                                   | 39                                       | 0                                        | 5                                        | 382652                                   | 29.125                                   |                                          | Q                                        |\n",
       "| 887 | 887                                      | 0                                        | 2                                        | Montvila, Rev. Juozas                    | male                                     | 27                                       | 0                                        | 0                                        | 211536                                   | 13.000                                   |                                          | S                                        |\n",
       "| 888 | 888                                      | 1                                        | 1                                        | Graham, Miss. Margaret Edith             | female                                   | 19                                       | 0                                        | 0                                        | 112053                                   | 30.000                                   | B42                                      | S                                        |\n",
       "| 889 | 889                                      | 0                                        | 3                                        | Johnston, Miss. Catherine Helen \"Carrie\" | female                                   | NA                                       | 1                                        | 2                                        | W./C. 6607                               | 23.450                                   |                                          | S                                        |\n",
       "| 890 | 890                                      | 1                                        | 1                                        | Behr, Mr. Karl Howell                    | male                                     | 26                                       | 0                                        | 0                                        | 111369                                   | 30.000                                   | C148                                     | C                                        |\n",
       "| 891 | 891                                      | 0                                        | 3                                        | Dooley, Mr. Patrick                      | male                                     | 32                                       | 0                                        | 0                                        | 370376                                   |  7.750                                   |                                          | Q                                        |\n",
       "\n"
      ],
      "text/plain": [
       "    PassengerId Survived Pclass Name                                     Sex   \n",
       "886 886         0        3      Rice, Mrs. William (Margaret Norton)     female\n",
       "887 887         0        2      Montvila, Rev. Juozas                    male  \n",
       "888 888         1        1      Graham, Miss. Margaret Edith             female\n",
       "889 889         0        3      Johnston, Miss. Catherine Helen \"Carrie\" female\n",
       "890 890         1        1      Behr, Mr. Karl Howell                    male  \n",
       "891 891         0        3      Dooley, Mr. Patrick                      male  \n",
       "    Age SibSp Parch Ticket     Fare   Cabin Embarked\n",
       "886 39  0     5     382652     29.125       Q       \n",
       "887 27  0     0     211536     13.000       S       \n",
       "888 19  0     0     112053     30.000 B42   S       \n",
       "889 NA  1     2     W./C. 6607 23.450       S       \n",
       "890 26  0     0     111369     30.000 C148  C       \n",
       "891 32  0     0     370376      7.750       Q       "
      ]
     },
     "metadata": {},
     "output_type": "display_data"
    }
   ],
   "source": [
    "tail(tr)"
   ]
  },
  {
   "cell_type": "code",
   "execution_count": 3,
   "id": "6b10ad00",
   "metadata": {
    "scrolled": true
   },
   "outputs": [
    {
     "name": "stdout",
     "output_type": "stream",
     "text": [
      "'data.frame':\t891 obs. of  12 variables:\n",
      " $ PassengerId: int  1 2 3 4 5 6 7 8 9 10 ...\n",
      " $ Survived   : int  0 1 1 1 0 0 0 0 1 1 ...\n",
      " $ Pclass     : int  3 1 3 1 3 3 1 3 3 2 ...\n",
      " $ Name       : Factor w/ 891 levels \"Abbing, Mr. Anthony\",..: 109 191 358 277 16 559 520 629 417 581 ...\n",
      " $ Sex        : Factor w/ 2 levels \"female\",\"male\": 2 1 1 1 2 2 2 2 1 1 ...\n",
      " $ Age        : num  22 38 26 35 35 NA 54 2 27 14 ...\n",
      " $ SibSp      : int  1 1 0 1 0 0 0 3 0 1 ...\n",
      " $ Parch      : int  0 0 0 0 0 0 0 1 2 0 ...\n",
      " $ Ticket     : Factor w/ 681 levels \"110152\",\"110413\",..: 524 597 670 50 473 276 86 396 345 133 ...\n",
      " $ Fare       : num  7.25 71.28 7.92 53.1 8.05 ...\n",
      " $ Cabin      : Factor w/ 148 levels \"\",\"A10\",\"A14\",..: 1 83 1 57 1 1 131 1 1 1 ...\n",
      " $ Embarked   : Factor w/ 4 levels \"\",\"C\",\"Q\",\"S\": 4 2 4 4 4 3 4 4 4 2 ...\n"
     ]
    }
   ],
   "source": [
    "str(tr)"
   ]
  },
  {
   "cell_type": "code",
   "execution_count": 4,
   "id": "a1754244",
   "metadata": {},
   "outputs": [
    {
     "data": {
      "text/plain": [
       "  PassengerId       Survived          Pclass     \n",
       " Min.   :  1.0   Min.   :0.0000   Min.   :1.000  \n",
       " 1st Qu.:223.5   1st Qu.:0.0000   1st Qu.:2.000  \n",
       " Median :446.0   Median :0.0000   Median :3.000  \n",
       " Mean   :446.0   Mean   :0.3838   Mean   :2.309  \n",
       " 3rd Qu.:668.5   3rd Qu.:1.0000   3rd Qu.:3.000  \n",
       " Max.   :891.0   Max.   :1.0000   Max.   :3.000  \n",
       "                                                 \n",
       "                                    Name         Sex           Age       \n",
       " Abbing, Mr. Anthony                  :  1   female:314   Min.   : 0.42  \n",
       " Abbott, Mr. Rossmore Edward          :  1   male  :577   1st Qu.:20.12  \n",
       " Abbott, Mrs. Stanton (Rosa Hunt)     :  1                Median :28.00  \n",
       " Abelson, Mr. Samuel                  :  1                Mean   :29.70  \n",
       " Abelson, Mrs. Samuel (Hannah Wizosky):  1                3rd Qu.:38.00  \n",
       " Adahl, Mr. Mauritz Nils Martin       :  1                Max.   :80.00  \n",
       " (Other)                              :885                NA's   :177    \n",
       "     SibSp           Parch             Ticket         Fare       \n",
       " Min.   :0.000   Min.   :0.0000   1601    :  7   Min.   :  0.00  \n",
       " 1st Qu.:0.000   1st Qu.:0.0000   347082  :  7   1st Qu.:  7.91  \n",
       " Median :0.000   Median :0.0000   CA. 2343:  7   Median : 14.45  \n",
       " Mean   :0.523   Mean   :0.3816   3101295 :  6   Mean   : 32.20  \n",
       " 3rd Qu.:1.000   3rd Qu.:0.0000   347088  :  6   3rd Qu.: 31.00  \n",
       " Max.   :8.000   Max.   :6.0000   CA 2144 :  6   Max.   :512.33  \n",
       "                                  (Other) :852                   \n",
       "         Cabin     Embarked\n",
       "            :687    :  2   \n",
       " B96 B98    :  4   C:168   \n",
       " C23 C25 C27:  4   Q: 77   \n",
       " G6         :  4   S:644   \n",
       " C22 C26    :  3           \n",
       " D          :  3           \n",
       " (Other)    :186           "
      ]
     },
     "metadata": {},
     "output_type": "display_data"
    }
   ],
   "source": [
    "summary(tr)\n",
    "# 의미가 없음 , 숫자가 의미가 없음"
   ]
  },
  {
   "cell_type": "markdown",
   "id": "de61b844",
   "metadata": {},
   "source": [
    "### 칼럼 내용 확인\n",
    "- Survived : 생존여부, 0=사망, 1=생존\n",
    "- Pclass : 티켓등급, 1=1등급, 2=2등급, 3=3등급\n",
    "- Sibsp : 함께 탑승한 형제, 자매, 배우자의 수\n",
    "- Parch : 함께 탑승한 부모, 자식의 수\n",
    "- Fare : 운임\n",
    "- Cabin : 객실 번호\n",
    "- Embarked : 탑승항구, C=Chersbourg, Q=Queenstown, S=Southampton"
   ]
  },
  {
   "cell_type": "code",
   "execution_count": 5,
   "id": "a60b878a",
   "metadata": {},
   "outputs": [
    {
     "data": {
      "text/html": [
       "177"
      ],
      "text/latex": [
       "177"
      ],
      "text/markdown": [
       "177"
      ],
      "text/plain": [
       "[1] 177"
      ]
     },
     "metadata": {},
     "output_type": "display_data"
    },
    {
     "data": {
      "text/html": [
       "<dl class=dl-horizontal>\n",
       "\t<dt>PassengerId</dt>\n",
       "\t\t<dd>0</dd>\n",
       "\t<dt>Survived</dt>\n",
       "\t\t<dd>0</dd>\n",
       "\t<dt>Pclass</dt>\n",
       "\t\t<dd>0</dd>\n",
       "\t<dt>Name</dt>\n",
       "\t\t<dd>0</dd>\n",
       "\t<dt>Sex</dt>\n",
       "\t\t<dd>0</dd>\n",
       "\t<dt>Age</dt>\n",
       "\t\t<dd>177</dd>\n",
       "\t<dt>SibSp</dt>\n",
       "\t\t<dd>0</dd>\n",
       "\t<dt>Parch</dt>\n",
       "\t\t<dd>0</dd>\n",
       "\t<dt>Ticket</dt>\n",
       "\t\t<dd>0</dd>\n",
       "\t<dt>Fare</dt>\n",
       "\t\t<dd>0</dd>\n",
       "\t<dt>Cabin</dt>\n",
       "\t\t<dd>0</dd>\n",
       "\t<dt>Embarked</dt>\n",
       "\t\t<dd>0</dd>\n",
       "</dl>\n"
      ],
      "text/latex": [
       "\\begin{description*}\n",
       "\\item[PassengerId] 0\n",
       "\\item[Survived] 0\n",
       "\\item[Pclass] 0\n",
       "\\item[Name] 0\n",
       "\\item[Sex] 0\n",
       "\\item[Age] 177\n",
       "\\item[SibSp] 0\n",
       "\\item[Parch] 0\n",
       "\\item[Ticket] 0\n",
       "\\item[Fare] 0\n",
       "\\item[Cabin] 0\n",
       "\\item[Embarked] 0\n",
       "\\end{description*}\n"
      ],
      "text/markdown": [
       "PassengerId\n",
       ":   0Survived\n",
       ":   0Pclass\n",
       ":   0Name\n",
       ":   0Sex\n",
       ":   0Age\n",
       ":   177SibSp\n",
       ":   0Parch\n",
       ":   0Ticket\n",
       ":   0Fare\n",
       ":   0Cabin\n",
       ":   0Embarked\n",
       ":   0\n",
       "\n"
      ],
      "text/plain": [
       "PassengerId    Survived      Pclass        Name         Sex         Age \n",
       "          0           0           0           0           0         177 \n",
       "      SibSp       Parch      Ticket        Fare       Cabin    Embarked \n",
       "          0           0           0           0           0           0 "
      ]
     },
     "metadata": {},
     "output_type": "display_data"
    }
   ],
   "source": [
    "# DB 전체의 NA 확인\n",
    "sum(is.na(tr))\n",
    "# 칼럼별로 더하기\n",
    "colSums(is.na(tr))"
   ]
  },
  {
   "cell_type": "code",
   "execution_count": 6,
   "id": "b859fd22",
   "metadata": {},
   "outputs": [
    {
     "data": {
      "text/html": [
       "0.198653198653199"
      ],
      "text/latex": [
       "0.198653198653199"
      ],
      "text/markdown": [
       "0.198653198653199"
      ],
      "text/plain": [
       "[1] 0.1986532"
      ]
     },
     "metadata": {},
     "output_type": "display_data"
    }
   ],
   "source": [
    "177/891"
   ]
  },
  {
   "cell_type": "markdown",
   "id": "6d31a632",
   "metadata": {},
   "source": [
    "> 20% 빼고는 쓸만함"
   ]
  },
  {
   "cell_type": "code",
   "execution_count": 7,
   "id": "1ca5961a",
   "metadata": {
    "scrolled": false
   },
   "outputs": [
    {
     "data": {
      "text/html": [
       "<table>\n",
       "<thead><tr><th></th><th scope=col>PassengerId</th><th scope=col>Survived</th><th scope=col>Pclass</th><th scope=col>Name</th><th scope=col>Sex</th><th scope=col>Age</th><th scope=col>SibSp</th><th scope=col>Parch</th><th scope=col>Ticket</th><th scope=col>Fare</th><th scope=col>Cabin</th><th scope=col>Embarked</th></tr></thead>\n",
       "<tbody>\n",
       "\t<tr><th scope=row>1</th><td>1                                                  </td><td>0                                                  </td><td>3                                                  </td><td>Braund, Mr. Owen Harris                            </td><td>male                                               </td><td>22                                                 </td><td>1                                                  </td><td>0                                                  </td><td>A/5 21171                                          </td><td> 7.2500                                            </td><td>                                                   </td><td>S                                                  </td></tr>\n",
       "\t<tr><th scope=row>2</th><td>2                                                  </td><td>1                                                  </td><td>1                                                  </td><td>Cumings, Mrs. John Bradley (Florence Briggs Thayer)</td><td>female                                             </td><td>38                                                 </td><td>1                                                  </td><td>0                                                  </td><td>PC 17599                                           </td><td>71.2833                                            </td><td>C85                                                </td><td>C                                                  </td></tr>\n",
       "\t<tr><th scope=row>3</th><td>3                                                  </td><td>1                                                  </td><td>3                                                  </td><td>Heikkinen, Miss. Laina                             </td><td>female                                             </td><td>26                                                 </td><td>0                                                  </td><td>0                                                  </td><td>STON/O2. 3101282                                   </td><td> 7.9250                                            </td><td>                                                   </td><td>S                                                  </td></tr>\n",
       "\t<tr><th scope=row>4</th><td>4                                                  </td><td>1                                                  </td><td>1                                                  </td><td>Futrelle, Mrs. Jacques Heath (Lily May Peel)       </td><td>female                                             </td><td>35                                                 </td><td>1                                                  </td><td>0                                                  </td><td>113803                                             </td><td>53.1000                                            </td><td>C123                                               </td><td>S                                                  </td></tr>\n",
       "\t<tr><th scope=row>5</th><td>5                                                  </td><td>0                                                  </td><td>3                                                  </td><td>Allen, Mr. William Henry                           </td><td>male                                               </td><td>35                                                 </td><td>0                                                  </td><td>0                                                  </td><td>373450                                             </td><td> 8.0500                                            </td><td>                                                   </td><td>S                                                  </td></tr>\n",
       "\t<tr><th scope=row>7</th><td>7                                                  </td><td>0                                                  </td><td>1                                                  </td><td>McCarthy, Mr. Timothy J                            </td><td>male                                               </td><td>54                                                 </td><td>0                                                  </td><td>0                                                  </td><td>17463                                              </td><td>51.8625                                            </td><td>E46                                                </td><td>S                                                  </td></tr>\n",
       "</tbody>\n",
       "</table>\n"
      ],
      "text/latex": [
       "\\begin{tabular}{r|llllllllllll}\n",
       "  & PassengerId & Survived & Pclass & Name & Sex & Age & SibSp & Parch & Ticket & Fare & Cabin & Embarked\\\\\n",
       "\\hline\n",
       "\t1 & 1                                                   & 0                                                   & 3                                                   & Braund, Mr. Owen Harris                             & male                                                & 22                                                  & 1                                                   & 0                                                   & A/5 21171                                           &  7.2500                                             &                                                     & S                                                  \\\\\n",
       "\t2 & 2                                                   & 1                                                   & 1                                                   & Cumings, Mrs. John Bradley (Florence Briggs Thayer) & female                                              & 38                                                  & 1                                                   & 0                                                   & PC 17599                                            & 71.2833                                             & C85                                                 & C                                                  \\\\\n",
       "\t3 & 3                                                   & 1                                                   & 3                                                   & Heikkinen, Miss. Laina                              & female                                              & 26                                                  & 0                                                   & 0                                                   & STON/O2. 3101282                                    &  7.9250                                             &                                                     & S                                                  \\\\\n",
       "\t4 & 4                                                   & 1                                                   & 1                                                   & Futrelle, Mrs. Jacques Heath (Lily May Peel)        & female                                              & 35                                                  & 1                                                   & 0                                                   & 113803                                              & 53.1000                                             & C123                                                & S                                                  \\\\\n",
       "\t5 & 5                                                   & 0                                                   & 3                                                   & Allen, Mr. William Henry                            & male                                                & 35                                                  & 0                                                   & 0                                                   & 373450                                              &  8.0500                                             &                                                     & S                                                  \\\\\n",
       "\t7 & 7                                                   & 0                                                   & 1                                                   & McCarthy, Mr. Timothy J                             & male                                                & 54                                                  & 0                                                   & 0                                                   & 17463                                               & 51.8625                                             & E46                                                 & S                                                  \\\\\n",
       "\\end{tabular}\n"
      ],
      "text/markdown": [
       "\n",
       "| <!--/--> | PassengerId | Survived | Pclass | Name | Sex | Age | SibSp | Parch | Ticket | Fare | Cabin | Embarked |\n",
       "|---|---|---|---|---|---|---|---|---|---|---|---|---|\n",
       "| 1 | 1                                                   | 0                                                   | 3                                                   | Braund, Mr. Owen Harris                             | male                                                | 22                                                  | 1                                                   | 0                                                   | A/5 21171                                           |  7.2500                                             |                                                     | S                                                   |\n",
       "| 2 | 2                                                   | 1                                                   | 1                                                   | Cumings, Mrs. John Bradley (Florence Briggs Thayer) | female                                              | 38                                                  | 1                                                   | 0                                                   | PC 17599                                            | 71.2833                                             | C85                                                 | C                                                   |\n",
       "| 3 | 3                                                   | 1                                                   | 3                                                   | Heikkinen, Miss. Laina                              | female                                              | 26                                                  | 0                                                   | 0                                                   | STON/O2. 3101282                                    |  7.9250                                             |                                                     | S                                                   |\n",
       "| 4 | 4                                                   | 1                                                   | 1                                                   | Futrelle, Mrs. Jacques Heath (Lily May Peel)        | female                                              | 35                                                  | 1                                                   | 0                                                   | 113803                                              | 53.1000                                             | C123                                                | S                                                   |\n",
       "| 5 | 5                                                   | 0                                                   | 3                                                   | Allen, Mr. William Henry                            | male                                                | 35                                                  | 0                                                   | 0                                                   | 373450                                              |  8.0500                                             |                                                     | S                                                   |\n",
       "| 7 | 7                                                   | 0                                                   | 1                                                   | McCarthy, Mr. Timothy J                             | male                                                | 54                                                  | 0                                                   | 0                                                   | 17463                                               | 51.8625                                             | E46                                                 | S                                                   |\n",
       "\n"
      ],
      "text/plain": [
       "  PassengerId Survived Pclass\n",
       "1 1           0        3     \n",
       "2 2           1        1     \n",
       "3 3           1        3     \n",
       "4 4           1        1     \n",
       "5 5           0        3     \n",
       "7 7           0        1     \n",
       "  Name                                                Sex    Age SibSp Parch\n",
       "1 Braund, Mr. Owen Harris                             male   22  1     0    \n",
       "2 Cumings, Mrs. John Bradley (Florence Briggs Thayer) female 38  1     0    \n",
       "3 Heikkinen, Miss. Laina                              female 26  0     0    \n",
       "4 Futrelle, Mrs. Jacques Heath (Lily May Peel)        female 35  1     0    \n",
       "5 Allen, Mr. William Henry                            male   35  0     0    \n",
       "7 McCarthy, Mr. Timothy J                             male   54  0     0    \n",
       "  Ticket           Fare    Cabin Embarked\n",
       "1 A/5 21171         7.2500       S       \n",
       "2 PC 17599         71.2833 C85   C       \n",
       "3 STON/O2. 3101282  7.9250       S       \n",
       "4 113803           53.1000 C123  S       \n",
       "5 373450            8.0500       S       \n",
       "7 17463            51.8625 E46   S       "
      ]
     },
     "metadata": {},
     "output_type": "display_data"
    },
    {
     "data": {
      "text/html": [
       "714"
      ],
      "text/latex": [
       "714"
      ],
      "text/markdown": [
       "714"
      ],
      "text/plain": [
       "[1] 714"
      ]
     },
     "metadata": {},
     "output_type": "display_data"
    }
   ],
   "source": [
    "# tr$Age가 NA인것 빼고 데이터셋 만들기\n",
    "head(subset(tr, Age != \"NA\"))\n",
    "nrow(subset(tr, Age != \"NA\"))"
   ]
  },
  {
   "cell_type": "code",
   "execution_count": 8,
   "id": "4d4a2767",
   "metadata": {},
   "outputs": [
    {
     "name": "stderr",
     "output_type": "stream",
     "text": [
      "\n",
      "Attaching package: ‘dplyr’\n",
      "\n",
      "The following objects are masked from ‘package:stats’:\n",
      "\n",
      "    filter, lag\n",
      "\n",
      "The following objects are masked from ‘package:base’:\n",
      "\n",
      "    intersect, setdiff, setequal, union\n",
      "\n"
     ]
    },
    {
     "data": {
      "text/html": [
       "<table>\n",
       "<thead><tr><th></th><th scope=col>PassengerId</th><th scope=col>Survived</th><th scope=col>Pclass</th><th scope=col>Name</th><th scope=col>Sex</th><th scope=col>Age</th><th scope=col>SibSp</th><th scope=col>Parch</th><th scope=col>Ticket</th><th scope=col>Fare</th><th scope=col>Cabin</th><th scope=col>Embarked</th></tr></thead>\n",
       "<tbody>\n",
       "\t<tr><th scope=row>886</th><td>875                                          </td><td>1                                            </td><td>2                                            </td><td>Abelson, Mrs. Samuel (Hannah Wizosky)        </td><td>female                                       </td><td>28                                           </td><td>1                                            </td><td>0                                            </td><td>P/PP 3381                                    </td><td>24.0000                                      </td><td>                                             </td><td>C                                            </td></tr>\n",
       "\t<tr><th scope=row>887</th><td>876                                          </td><td>1                                            </td><td>3                                            </td><td>Najib, Miss. Adele Kiamie \"Jane\"             </td><td>female                                       </td><td>15                                           </td><td>0                                            </td><td>0                                            </td><td>2667                                         </td><td> 7.2250                                      </td><td>                                             </td><td>C                                            </td></tr>\n",
       "\t<tr><th scope=row>888</th><td>880                                          </td><td>1                                            </td><td>1                                            </td><td>Potter, Mrs. Thomas Jr (Lily Alexenia Wilson)</td><td>female                                       </td><td>56                                           </td><td>0                                            </td><td>1                                            </td><td>11767                                        </td><td>83.1583                                      </td><td>C50                                          </td><td>C                                            </td></tr>\n",
       "\t<tr><th scope=row>889</th><td>881                                          </td><td>1                                            </td><td>2                                            </td><td>Shelley, Mrs. William (Imanita Parrish Hall) </td><td>female                                       </td><td>25                                           </td><td>0                                            </td><td>1                                            </td><td>230433                                       </td><td>26.0000                                      </td><td>                                             </td><td>S                                            </td></tr>\n",
       "\t<tr><th scope=row>890</th><td>888                                          </td><td>1                                            </td><td>1                                            </td><td>Graham, Miss. Margaret Edith                 </td><td>female                                       </td><td>19                                           </td><td>0                                            </td><td>0                                            </td><td>112053                                       </td><td>30.0000                                      </td><td>B42                                          </td><td>S                                            </td></tr>\n",
       "\t<tr><th scope=row>891</th><td>890                                          </td><td>1                                            </td><td>1                                            </td><td>Behr, Mr. Karl Howell                        </td><td>male                                         </td><td>26                                           </td><td>0                                            </td><td>0                                            </td><td>111369                                       </td><td>30.0000                                      </td><td>C148                                         </td><td>C                                            </td></tr>\n",
       "</tbody>\n",
       "</table>\n"
      ],
      "text/latex": [
       "\\begin{tabular}{r|llllllllllll}\n",
       "  & PassengerId & Survived & Pclass & Name & Sex & Age & SibSp & Parch & Ticket & Fare & Cabin & Embarked\\\\\n",
       "\\hline\n",
       "\t886 & 875                                           & 1                                             & 2                                             & Abelson, Mrs. Samuel (Hannah Wizosky)         & female                                        & 28                                            & 1                                             & 0                                             & P/PP 3381                                     & 24.0000                                       &                                               & C                                            \\\\\n",
       "\t887 & 876                                           & 1                                             & 3                                             & Najib, Miss. Adele Kiamie \"Jane\"              & female                                        & 15                                            & 0                                             & 0                                             & 2667                                          &  7.2250                                       &                                               & C                                            \\\\\n",
       "\t888 & 880                                           & 1                                             & 1                                             & Potter, Mrs. Thomas Jr (Lily Alexenia Wilson) & female                                        & 56                                            & 0                                             & 1                                             & 11767                                         & 83.1583                                       & C50                                           & C                                            \\\\\n",
       "\t889 & 881                                           & 1                                             & 2                                             & Shelley, Mrs. William (Imanita Parrish Hall)  & female                                        & 25                                            & 0                                             & 1                                             & 230433                                        & 26.0000                                       &                                               & S                                            \\\\\n",
       "\t890 & 888                                           & 1                                             & 1                                             & Graham, Miss. Margaret Edith                  & female                                        & 19                                            & 0                                             & 0                                             & 112053                                        & 30.0000                                       & B42                                           & S                                            \\\\\n",
       "\t891 & 890                                           & 1                                             & 1                                             & Behr, Mr. Karl Howell                         & male                                          & 26                                            & 0                                             & 0                                             & 111369                                        & 30.0000                                       & C148                                          & C                                            \\\\\n",
       "\\end{tabular}\n"
      ],
      "text/markdown": [
       "\n",
       "| <!--/--> | PassengerId | Survived | Pclass | Name | Sex | Age | SibSp | Parch | Ticket | Fare | Cabin | Embarked |\n",
       "|---|---|---|---|---|---|---|---|---|---|---|---|---|\n",
       "| 886 | 875                                           | 1                                             | 2                                             | Abelson, Mrs. Samuel (Hannah Wizosky)         | female                                        | 28                                            | 1                                             | 0                                             | P/PP 3381                                     | 24.0000                                       |                                               | C                                             |\n",
       "| 887 | 876                                           | 1                                             | 3                                             | Najib, Miss. Adele Kiamie \"Jane\"              | female                                        | 15                                            | 0                                             | 0                                             | 2667                                          |  7.2250                                       |                                               | C                                             |\n",
       "| 888 | 880                                           | 1                                             | 1                                             | Potter, Mrs. Thomas Jr (Lily Alexenia Wilson) | female                                        | 56                                            | 0                                             | 1                                             | 11767                                         | 83.1583                                       | C50                                           | C                                             |\n",
       "| 889 | 881                                           | 1                                             | 2                                             | Shelley, Mrs. William (Imanita Parrish Hall)  | female                                        | 25                                            | 0                                             | 1                                             | 230433                                        | 26.0000                                       |                                               | S                                             |\n",
       "| 890 | 888                                           | 1                                             | 1                                             | Graham, Miss. Margaret Edith                  | female                                        | 19                                            | 0                                             | 0                                             | 112053                                        | 30.0000                                       | B42                                           | S                                             |\n",
       "| 891 | 890                                           | 1                                             | 1                                             | Behr, Mr. Karl Howell                         | male                                          | 26                                            | 0                                             | 0                                             | 111369                                        | 30.0000                                       | C148                                          | C                                             |\n",
       "\n"
      ],
      "text/plain": [
       "    PassengerId Survived Pclass Name                                         \n",
       "886 875         1        2      Abelson, Mrs. Samuel (Hannah Wizosky)        \n",
       "887 876         1        3      Najib, Miss. Adele Kiamie \"Jane\"             \n",
       "888 880         1        1      Potter, Mrs. Thomas Jr (Lily Alexenia Wilson)\n",
       "889 881         1        2      Shelley, Mrs. William (Imanita Parrish Hall) \n",
       "890 888         1        1      Graham, Miss. Margaret Edith                 \n",
       "891 890         1        1      Behr, Mr. Karl Howell                        \n",
       "    Sex    Age SibSp Parch Ticket    Fare    Cabin Embarked\n",
       "886 female 28  1     0     P/PP 3381 24.0000       C       \n",
       "887 female 15  0     0     2667       7.2250       C       \n",
       "888 female 56  0     1     11767     83.1583 C50   C       \n",
       "889 female 25  0     1     230433    26.0000       S       \n",
       "890 female 19  0     0     112053    30.0000 B42   S       \n",
       "891 male   26  0     0     111369    30.0000 C148  C       "
      ]
     },
     "metadata": {},
     "output_type": "display_data"
    }
   ],
   "source": [
    "# Survived 기준으로 Dataset 정렬\n",
    "library(dplyr)\n",
    "tr <- arrange(tr, Survived)\n",
    "tail(tr)"
   ]
  },
  {
   "cell_type": "code",
   "execution_count": 9,
   "id": "665e65b9",
   "metadata": {},
   "outputs": [
    {
     "data": {
      "text/html": [
       "<ol class=list-inline>\n",
       "\t<li>891</li>\n",
       "\t<li>12</li>\n",
       "</ol>\n"
      ],
      "text/latex": [
       "\\begin{enumerate*}\n",
       "\\item 891\n",
       "\\item 12\n",
       "\\end{enumerate*}\n"
      ],
      "text/markdown": [
       "1. 891\n",
       "2. 12\n",
       "\n",
       "\n"
      ],
      "text/plain": [
       "[1] 891  12"
      ]
     },
     "metadata": {},
     "output_type": "display_data"
    }
   ],
   "source": [
    "# 정렬된 크기 확인하기\n",
    "dim(tr)"
   ]
  },
  {
   "cell_type": "markdown",
   "id": "c84181a4",
   "metadata": {},
   "source": [
    "# Target Column : Survived 분석 및 확인"
   ]
  },
  {
   "cell_type": "code",
   "execution_count": 10,
   "id": "8caf1c08",
   "metadata": {},
   "outputs": [
    {
     "data": {
      "text/plain": [
       "\n",
       "  0   1 \n",
       "549 342 "
      ]
     },
     "metadata": {},
     "output_type": "display_data"
    }
   ],
   "source": [
    "table(tr$Survived)"
   ]
  },
  {
   "cell_type": "code",
   "execution_count": 11,
   "id": "f784219f",
   "metadata": {},
   "outputs": [
    {
     "data": {
      "text/html": [
       "549"
      ],
      "text/latex": [
       "549"
      ],
      "text/markdown": [
       "549"
      ],
      "text/plain": [
       "[1] 549"
      ]
     },
     "metadata": {},
     "output_type": "display_data"
    },
    {
     "data": {
      "text/html": [
       "342"
      ],
      "text/latex": [
       "342"
      ],
      "text/markdown": [
       "342"
      ],
      "text/plain": [
       "[1] 342"
      ]
     },
     "metadata": {},
     "output_type": "display_data"
    },
    {
     "data": {
      "text/html": [
       "38.3838383838384"
      ],
      "text/latex": [
       "38.3838383838384"
      ],
      "text/markdown": [
       "38.3838383838384"
      ],
      "text/plain": [
       "[1] 38.38384"
      ]
     },
     "metadata": {},
     "output_type": "display_data"
    },
    {
     "data": {
      "text/html": [
       "891"
      ],
      "text/latex": [
       "891"
      ],
      "text/markdown": [
       "891"
      ],
      "text/plain": [
       "[1] 891"
      ]
     },
     "metadata": {},
     "output_type": "display_data"
    }
   ],
   "source": [
    "# Survived의 생존과 사망 Count 확인 및 비율 계산하기\n",
    "\n",
    "# 사망자수\n",
    "nrow(subset(tr, Survived == 0))\n",
    "# 생존자수\n",
    "nrow(subset(tr, Survived == 1))\n",
    "# 생존자수 비율\n",
    "nrow(subset(tr, Survived == 1)) / nrow(tr) * 100\n",
    "nrow(tr)"
   ]
  },
  {
   "cell_type": "code",
   "execution_count": 12,
   "id": "44fafbd4",
   "metadata": {},
   "outputs": [
    {
     "ename": "ERROR",
     "evalue": "Error in eval(expr, envir, enclos): 객체 '비율'를 찾을 수 없습니다\n",
     "output_type": "error",
     "traceback": [
      "Error in eval(expr, envir, enclos): 객체 '비율'를 찾을 수 없습니다\nTraceback:\n"
     ]
    }
   ],
   "source": [
    "# 생존과 사망 비율을 Pie Chart로 생성\n",
    "par(family = 'AppleGothic')\n",
    "library(plotrix)\n",
    "options(warn=-1)\n",
    "\n",
    "생존율 <- c(nrow(subset(tr, Survived == 0)),nrow(subset(tr, Survived == 1)))\n",
    "ratio <- round((비율 / nrow(tr) * 100),2)\n",
    "label <- paste(c(\"사망\",\"생존\"),\"\\n\",ratio,\"%\")\n",
    "\n",
    "pie3D(생존율, \n",
    "      main = \"타이타닉호 생존율\",\n",
    "      labels= label,\n",
    "      explode = 0.05,\n",
    "       \n",
    ")"
   ]
  },
  {
   "cell_type": "code",
   "execution_count": null,
   "id": "43154f01",
   "metadata": {},
   "outputs": [],
   "source": [
    "par(family = 'AppleGothic')\n",
    "# 생존율 대신 \"table(tr$Survived)\" 넣어도 됨\n",
    "barplot(생존율,\n",
    "        ylim = c(0,600),\n",
    "        main = \"타이타닉호 생존수와 사망수\",\n",
    "        names = c(\"사망\",\"생존\"),\n",
    "        ylab = \"인원수\",\n",
    "        xlab = \"생존여부\",\n",
    "        col = c('red', 'blue')\n",
    "\n",
    ")"
   ]
  },
  {
   "cell_type": "markdown",
   "id": "1a4ebeec",
   "metadata": {},
   "source": [
    "> Target Column 으로 Survived를 선정"
   ]
  },
  {
   "cell_type": "markdown",
   "id": "1b8251d7",
   "metadata": {},
   "source": [
    "---\n",
    "# Feature column 찾기"
   ]
  },
  {
   "cell_type": "code",
   "execution_count": null,
   "id": "f908d780",
   "metadata": {},
   "outputs": [],
   "source": [
    "head(tr)"
   ]
  },
  {
   "cell_type": "markdown",
   "id": "b94c890c",
   "metadata": {},
   "source": [
    "# Sex컬럼 확인"
   ]
  },
  {
   "cell_type": "code",
   "execution_count": null,
   "id": "50513eaa",
   "metadata": {},
   "outputs": [],
   "source": [
    "# Sex 칼럼 분류 확인\n",
    "unique(tr$Sex)"
   ]
  },
  {
   "cell_type": "code",
   "execution_count": null,
   "id": "4771b3a2",
   "metadata": {},
   "outputs": [],
   "source": [
    "# 여성과 남성의 인원 확인\n",
    "famaleCount <- nrow(subset(tr, Sex == \"male\"))\n",
    "maleCount <- nrow(subset(tr, Sex == \"female\"))\n"
   ]
  },
  {
   "cell_type": "code",
   "execution_count": null,
   "id": "2494103c",
   "metadata": {},
   "outputs": [],
   "source": [
    "# 여성의 생존수와 사망수\n",
    "# 생존\n",
    "femaleSurvive <- nrow(subset(tr, Sex == \"female\" & Survived == \"1\")) ;femaleSurvive\n",
    "# 사망\n",
    "femaleDeath <- nrow(subset(tr, Sex == \"female\" & Survived == \"0\")) ;femaleDeath\n",
    "\n",
    "# 생존율\n",
    "femaleSurvive_p <- round(nrow(subset(tr, Sex == \"female\" & Survived == \"1\"))/nrow(subset(tr, Sex == \"female\"))*100,2)\n",
    "# 사망율\n",
    "femaleDeath_p <- round(nrow(subset(tr, Sex == \"female\" & Survived == \"0\"))/nrow(subset(tr, Sex == \"female\"))*100,2)\n",
    "\n",
    "cat(\"여성의 생존율 : \", femaleSurvive_p, \"%\", \"\\n\")\n",
    "cat(\"여성의 사망율 : \", femaleDeath_p, \"%\")"
   ]
  },
  {
   "cell_type": "code",
   "execution_count": null,
   "id": "4effacb2",
   "metadata": {},
   "outputs": [],
   "source": [
    "# 남성의 생존수와 사망수\n",
    "# 생존\n",
    "maleSurvive<- nrow(subset(tr, Sex == \"male\" & Survived == \"1\")) \n",
    "# 사망\n",
    "maleDeath <- nrow(subset(tr, Sex == \"male\" & Survived == \"0\"))\n",
    "\n",
    "# 생존율\n",
    "maleSurvive_p <- round(nrow(subset(tr, Sex == \"male\" & Survived == \"1\"))/nrow(subset(tr, Sex == \"male\"))*100,2)\n",
    "# 사망율\n",
    "maleDeath_p <- round(nrow(subset(tr, Sex == \"male\" & Survived == \"0\"))/nrow(subset(tr, Sex == \"male\"))*100,2)\n",
    "\n",
    "cat(\"남성의 생존율 : \", maleSurvive_p, \"%\", \"\\n\")\n",
    "cat(\"남성의 사망율 : \", maleDeath_p, \"%\")"
   ]
  },
  {
   "cell_type": "markdown",
   "id": "4557db7a",
   "metadata": {},
   "source": [
    "> Sex 칼럼은 Feature로 적합  \n",
    "> [Survived] <- [Sex]"
   ]
  },
  {
   "cell_type": "code",
   "execution_count": null,
   "id": "4f091960",
   "metadata": {},
   "outputs": [],
   "source": []
  },
  {
   "cell_type": "code",
   "execution_count": null,
   "id": "edfb88a7",
   "metadata": {},
   "outputs": [],
   "source": [
    "par(mfrow = c(2,2))\n",
    "par(family = 'AppleGothic')\n",
    "library(plotrix)\n",
    "options(warn=-1)\n",
    "\n",
    "여성생존율 <- c(femaleSurvive,femaleDeath)\n",
    "label <- paste(c(\"생존\",\"사망\"),\"\\n\",c(femaleSurvive_p,femaleDeath_p),\"%\")\n",
    "\n",
    "pie3D(여성생존율,\n",
    "     main = \"타이타닉호 여성 생존율\",\n",
    "     labels = label,\n",
    "      explode = 0.05,\n",
    "      labelcex = 0.8\n",
    "     \n",
    "     )\n",
    "\n",
    "남성생존율 <- c(maleSurvive,maleDeath)\n",
    "label <- paste(c(\"생존\",\"사망\"),\"\\n\",c(maleSurvive_p,maleDeath_p),\"%\")\n",
    "\n",
    "pie3D(남성생존율,\n",
    "     main = \"타이타닉호 남성 생존율\",\n",
    "     labels = label,\n",
    "      explode = 0.05,\n",
    "      labelcex = 0.8\n",
    "     \n",
    "     )\n",
    "\n",
    "성별 <- c(maleCount,famaleCount)\n",
    "성별승선인원수 <- barplot(성별,\n",
    "       main = \"성별 승선 인원수\",\n",
    "       ylim = c(0,700),\n",
    "       ylab = \"승선인원수\",\n",
    "       names = c(\"여성\",\"남성\"),\n",
    "        col = c('red','blue')\n",
    "       )\n",
    "\n",
    "text(성별승선인원수,성별,paste(성별,\"명\"), pos=3)"
   ]
  },
  {
   "cell_type": "markdown",
   "id": "4d262324",
   "metadata": {},
   "source": [
    "---\n",
    "# 티켓 등급 분석"
   ]
  },
  {
   "cell_type": "code",
   "execution_count": null,
   "id": "0067b56c",
   "metadata": {},
   "outputs": [],
   "source": [
    "table(tr$Pclass)"
   ]
  },
  {
   "cell_type": "code",
   "execution_count": 13,
   "id": "36e44f3d",
   "metadata": {},
   "outputs": [
    {
     "name": "stdout",
     "output_type": "stream",
     "text": [
      "1 등 객실의 여성 생존율은 91 / 94 , 96.81 % \n",
      "2 등 객실의 여성 생존율은 70 / 76 , 92.11 % \n",
      "3 등 객실의 여성 생존율은 72 / 144 , 50 % \n",
      "------------------------------------ \n",
      "1 등 객실의 남성 생존율은 45 / 122 , 36.89 % \n",
      "2 등 객실의 남성 생존율은 17 / 108 , 15.74 % \n",
      "3 등 객실의 남성 생존율은 47 / 347 , 13.54 % \n",
      "------------------------------------ \n"
     ]
    },
    {
     "data": {
      "image/png": "[encoded data removed]",
      "text/plain": [
       "Plot with title “객실 등급별 생존율”"
      ]
     },
     "metadata": {},
     "output_type": "display_data"
    }
   ],
   "source": [
    "# 1,2,3 등 객실의 여성 생존율\n",
    "\n",
    "sex <- c('female', 'male')\n",
    "성별 <- c('여성', '남성')\n",
    "성 <- c(\"(여)\",\"(남)\")\n",
    "a <- c()\n",
    "label <- c()\n",
    "for(s in 1:2){\n",
    "    for(i in 1:3){\n",
    "        firstFemale <- nrow(subset(tr, Pclass == i & Sex == sex[s]))\n",
    "        firstFemale_s <- nrow(subset(tr, Pclass == i & Sex == sex[s] & Survived == 1))\n",
    "        firstFemale_p <-  round(firstFemale_s/firstFemale * 100,2)\n",
    "        cat(i,\"등 객실의\",성별[s],\"생존율은\",firstFemale_s,\"/\",firstFemale,\",\",firstFemale_p,\"%\",\"\\n\")\n",
    "\n",
    "        a <- append(a ,firstFemale_p)\n",
    "        label <- append(label, paste(i,\"객실\",성[s]))\n",
    "  }\n",
    "    \n",
    "    cat(\"------------------------------------\",\"\\n\")\n",
    "\n",
    "}\n",
    "\n",
    "par(family = 'AppleGothic')\n",
    "   bp <- barplot(a,\n",
    "            main = \"객실 등급별 생존율\",\n",
    "            ylim = c(0,100),\n",
    "            ylab = \"생존율\",\n",
    "            xlab = \"객실 등급\",\n",
    "            names = label,\n",
    "            cex.names = 0.7,\n",
    "            density = c(rep(10,3),rep(100,3)),\n",
    "            border = c(rep(\"red\",3),rep(\"blue\",3))\n",
    "           )\n",
    "\n",
    "text(bp,a,paste(a,\"%\"),pos =3 )"
   ]
  },
  {
   "cell_type": "markdown",
   "id": "016fa6a0",
   "metadata": {},
   "source": [
    "--- \n",
    "### Embarked(항구의 위치)\n"
   ]
  },
  {
   "cell_type": "code",
   "execution_count": null,
   "id": "ef599dc7",
   "metadata": {},
   "outputs": [],
   "source": [
    "head(tr)"
   ]
  },
  {
   "cell_type": "code",
   "execution_count": null,
   "id": "4b6ccd04",
   "metadata": {},
   "outputs": [],
   "source": [
    "str(tr)"
   ]
  },
  {
   "cell_type": "code",
   "execution_count": null,
   "id": "05c61478",
   "metadata": {},
   "outputs": [],
   "source": [
    "table(tr$Embarked)"
   ]
  },
  {
   "cell_type": "code",
   "execution_count": null,
   "id": "31a3a69b",
   "metadata": {},
   "outputs": [],
   "source": [
    "# 빈칸의 데이터 찾기\n",
    "subset(tr, Embarked == \"\")"
   ]
  },
  {
   "cell_type": "code",
   "execution_count": null,
   "id": "2de31076",
   "metadata": {},
   "outputs": [],
   "source": [
    "# 제일 많은 운임을 지불한 사람\n",
    "subset(tr, Fare == max(tr$Fare))"
   ]
  },
  {
   "cell_type": "code",
   "execution_count": null,
   "id": "324dec23",
   "metadata": {},
   "outputs": [],
   "source": [
    "mean(tr$Fare)"
   ]
  },
  {
   "cell_type": "code",
   "execution_count": null,
   "id": "a8ed74bd",
   "metadata": {},
   "outputs": [],
   "source": [
    "# 항구별 탑승인원을 구하여 가장 많은 탑승인원의 항구로 결정\n",
    "# S 항구 탑승인원\n",
    "nrow(subset(tr, Embarked == \"S\"))\n",
    "# sum(tr$Embarked == 'S') : 이렇게 해도 됨\n",
    "\n",
    "# C 항구 탑승인원\n",
    "nrow(subset(tr, Embarked == \"C\"))\n",
    "# Q 항구 탑승인원\n",
    "nrow(subset(tr, Embarked == \"Q\"))"
   ]
  },
  {
   "cell_type": "markdown",
   "id": "bc9e1177",
   "metadata": {},
   "source": [
    "> 반값 항구를 S항구로 변결"
   ]
  },
  {
   "cell_type": "code",
   "execution_count": null,
   "id": "50e071c3",
   "metadata": {},
   "outputs": [],
   "source": [
    "# 연습을 위한 데이터셋 복제\n",
    "tr_T <- tr"
   ]
  },
  {
   "cell_type": "code",
   "execution_count": null,
   "id": "fc92b3f8",
   "metadata": {},
   "outputs": [],
   "source": [
    "# 빈칸 항구 찾기 -1 \n",
    "subset(tr_T, Embarked == \"\")"
   ]
  },
  {
   "cell_type": "code",
   "execution_count": null,
   "id": "0e8d9481",
   "metadata": {},
   "outputs": [],
   "source": [
    "# 빈칸 항구 찾기 -2\n",
    "tr_T[tr_T$Embarked == \"\",]"
   ]
  },
  {
   "cell_type": "code",
   "execution_count": null,
   "id": "f2b6499b",
   "metadata": {},
   "outputs": [],
   "source": [
    "# 빈칸 항구를 S항구로 변경 -1\n",
    "tr_T$Embarked <- ifelse(tr_T$Embarked == \"\", 'S', tr_T$Embarked)"
   ]
  },
  {
   "cell_type": "code",
   "execution_count": null,
   "id": "a6abd20c",
   "metadata": {},
   "outputs": [],
   "source": [
    "tr_T[tr_T$Embarked == \"\",]"
   ]
  },
  {
   "cell_type": "code",
   "execution_count": null,
   "id": "6c385212",
   "metadata": {},
   "outputs": [],
   "source": [
    "# 빈칸 항구를 S항구로 변경 -2\n",
    "tr_T <- tr"
   ]
  },
  {
   "cell_type": "code",
   "execution_count": null,
   "id": "26009746",
   "metadata": {},
   "outputs": [],
   "source": [
    "tr_T[tr_T$Embarked == \"\",]"
   ]
  },
  {
   "cell_type": "code",
   "execution_count": null,
   "id": "f17554bc",
   "metadata": {},
   "outputs": [],
   "source": [
    "tr_T[tr_T$Embarked == \"\",]$Embarked <- \"S\""
   ]
  },
  {
   "cell_type": "code",
   "execution_count": null,
   "id": "a521399e",
   "metadata": {},
   "outputs": [],
   "source": [
    "# 빈칸 항구를 S항구로 변경 -3\n",
    "tr_T <- tr"
   ]
  },
  {
   "cell_type": "code",
   "execution_count": null,
   "id": "6df968a0",
   "metadata": {},
   "outputs": [],
   "source": [
    "tr_T$Embarked[tr_T$Embarked == \"\"] <- \"S\""
   ]
  },
  {
   "cell_type": "code",
   "execution_count": null,
   "id": "aa03a89b",
   "metadata": {},
   "outputs": [],
   "source": [
    "str(tr)"
   ]
  },
  {
   "cell_type": "code",
   "execution_count": null,
   "id": "0b05952a",
   "metadata": {},
   "outputs": [],
   "source": [
    "tr <- tr_T\n",
    "tr$Embarked <- factor(tr$Embarked)\n"
   ]
  },
  {
   "cell_type": "code",
   "execution_count": null,
   "id": "463b38de",
   "metadata": {},
   "outputs": [],
   "source": [
    "str(tr)"
   ]
  },
  {
   "cell_type": "code",
   "execution_count": 87,
   "id": "0baa1f65",
   "metadata": {},
   "outputs": [
    {
     "data": {
      "text/plain": [
       "        \n",
       "               C   Q   S\n",
       "  female   2  73  36 203\n",
       "  male     0  95  41 441"
      ]
     },
     "metadata": {},
     "output_type": "display_data"
    },
    {
     "data": {
      "image/png": "[encoded data removed]",
      "text/plain": [
       "Plot with title “항구별 객실 등급별 인원”"
      ]
     },
     "metadata": {},
     "output_type": "display_data"
    }
   ],
   "source": [
    "par(mfrow = c(2,2))\n",
    "\n",
    "# 항구별 승선인원\n",
    "par(family = 'AppleGothic')\n",
    "Embarked <- table(tr$Embarked)\n",
    "barplot(Embarked,\n",
    "        main = \"항구별 승선인원\",\n",
    "       ylim = c(0,700),\n",
    "        ylab = \"인원수\",\n",
    "        xlab = \"항구별\",\n",
    "       col = c('blue','red','yellow')\n",
    "       \n",
    "       )\n",
    "Embarked_Sex <- t(table(tr$Embarked, tr$Sex))\n",
    "Embarked_Sex\n",
    "par(family = 'AppleGothic')\n",
    "barplot(Embarked_Sex,\n",
    "        main = \"항구별 성별 승선 인원\",\n",
    "        ylab = \"인원수\",\n",
    "        xlab = \"항구별 / 성별\",\n",
    "       ylim = c(0,500),\n",
    "       col = c('red','blue'),\n",
    "       beside = T\n",
    "       \n",
    "       )\n",
    "\n",
    "legend(1,450,\n",
    "       c(\"female\",\"male\"),\n",
    "       fill = c(\"red\",\"blue\")\n",
    "      )\n",
    "\n",
    "# 항구별 생존인원\n",
    "Embarked_Survived <- t(table(tr$Embarked, tr$Survived))\n",
    "\n",
    "par(family = 'AppleGothic')\n",
    "barplot(Embarked_Survived,\n",
    "        main = \"항구별 생존 인원\",\n",
    "        ylab = \"인원수\",\n",
    "        xlab = \"항구별\",\n",
    "       ylim = c(0,500),\n",
    "       col = c('red','blue'),\n",
    "       beside = T\n",
    "       \n",
    "       )\n",
    "\n",
    "legend(1,450,\n",
    "       c(\"death\",\"survive\"),\n",
    "       fill = c(\"red\",\"blue\")\n",
    "      )\n",
    "\n",
    "# 항구별 객실 등급별 인원\n",
    "\n",
    "Embarked_Pclass<- t(table(tr$Embarked, tr$Pclass))\n",
    "\n",
    "par(family = 'AppleGothic')\n",
    "barplot(Embarked_Pclass,\n",
    "        main = \"항구별 객실 등급별 인원\",\n",
    "        xlab = \"항구별 / 객실등급\",\n",
    "        ylab = \"인원수\",\n",
    "       ylim = c(0,500),\n",
    "       col = c('red','blue','yellow'),\n",
    "       beside = T\n",
    "       \n",
    "       )\n",
    "\n",
    "legend(1,450,\n",
    "       c(\"1\",\"2\",\"3\"),\n",
    "       fill = c(\"red\",\"blue\",\"yellow\")\n",
    "      )"
   ]
  },
  {
   "cell_type": "markdown",
   "id": "7afb72ae",
   "metadata": {},
   "source": [
    "---\n",
    "# RandomForest로 예측모델 생성"
   ]
  },
  {
   "cell_type": "code",
   "execution_count": 15,
   "id": "ec4119f2",
   "metadata": {},
   "outputs": [],
   "source": [
    "# 복사본\n",
    "tr_T <- tr"
   ]
  },
  {
   "cell_type": "code",
   "execution_count": 16,
   "id": "6d637dc3",
   "metadata": {},
   "outputs": [
    {
     "data": {
      "text/html": [
       "<table>\n",
       "<thead><tr><th scope=col>Survived</th><th scope=col>Sex</th><th scope=col>Pclass</th><th scope=col>Embarked</th></tr></thead>\n",
       "<tbody>\n",
       "\t<tr><td>0   </td><td>male</td><td>3   </td><td>S   </td></tr>\n",
       "\t<tr><td>0   </td><td>male</td><td>3   </td><td>S   </td></tr>\n",
       "\t<tr><td>0   </td><td>male</td><td>3   </td><td>Q   </td></tr>\n",
       "\t<tr><td>0   </td><td>male</td><td>1   </td><td>S   </td></tr>\n",
       "\t<tr><td>0   </td><td>male</td><td>3   </td><td>S   </td></tr>\n",
       "\t<tr><td>0   </td><td>male</td><td>3   </td><td>S   </td></tr>\n",
       "</tbody>\n",
       "</table>\n"
      ],
      "text/latex": [
       "\\begin{tabular}{r|llll}\n",
       " Survived & Sex & Pclass & Embarked\\\\\n",
       "\\hline\n",
       "\t 0    & male & 3    & S   \\\\\n",
       "\t 0    & male & 3    & S   \\\\\n",
       "\t 0    & male & 3    & Q   \\\\\n",
       "\t 0    & male & 1    & S   \\\\\n",
       "\t 0    & male & 3    & S   \\\\\n",
       "\t 0    & male & 3    & S   \\\\\n",
       "\\end{tabular}\n"
      ],
      "text/markdown": [
       "\n",
       "| Survived | Sex | Pclass | Embarked |\n",
       "|---|---|---|---|\n",
       "| 0    | male | 3    | S    |\n",
       "| 0    | male | 3    | S    |\n",
       "| 0    | male | 3    | Q    |\n",
       "| 0    | male | 1    | S    |\n",
       "| 0    | male | 3    | S    |\n",
       "| 0    | male | 3    | S    |\n",
       "\n"
      ],
      "text/plain": [
       "  Survived Sex  Pclass Embarked\n",
       "1 0        male 3      S       \n",
       "2 0        male 3      S       \n",
       "3 0        male 3      Q       \n",
       "4 0        male 1      S       \n",
       "5 0        male 3      S       \n",
       "6 0        male 3      S       "
      ]
     },
     "metadata": {},
     "output_type": "display_data"
    }
   ],
   "source": [
    "# 예측을 위한 칼럼 확인\n",
    "target_col <- c(\"Survived\",\"Sex\",\"Pclass\",\"Embarked\")\n",
    "head(tr_T[,target_col])"
   ]
  },
  {
   "cell_type": "code",
   "execution_count": 17,
   "id": "0ceef73a",
   "metadata": {},
   "outputs": [],
   "source": [
    "# Sex 칼럼을 숫자로 전환\n",
    "tr_T$SexCode[tr_T$Sex == \"male\"] <- 0\n",
    "tr_T$SexCode[tr_T$Sex == \"female\"] <- 1"
   ]
  },
  {
   "cell_type": "code",
   "execution_count": 18,
   "id": "53df57f1",
   "metadata": {},
   "outputs": [
    {
     "data": {
      "text/html": [
       "<table>\n",
       "<thead><tr><th scope=col>PassengerId</th><th scope=col>Survived</th><th scope=col>Pclass</th><th scope=col>Name</th><th scope=col>Sex</th><th scope=col>Age</th><th scope=col>SibSp</th><th scope=col>Parch</th><th scope=col>Ticket</th><th scope=col>Fare</th><th scope=col>Cabin</th><th scope=col>Embarked</th><th scope=col>SexCode</th></tr></thead>\n",
       "<tbody>\n",
       "\t<tr><td> 1                            </td><td>0                             </td><td>3                             </td><td>Braund, Mr. Owen Harris       </td><td>male                          </td><td>22                            </td><td>1                             </td><td>0                             </td><td>A/5 21171                     </td><td> 7.2500                       </td><td>                              </td><td>S                             </td><td>0                             </td></tr>\n",
       "\t<tr><td> 5                            </td><td>0                             </td><td>3                             </td><td>Allen, Mr. William Henry      </td><td>male                          </td><td>35                            </td><td>0                             </td><td>0                             </td><td>373450                        </td><td> 8.0500                       </td><td>                              </td><td>S                             </td><td>0                             </td></tr>\n",
       "\t<tr><td> 6                            </td><td>0                             </td><td>3                             </td><td>Moran, Mr. James              </td><td>male                          </td><td>NA                            </td><td>0                             </td><td>0                             </td><td>330877                        </td><td> 8.4583                       </td><td>                              </td><td>Q                             </td><td>0                             </td></tr>\n",
       "\t<tr><td> 7                            </td><td>0                             </td><td>1                             </td><td>McCarthy, Mr. Timothy J       </td><td>male                          </td><td>54                            </td><td>0                             </td><td>0                             </td><td>17463                         </td><td>51.8625                       </td><td>E46                           </td><td>S                             </td><td>0                             </td></tr>\n",
       "\t<tr><td> 8                            </td><td>0                             </td><td>3                             </td><td>Palsson, Master. Gosta Leonard</td><td>male                          </td><td> 2                            </td><td>3                             </td><td>1                             </td><td>349909                        </td><td>21.0750                       </td><td>                              </td><td>S                             </td><td>0                             </td></tr>\n",
       "\t<tr><td>13                            </td><td>0                             </td><td>3                             </td><td>Saundercock, Mr. William Henry</td><td>male                          </td><td>20                            </td><td>0                             </td><td>0                             </td><td>A/5. 2151                     </td><td> 8.0500                       </td><td>                              </td><td>S                             </td><td>0                             </td></tr>\n",
       "</tbody>\n",
       "</table>\n"
      ],
      "text/latex": [
       "\\begin{tabular}{r|lllllllllllll}\n",
       " PassengerId & Survived & Pclass & Name & Sex & Age & SibSp & Parch & Ticket & Fare & Cabin & Embarked & SexCode\\\\\n",
       "\\hline\n",
       "\t  1                             & 0                              & 3                              & Braund, Mr. Owen Harris        & male                           & 22                             & 1                              & 0                              & A/5 21171                      &  7.2500                        &                                & S                              & 0                             \\\\\n",
       "\t  5                             & 0                              & 3                              & Allen, Mr. William Henry       & male                           & 35                             & 0                              & 0                              & 373450                         &  8.0500                        &                                & S                              & 0                             \\\\\n",
       "\t  6                             & 0                              & 3                              & Moran, Mr. James               & male                           & NA                             & 0                              & 0                              & 330877                         &  8.4583                        &                                & Q                              & 0                             \\\\\n",
       "\t  7                             & 0                              & 1                              & McCarthy, Mr. Timothy J        & male                           & 54                             & 0                              & 0                              & 17463                          & 51.8625                        & E46                            & S                              & 0                             \\\\\n",
       "\t  8                             & 0                              & 3                              & Palsson, Master. Gosta Leonard & male                           &  2                             & 3                              & 1                              & 349909                         & 21.0750                        &                                & S                              & 0                             \\\\\n",
       "\t 13                             & 0                              & 3                              & Saundercock, Mr. William Henry & male                           & 20                             & 0                              & 0                              & A/5. 2151                      &  8.0500                        &                                & S                              & 0                             \\\\\n",
       "\\end{tabular}\n"
      ],
      "text/markdown": [
       "\n",
       "| PassengerId | Survived | Pclass | Name | Sex | Age | SibSp | Parch | Ticket | Fare | Cabin | Embarked | SexCode |\n",
       "|---|---|---|---|---|---|---|---|---|---|---|---|---|\n",
       "|  1                             | 0                              | 3                              | Braund, Mr. Owen Harris        | male                           | 22                             | 1                              | 0                              | A/5 21171                      |  7.2500                        |                                | S                              | 0                              |\n",
       "|  5                             | 0                              | 3                              | Allen, Mr. William Henry       | male                           | 35                             | 0                              | 0                              | 373450                         |  8.0500                        |                                | S                              | 0                              |\n",
       "|  6                             | 0                              | 3                              | Moran, Mr. James               | male                           | NA                             | 0                              | 0                              | 330877                         |  8.4583                        |                                | Q                              | 0                              |\n",
       "|  7                             | 0                              | 1                              | McCarthy, Mr. Timothy J        | male                           | 54                             | 0                              | 0                              | 17463                          | 51.8625                        | E46                            | S                              | 0                              |\n",
       "|  8                             | 0                              | 3                              | Palsson, Master. Gosta Leonard | male                           |  2                             | 3                              | 1                              | 349909                         | 21.0750                        |                                | S                              | 0                              |\n",
       "| 13                             | 0                              | 3                              | Saundercock, Mr. William Henry | male                           | 20                             | 0                              | 0                              | A/5. 2151                      |  8.0500                        |                                | S                              | 0                              |\n",
       "\n"
      ],
      "text/plain": [
       "  PassengerId Survived Pclass Name                           Sex  Age SibSp\n",
       "1  1          0        3      Braund, Mr. Owen Harris        male 22  1    \n",
       "2  5          0        3      Allen, Mr. William Henry       male 35  0    \n",
       "3  6          0        3      Moran, Mr. James               male NA  0    \n",
       "4  7          0        1      McCarthy, Mr. Timothy J        male 54  0    \n",
       "5  8          0        3      Palsson, Master. Gosta Leonard male  2  3    \n",
       "6 13          0        3      Saundercock, Mr. William Henry male 20  0    \n",
       "  Parch Ticket    Fare    Cabin Embarked SexCode\n",
       "1 0     A/5 21171  7.2500       S        0      \n",
       "2 0     373450     8.0500       S        0      \n",
       "3 0     330877     8.4583       Q        0      \n",
       "4 0     17463     51.8625 E46   S        0      \n",
       "5 1     349909    21.0750       S        0      \n",
       "6 0     A/5. 2151  8.0500       S        0      "
      ]
     },
     "metadata": {},
     "output_type": "display_data"
    },
    {
     "data": {
      "text/html": [
       "<table>\n",
       "<thead><tr><th></th><th scope=col>PassengerId</th><th scope=col>Survived</th><th scope=col>Pclass</th><th scope=col>Name</th><th scope=col>Sex</th><th scope=col>Age</th><th scope=col>SibSp</th><th scope=col>Parch</th><th scope=col>Ticket</th><th scope=col>Fare</th><th scope=col>Cabin</th><th scope=col>Embarked</th><th scope=col>SexCode</th></tr></thead>\n",
       "<tbody>\n",
       "\t<tr><th scope=row>886</th><td>875                                          </td><td>1                                            </td><td>2                                            </td><td>Abelson, Mrs. Samuel (Hannah Wizosky)        </td><td>female                                       </td><td>28                                           </td><td>1                                            </td><td>0                                            </td><td>P/PP 3381                                    </td><td>24.0000                                      </td><td>                                             </td><td>C                                            </td><td>1                                            </td></tr>\n",
       "\t<tr><th scope=row>887</th><td>876                                          </td><td>1                                            </td><td>3                                            </td><td>Najib, Miss. Adele Kiamie \"Jane\"             </td><td>female                                       </td><td>15                                           </td><td>0                                            </td><td>0                                            </td><td>2667                                         </td><td> 7.2250                                      </td><td>                                             </td><td>C                                            </td><td>1                                            </td></tr>\n",
       "\t<tr><th scope=row>888</th><td>880                                          </td><td>1                                            </td><td>1                                            </td><td>Potter, Mrs. Thomas Jr (Lily Alexenia Wilson)</td><td>female                                       </td><td>56                                           </td><td>0                                            </td><td>1                                            </td><td>11767                                        </td><td>83.1583                                      </td><td>C50                                          </td><td>C                                            </td><td>1                                            </td></tr>\n",
       "\t<tr><th scope=row>889</th><td>881                                          </td><td>1                                            </td><td>2                                            </td><td>Shelley, Mrs. William (Imanita Parrish Hall) </td><td>female                                       </td><td>25                                           </td><td>0                                            </td><td>1                                            </td><td>230433                                       </td><td>26.0000                                      </td><td>                                             </td><td>S                                            </td><td>1                                            </td></tr>\n",
       "\t<tr><th scope=row>890</th><td>888                                          </td><td>1                                            </td><td>1                                            </td><td>Graham, Miss. Margaret Edith                 </td><td>female                                       </td><td>19                                           </td><td>0                                            </td><td>0                                            </td><td>112053                                       </td><td>30.0000                                      </td><td>B42                                          </td><td>S                                            </td><td>1                                            </td></tr>\n",
       "\t<tr><th scope=row>891</th><td>890                                          </td><td>1                                            </td><td>1                                            </td><td>Behr, Mr. Karl Howell                        </td><td>male                                         </td><td>26                                           </td><td>0                                            </td><td>0                                            </td><td>111369                                       </td><td>30.0000                                      </td><td>C148                                         </td><td>C                                            </td><td>0                                            </td></tr>\n",
       "</tbody>\n",
       "</table>\n"
      ],
      "text/latex": [
       "\\begin{tabular}{r|lllllllllllll}\n",
       "  & PassengerId & Survived & Pclass & Name & Sex & Age & SibSp & Parch & Ticket & Fare & Cabin & Embarked & SexCode\\\\\n",
       "\\hline\n",
       "\t886 & 875                                           & 1                                             & 2                                             & Abelson, Mrs. Samuel (Hannah Wizosky)         & female                                        & 28                                            & 1                                             & 0                                             & P/PP 3381                                     & 24.0000                                       &                                               & C                                             & 1                                            \\\\\n",
       "\t887 & 876                                           & 1                                             & 3                                             & Najib, Miss. Adele Kiamie \"Jane\"              & female                                        & 15                                            & 0                                             & 0                                             & 2667                                          &  7.2250                                       &                                               & C                                             & 1                                            \\\\\n",
       "\t888 & 880                                           & 1                                             & 1                                             & Potter, Mrs. Thomas Jr (Lily Alexenia Wilson) & female                                        & 56                                            & 0                                             & 1                                             & 11767                                         & 83.1583                                       & C50                                           & C                                             & 1                                            \\\\\n",
       "\t889 & 881                                           & 1                                             & 2                                             & Shelley, Mrs. William (Imanita Parrish Hall)  & female                                        & 25                                            & 0                                             & 1                                             & 230433                                        & 26.0000                                       &                                               & S                                             & 1                                            \\\\\n",
       "\t890 & 888                                           & 1                                             & 1                                             & Graham, Miss. Margaret Edith                  & female                                        & 19                                            & 0                                             & 0                                             & 112053                                        & 30.0000                                       & B42                                           & S                                             & 1                                            \\\\\n",
       "\t891 & 890                                           & 1                                             & 1                                             & Behr, Mr. Karl Howell                         & male                                          & 26                                            & 0                                             & 0                                             & 111369                                        & 30.0000                                       & C148                                          & C                                             & 0                                            \\\\\n",
       "\\end{tabular}\n"
      ],
      "text/markdown": [
       "\n",
       "| <!--/--> | PassengerId | Survived | Pclass | Name | Sex | Age | SibSp | Parch | Ticket | Fare | Cabin | Embarked | SexCode |\n",
       "|---|---|---|---|---|---|---|---|---|---|---|---|---|---|\n",
       "| 886 | 875                                           | 1                                             | 2                                             | Abelson, Mrs. Samuel (Hannah Wizosky)         | female                                        | 28                                            | 1                                             | 0                                             | P/PP 3381                                     | 24.0000                                       |                                               | C                                             | 1                                             |\n",
       "| 887 | 876                                           | 1                                             | 3                                             | Najib, Miss. Adele Kiamie \"Jane\"              | female                                        | 15                                            | 0                                             | 0                                             | 2667                                          |  7.2250                                       |                                               | C                                             | 1                                             |\n",
       "| 888 | 880                                           | 1                                             | 1                                             | Potter, Mrs. Thomas Jr (Lily Alexenia Wilson) | female                                        | 56                                            | 0                                             | 1                                             | 11767                                         | 83.1583                                       | C50                                           | C                                             | 1                                             |\n",
       "| 889 | 881                                           | 1                                             | 2                                             | Shelley, Mrs. William (Imanita Parrish Hall)  | female                                        | 25                                            | 0                                             | 1                                             | 230433                                        | 26.0000                                       |                                               | S                                             | 1                                             |\n",
       "| 890 | 888                                           | 1                                             | 1                                             | Graham, Miss. Margaret Edith                  | female                                        | 19                                            | 0                                             | 0                                             | 112053                                        | 30.0000                                       | B42                                           | S                                             | 1                                             |\n",
       "| 891 | 890                                           | 1                                             | 1                                             | Behr, Mr. Karl Howell                         | male                                          | 26                                            | 0                                             | 0                                             | 111369                                        | 30.0000                                       | C148                                          | C                                             | 0                                             |\n",
       "\n"
      ],
      "text/plain": [
       "    PassengerId Survived Pclass Name                                         \n",
       "886 875         1        2      Abelson, Mrs. Samuel (Hannah Wizosky)        \n",
       "887 876         1        3      Najib, Miss. Adele Kiamie \"Jane\"             \n",
       "888 880         1        1      Potter, Mrs. Thomas Jr (Lily Alexenia Wilson)\n",
       "889 881         1        2      Shelley, Mrs. William (Imanita Parrish Hall) \n",
       "890 888         1        1      Graham, Miss. Margaret Edith                 \n",
       "891 890         1        1      Behr, Mr. Karl Howell                        \n",
       "    Sex    Age SibSp Parch Ticket    Fare    Cabin Embarked SexCode\n",
       "886 female 28  1     0     P/PP 3381 24.0000       C        1      \n",
       "887 female 15  0     0     2667       7.2250       C        1      \n",
       "888 female 56  0     1     11767     83.1583 C50   C        1      \n",
       "889 female 25  0     1     230433    26.0000       S        1      \n",
       "890 female 19  0     0     112053    30.0000 B42   S        1      \n",
       "891 male   26  0     0     111369    30.0000 C148  C        0      "
      ]
     },
     "metadata": {},
     "output_type": "display_data"
    }
   ],
   "source": [
    "head(tr_T)\n",
    "tail(tr_T)"
   ]
  },
  {
   "cell_type": "code",
   "execution_count": 19,
   "id": "01e9f57b",
   "metadata": {},
   "outputs": [
    {
     "data": {
      "text/html": [
       "<table>\n",
       "<thead><tr><th scope=col>PassengerId</th><th scope=col>Survived</th><th scope=col>Pclass</th><th scope=col>Name</th><th scope=col>Age</th><th scope=col>SibSp</th><th scope=col>Parch</th><th scope=col>Ticket</th><th scope=col>Fare</th><th scope=col>Cabin</th><th scope=col>Embarked</th><th scope=col>SexCode</th></tr></thead>\n",
       "<tbody>\n",
       "\t<tr><td> 1                            </td><td>0                             </td><td>3                             </td><td>Braund, Mr. Owen Harris       </td><td>22                            </td><td>1                             </td><td>0                             </td><td>A/5 21171                     </td><td> 7.2500                       </td><td>                              </td><td>S                             </td><td>0                             </td></tr>\n",
       "\t<tr><td> 5                            </td><td>0                             </td><td>3                             </td><td>Allen, Mr. William Henry      </td><td>35                            </td><td>0                             </td><td>0                             </td><td>373450                        </td><td> 8.0500                       </td><td>                              </td><td>S                             </td><td>0                             </td></tr>\n",
       "\t<tr><td> 6                            </td><td>0                             </td><td>3                             </td><td>Moran, Mr. James              </td><td>NA                            </td><td>0                             </td><td>0                             </td><td>330877                        </td><td> 8.4583                       </td><td>                              </td><td>Q                             </td><td>0                             </td></tr>\n",
       "\t<tr><td> 7                            </td><td>0                             </td><td>1                             </td><td>McCarthy, Mr. Timothy J       </td><td>54                            </td><td>0                             </td><td>0                             </td><td>17463                         </td><td>51.8625                       </td><td>E46                           </td><td>S                             </td><td>0                             </td></tr>\n",
       "\t<tr><td> 8                            </td><td>0                             </td><td>3                             </td><td>Palsson, Master. Gosta Leonard</td><td> 2                            </td><td>3                             </td><td>1                             </td><td>349909                        </td><td>21.0750                       </td><td>                              </td><td>S                             </td><td>0                             </td></tr>\n",
       "\t<tr><td>13                            </td><td>0                             </td><td>3                             </td><td>Saundercock, Mr. William Henry</td><td>20                            </td><td>0                             </td><td>0                             </td><td>A/5. 2151                     </td><td> 8.0500                       </td><td>                              </td><td>S                             </td><td>0                             </td></tr>\n",
       "</tbody>\n",
       "</table>\n"
      ],
      "text/latex": [
       "\\begin{tabular}{r|llllllllllll}\n",
       " PassengerId & Survived & Pclass & Name & Age & SibSp & Parch & Ticket & Fare & Cabin & Embarked & SexCode\\\\\n",
       "\\hline\n",
       "\t  1                             & 0                              & 3                              & Braund, Mr. Owen Harris        & 22                             & 1                              & 0                              & A/5 21171                      &  7.2500                        &                                & S                              & 0                             \\\\\n",
       "\t  5                             & 0                              & 3                              & Allen, Mr. William Henry       & 35                             & 0                              & 0                              & 373450                         &  8.0500                        &                                & S                              & 0                             \\\\\n",
       "\t  6                             & 0                              & 3                              & Moran, Mr. James               & NA                             & 0                              & 0                              & 330877                         &  8.4583                        &                                & Q                              & 0                             \\\\\n",
       "\t  7                             & 0                              & 1                              & McCarthy, Mr. Timothy J        & 54                             & 0                              & 0                              & 17463                          & 51.8625                        & E46                            & S                              & 0                             \\\\\n",
       "\t  8                             & 0                              & 3                              & Palsson, Master. Gosta Leonard &  2                             & 3                              & 1                              & 349909                         & 21.0750                        &                                & S                              & 0                             \\\\\n",
       "\t 13                             & 0                              & 3                              & Saundercock, Mr. William Henry & 20                             & 0                              & 0                              & A/5. 2151                      &  8.0500                        &                                & S                              & 0                             \\\\\n",
       "\\end{tabular}\n"
      ],
      "text/markdown": [
       "\n",
       "| PassengerId | Survived | Pclass | Name | Age | SibSp | Parch | Ticket | Fare | Cabin | Embarked | SexCode |\n",
       "|---|---|---|---|---|---|---|---|---|---|---|---|\n",
       "|  1                             | 0                              | 3                              | Braund, Mr. Owen Harris        | 22                             | 1                              | 0                              | A/5 21171                      |  7.2500                        |                                | S                              | 0                              |\n",
       "|  5                             | 0                              | 3                              | Allen, Mr. William Henry       | 35                             | 0                              | 0                              | 373450                         |  8.0500                        |                                | S                              | 0                              |\n",
       "|  6                             | 0                              | 3                              | Moran, Mr. James               | NA                             | 0                              | 0                              | 330877                         |  8.4583                        |                                | Q                              | 0                              |\n",
       "|  7                             | 0                              | 1                              | McCarthy, Mr. Timothy J        | 54                             | 0                              | 0                              | 17463                          | 51.8625                        | E46                            | S                              | 0                              |\n",
       "|  8                             | 0                              | 3                              | Palsson, Master. Gosta Leonard |  2                             | 3                              | 1                              | 349909                         | 21.0750                        |                                | S                              | 0                              |\n",
       "| 13                             | 0                              | 3                              | Saundercock, Mr. William Henry | 20                             | 0                              | 0                              | A/5. 2151                      |  8.0500                        |                                | S                              | 0                              |\n",
       "\n"
      ],
      "text/plain": [
       "  PassengerId Survived Pclass Name                           Age SibSp Parch\n",
       "1  1          0        3      Braund, Mr. Owen Harris        22  1     0    \n",
       "2  5          0        3      Allen, Mr. William Henry       35  0     0    \n",
       "3  6          0        3      Moran, Mr. James               NA  0     0    \n",
       "4  7          0        1      McCarthy, Mr. Timothy J        54  0     0    \n",
       "5  8          0        3      Palsson, Master. Gosta Leonard  2  3     1    \n",
       "6 13          0        3      Saundercock, Mr. William Henry 20  0     0    \n",
       "  Ticket    Fare    Cabin Embarked SexCode\n",
       "1 A/5 21171  7.2500       S        0      \n",
       "2 373450     8.0500       S        0      \n",
       "3 330877     8.4583       Q        0      \n",
       "4 17463     51.8625 E46   S        0      \n",
       "5 349909    21.0750       S        0      \n",
       "6 A/5. 2151  8.0500       S        0      "
      ]
     },
     "metadata": {},
     "output_type": "display_data"
    }
   ],
   "source": [
    "# Sex 칼럼 삭제\n",
    "tr_T <- subset(tr_T, select = -Sex)\n",
    "head(tr_T)"
   ]
  },
  {
   "cell_type": "code",
   "execution_count": 20,
   "id": "91dc1c89",
   "metadata": {},
   "outputs": [
    {
     "data": {
      "text/html": [
       "<table>\n",
       "<thead><tr><th scope=col>Survived</th><th scope=col>SexCode</th><th scope=col>Pclass</th><th scope=col>Embarked</th></tr></thead>\n",
       "<tbody>\n",
       "\t<tr><td>0</td><td>0</td><td>3</td><td>S</td></tr>\n",
       "\t<tr><td>0</td><td>0</td><td>3</td><td>S</td></tr>\n",
       "\t<tr><td>0</td><td>0</td><td>3</td><td>Q</td></tr>\n",
       "\t<tr><td>0</td><td>0</td><td>1</td><td>S</td></tr>\n",
       "\t<tr><td>0</td><td>0</td><td>3</td><td>S</td></tr>\n",
       "\t<tr><td>0</td><td>0</td><td>3</td><td>S</td></tr>\n",
       "</tbody>\n",
       "</table>\n"
      ],
      "text/latex": [
       "\\begin{tabular}{r|llll}\n",
       " Survived & SexCode & Pclass & Embarked\\\\\n",
       "\\hline\n",
       "\t 0 & 0 & 3 & S\\\\\n",
       "\t 0 & 0 & 3 & S\\\\\n",
       "\t 0 & 0 & 3 & Q\\\\\n",
       "\t 0 & 0 & 1 & S\\\\\n",
       "\t 0 & 0 & 3 & S\\\\\n",
       "\t 0 & 0 & 3 & S\\\\\n",
       "\\end{tabular}\n"
      ],
      "text/markdown": [
       "\n",
       "| Survived | SexCode | Pclass | Embarked |\n",
       "|---|---|---|---|\n",
       "| 0 | 0 | 3 | S |\n",
       "| 0 | 0 | 3 | S |\n",
       "| 0 | 0 | 3 | Q |\n",
       "| 0 | 0 | 1 | S |\n",
       "| 0 | 0 | 3 | S |\n",
       "| 0 | 0 | 3 | S |\n",
       "\n"
      ],
      "text/plain": [
       "  Survived SexCode Pclass Embarked\n",
       "1 0        0       3      S       \n",
       "2 0        0       3      S       \n",
       "3 0        0       3      Q       \n",
       "4 0        0       1      S       \n",
       "5 0        0       3      S       \n",
       "6 0        0       3      S       "
      ]
     },
     "metadata": {},
     "output_type": "display_data"
    }
   ],
   "source": [
    "target_col <- c(\"Survived\",\"SexCode\",\"Pclass\",\"Embarked\")\n",
    "head(tr_T[,target_col])"
   ]
  },
  {
   "cell_type": "markdown",
   "id": "3649c8da",
   "metadata": {},
   "source": [
    "### Emabarked를 숫자로 전환\n",
    "C=0, S=1, Q=2 -> 맞긴 맞지만 좋은 생각이 아니다.  \n",
    "2 * S = Q ?  \n",
    "S * S = Q ?  \n",
    "\n",
    "### One-Hot Encoding방법\n",
    "C ==[1,0,0]  \n",
    "S ==[0,1,0]  \n",
    "Q ==[0,0,1]  \n",
    "처럼 행렬로 만들면 덧셈과 뺄셈에 대해 각각 계산에 굉장히 안전해 진다.   \n",
    "R은 내부적으로 1은 True, 0은 False.  "
   ]
  },
  {
   "cell_type": "code",
   "execution_count": 21,
   "id": "816af5f4",
   "metadata": {},
   "outputs": [
    {
     "data": {
      "text/html": [
       "<table>\n",
       "<thead><tr><th scope=col>Embarked</th><th scope=col>Embarked_C</th><th scope=col>Embarked_S</th><th scope=col>Embarked_Q</th></tr></thead>\n",
       "<tbody>\n",
       "\t<tr><td>S    </td><td>FALSE</td><td> TRUE</td><td>FALSE</td></tr>\n",
       "\t<tr><td>S    </td><td>FALSE</td><td> TRUE</td><td>FALSE</td></tr>\n",
       "\t<tr><td>Q    </td><td>FALSE</td><td>FALSE</td><td> TRUE</td></tr>\n",
       "\t<tr><td>S    </td><td>FALSE</td><td> TRUE</td><td>FALSE</td></tr>\n",
       "\t<tr><td>S    </td><td>FALSE</td><td> TRUE</td><td>FALSE</td></tr>\n",
       "\t<tr><td>S    </td><td>FALSE</td><td> TRUE</td><td>FALSE</td></tr>\n",
       "</tbody>\n",
       "</table>\n"
      ],
      "text/latex": [
       "\\begin{tabular}{r|llll}\n",
       " Embarked & Embarked\\_C & Embarked\\_S & Embarked\\_Q\\\\\n",
       "\\hline\n",
       "\t S     & FALSE &  TRUE & FALSE\\\\\n",
       "\t S     & FALSE &  TRUE & FALSE\\\\\n",
       "\t Q     & FALSE & FALSE &  TRUE\\\\\n",
       "\t S     & FALSE &  TRUE & FALSE\\\\\n",
       "\t S     & FALSE &  TRUE & FALSE\\\\\n",
       "\t S     & FALSE &  TRUE & FALSE\\\\\n",
       "\\end{tabular}\n"
      ],
      "text/markdown": [
       "\n",
       "| Embarked | Embarked_C | Embarked_S | Embarked_Q |\n",
       "|---|---|---|---|\n",
       "| S     | FALSE |  TRUE | FALSE |\n",
       "| S     | FALSE |  TRUE | FALSE |\n",
       "| Q     | FALSE | FALSE |  TRUE |\n",
       "| S     | FALSE |  TRUE | FALSE |\n",
       "| S     | FALSE |  TRUE | FALSE |\n",
       "| S     | FALSE |  TRUE | FALSE |\n",
       "\n"
      ],
      "text/plain": [
       "  Embarked Embarked_C Embarked_S Embarked_Q\n",
       "1 S        FALSE       TRUE      FALSE     \n",
       "2 S        FALSE       TRUE      FALSE     \n",
       "3 Q        FALSE      FALSE       TRUE     \n",
       "4 S        FALSE       TRUE      FALSE     \n",
       "5 S        FALSE       TRUE      FALSE     \n",
       "6 S        FALSE       TRUE      FALSE     "
      ]
     },
     "metadata": {},
     "output_type": "display_data"
    }
   ],
   "source": [
    "tr_T$Embarked_C = tr_T$Embarked == \"C\"\n",
    "tr_T$Embarked_S = tr_T$Embarked == \"S\"\n",
    "tr_T$Embarked_Q = tr_T$Embarked == \"Q\"\n",
    "\n",
    "head(tr_T[c(\"Embarked\", \"Embarked_C\", \"Embarked_S\", \"Embarked_Q\")])"
   ]
  },
  {
   "cell_type": "code",
   "execution_count": 22,
   "id": "160fdb87",
   "metadata": {},
   "outputs": [
    {
     "data": {
      "text/html": [
       "<table>\n",
       "<thead><tr><th scope=col>Survived</th><th scope=col>Pclass</th><th scope=col>SexCode</th><th scope=col>Embarked_C</th><th scope=col>Embarked_S</th><th scope=col>Embarked_Q</th></tr></thead>\n",
       "<tbody>\n",
       "\t<tr><td>0    </td><td>3    </td><td>0    </td><td>FALSE</td><td> TRUE</td><td>FALSE</td></tr>\n",
       "\t<tr><td>0    </td><td>3    </td><td>0    </td><td>FALSE</td><td> TRUE</td><td>FALSE</td></tr>\n",
       "\t<tr><td>0    </td><td>3    </td><td>0    </td><td>FALSE</td><td>FALSE</td><td> TRUE</td></tr>\n",
       "\t<tr><td>0    </td><td>1    </td><td>0    </td><td>FALSE</td><td> TRUE</td><td>FALSE</td></tr>\n",
       "\t<tr><td>0    </td><td>3    </td><td>0    </td><td>FALSE</td><td> TRUE</td><td>FALSE</td></tr>\n",
       "\t<tr><td>0    </td><td>3    </td><td>0    </td><td>FALSE</td><td> TRUE</td><td>FALSE</td></tr>\n",
       "</tbody>\n",
       "</table>\n"
      ],
      "text/latex": [
       "\\begin{tabular}{r|llllll}\n",
       " Survived & Pclass & SexCode & Embarked\\_C & Embarked\\_S & Embarked\\_Q\\\\\n",
       "\\hline\n",
       "\t 0     & 3     & 0     & FALSE &  TRUE & FALSE\\\\\n",
       "\t 0     & 3     & 0     & FALSE &  TRUE & FALSE\\\\\n",
       "\t 0     & 3     & 0     & FALSE & FALSE &  TRUE\\\\\n",
       "\t 0     & 1     & 0     & FALSE &  TRUE & FALSE\\\\\n",
       "\t 0     & 3     & 0     & FALSE &  TRUE & FALSE\\\\\n",
       "\t 0     & 3     & 0     & FALSE &  TRUE & FALSE\\\\\n",
       "\\end{tabular}\n"
      ],
      "text/markdown": [
       "\n",
       "| Survived | Pclass | SexCode | Embarked_C | Embarked_S | Embarked_Q |\n",
       "|---|---|---|---|---|---|\n",
       "| 0     | 3     | 0     | FALSE |  TRUE | FALSE |\n",
       "| 0     | 3     | 0     | FALSE |  TRUE | FALSE |\n",
       "| 0     | 3     | 0     | FALSE | FALSE |  TRUE |\n",
       "| 0     | 1     | 0     | FALSE |  TRUE | FALSE |\n",
       "| 0     | 3     | 0     | FALSE |  TRUE | FALSE |\n",
       "| 0     | 3     | 0     | FALSE |  TRUE | FALSE |\n",
       "\n"
      ],
      "text/plain": [
       "  Survived Pclass SexCode Embarked_C Embarked_S Embarked_Q\n",
       "1 0        3      0       FALSE       TRUE      FALSE     \n",
       "2 0        3      0       FALSE       TRUE      FALSE     \n",
       "3 0        3      0       FALSE      FALSE       TRUE     \n",
       "4 0        1      0       FALSE       TRUE      FALSE     \n",
       "5 0        3      0       FALSE       TRUE      FALSE     \n",
       "6 0        3      0       FALSE       TRUE      FALSE     "
      ]
     },
     "metadata": {},
     "output_type": "display_data"
    }
   ],
   "source": [
    "target_col = c(\"Survived\",\"Pclass\",\"SexCode\",\"Embarked_C\", \"Embarked_S\", \"Embarked_Q\")\n",
    "head(tr_T[,target_col])"
   ]
  },
  {
   "cell_type": "code",
   "execution_count": 23,
   "id": "05a16633",
   "metadata": {},
   "outputs": [],
   "source": [
    "tr_data <- tr_T[,target_col]"
   ]
  },
  {
   "cell_type": "code",
   "execution_count": 24,
   "id": "1b404422",
   "metadata": {},
   "outputs": [
    {
     "data": {
      "text/html": [
       "<table>\n",
       "<thead><tr><th scope=col>Survived</th><th scope=col>Pclass</th><th scope=col>SexCode</th><th scope=col>Embarked_C</th><th scope=col>Embarked_S</th><th scope=col>Embarked_Q</th></tr></thead>\n",
       "<tbody>\n",
       "\t<tr><td>0    </td><td>3    </td><td>0    </td><td>FALSE</td><td> TRUE</td><td>FALSE</td></tr>\n",
       "\t<tr><td>0    </td><td>3    </td><td>0    </td><td>FALSE</td><td> TRUE</td><td>FALSE</td></tr>\n",
       "\t<tr><td>0    </td><td>3    </td><td>0    </td><td>FALSE</td><td>FALSE</td><td> TRUE</td></tr>\n",
       "\t<tr><td>0    </td><td>1    </td><td>0    </td><td>FALSE</td><td> TRUE</td><td>FALSE</td></tr>\n",
       "\t<tr><td>0    </td><td>3    </td><td>0    </td><td>FALSE</td><td> TRUE</td><td>FALSE</td></tr>\n",
       "\t<tr><td>0    </td><td>3    </td><td>0    </td><td>FALSE</td><td> TRUE</td><td>FALSE</td></tr>\n",
       "</tbody>\n",
       "</table>\n"
      ],
      "text/latex": [
       "\\begin{tabular}{r|llllll}\n",
       " Survived & Pclass & SexCode & Embarked\\_C & Embarked\\_S & Embarked\\_Q\\\\\n",
       "\\hline\n",
       "\t 0     & 3     & 0     & FALSE &  TRUE & FALSE\\\\\n",
       "\t 0     & 3     & 0     & FALSE &  TRUE & FALSE\\\\\n",
       "\t 0     & 3     & 0     & FALSE & FALSE &  TRUE\\\\\n",
       "\t 0     & 1     & 0     & FALSE &  TRUE & FALSE\\\\\n",
       "\t 0     & 3     & 0     & FALSE &  TRUE & FALSE\\\\\n",
       "\t 0     & 3     & 0     & FALSE &  TRUE & FALSE\\\\\n",
       "\\end{tabular}\n"
      ],
      "text/markdown": [
       "\n",
       "| Survived | Pclass | SexCode | Embarked_C | Embarked_S | Embarked_Q |\n",
       "|---|---|---|---|---|---|\n",
       "| 0     | 3     | 0     | FALSE |  TRUE | FALSE |\n",
       "| 0     | 3     | 0     | FALSE |  TRUE | FALSE |\n",
       "| 0     | 3     | 0     | FALSE | FALSE |  TRUE |\n",
       "| 0     | 1     | 0     | FALSE |  TRUE | FALSE |\n",
       "| 0     | 3     | 0     | FALSE |  TRUE | FALSE |\n",
       "| 0     | 3     | 0     | FALSE |  TRUE | FALSE |\n",
       "\n"
      ],
      "text/plain": [
       "  Survived Pclass SexCode Embarked_C Embarked_S Embarked_Q\n",
       "1 0        3      0       FALSE       TRUE      FALSE     \n",
       "2 0        3      0       FALSE       TRUE      FALSE     \n",
       "3 0        3      0       FALSE      FALSE       TRUE     \n",
       "4 0        1      0       FALSE       TRUE      FALSE     \n",
       "5 0        3      0       FALSE       TRUE      FALSE     \n",
       "6 0        3      0       FALSE       TRUE      FALSE     "
      ]
     },
     "metadata": {},
     "output_type": "display_data"
    },
    {
     "data": {
      "text/html": [
       "<table>\n",
       "<thead><tr><th></th><th scope=col>Survived</th><th scope=col>Pclass</th><th scope=col>SexCode</th><th scope=col>Embarked_C</th><th scope=col>Embarked_S</th><th scope=col>Embarked_Q</th></tr></thead>\n",
       "<tbody>\n",
       "\t<tr><th scope=row>886</th><td>1    </td><td>2    </td><td>1    </td><td> TRUE</td><td>FALSE</td><td>FALSE</td></tr>\n",
       "\t<tr><th scope=row>887</th><td>1    </td><td>3    </td><td>1    </td><td> TRUE</td><td>FALSE</td><td>FALSE</td></tr>\n",
       "\t<tr><th scope=row>888</th><td>1    </td><td>1    </td><td>1    </td><td> TRUE</td><td>FALSE</td><td>FALSE</td></tr>\n",
       "\t<tr><th scope=row>889</th><td>1    </td><td>2    </td><td>1    </td><td>FALSE</td><td> TRUE</td><td>FALSE</td></tr>\n",
       "\t<tr><th scope=row>890</th><td>1    </td><td>1    </td><td>1    </td><td>FALSE</td><td> TRUE</td><td>FALSE</td></tr>\n",
       "\t<tr><th scope=row>891</th><td>1    </td><td>1    </td><td>0    </td><td> TRUE</td><td>FALSE</td><td>FALSE</td></tr>\n",
       "</tbody>\n",
       "</table>\n"
      ],
      "text/latex": [
       "\\begin{tabular}{r|llllll}\n",
       "  & Survived & Pclass & SexCode & Embarked\\_C & Embarked\\_S & Embarked\\_Q\\\\\n",
       "\\hline\n",
       "\t886 & 1     & 2     & 1     &  TRUE & FALSE & FALSE\\\\\n",
       "\t887 & 1     & 3     & 1     &  TRUE & FALSE & FALSE\\\\\n",
       "\t888 & 1     & 1     & 1     &  TRUE & FALSE & FALSE\\\\\n",
       "\t889 & 1     & 2     & 1     & FALSE &  TRUE & FALSE\\\\\n",
       "\t890 & 1     & 1     & 1     & FALSE &  TRUE & FALSE\\\\\n",
       "\t891 & 1     & 1     & 0     &  TRUE & FALSE & FALSE\\\\\n",
       "\\end{tabular}\n"
      ],
      "text/markdown": [
       "\n",
       "| <!--/--> | Survived | Pclass | SexCode | Embarked_C | Embarked_S | Embarked_Q |\n",
       "|---|---|---|---|---|---|---|\n",
       "| 886 | 1     | 2     | 1     |  TRUE | FALSE | FALSE |\n",
       "| 887 | 1     | 3     | 1     |  TRUE | FALSE | FALSE |\n",
       "| 888 | 1     | 1     | 1     |  TRUE | FALSE | FALSE |\n",
       "| 889 | 1     | 2     | 1     | FALSE |  TRUE | FALSE |\n",
       "| 890 | 1     | 1     | 1     | FALSE |  TRUE | FALSE |\n",
       "| 891 | 1     | 1     | 0     |  TRUE | FALSE | FALSE |\n",
       "\n"
      ],
      "text/plain": [
       "    Survived Pclass SexCode Embarked_C Embarked_S Embarked_Q\n",
       "886 1        2      1        TRUE      FALSE      FALSE     \n",
       "887 1        3      1        TRUE      FALSE      FALSE     \n",
       "888 1        1      1        TRUE      FALSE      FALSE     \n",
       "889 1        2      1       FALSE       TRUE      FALSE     \n",
       "890 1        1      1       FALSE       TRUE      FALSE     \n",
       "891 1        1      0        TRUE      FALSE      FALSE     "
      ]
     },
     "metadata": {},
     "output_type": "display_data"
    }
   ],
   "source": [
    "head(tr_data)\n",
    "tail(tr_data)"
   ]
  },
  {
   "cell_type": "code",
   "execution_count": 25,
   "id": "aeef66e5",
   "metadata": {
    "scrolled": true
   },
   "outputs": [
    {
     "name": "stdout",
     "output_type": "stream",
     "text": [
      "'data.frame':\t891 obs. of  6 variables:\n",
      " $ Survived  : int  0 0 0 0 0 0 0 0 0 0 ...\n",
      " $ Pclass    : int  3 3 3 1 3 3 3 3 3 3 ...\n",
      " $ SexCode   : num  0 0 0 0 0 0 0 1 0 1 ...\n",
      " $ Embarked_C: logi  FALSE FALSE FALSE FALSE FALSE FALSE ...\n",
      " $ Embarked_S: logi  TRUE TRUE FALSE TRUE TRUE TRUE ...\n",
      " $ Embarked_Q: logi  FALSE FALSE TRUE FALSE FALSE FALSE ...\n"
     ]
    }
   ],
   "source": [
    "str(tr_data)"
   ]
  },
  {
   "cell_type": "code",
   "execution_count": 26,
   "id": "63e9ee4c",
   "metadata": {},
   "outputs": [
    {
     "name": "stderr",
     "output_type": "stream",
     "text": [
      "randomForest 4.6-14\n",
      "Type rfNews() to see new features/changes/bug fixes.\n",
      "\n",
      "Attaching package: ‘randomForest’\n",
      "\n",
      "The following object is masked from ‘package:dplyr’:\n",
      "\n",
      "    combine\n",
      "\n",
      "Loading required package: lattice\n",
      "Loading required package: ggplot2\n",
      "Registered S3 methods overwritten by 'ggplot2':\n",
      "  method         from \n",
      "  [.quosures     rlang\n",
      "  c.quosures     rlang\n",
      "  print.quosures rlang\n",
      "\n",
      "Attaching package: ‘ggplot2’\n",
      "\n",
      "The following object is masked from ‘package:randomForest’:\n",
      "\n",
      "    margin\n",
      "\n"
     ]
    }
   ],
   "source": [
    "library(randomForest)\n",
    "library(caret)\n",
    "options(warn=-1)"
   ]
  },
  {
   "cell_type": "code",
   "execution_count": 27,
   "id": "b2643df9",
   "metadata": {},
   "outputs": [
    {
     "data": {
      "text/plain": [
       "    Survived          Pclass         SexCode       Embarked_C     \n",
       " Min.   :0.0000   Min.   :1.000   Min.   :0.0000   Mode :logical  \n",
       " 1st Qu.:0.0000   1st Qu.:2.000   1st Qu.:0.0000   FALSE:723      \n",
       " Median :0.0000   Median :3.000   Median :0.0000   TRUE :168      \n",
       " Mean   :0.3838   Mean   :2.309   Mean   :0.3524                  \n",
       " 3rd Qu.:1.0000   3rd Qu.:3.000   3rd Qu.:1.0000                  \n",
       " Max.   :1.0000   Max.   :3.000   Max.   :1.0000                  \n",
       " Embarked_S      Embarked_Q     \n",
       " Mode :logical   Mode :logical  \n",
       " FALSE:247       FALSE:814      \n",
       " TRUE :644       TRUE :77       \n",
       "                                \n",
       "                                \n",
       "                                "
      ]
     },
     "metadata": {},
     "output_type": "display_data"
    }
   ],
   "source": [
    "summary(tr_data)"
   ]
  },
  {
   "cell_type": "code",
   "execution_count": 28,
   "id": "16a4fa04",
   "metadata": {},
   "outputs": [],
   "source": [
    "# Sampling\n",
    "set.seed(1234)\n",
    "samp <- createDataPartition(tr_data$Survived, p=0.7, list=F)"
   ]
  },
  {
   "cell_type": "code",
   "execution_count": 29,
   "id": "94a67b6a",
   "metadata": {},
   "outputs": [
    {
     "name": "stdout",
     "output_type": "stream",
     "text": [
      "'data.frame':\t624 obs. of  6 variables:\n",
      " $ Survived  : int  0 0 0 0 0 0 0 0 0 0 ...\n",
      " $ Pclass    : int  3 3 3 1 3 2 3 3 1 3 ...\n",
      " $ SexCode   : num  0 0 0 0 1 0 1 0 0 0 ...\n",
      " $ Embarked_C: logi  FALSE FALSE FALSE FALSE FALSE FALSE ...\n",
      " $ Embarked_S: logi  TRUE TRUE FALSE TRUE TRUE TRUE ...\n",
      " $ Embarked_Q: logi  FALSE FALSE TRUE FALSE FALSE FALSE ...\n"
     ]
    }
   ],
   "source": [
    "# 학습용\n",
    "data.tr <- tr_data[samp,]\n",
    "str(data.tr)"
   ]
  },
  {
   "cell_type": "code",
   "execution_count": 30,
   "id": "e50becd0",
   "metadata": {},
   "outputs": [
    {
     "name": "stdout",
     "output_type": "stream",
     "text": [
      "'data.frame':\t267 obs. of  6 variables:\n",
      " $ Survived  : int  0 0 0 0 0 0 0 0 0 0 ...\n",
      " $ Pclass    : int  3 3 3 3 3 1 1 3 3 3 ...\n",
      " $ SexCode   : num  0 0 0 1 0 0 0 0 0 0 ...\n",
      " $ Embarked_C: logi  FALSE FALSE FALSE FALSE FALSE TRUE ...\n",
      " $ Embarked_S: logi  TRUE TRUE TRUE TRUE FALSE FALSE ...\n",
      " $ Embarked_Q: logi  FALSE FALSE FALSE FALSE TRUE FALSE ...\n"
     ]
    }
   ],
   "source": [
    "# 검증용\n",
    "data.test <- tr_data[-samp,]\n",
    "str(data.test)"
   ]
  },
  {
   "cell_type": "code",
   "execution_count": 31,
   "id": "179f447e",
   "metadata": {},
   "outputs": [],
   "source": [
    "# 학습시키기\n",
    "rf <- randomForest(Survived ~ .,data=data.tr, ntree = 100)"
   ]
  },
  {
   "cell_type": "code",
   "execution_count": 32,
   "id": "ef6bc284",
   "metadata": {},
   "outputs": [],
   "source": [
    "# 문제와 정답\n",
    "x <- subset(data.test, select = -Survived)\n",
    "y <- data.test$Survived"
   ]
  },
  {
   "cell_type": "code",
   "execution_count": 33,
   "id": "d08b1af0",
   "metadata": {},
   "outputs": [
    {
     "data": {
      "text/html": [
       "<dl class=dl-horizontal>\n",
       "\t<dt>5</dt>\n",
       "\t\t<dd>0.221362596528143</dd>\n",
       "\t<dt>6</dt>\n",
       "\t\t<dd>0.221362596528143</dd>\n",
       "\t<dt>7</dt>\n",
       "\t\t<dd>0.221362596528143</dd>\n",
       "\t<dt>8</dt>\n",
       "\t\t<dd>0.38516570647458</dd>\n",
       "\t<dt>9</dt>\n",
       "\t\t<dd>0.230977753083033</dd>\n",
       "\t<dt>16</dt>\n",
       "\t\t<dd>0.446162060901632</dd>\n",
       "</dl>\n"
      ],
      "text/latex": [
       "\\begin{description*}\n",
       "\\item[5] 0.221362596528143\n",
       "\\item[6] 0.221362596528143\n",
       "\\item[7] 0.221362596528143\n",
       "\\item[8] 0.38516570647458\n",
       "\\item[9] 0.230977753083033\n",
       "\\item[16] 0.446162060901632\n",
       "\\end{description*}\n"
      ],
      "text/markdown": [
       "5\n",
       ":   0.2213625965281436\n",
       ":   0.2213625965281437\n",
       ":   0.2213625965281438\n",
       ":   0.385165706474589\n",
       ":   0.23097775308303316\n",
       ":   0.446162060901632\n",
       "\n"
      ],
      "text/plain": [
       "        5         6         7         8         9        16 \n",
       "0.2213626 0.2213626 0.2213626 0.3851657 0.2309778 0.4461621 "
      ]
     },
     "metadata": {},
     "output_type": "display_data"
    }
   ],
   "source": [
    "# 검증하기\n",
    "pred <- predict(rf, x)\n",
    "head(pred)"
   ]
  },
  {
   "cell_type": "code",
   "execution_count": 34,
   "id": "738f233f",
   "metadata": {},
   "outputs": [
    {
     "data": {
      "text/html": [
       "<dl class=dl-horizontal>\n",
       "\t<dt>5</dt>\n",
       "\t\t<dd>0</dd>\n",
       "\t<dt>6</dt>\n",
       "\t\t<dd>0</dd>\n",
       "\t<dt>7</dt>\n",
       "\t\t<dd>0</dd>\n",
       "\t<dt>8</dt>\n",
       "\t\t<dd>0</dd>\n",
       "\t<dt>9</dt>\n",
       "\t\t<dd>0</dd>\n",
       "\t<dt>16</dt>\n",
       "\t\t<dd>0</dd>\n",
       "</dl>\n"
      ],
      "text/latex": [
       "\\begin{description*}\n",
       "\\item[5] 0\n",
       "\\item[6] 0\n",
       "\\item[7] 0\n",
       "\\item[8] 0\n",
       "\\item[9] 0\n",
       "\\item[16] 0\n",
       "\\end{description*}\n"
      ],
      "text/markdown": [
       "5\n",
       ":   06\n",
       ":   07\n",
       ":   08\n",
       ":   09\n",
       ":   016\n",
       ":   0\n",
       "\n"
      ],
      "text/plain": [
       " 5  6  7  8  9 16 \n",
       " 0  0  0  0  0  0 "
      ]
     },
     "metadata": {},
     "output_type": "display_data"
    }
   ],
   "source": [
    "pred[pred <= 0.5] <- 0\n",
    "pred[pred > 0.5] <- 1\n",
    "head(pred)"
   ]
  },
  {
   "cell_type": "code",
   "execution_count": 35,
   "id": "35a4cd1c",
   "metadata": {},
   "outputs": [
    {
     "data": {
      "text/html": [
       "0.779026217228464"
      ],
      "text/latex": [
       "0.779026217228464"
      ],
      "text/markdown": [
       "0.779026217228464"
      ],
      "text/plain": [
       "[1] 0.7790262"
      ]
     },
     "metadata": {},
     "output_type": "display_data"
    }
   ],
   "source": [
    "mean(pred == y)"
   ]
  },
  {
   "cell_type": "markdown",
   "id": "264335a7",
   "metadata": {},
   "source": [
    "---\n",
    "### Survived를 factor로 변환 후에 randomForest 실행"
   ]
  },
  {
   "cell_type": "code",
   "execution_count": 36,
   "id": "bf58779d",
   "metadata": {},
   "outputs": [],
   "source": [
    "data.tr$Survived <- as.factor(data.tr$Survived)\n",
    "data.test$Survived <- as.factor(data.test$Survived)"
   ]
  },
  {
   "cell_type": "code",
   "execution_count": 37,
   "id": "b667372c",
   "metadata": {},
   "outputs": [],
   "source": [
    "rf <- randomForest(Survived ~., data=data.tr, ntree=100)"
   ]
  },
  {
   "cell_type": "code",
   "execution_count": 38,
   "id": "0913ba5d",
   "metadata": {},
   "outputs": [],
   "source": [
    "x <- subset(data.test, select = -Survived)\n",
    "y <- data.test$Survived"
   ]
  },
  {
   "cell_type": "code",
   "execution_count": 39,
   "id": "4232c14c",
   "metadata": {},
   "outputs": [
    {
     "data": {
      "text/html": [
       "<dl class=dl-horizontal>\n",
       "\t<dt>5</dt>\n",
       "\t\t<dd>0</dd>\n",
       "\t<dt>6</dt>\n",
       "\t\t<dd>0</dd>\n",
       "\t<dt>7</dt>\n",
       "\t\t<dd>0</dd>\n",
       "\t<dt>8</dt>\n",
       "\t\t<dd>0</dd>\n",
       "\t<dt>9</dt>\n",
       "\t\t<dd>0</dd>\n",
       "\t<dt>16</dt>\n",
       "\t\t<dd>0</dd>\n",
       "</dl>\n",
       "\n",
       "<details>\n",
       "\t<summary style=display:list-item;cursor:pointer>\n",
       "\t\t<strong>Levels</strong>:\n",
       "\t</summary>\n",
       "\t<ol class=list-inline>\n",
       "\t\t<li>'0'</li>\n",
       "\t\t<li>'1'</li>\n",
       "\t</ol>\n",
       "</details>"
      ],
      "text/latex": [
       "\\begin{description*}\n",
       "\\item[5] 0\n",
       "\\item[6] 0\n",
       "\\item[7] 0\n",
       "\\item[8] 0\n",
       "\\item[9] 0\n",
       "\\item[16] 0\n",
       "\\end{description*}\n",
       "\n",
       "\\emph{Levels}: \\begin{enumerate*}\n",
       "\\item '0'\n",
       "\\item '1'\n",
       "\\end{enumerate*}\n"
      ],
      "text/markdown": [
       "5\n",
       ":   06\n",
       ":   07\n",
       ":   08\n",
       ":   09\n",
       ":   016\n",
       ":   0\n",
       "\n",
       "\n",
       "**Levels**: 1. '0'\n",
       "2. '1'\n",
       "\n",
       "\n"
      ],
      "text/plain": [
       " 5  6  7  8  9 16 \n",
       " 0  0  0  0  0  0 \n",
       "Levels: 0 1"
      ]
     },
     "metadata": {},
     "output_type": "display_data"
    }
   ],
   "source": [
    "pred <- predict(rf, x)\n",
    "head(pred)"
   ]
  },
  {
   "cell_type": "code",
   "execution_count": 40,
   "id": "58edb6a5",
   "metadata": {},
   "outputs": [
    {
     "data": {
      "text/html": [
       "0.779026217228464"
      ],
      "text/latex": [
       "0.779026217228464"
      ],
      "text/markdown": [
       "0.779026217228464"
      ],
      "text/plain": [
       "[1] 0.7790262"
      ]
     },
     "metadata": {},
     "output_type": "display_data"
    },
    {
     "data": {
      "text/plain": [
       "    y\n",
       "pred   0   1\n",
       "   0 156  49\n",
       "   1  10  52"
      ]
     },
     "metadata": {},
     "output_type": "display_data"
    }
   ],
   "source": [
    "mean(pred==y)\n",
    "table(pred,y)"
   ]
  },
  {
   "cell_type": "code",
   "execution_count": 41,
   "id": "e6d76319",
   "metadata": {},
   "outputs": [
    {
     "data": {
      "text/html": [
       "<table>\n",
       "<thead><tr><th scope=col>PassengerId</th><th scope=col>Survived</th><th scope=col>Pclass</th><th scope=col>Name</th><th scope=col>Sex</th><th scope=col>Age</th><th scope=col>SibSp</th><th scope=col>Parch</th><th scope=col>Ticket</th><th scope=col>Fare</th><th scope=col>Cabin</th><th scope=col>Embarked</th></tr></thead>\n",
       "<tbody>\n",
       "\t<tr><td> 1                            </td><td>0                             </td><td>3                             </td><td>Braund, Mr. Owen Harris       </td><td>male                          </td><td>22                            </td><td>1                             </td><td>0                             </td><td>A/5 21171                     </td><td> 7.2500                       </td><td>                              </td><td>S                             </td></tr>\n",
       "\t<tr><td> 5                            </td><td>0                             </td><td>3                             </td><td>Allen, Mr. William Henry      </td><td>male                          </td><td>35                            </td><td>0                             </td><td>0                             </td><td>373450                        </td><td> 8.0500                       </td><td>                              </td><td>S                             </td></tr>\n",
       "\t<tr><td> 6                            </td><td>0                             </td><td>3                             </td><td>Moran, Mr. James              </td><td>male                          </td><td>NA                            </td><td>0                             </td><td>0                             </td><td>330877                        </td><td> 8.4583                       </td><td>                              </td><td>Q                             </td></tr>\n",
       "\t<tr><td> 7                            </td><td>0                             </td><td>1                             </td><td>McCarthy, Mr. Timothy J       </td><td>male                          </td><td>54                            </td><td>0                             </td><td>0                             </td><td>17463                         </td><td>51.8625                       </td><td>E46                           </td><td>S                             </td></tr>\n",
       "\t<tr><td> 8                            </td><td>0                             </td><td>3                             </td><td>Palsson, Master. Gosta Leonard</td><td>male                          </td><td> 2                            </td><td>3                             </td><td>1                             </td><td>349909                        </td><td>21.0750                       </td><td>                              </td><td>S                             </td></tr>\n",
       "\t<tr><td>13                            </td><td>0                             </td><td>3                             </td><td>Saundercock, Mr. William Henry</td><td>male                          </td><td>20                            </td><td>0                             </td><td>0                             </td><td>A/5. 2151                     </td><td> 8.0500                       </td><td>                              </td><td>S                             </td></tr>\n",
       "</tbody>\n",
       "</table>\n"
      ],
      "text/latex": [
       "\\begin{tabular}{r|llllllllllll}\n",
       " PassengerId & Survived & Pclass & Name & Sex & Age & SibSp & Parch & Ticket & Fare & Cabin & Embarked\\\\\n",
       "\\hline\n",
       "\t  1                             & 0                              & 3                              & Braund, Mr. Owen Harris        & male                           & 22                             & 1                              & 0                              & A/5 21171                      &  7.2500                        &                                & S                             \\\\\n",
       "\t  5                             & 0                              & 3                              & Allen, Mr. William Henry       & male                           & 35                             & 0                              & 0                              & 373450                         &  8.0500                        &                                & S                             \\\\\n",
       "\t  6                             & 0                              & 3                              & Moran, Mr. James               & male                           & NA                             & 0                              & 0                              & 330877                         &  8.4583                        &                                & Q                             \\\\\n",
       "\t  7                             & 0                              & 1                              & McCarthy, Mr. Timothy J        & male                           & 54                             & 0                              & 0                              & 17463                          & 51.8625                        & E46                            & S                             \\\\\n",
       "\t  8                             & 0                              & 3                              & Palsson, Master. Gosta Leonard & male                           &  2                             & 3                              & 1                              & 349909                         & 21.0750                        &                                & S                             \\\\\n",
       "\t 13                             & 0                              & 3                              & Saundercock, Mr. William Henry & male                           & 20                             & 0                              & 0                              & A/5. 2151                      &  8.0500                        &                                & S                             \\\\\n",
       "\\end{tabular}\n"
      ],
      "text/markdown": [
       "\n",
       "| PassengerId | Survived | Pclass | Name | Sex | Age | SibSp | Parch | Ticket | Fare | Cabin | Embarked |\n",
       "|---|---|---|---|---|---|---|---|---|---|---|---|\n",
       "|  1                             | 0                              | 3                              | Braund, Mr. Owen Harris        | male                           | 22                             | 1                              | 0                              | A/5 21171                      |  7.2500                        |                                | S                              |\n",
       "|  5                             | 0                              | 3                              | Allen, Mr. William Henry       | male                           | 35                             | 0                              | 0                              | 373450                         |  8.0500                        |                                | S                              |\n",
       "|  6                             | 0                              | 3                              | Moran, Mr. James               | male                           | NA                             | 0                              | 0                              | 330877                         |  8.4583                        |                                | Q                              |\n",
       "|  7                             | 0                              | 1                              | McCarthy, Mr. Timothy J        | male                           | 54                             | 0                              | 0                              | 17463                          | 51.8625                        | E46                            | S                              |\n",
       "|  8                             | 0                              | 3                              | Palsson, Master. Gosta Leonard | male                           |  2                             | 3                              | 1                              | 349909                         | 21.0750                        |                                | S                              |\n",
       "| 13                             | 0                              | 3                              | Saundercock, Mr. William Henry | male                           | 20                             | 0                              | 0                              | A/5. 2151                      |  8.0500                        |                                | S                              |\n",
       "\n"
      ],
      "text/plain": [
       "  PassengerId Survived Pclass Name                           Sex  Age SibSp\n",
       "1  1          0        3      Braund, Mr. Owen Harris        male 22  1    \n",
       "2  5          0        3      Allen, Mr. William Henry       male 35  0    \n",
       "3  6          0        3      Moran, Mr. James               male NA  0    \n",
       "4  7          0        1      McCarthy, Mr. Timothy J        male 54  0    \n",
       "5  8          0        3      Palsson, Master. Gosta Leonard male  2  3    \n",
       "6 13          0        3      Saundercock, Mr. William Henry male 20  0    \n",
       "  Parch Ticket    Fare    Cabin Embarked\n",
       "1 0     A/5 21171  7.2500       S       \n",
       "2 0     373450     8.0500       S       \n",
       "3 0     330877     8.4583       Q       \n",
       "4 0     17463     51.8625 E46   S       \n",
       "5 1     349909    21.0750       S       \n",
       "6 0     A/5. 2151  8.0500       S       "
      ]
     },
     "metadata": {},
     "output_type": "display_data"
    }
   ],
   "source": [
    "head(tr)"
   ]
  },
  {
   "cell_type": "code",
   "execution_count": 42,
   "id": "1d9db0cb",
   "metadata": {
    "scrolled": false
   },
   "outputs": [
    {
     "name": "stderr",
     "output_type": "stream",
     "text": [
      "Loading required package: grid\n",
      "Loading required package: mvtnorm\n",
      "Loading required package: modeltools\n",
      "Loading required package: stats4\n",
      "Loading required package: strucchange\n",
      "Loading required package: zoo\n",
      "\n",
      "Attaching package: ‘zoo’\n",
      "\n",
      "The following objects are masked from ‘package:base’:\n",
      "\n",
      "    as.Date, as.Date.numeric\n",
      "\n",
      "Loading required package: sandwich\n"
     ]
    },
    {
     "data": {
      "text/html": [
       "<table>\n",
       "<thead><tr><th scope=col>Survived</th><th scope=col>Pclass</th><th scope=col>SexCode</th><th scope=col>Embarked_C</th><th scope=col>Embarked_S</th><th scope=col>Embarked_Q</th><th scope=col>Fare</th></tr></thead>\n",
       "<tbody>\n",
       "\t<tr><td>0    </td><td>3    </td><td>0    </td><td>FALSE</td><td>TRUE </td><td>FALSE</td><td>0    </td></tr>\n",
       "\t<tr><td>0    </td><td>1    </td><td>0    </td><td>FALSE</td><td>TRUE </td><td>FALSE</td><td>0    </td></tr>\n",
       "\t<tr><td>0    </td><td>2    </td><td>0    </td><td>FALSE</td><td>TRUE </td><td>FALSE</td><td>0    </td></tr>\n",
       "\t<tr><td>0    </td><td>3    </td><td>0    </td><td>FALSE</td><td>TRUE </td><td>FALSE</td><td>0    </td></tr>\n",
       "\t<tr><td>0    </td><td>2    </td><td>0    </td><td>FALSE</td><td>TRUE </td><td>FALSE</td><td>0    </td></tr>\n",
       "\t<tr><td>0    </td><td>2    </td><td>0    </td><td>FALSE</td><td>TRUE </td><td>FALSE</td><td>0    </td></tr>\n",
       "</tbody>\n",
       "</table>\n"
      ],
      "text/latex": [
       "\\begin{tabular}{r|lllllll}\n",
       " Survived & Pclass & SexCode & Embarked\\_C & Embarked\\_S & Embarked\\_Q & Fare\\\\\n",
       "\\hline\n",
       "\t 0     & 3     & 0     & FALSE & TRUE  & FALSE & 0    \\\\\n",
       "\t 0     & 1     & 0     & FALSE & TRUE  & FALSE & 0    \\\\\n",
       "\t 0     & 2     & 0     & FALSE & TRUE  & FALSE & 0    \\\\\n",
       "\t 0     & 3     & 0     & FALSE & TRUE  & FALSE & 0    \\\\\n",
       "\t 0     & 2     & 0     & FALSE & TRUE  & FALSE & 0    \\\\\n",
       "\t 0     & 2     & 0     & FALSE & TRUE  & FALSE & 0    \\\\\n",
       "\\end{tabular}\n"
      ],
      "text/markdown": [
       "\n",
       "| Survived | Pclass | SexCode | Embarked_C | Embarked_S | Embarked_Q | Fare |\n",
       "|---|---|---|---|---|---|---|\n",
       "| 0     | 3     | 0     | FALSE | TRUE  | FALSE | 0     |\n",
       "| 0     | 1     | 0     | FALSE | TRUE  | FALSE | 0     |\n",
       "| 0     | 2     | 0     | FALSE | TRUE  | FALSE | 0     |\n",
       "| 0     | 3     | 0     | FALSE | TRUE  | FALSE | 0     |\n",
       "| 0     | 2     | 0     | FALSE | TRUE  | FALSE | 0     |\n",
       "| 0     | 2     | 0     | FALSE | TRUE  | FALSE | 0     |\n",
       "\n"
      ],
      "text/plain": [
       "  Survived Pclass SexCode Embarked_C Embarked_S Embarked_Q Fare\n",
       "1 0        3      0       FALSE      TRUE       FALSE      0   \n",
       "2 0        1      0       FALSE      TRUE       FALSE      0   \n",
       "3 0        2      0       FALSE      TRUE       FALSE      0   \n",
       "4 0        3      0       FALSE      TRUE       FALSE      0   \n",
       "5 0        2      0       FALSE      TRUE       FALSE      0   \n",
       "6 0        2      0       FALSE      TRUE       FALSE      0   "
      ]
     },
     "metadata": {},
     "output_type": "display_data"
    }
   ],
   "source": [
    "library(nnet)\n",
    "library(party)\n",
    "library(caret)\n",
    "library(party)\n",
    "library(randomForest)\n",
    "library(e1071)\n",
    "\n",
    "\n",
    "target_col = c(\"Survived\",\"Pclass\",\"SexCode\",\"Embarked_C\", \"Embarked_S\", \"Embarked_Q\",\"Fare\")\n",
    "data.Fare <- tr_T[,target_col]\n",
    "data.Fare <- arrange(data.Fare,Survived,Fare)\n",
    "head(data.Fare)\n"
   ]
  },
  {
   "cell_type": "code",
   "execution_count": 88,
   "id": "6c0a0bd7",
   "metadata": {
    "scrolled": false
   },
   "outputs": [
    {
     "name": "stderr",
     "output_type": "stream",
     "text": [
      "`stat_bin()` using `bins = 30`. Pick better value with `binwidth`.\n",
      "`stat_bin()` using `bins = 30`. Pick better value with `binwidth`.\n"
     ]
    },
    {
     "data": {
      "image/png": "[encoded data removed]",
      "text/plain": [
       "plot without title"
      ]
     },
     "metadata": {},
     "output_type": "display_data"
    },
    {
     "name": "stderr",
     "output_type": "stream",
     "text": [
      "`stat_bin()` using `bins = 30`. Pick better value with `binwidth`.\n"
     ]
    },
    {
     "data": {
      "image/png": "[encoded data removed]",
      "text/plain": [
       "plot without title"
      ]
     },
     "metadata": {},
     "output_type": "display_data"
    },
    {
     "data": {
      "image/png": "[encoded data removed]",
      "text/plain": [
       "plot without title"
      ]
     },
     "metadata": {},
     "output_type": "display_data"
    }
   ],
   "source": [
    "par(family = 'AppleGothic')\n",
    "par(mfcol = c(2,2))\n",
    "qplot(data.Fare$Fare)\n",
    "생존 <- arrange(subset(data.Fare,Survived == 1 & data.Fare$Fare),desc(Fare))\n",
    "\n",
    "qplot(생존$Fare,\n",
    "     main=\"운임비별 생존인원\",\n",
    "     ylim = c(0,150))\n",
    "\n",
    "사망 <- arrange(subset(data.Fare,Survived == 0 & data.Fare$Fare),desc(Fare))\n",
    "\n",
    "qplot(사망$Fare,\n",
    "      ylim = c(0,150),\n",
    "     xlim =c(0,500))"
   ]
  },
  {
   "cell_type": "code",
   "execution_count": 44,
   "id": "4d76d458",
   "metadata": {},
   "outputs": [],
   "source": [
    "# Sampling\n",
    "set.seed(1234)\n",
    "samp <- createDataPartition(data.Fare$Survived, p=0.7, list=F)\n",
    "data.Fare$Survived <- as.factor(data.Fare$Survived)\n",
    "# 학습용\n",
    "data.Fare.tr <- data.Fare[samp,]\n",
    "# 검증용\n",
    "data.Fare.test <- data.Fare[-samp,]\n",
    "# 문제만들기\n",
    "Fare.x <- subset(data.Fare.test, select = -Survived)\n",
    "Fare.y <- data.Fare.test$Survived"
   ]
  },
  {
   "cell_type": "code",
   "execution_count": null,
   "id": "be22ba76",
   "metadata": {},
   "outputs": [],
   "source": []
  },
  {
   "cell_type": "code",
   "execution_count": null,
   "id": "fdee3e61",
   "metadata": {
    "scrolled": false
   },
   "outputs": [],
   "source": []
  },
  {
   "cell_type": "markdown",
   "id": "1255d83d",
   "metadata": {},
   "source": [
    "# RandomForest"
   ]
  },
  {
   "cell_type": "code",
   "execution_count": 79,
   "id": "a861c133",
   "metadata": {},
   "outputs": [
    {
     "name": "stdout",
     "output_type": "stream",
     "text": [
      "0.8501873"
     ]
    },
    {
     "data": {
      "text/plain": [
       "         Fare.y\n",
       "Fare.pred   0   1\n",
       "        0 164  38\n",
       "        1   2  63"
      ]
     },
     "metadata": {},
     "output_type": "display_data"
    }
   ],
   "source": [
    "e <- 0\n",
    "for(i in 1:5){\n",
    "model.rf <- randomForest(Survived ~ ., data = data.Fare.tr , ntree=100)\n",
    "Fare.pred <- predict(model.rf, Fare.x)\n",
    "\n",
    "Fare.pred[Fare.pred <= 0.5] <- 0\n",
    "Fare.pred[Fare.pred > 0.5] <- 1\n",
    "head(Fare.pred)\n",
    "\n",
    "e=e+mean(Fare.pred == Fare.y)\n",
    "}\n",
    "cat(e/5)\n",
    "table(Fare.pred,Fare.y)"
   ]
  },
  {
   "cell_type": "markdown",
   "id": "9496734a",
   "metadata": {},
   "source": [
    "# 인공신경망"
   ]
  },
  {
   "cell_type": "code",
   "execution_count": 80,
   "id": "9a7b9a7a",
   "metadata": {},
   "outputs": [
    {
     "name": "stdout",
     "output_type": "stream",
     "text": [
      "# weights:  25\n",
      "initial  value 420.093279 \n",
      "iter  10 value 329.552690\n",
      "iter  20 value 300.656786\n",
      "iter  30 value 287.991164\n",
      "iter  40 value 285.656006\n",
      "iter  50 value 285.004058\n",
      "iter  60 value 284.986789\n",
      "iter  70 value 284.986018\n",
      "final  value 284.986001 \n",
      "converged\n",
      "0.8389513"
     ]
    },
    {
     "data": {
      "text/plain": [
       "    y\n",
       "pred   0   1\n",
       "   0 162  39\n",
       "   1   4  62"
      ]
     },
     "metadata": {},
     "output_type": "display_data"
    }
   ],
   "source": [
    "a <- 0\n",
    "model.nnet <- nnet(Survived ~ ., data = data.Fare.tr, size=3)\n",
    "# 검증하기\n",
    "for(i in 1:5){\n",
    "pred <- predict(model.nnet, Fare.x, type = \"class\")\n",
    "\n",
    "# 예측률 \n",
    " \n",
    " a = a + mean(pred ==y)\n",
    "\n",
    "}\n",
    " cat(a/5)\n",
    "table(pred,y)"
   ]
  },
  {
   "cell_type": "markdown",
   "id": "f5ebfd3b",
   "metadata": {},
   "source": [
    "# 나무"
   ]
  },
  {
   "cell_type": "code",
   "execution_count": 81,
   "id": "65f02911",
   "metadata": {},
   "outputs": [
    {
     "name": "stdout",
     "output_type": "stream",
     "text": [
      "0.835206"
     ]
    },
    {
     "data": {
      "text/plain": [
       "    Fare.y\n",
       "pred   0   1\n",
       "   0 151  29\n",
       "   1  15  72"
      ]
     },
     "metadata": {},
     "output_type": "display_data"
    }
   ],
   "source": [
    "b <-0\n",
    "model.ctree <- ctree(Survived ~ ., data=data.Fare.tr)\n",
    "for(i in 1:5){\n",
    "# 검증하기\n",
    "pred <- predict(model.ctree, Fare.x)\n",
    "    \n",
    "# 예측률 \n",
    "\n",
    " b = b + mean(pred ==Fare.y)\n",
    " \n",
    "}\n",
    "cat(b/5)\n",
    "table(pred,Fare.y)"
   ]
  },
  {
   "cell_type": "markdown",
   "id": "ae9215b1",
   "metadata": {},
   "source": [
    "# SVM"
   ]
  },
  {
   "cell_type": "code",
   "execution_count": 82,
   "id": "e325abd9",
   "metadata": {},
   "outputs": [
    {
     "name": "stdout",
     "output_type": "stream",
     "text": [
      "0.8464419"
     ]
    },
    {
     "data": {
      "text/plain": [
       "    Fare.y\n",
       "pred   0   1\n",
       "   0 163  38\n",
       "   1   3  63"
      ]
     },
     "metadata": {},
     "output_type": "display_data"
    }
   ],
   "source": [
    "c <- 0\n",
    "for(i in 1:5){\n",
    "model.svm = svm(Survived ~ ., data=data.Fare.tr)\n",
    "    # 검증하기\n",
    "pred <- predict(model.svm, Fare.x)\n",
    "    # 예측률 \n",
    "\n",
    " c = c+ mean(pred ==Fare.y)\n",
    "}\n",
    "cat(c/5)\n",
    "table(pred,Fare.y)"
   ]
  },
  {
   "cell_type": "markdown",
   "id": "d2fde866",
   "metadata": {},
   "source": [
    "# 로지스틱회귀분석"
   ]
  },
  {
   "cell_type": "code",
   "execution_count": 83,
   "id": "4733c863",
   "metadata": {
    "scrolled": false
   },
   "outputs": [
    {
     "name": "stdout",
     "output_type": "stream",
     "text": [
      "# weights:  8 (7 variable)\n",
      "initial  value 432.523841 \n",
      "iter  10 value 297.377600\n",
      "final  value 297.199407 \n",
      "converged\n",
      "# weights:  8 (7 variable)\n",
      "initial  value 432.523841 \n",
      "iter  10 value 297.377600\n",
      "final  value 297.199407 \n",
      "converged\n",
      "# weights:  8 (7 variable)\n",
      "initial  value 432.523841 \n",
      "iter  10 value 297.377600\n",
      "final  value 297.199407 \n",
      "converged\n",
      "# weights:  8 (7 variable)\n",
      "initial  value 432.523841 \n",
      "iter  10 value 297.377600\n",
      "final  value 297.199407 \n",
      "converged\n",
      "# weights:  8 (7 variable)\n",
      "initial  value 432.523841 \n",
      "iter  10 value 297.377600\n",
      "final  value 297.199407 \n",
      "converged\n",
      "0.8089888"
     ]
    },
    {
     "data": {
      "text/plain": [
       "    Fare.y\n",
       "pred   0   1\n",
       "   0 142  27\n",
       "   1  24  74"
      ]
     },
     "metadata": {},
     "output_type": "display_data"
    }
   ],
   "source": [
    "d <- 0\n",
    "for(i in 1:5){\n",
    "model <- multinom(Survived ~ .,data=data.Fare.tr)\n",
    "# 검증하기\n",
    "pred <- predict(model, Fare.x)\n",
    "# 예측률\n",
    "d=d+mean(pred ==Fare.y)\n",
    "}\n",
    "cat(d/5)\n",
    "table(pred,Fare.y)"
   ]
  },
  {
   "cell_type": "code",
   "execution_count": 69,
   "id": "d1e2e0b6",
   "metadata": {},
   "outputs": [
    {
     "data": {
      "text/html": [
       "<table>\n",
       "<thead><tr><th scope=col>예측률</th></tr></thead>\n",
       "<tbody>\n",
       "\t<tr><td>0.8389513</td></tr>\n",
       "\t<tr><td>0.8352060</td></tr>\n",
       "\t<tr><td>0.8464419</td></tr>\n",
       "\t<tr><td>0.8089888</td></tr>\n",
       "\t<tr><td>0.8539326</td></tr>\n",
       "</tbody>\n",
       "</table>\n"
      ],
      "text/latex": [
       "\\begin{tabular}{r|l}\n",
       " 예측률\\\\\n",
       "\\hline\n",
       "\t 0.8389513\\\\\n",
       "\t 0.8352060\\\\\n",
       "\t 0.8464419\\\\\n",
       "\t 0.8089888\\\\\n",
       "\t 0.8539326\\\\\n",
       "\\end{tabular}\n"
      ],
      "text/markdown": [
       "\n",
       "| 예측률 |\n",
       "|---|\n",
       "| 0.8389513 |\n",
       "| 0.8352060 |\n",
       "| 0.8464419 |\n",
       "| 0.8089888 |\n",
       "| 0.8539326 |\n",
       "\n"
      ],
      "text/plain": [
       "  예측률   \n",
       "1 0.8389513\n",
       "2 0.8352060\n",
       "3 0.8464419\n",
       "4 0.8089888\n",
       "5 0.8539326"
      ]
     },
     "metadata": {},
     "output_type": "display_data"
    },
    {
     "data": {
      "text/html": [
       "<table>\n",
       "<thead><tr><th></th><th scope=col>예측률</th></tr></thead>\n",
       "<tbody>\n",
       "\t<tr><th scope=row>인공신경망</th><td>0.8389513</td></tr>\n",
       "\t<tr><th scope=row>의사결정나무</th><td>0.8352060</td></tr>\n",
       "\t<tr><th scope=row>랜덤포레스트</th><td>0.8464419</td></tr>\n",
       "\t<tr><th scope=row>SVM</th><td>0.8089888</td></tr>\n",
       "\t<tr><th scope=row>로지스틱회귀분석</th><td>0.8539326</td></tr>\n",
       "</tbody>\n",
       "</table>\n"
      ],
      "text/latex": [
       "\\begin{tabular}{r|l}\n",
       "  & 예측률\\\\\n",
       "\\hline\n",
       "\t인공신경망 & 0.8389513\\\\\n",
       "\t의사결정나무 & 0.8352060\\\\\n",
       "\t랜덤포레스트 & 0.8464419\\\\\n",
       "\tSVM & 0.8089888\\\\\n",
       "\t로지스틱회귀분석 & 0.8539326\\\\\n",
       "\\end{tabular}\n"
      ],
      "text/markdown": [
       "\n",
       "| <!--/--> | 예측률 |\n",
       "|---|---|\n",
       "| 인공신경망 | 0.8389513 |\n",
       "| 의사결정나무 | 0.8352060 |\n",
       "| 랜덤포레스트 | 0.8464419 |\n",
       "| SVM | 0.8089888 |\n",
       "| 로지스틱회귀분석 | 0.8539326 |\n",
       "\n"
      ],
      "text/plain": [
       "                 예측률   \n",
       "인공신경망       0.8389513\n",
       "의사결정나무     0.8352060\n",
       "랜덤포레스트     0.8464419\n",
       "SVM              0.8089888\n",
       "로지스틱회귀분석 0.8539326"
      ]
     },
     "metadata": {},
     "output_type": "display_data"
    }
   ],
   "source": [
    "예측률 <- c(a/5,b/5,c/5,d/5,e/5)\n",
    "    \n",
    "    rtn = data.frame(예측률)\n",
    "rtn\n",
    "    rownames(rtn) = c('인공신경망','의사결정나무','랜덤포레스트','SVM','로지스틱회귀분석')\n",
    "rtn"
   ]
  },
  {
   "cell_type": "code",
   "execution_count": 60,
   "id": "7ca7c6ee",
   "metadata": {},
   "outputs": [
    {
     "name": "stdout",
     "output_type": "stream",
     "text": [
      "0.83895130.8352060.84644190.80898880.8539326"
     ]
    }
   ],
   "source": [
    "cat(a/5)\n",
    "cat(b/5)\n",
    "cat(c/5)\n",
    "cat(d/5)\n",
    "인공신경망 <-  mean(인pred == y)\n",
    "의사결정나무 <- mean(의pred == y)\n",
    "RandomForest <- mean(Rpred == y)\n",
    "SVM <- mean(Spred == y)\n",
    "로지스틱회귀분석 <- mean(로pred == y)cat(e/5)"
   ]
  },
  {
   "cell_type": "code",
   "execution_count": 65,
   "id": "d82ca7ae",
   "metadata": {},
   "outputs": [
    {
     "name": "stdout",
     "output_type": "stream",
     "text": [
      "0.8352060.84644190.80898880.8539326"
     ]
    },
    {
     "data": {
      "text/html": [
       "'인공신경망 : 0.838951310861423'"
      ],
      "text/latex": [
       "'인공신경망 : 0.838951310861423'"
      ],
      "text/markdown": [
       "'인공신경망 : 0.838951310861423'"
      ],
      "text/plain": [
       "[1] \"인공신경망 : 0.838951310861423\""
      ]
     },
     "metadata": {},
     "output_type": "display_data"
    },
    {
     "data": {
      "text/html": [
       "'의사결정나무 : '"
      ],
      "text/latex": [
       "'의사결정나무 : '"
      ],
      "text/markdown": [
       "'의사결정나무 : '"
      ],
      "text/plain": [
       "[1] \"의사결정나무 : \""
      ]
     },
     "metadata": {},
     "output_type": "display_data"
    },
    {
     "data": {
      "text/html": [
       "'RandomForest : '"
      ],
      "text/latex": [
       "'RandomForest : '"
      ],
      "text/markdown": [
       "'RandomForest : '"
      ],
      "text/plain": [
       "[1] \"RandomForest : \""
      ]
     },
     "metadata": {},
     "output_type": "display_data"
    },
    {
     "data": {
      "text/html": [
       "'SVM : '"
      ],
      "text/latex": [
       "'SVM : '"
      ],
      "text/markdown": [
       "'SVM : '"
      ],
      "text/plain": [
       "[1] \"SVM : \""
      ]
     },
     "metadata": {},
     "output_type": "display_data"
    },
    {
     "data": {
      "text/html": [
       "'로지스틱회귀분석 : '"
      ],
      "text/latex": [
       "'로지스틱회귀분석 : '"
      ],
      "text/markdown": [
       "'로지스틱회귀분석 : '"
      ],
      "text/plain": [
       "[1] \"로지스틱회귀분석 : \""
      ]
     },
     "metadata": {},
     "output_type": "display_data"
    }
   ],
   "source": [
    "인공신경망 <-  a/5\n",
    "의사결정나무 <- cat(b/5)\n",
    "RandomForest <- cat(c/5)\n",
    "SVM <- cat(d/5)\n",
    "로지스틱회귀분석 <- cat(e/5)\n",
    "\n",
    "paste(\"인공신경망 :\", 인공신경망)\n",
    "paste(\"의사결정나무 :\", 의사결정나무)\n",
    "paste(\"RandomForest :\", RandomForest)\n",
    "paste(\"SVM :\", SVM)\n",
    "paste(\"로지스틱회귀분석 :\", 로지스틱회귀분석)"
   ]
  },
  {
   "cell_type": "code",
   "execution_count": null,
   "id": "95c43349",
   "metadata": {},
   "outputs": [],
   "source": []
  }
 ],
 "metadata": {
  "kernelspec": {
   "display_name": "R",
   "language": "R",
   "name": "ir"
  },
  "language_info": {
   "codemirror_mode": "r",
   "file_extension": ".r",
   "mimetype": "text/x-r-source",
   "name": "R",
   "pygments_lexer": "r",
   "version": "3.6.1"
  }
 },
 "nbformat": 4,
 "nbformat_minor": 5
}
